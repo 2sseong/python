{
 "cells": [
  {
   "cell_type": "markdown",
   "id": "80b1476f-3c17-4f2f-947c-963880773c44",
   "metadata": {},
   "source": [
    "# 모듈"
   ]
  },
  {
   "cell_type": "markdown",
   "id": "13abe73e-8aae-4554-8c4e-5dbb246d58fb",
   "metadata": {},
   "source": [
    "## 모듈 만들기"
   ]
  },
  {
   "cell_type": "code",
   "execution_count": 1,
   "id": "7394d6a5-ba48-4309-9cba-0470ee63aebc",
   "metadata": {},
   "outputs": [],
   "source": [
    "# 모듈 만들기\n",
    "# def add(a,b):\n",
    "#     return a+b\n",
    "# def sub(a,b):\n",
    "#     return a-b"
   ]
  },
  {
   "cell_type": "code",
   "execution_count": 5,
   "id": "d36e8fa5-2ba9-4ff0-8186-c79c7879d418",
   "metadata": {},
   "outputs": [
    {
     "name": "stdout",
     "output_type": "stream",
     "text": [
      "33\n",
      "11\n"
     ]
    }
   ],
   "source": [
    "import mod1\n",
    "print(mod1.add(11,22))\n",
    "print(mod1.sub(33,22))"
   ]
  },
  {
   "cell_type": "code",
   "execution_count": 44,
   "id": "01dde33a-3c1c-4b1d-a66d-887854512e65",
   "metadata": {},
   "outputs": [],
   "source": [
    "with open(\"mod2.py\",\"w\") as f:\n",
    "    data=\"\"\"\n",
    "def mul(a,b):\n",
    "    return a*b\n",
    "def div(a,b):\n",
    "    return a/b\n",
    "    \"\"\"\n",
    "    f.write(data)\n",
    "    "
   ]
  },
  {
   "cell_type": "code",
   "execution_count": 26,
   "id": "b991af64-b344-42d5-830a-2ddf7b1043d1",
   "metadata": {},
   "outputs": [
    {
     "name": "stdout",
     "output_type": "stream",
     "text": [
      "12\n",
      "3.0\n"
     ]
    }
   ],
   "source": [
    "import mod2\n",
    "print(mod2.mul(3,4))\n",
    "print(mod2.div(12,4))"
   ]
  },
  {
   "cell_type": "code",
   "execution_count": 1,
   "id": "23b1ecd4-6a6c-4fc6-b3a2-60eebf8bef90",
   "metadata": {},
   "outputs": [
    {
     "name": "stdout",
     "output_type": "stream",
     "text": [
      "33\n",
      "11\n",
      "12\n",
      "3.0\n"
     ]
    }
   ],
   "source": [
    "import mod1, mod2     #여러 모듈 불러오기\n",
    "\n",
    "\n",
    "print(mod1.add(11,22))\n",
    "print(mod1.sub(33,22))\n",
    "print(mod2.mul(3,4))\n",
    "print(mod2.div(12,4))"
   ]
  },
  {
   "cell_type": "code",
   "execution_count": 1,
   "id": "c97f636e-bbdc-48ca-b2a5-9a61c4707102",
   "metadata": {},
   "outputs": [
    {
     "name": "stdout",
     "output_type": "stream",
     "text": [
      "33\n",
      "11\n",
      "12\n",
      "3.0\n"
     ]
    }
   ],
   "source": [
    "# import mod1 as m1\n",
    "# import mod2 as m2\n",
    "import mod1 as m1, mod2 as m2  #충돌 일어날 일이 적음\n",
    "print(m1.add(11,22))\n",
    "print(m1.sub(33,22))\n",
    "print(m2.mul(3,4))\n",
    "print(m2.div(12,4))"
   ]
  },
  {
   "cell_type": "code",
   "execution_count": 2,
   "id": "c29b44e3-74d3-483f-adef-19b617873725",
   "metadata": {},
   "outputs": [
    {
     "name": "stdout",
     "output_type": "stream",
     "text": [
      "77\n"
     ]
    }
   ],
   "source": [
    "from mod1 import add, sub #충돌 일어날 수 있음\n",
    "print(add(33,44))"
   ]
  },
  {
   "cell_type": "code",
   "execution_count": 3,
   "id": "ffbad00b-35aa-4a8e-9334-640e49473acb",
   "metadata": {},
   "outputs": [
    {
     "name": "stdout",
     "output_type": "stream",
     "text": [
      "20\n"
     ]
    }
   ],
   "source": [
    "from mod2 import *\n",
    "print(mul(4,5))"
   ]
  },
  {
   "cell_type": "markdown",
   "id": "23ae1319-cfd4-49b5-9aac-801099be4880",
   "metadata": {},
   "source": [
    "## '__main__'의 의미"
   ]
  },
  {
   "cell_type": "code",
   "execution_count": 37,
   "id": "9b8eb432-09a0-4ce2-a807-a286571adcb8",
   "metadata": {},
   "outputs": [],
   "source": [
    "with open(\"mod1.py\",\"a\") as f:\n",
    "    text = \"\"\"\\nprint(add(1,4))\\nprint(sub(4,2))\n",
    "    \"\"\"\n",
    "    f.write(text)"
   ]
  },
  {
   "cell_type": "code",
   "execution_count": 38,
   "id": "31dd5b38-b1bf-4c7f-bfbe-1b5a981cebfb",
   "metadata": {},
   "outputs": [],
   "source": [
    "# %%bash: 리눅스\n",
    "# %%cmd: 윈도우"
   ]
  },
  {
   "cell_type": "code",
   "execution_count": 1,
   "id": "6c8df680-fa2b-4f08-9e9b-4e5ff7471b93",
   "metadata": {},
   "outputs": [
    {
     "name": "stdout",
     "output_type": "stream",
     "text": [
      "Microsoft Windows [Version 10.0.26100.2894]\n",
      "(c) Microsoft Corporation. All rights reserved.\n",
      "\n",
      "SH\\code>python mod1.py\n",
      "5\n",
      "2\n",
      "__main__\n",
      "�� ���Ϸ� ������ �Ǿ����.\n",
      "\n",
      "D:\\LSH\\code>"
     ]
    }
   ],
   "source": [
    "%%cmd\n",
    "python mod1.py"
   ]
  },
  {
   "cell_type": "code",
   "execution_count": 29,
   "id": "19f6fe51-1701-4a1b-9452-4428c1ac278d",
   "metadata": {},
   "outputs": [
    {
     "name": "stdout",
     "output_type": "stream",
     "text": [
      "['__builtins__', '__cached__', '__doc__', '__file__', '__loader__', '__name__', '__package__', '__spec__', 'add', 'sub']\n",
      "mod1\n"
     ]
    }
   ],
   "source": [
    "import mod1\n",
    "print(dir(mod1))\n",
    "print(mod1.__name__)"
   ]
  },
  {
   "cell_type": "code",
   "execution_count": 45,
   "id": "a317e95c-8533-4f00-afd9-094fb9240c22",
   "metadata": {},
   "outputs": [],
   "source": [
    "with open('mod1.py','a') as f:\n",
    "    content = \"\\nprint(__name__)\"\n",
    "    f.write(content)"
   ]
  },
  {
   "cell_type": "code",
   "execution_count": 2,
   "id": "dc47fe2d-43d2-4dde-af55-ee311ebbe7e5",
   "metadata": {},
   "outputs": [
    {
     "name": "stdout",
     "output_type": "stream",
     "text": [
      "5\n",
      "2\n",
      "mod1\n",
      "전 모듈로 임포트 되었어요.\n"
     ]
    },
    {
     "data": {
      "text/plain": [
       "['__builtins__',\n",
       " '__cached__',\n",
       " '__doc__',\n",
       " '__file__',\n",
       " '__loader__',\n",
       " '__name__',\n",
       " '__package__',\n",
       " '__spec__',\n",
       " 'add',\n",
       " 'sub']"
      ]
     },
     "execution_count": 2,
     "metadata": {},
     "output_type": "execute_result"
    }
   ],
   "source": [
    "import mod1\n",
    "dir(mod1)"
   ]
  },
  {
   "cell_type": "code",
   "execution_count": 6,
   "id": "69498af7-c36e-44f8-8f57-6a0138bb559c",
   "metadata": {},
   "outputs": [],
   "source": [
    "with open(\"sam.py\",\"a\",encoding = \"utf-8\") as f:\n",
    "    data=\"\"\"print(__name__)\n",
    "if __name__ == \"__main__\":\n",
    "    print(\"전 파일로 실행이 되었어요.\")\n",
    "else:\n",
    "    print(\"전 모듈로 임포트 되었어요.\")\n",
    "    \n",
    "    \n",
    "    \"\"\"\n",
    "    f.write(data)"
   ]
  },
  {
   "cell_type": "markdown",
   "id": "c09e062e-78b5-4cf7-96d0-94ca4c6be237",
   "metadata": {},
   "source": [
    "### 연습문제"
   ]
  },
  {
   "cell_type": "code",
   "execution_count": 3,
   "id": "239fd7b5-f43b-45bc-bc10-37e69029a310",
   "metadata": {},
   "outputs": [
    {
     "name": "stdout",
     "output_type": "stream",
     "text": [
      "sam\n",
      " \n"
     ]
    }
   ],
   "source": [
    "import sam"
   ]
  },
  {
   "cell_type": "code",
   "execution_count": 109,
   "id": "5286be7a-f2ee-46e9-b3d1-4feefbac1094",
   "metadata": {},
   "outputs": [],
   "source": [
    "import requests as req\n",
    "def kia():\n",
    "    a = input('')\n",
    "    url = \"https://finance.naver.com/sise/sise_market_sum.naver\"\n",
    "    web = req.get(url)\n",
    "    html = web.text\n",
    "    f2 = html.find(a)\n",
    "    return (f'{a}:' +html[f2:f2+100][17:50].replace('<td class=\"number\">',\"\").replace('</td>',\"\").replace('\\n',\"\").replace('\\t',\"\")+\"원\")\n"
   ]
  },
  {
   "cell_type": "code",
   "execution_count": 110,
   "id": "6b13184e-c278-4764-9cb3-89b87d648a15",
   "metadata": {},
   "outputs": [
    {
     "name": "stdin",
     "output_type": "stream",
     "text": [
      " 기아\n"
     ]
    },
    {
     "name": "stdout",
     "output_type": "stream",
     "text": [
      "기아:94,700원\n"
     ]
    }
   ],
   "source": [
    "print(kia())"
   ]
  },
  {
   "cell_type": "code",
   "execution_count": 93,
   "id": "0d9da26c-7564-49b9-af45-5c313651ebc6",
   "metadata": {},
   "outputs": [],
   "source": [
    "with open(\"sam2.py\",\"a\",encoding = \"utf-8\") as f:\n",
    "    data=\"\"\"\n",
    "def kia(a):\n",
    "    url = \"https://finance.naver.com/sise/sise_market_sum.naver\"\n",
    "    web = req.get(url)\n",
    "    html = web.text\n",
    "    f2 = html.find(a)\n",
    "    return (f'{a}:' +html[f2:f2+100][17:50].replace('<td class=\"number\">',\"\").replace('</td>',\"\").replace('\\n',\"\").replace('\\t',\"\")+\"원\")\n",
    "print(__name__)\n",
    "if __name__ == \"__main__\":\n",
    "    print(kia(a))\n",
    "else:\n",
    "    print(\"\")\n",
    "    \n",
    "    \"\"\"\n",
    "    f.write(data)"
   ]
  },
  {
   "cell_type": "code",
   "execution_count": 1,
   "id": "54f4c3c2-0a97-4cc8-9fe5-17b5005e2279",
   "metadata": {},
   "outputs": [
    {
     "name": "stdin",
     "output_type": "stream",
     "text": [
      " 기아\n"
     ]
    },
    {
     "name": "stdout",
     "output_type": "stream",
     "text": [
      "sam3\n",
      "기아:94,600\n",
      "\t\t원\n"
     ]
    }
   ],
   "source": [
    "import sam3"
   ]
  },
  {
   "cell_type": "code",
   "execution_count": 2,
   "id": "87841c5a-997a-40a7-bcba-1df1fa167363",
   "metadata": {},
   "outputs": [
    {
     "name": "stdin",
     "output_type": "stream",
     "text": [
      "원하는 종목을 입력하세요: 삼성전자\n"
     ]
    }
   ],
   "source": [
    "import requests as req\n",
    "a = input('원하는 종목을 입력하세요:')\n",
    "url = \"https://finance.naver.com/sise/sise_market_sum.naver\"\n",
    "web = req.get(url)\n",
    "html = web.text\n",
    "f2 = html.find(a)\n",
    "result = (f'{a}:' +html[f2:f2+100][17:50].replace('<td class=\"number\">',\"\").replace('</td>',\"\").replace('',\"\").replace('  ',\"\")+\"원\")"
   ]
  },
  {
   "cell_type": "code",
   "execution_count": 7,
   "id": "f91c3607-1ee4-4f4b-bee3-5315e286174e",
   "metadata": {},
   "outputs": [],
   "source": [
    "import sam_final"
   ]
  },
  {
   "cell_type": "markdown",
   "id": "5c44b4a1-0699-4434-a479-717e651ae217",
   "metadata": {},
   "source": [
    "## 클래스나 변수등을 포함한 모듈"
   ]
  },
  {
   "cell_type": "code",
   "execution_count": 1,
   "id": "29a7c223-4354-4c2e-9b2e-252767734055",
   "metadata": {},
   "outputs": [],
   "source": [
    "with open('mod3.py','w') as f:\n",
    "    text = \"\"\"PI = 3.141592\\n\\nclass Math:\\n\\tdef solv(self,r):\\n\\t\\treturn PI*(r**2)\\n\\ndef add(a,b):\\n\\treturn a+b\"\"\"\n",
    "    f.write(text)"
   ]
  },
  {
   "cell_type": "code",
   "execution_count": 3,
   "id": "258bd7e5-2418-45d8-8d98-4139fdf05a52",
   "metadata": {},
   "outputs": [
    {
     "ename": "ModuleNotFoundError",
     "evalue": "No module named 'mod3'",
     "output_type": "error",
     "traceback": [
      "\u001b[1;31m---------------------------------------------------------------------------\u001b[0m",
      "\u001b[1;31mModuleNotFoundError\u001b[0m                       Traceback (most recent call last)",
      "Cell \u001b[1;32mIn[3], line 1\u001b[0m\n\u001b[1;32m----> 1\u001b[0m \u001b[38;5;28;01mimport\u001b[39;00m\u001b[38;5;250m \u001b[39m\u001b[38;5;21;01mmod3\u001b[39;00m\n\u001b[0;32m      2\u001b[0m \u001b[38;5;66;03m# 변수\u001b[39;00m\n\u001b[0;32m      3\u001b[0m \u001b[38;5;28mprint\u001b[39m(mod3\u001b[38;5;241m.\u001b[39mPI)\n",
      "\u001b[1;31mModuleNotFoundError\u001b[0m: No module named 'mod3'"
     ]
    }
   ],
   "source": [
    "import mod3\n",
    "# 변수\n",
    "print(mod3.PI)\n",
    "\n",
    "# 클래스\n",
    "a = mod3.Math()\n",
    "print(a.solv(10))\n",
    "\n",
    "# 함수\n",
    "print(mod3.add(mod3.PI, 4.4))"
   ]
  },
  {
   "cell_type": "markdown",
   "id": "a03e02a6-bdfa-44d7-941a-793724079303",
   "metadata": {},
   "source": [
    "## 다른 디렉터리에 있는 모듈 불러오기"
   ]
  },
  {
   "cell_type": "code",
   "execution_count": 1,
   "id": "e8230843-9ada-479b-bbb7-3088c886afee",
   "metadata": {},
   "outputs": [
    {
     "data": {
      "text/plain": [
       "['C:\\\\Users\\\\Admin\\\\AppData\\\\Local\\\\Programs\\\\Python\\\\Python313\\\\python313.zip',\n",
       " 'C:\\\\Users\\\\Admin\\\\AppData\\\\Local\\\\Programs\\\\Python\\\\Python313\\\\DLLs',\n",
       " 'C:\\\\Users\\\\Admin\\\\AppData\\\\Local\\\\Programs\\\\Python\\\\Python313\\\\Lib',\n",
       " 'C:\\\\Users\\\\Admin\\\\AppData\\\\Local\\\\Programs\\\\Python\\\\Python313',\n",
       " '',\n",
       " 'C:\\\\Users\\\\Admin\\\\AppData\\\\Local\\\\Programs\\\\Python\\\\Python313\\\\Lib\\\\site-packages',\n",
       " 'C:\\\\Users\\\\Admin\\\\AppData\\\\Local\\\\Programs\\\\Python\\\\Python313\\\\Lib\\\\site-packages\\\\win32',\n",
       " 'C:\\\\Users\\\\Admin\\\\AppData\\\\Local\\\\Programs\\\\Python\\\\Python313\\\\Lib\\\\site-packages\\\\win32\\\\lib',\n",
       " 'C:\\\\Users\\\\Admin\\\\AppData\\\\Local\\\\Programs\\\\Python\\\\Python313\\\\Lib\\\\site-packages\\\\Pythonwin']"
      ]
     },
     "execution_count": 1,
     "metadata": {},
     "output_type": "execute_result"
    }
   ],
   "source": [
    "import sys\n",
    "sys.path"
   ]
  },
  {
   "cell_type": "code",
   "execution_count": 3,
   "id": "da3215a8-3294-41ae-9458-c779562b3bb9",
   "metadata": {},
   "outputs": [
    {
     "data": {
      "text/plain": [
       "['C:\\\\Users\\\\Admin\\\\AppData\\\\Local\\\\Programs\\\\Python\\\\Python313\\\\python313.zip',\n",
       " 'C:\\\\Users\\\\Admin\\\\AppData\\\\Local\\\\Programs\\\\Python\\\\Python313\\\\DLLs',\n",
       " 'C:\\\\Users\\\\Admin\\\\AppData\\\\Local\\\\Programs\\\\Python\\\\Python313\\\\Lib',\n",
       " 'C:\\\\Users\\\\Admin\\\\AppData\\\\Local\\\\Programs\\\\Python\\\\Python313',\n",
       " '',\n",
       " 'C:\\\\Users\\\\Admin\\\\AppData\\\\Local\\\\Programs\\\\Python\\\\Python313\\\\Lib\\\\site-packages',\n",
       " 'C:\\\\Users\\\\Admin\\\\AppData\\\\Local\\\\Programs\\\\Python\\\\Python313\\\\Lib\\\\site-packages\\\\win32',\n",
       " 'C:\\\\Users\\\\Admin\\\\AppData\\\\Local\\\\Programs\\\\Python\\\\Python313\\\\Lib\\\\site-packages\\\\win32\\\\lib',\n",
       " 'C:\\\\Users\\\\Admin\\\\AppData\\\\Local\\\\Programs\\\\Python\\\\Python313\\\\Lib\\\\site-packages\\\\Pythonwin',\n",
       " 'D:\\\\lsh\\\\code\\\\mymod']"
      ]
     },
     "execution_count": 3,
     "metadata": {},
     "output_type": "execute_result"
    }
   ],
   "source": [
    "sys.path.append('D:\\\\lsh\\\\code\\\\mymod') #초기화하면 사라짐\n",
    "sys.path"
   ]
  },
  {
   "cell_type": "code",
   "execution_count": 1,
   "id": "285071f7-4397-4972-87d3-8d84eecfa3eb",
   "metadata": {},
   "outputs": [
    {
     "ename": "SyntaxError",
     "evalue": "invalid syntax (3837460090.py, line 1)",
     "output_type": "error",
     "traceback": [
      "\u001b[1;36m  Cell \u001b[1;32mIn[1], line 1\u001b[1;36m\u001b[0m\n\u001b[1;33m    CMD에서 set PYTHONPATH=D:\\lsh\\code\\mymod\u001b[0m\n\u001b[1;37m          ^\u001b[0m\n\u001b[1;31mSyntaxError\u001b[0m\u001b[1;31m:\u001b[0m invalid syntax\n"
     ]
    }
   ],
   "source": [
    "CMD에서 set PYTHONPATH=D:\\lsh\\code\\mymod\n",
    "PS에서 $env PYTHONPATH=D:\\lsh\\code\\mymod"
   ]
  },
  {
   "cell_type": "code",
   "execution_count": 1,
   "id": "e0393d20-0638-4a88-84d9-10e8f6c55ef1",
   "metadata": {},
   "outputs": [],
   "source": [
    "# !pip install python-dotenv\n",
    "# !python.exe -m pip install --upgrade pip"
   ]
  },
  {
   "cell_type": "code",
   "execution_count": 9,
   "id": "12c57ff5-b674-4581-9de1-d41c624bc2af",
   "metadata": {},
   "outputs": [
    {
     "name": "stdout",
     "output_type": "stream",
     "text": [
      "myphone01099999999\n",
      "https://www.google.com\n",
      "이게될까?? 모르겠어요.!\n"
     ]
    }
   ],
   "source": [
    "from dotenv import load_dotenv\n",
    "import os\n",
    "\n",
    "# .env 파일 로드\n",
    "load_dotenv()\n",
    "\n",
    "SKEY = os.getenv(\"SECRET_KEY\")\n",
    "print(SKEY)\n",
    "DBUG = os.getenv(\"DEBUG\")\n",
    "print(DBUG)\n",
    "TEST = os.getenv(\"TEST\")\n",
    "print(TEST)"
   ]
  },
  {
   "cell_type": "code",
   "execution_count": 17,
   "id": "47268fdc-4afc-4dde-8887-dba53c99e6f6",
   "metadata": {},
   "outputs": [
    {
     "name": "stdout",
     "output_type": "stream",
     "text": [
      "======================================================================\n",
      "[속보]국민의힘 윤리위, 尹 징계 않기로\n",
      "국민의힘 윤리위, 尹 징계 않기로 ※CBS노컷뉴스는 여러분의 제보로 함께 세상을 바꿉니다. 각종 비리와 부당대우, 사건사고와 미담 등 모든 얘깃거리를 알려주세요.이메일 : 카카오톡 : @노컷뉴스사이트 : https... \n",
      "https://www.nocutnews.co.kr/news/6292989?utm_source=naver&utm_medium=article&utm_campaign=20250213035336\n",
      "======================================================================\n",
      "[속보]최상목 &quot;정부도 추경 필요 입장&quot;\n",
      "정부가 추가경정예산(추경) 편성의 필요성을 인정하며 국회와 논의할 뜻을 밝혔다. 최상목 권한대행은 이날 오후 국회에서 열린 대정부질문에서 더불어민주당이 발표한 35조 원 규모의 추경 예산과 관련해 대통령실만... \n",
      "https://www.sedaily.com/NewsView/2GOYDUZ775\n",
      "======================================================================\n",
      "[속보] 넷마블, 작년 영업이익 2156억 '흑자 전환'\n",
      "넷마블은 지난해 연간 매출 2조 6638억원, 영업이익 2156억원, 당기순이익 63억원을 기록했다고 13일 밝혔다．\n",
      "https://www.newsis.com/view/NISX20250213_0003064544\n",
      "======================================================================\n",
      "[속보] 국힘 윤리위, 尹 제명·출당 등 징계 않기로\n",
      "국민의힘 중앙윤리위원회가 12·3 비상계엄을 선포한 윤석열 대통령에 대한 징계 절차 종결을 선언하고 제명·탈당 권유 등 징계 조치를 하지 않기로 결론을 내렸다. 여상원 윤리위원장은 13일 오전 서울 여의도 당사에서... \n",
      "https://www.imaeil.com/page/view/2025021316083091059\n",
      "======================================================================\n",
      "[속보] '이재명 습격' 60대 남성 징역 15년 확정\n",
      "지난해 1월 이재명 더불어민주당 대표를 흉기로 살해하려고 시도한 60대 남성에게 징역 15년이 확정됐다. 13일 대법원 2부(오경미 대법관)는 살인미수와 공직선거법 위반 혐의로 기소된 김모(68)씨에게 징역 15년을... \n",
      "https://www.hankyung.com/article/2025021327947\n"
     ]
    }
   ],
   "source": [
    "# 네이버 검색 API 예제 - 블로그 검색\n",
    "import os\n",
    "import sys\n",
    "import urllib.request\n",
    "from dotenv import load_dotenv\n",
    "import json\n",
    "\n",
    "load_dotenv()\n",
    "client_id = os.environ.get(\"MY_ID\")\n",
    "client_secret = os.environ.get(\"MY_SECRET\")\n",
    "\n",
    "encText = urllib.parse.quote(\"속보\")\n",
    "url = \"https://openapi.naver.com/v1/search/news.json?query=\" + encText + '&display=5&start=1&sort=sim'  # JSON 결과\n",
    "request = urllib.request.Request(url)\n",
    "request.add_header(\"X-Naver-Client-Id\",client_id)\n",
    "request.add_header(\"X-Naver-Client-Secret\",client_secret)\n",
    "response = urllib.request.urlopen(request)\n",
    "rescode = response.getcode()\n",
    "if(rescode==200):\n",
    "    response_body = response.read()\n",
    "    result = response_body.decode('utf-8')\n",
    "    data = json.loads(result)\n",
    "    ldata = data['items']\n",
    "    for n in ldata:\n",
    "        print('='*70)\n",
    "        print(n['title'].replace('<b>','').replace('</b>',''))\n",
    "        print(n['description'])\n",
    "        print(n['originallink'])\n",
    "else:\n",
    "    print(\"Error Code:\" + rescode)"
   ]
  },
  {
   "cell_type": "code",
   "execution_count": 1,
   "id": "ee47946d-0533-4b9c-80e3-a0b1f5879690",
   "metadata": {},
   "outputs": [
    {
     "name": "stdout",
     "output_type": "stream",
     "text": [
      "Collecting qrcode\n",
      "  Downloading qrcode-8.0-py3-none-any.whl.metadata (17 kB)\n",
      "Requirement already satisfied: colorama in c:\\users\\admin\\appdata\\local\\programs\\python\\python313\\lib\\site-packages (from qrcode) (0.4.6)\n",
      "Downloading qrcode-8.0-py3-none-any.whl (45 kB)\n",
      "Installing collected packages: qrcode\n",
      "Successfully installed qrcode-8.0\n"
     ]
    }
   ],
   "source": [
    "# !pip install qrcode"
   ]
  },
  {
   "cell_type": "code",
   "execution_count": 4,
   "id": "83b8b59f-90df-4211-93d0-1a3f72f62322",
   "metadata": {},
   "outputs": [],
   "source": [
    "import qrcode\n",
    "\n",
    "def qrcode_maker(text,filename='qr.png'):\n",
    "    qr = qrcode.make(text)\n",
    "    qr.save(filename)\n",
    "\n",
    "qrcode_maker('https://github.com/2sseong/python.git')"
   ]
  },
  {
   "cell_type": "code",
   "execution_count": 11,
   "id": "58b68aa4-998b-463b-bf46-67a412e7fdc0",
   "metadata": {},
   "outputs": [
    {
     "data": {
      "text/html": [
       "<h1>안녕하세요</h1>"
      ],
      "text/plain": [
       "<IPython.core.display.HTML object>"
      ]
     },
     "metadata": {},
     "output_type": "display_data"
    },
    {
     "data": {
      "text/html": [
       "<img src=\"qr.png\" width=100>"
      ],
      "text/plain": [
       "<IPython.core.display.HTML object>"
      ]
     },
     "metadata": {},
     "output_type": "display_data"
    }
   ],
   "source": [
    "from IPython.display import display, HTML\n",
    "from PIL import Image\n",
    "\n",
    "image_path = \"qr.png\"\n",
    "img = Image.open(image_path)\n",
    "display(HTML(\"<h1>안녕하세요</h1>\"))\n",
    "htmlcode = '<img src=\"qr.png\" width=100>'\n",
    "display(HTML(htmlcode))\n",
    "# display(img)"
   ]
  },
  {
   "cell_type": "markdown",
   "id": "3d34c1a5-99c3-45e2-93e7-a2df262b6fb6",
   "metadata": {},
   "source": [
    "# 패키지"
   ]
  },
  {
   "cell_type": "markdown",
   "id": "632882d0-09cb-404d-8522-b3e89e7b7ee1",
   "metadata": {},
   "source": [
    "## 패키지 만들기"
   ]
  },
  {
   "cell_type": "code",
   "execution_count": 3,
   "id": "7984601f-4f80-4350-a1ae-9d2994129aea",
   "metadata": {},
   "outputs": [],
   "source": [
    "# %%cmd \n",
    "# set PYTHONPATH=D:\\LSH\\code\\game"
   ]
  },
  {
   "cell_type": "code",
   "execution_count": 5,
   "id": "00a592b8-7da5-4651-9c66-51ec24e57b9e",
   "metadata": {},
   "outputs": [
    {
     "name": "stdout",
     "output_type": "stream",
     "text": [
      "에코\n",
      "랜더링\n",
      "비디오에코\n"
     ]
    }
   ],
   "source": [
    "# 테스트1 명시적이다. 그렇지만 길다.\n",
    "import game.sound.echo\n",
    "import game.graphic.render\n",
    "import game.graphic.echo\n",
    "game.sound.echo.echo_test()\n",
    "game.graphic.render.render_test()\n",
    "game.graphic.echo.echo_test()"
   ]
  },
  {
   "cell_type": "code",
   "execution_count": 1,
   "id": "e719a32f-67fc-4901-8fe1-d9ef4effe8b0",
   "metadata": {},
   "outputs": [
    {
     "name": "stdout",
     "output_type": "stream",
     "text": [
      "에코\n",
      "비디오에코\n"
     ]
    }
   ],
   "source": [
    "from game import echo , echo_v\n",
    "echo.echo_test()\n",
    "echo_v.echo_test()"
   ]
  },
  {
   "cell_type": "code",
   "execution_count": 3,
   "id": "a09020c8-1b93-44b3-a26e-122a641b8c8e",
   "metadata": {},
   "outputs": [
    {
     "name": "stdout",
     "output_type": "stream",
     "text": [
      "비디오에코\n",
      "비디오에코\n"
     ]
    }
   ],
   "source": [
    "from game.echo import echo_test   #충돌 발생 as로 가능하나 잠정 충돌 가능성 있음\n",
    "from game.echo_v import echo_test\n",
    "echo_test()\n",
    "echo_test()"
   ]
  },
  {
   "cell_type": "code",
   "execution_count": 2,
   "id": "74d69a0a-54f7-43d2-9c70-b81be6c9ce1d",
   "metadata": {},
   "outputs": [
    {
     "name": "stdout",
     "output_type": "stream",
     "text": [
      "3.6\n",
      "The version of this game is 3.6\n"
     ]
    }
   ],
   "source": [
    "#__init__.py ㅡ를 사용하기\n",
    "import game\n",
    "print(game.VERSION)\n",
    "game.print_version_info()"
   ]
  },
  {
   "cell_type": "code",
   "execution_count": 1,
   "id": "f059758a-4e4d-4d8a-a1ce-88afd203b2f9",
   "metadata": {},
   "outputs": [
    {
     "name": "stdout",
     "output_type": "stream",
     "text": [
      "Initializing Game....\n",
      "랜더링\n"
     ]
    }
   ],
   "source": [
    "#__init__은 한번만 로드됨.\n",
    "import game\n",
    "game.render_test()"
   ]
  },
  {
   "cell_type": "code",
   "execution_count": 3,
   "id": "875fddad-cd13-4f77-9407-4b0f41bed787",
   "metadata": {},
   "outputs": [
    {
     "name": "stdout",
     "output_type": "stream",
     "text": [
      "The version of this graphic game is 3.7\n"
     ]
    }
   ],
   "source": [
    "# __init__.py는 패키지 내에 내 모듈을 미리 import 할 수 있다.\n",
    "import game.graphic\n",
    "game.graphic.print_version_info()\n"
   ]
  },
  {
   "cell_type": "code",
   "execution_count": 1,
   "id": "70bef745-3c0d-45af-aff1-220dd7f7fa92",
   "metadata": {},
   "outputs": [
    {
     "name": "stdout",
     "output_type": "stream",
     "text": [
      "Initializing Game....\n"
     ]
    }
   ],
   "source": [
    "#__all__ 사용하기\n",
    "from game.graphic import *"
   ]
  },
  {
   "cell_type": "code",
   "execution_count": 3,
   "id": "2d70ca80-b1dc-4094-8422-0287fcee339c",
   "metadata": {},
   "outputs": [
    {
     "name": "stdout",
     "output_type": "stream",
     "text": [
      "비디오에코\n"
     ]
    }
   ],
   "source": [
    "echo.echo_test()"
   ]
  },
  {
   "cell_type": "code",
   "execution_count": 2,
   "id": "c0da74ef-680b-49e0-907b-2eeede36de79",
   "metadata": {},
   "outputs": [
    {
     "name": "stdout",
     "output_type": "stream",
     "text": [
      "랜더링\n",
      "에코\n"
     ]
    }
   ],
   "source": [
    "# relative 패키지\n",
    "from game.graphic.render import render_test\n",
    "render_test()"
   ]
  },
  {
   "cell_type": "markdown",
   "id": "05ec5225-253d-4a5a-8cbf-af8b33c4a41c",
   "metadata": {},
   "source": [
    "# 예외처리"
   ]
  },
  {
   "cell_type": "markdown",
   "id": "153ef507-cc9f-49cc-ab41-090aa3013bc8",
   "metadata": {},
   "source": [
    "## 오류발생\n",
    "- 오타\n",
    "- 존재하지 않는 파일을 지정 또는 사용\n",
    "- 문법 오류\n",
    "- 수학적 오류\n",
    "- 인덱스 오류\n",
    "## 오류 예외 처리 기법\n",
    "- try - except 문\n",
    "- try - finally문\n",
    "- 여러개의 오류 처리\n",
    "- try - else 문"
   ]
  },
  {
   "cell_type": "code",
   "execution_count": 16,
   "id": "83a7ca98-25c5-486b-aeba-b07f96b15bb3",
   "metadata": {},
   "outputs": [],
   "source": [
    "#  f = open('뜬금파일','r')\n",
    "# FileNotFoundError: [Errno 2] No such file or directory: '뜬금파일'"
   ]
  },
  {
   "cell_type": "code",
   "execution_count": 15,
   "id": "852a8464-9dd8-41cc-92c5-8c0c30f1df62",
   "metadata": {},
   "outputs": [],
   "source": [
    "#  4/0\n",
    "# ZeroDivisionError: division by zero"
   ]
  },
  {
   "cell_type": "code",
   "execution_count": 14,
   "id": "f9138e60-be1f-4012-9851-7fddcc95b281",
   "metadata": {},
   "outputs": [],
   "source": [
    "# a = [1,2,3]\n",
    "# print(a[7])\n",
    "# IndexError: list index out of range"
   ]
  },
  {
   "cell_type": "code",
   "execution_count": 21,
   "id": "da22eade-dd41-4cec-a62b-4b814399fa65",
   "metadata": {},
   "outputs": [
    {
     "name": "stdout",
     "output_type": "stream",
     "text": [
      "알고있었지롱\n",
      "[Errno 2] No such file or directory: '뜬금파일'\n",
      "코드 마칩니다.\n"
     ]
    }
   ],
   "source": [
    "# 테스트 1\n",
    "try:\n",
    "    f = open('뜬금파일','r')\n",
    "except FileNotFoundError as e:\n",
    "    if e:\n",
    "        print('알고있었지롱')\n",
    "    print(e)\n",
    "finally:\n",
    "    print(\"코드 마칩니다.\")\n"
   ]
  },
  {
   "cell_type": "code",
   "execution_count": 24,
   "id": "4a7775b9-ec70-430b-b2c1-b047443fbf43",
   "metadata": {},
   "outputs": [
    {
     "name": "stdout",
     "output_type": "stream",
     "text": [
      "0으로 나눌 수 없어요. division by zero\n"
     ]
    }
   ],
   "source": [
    "#지정한 이름의 예외처리, as로 별칭 가능.\n",
    "try:\n",
    "    4/0\n",
    "except ZeroDivisionError as e:\n",
    "    if e:\n",
    "        print('0으로 나눌 수 없어요.',e)"
   ]
  },
  {
   "cell_type": "code",
   "execution_count": 26,
   "id": "968b2b92-44cf-4bac-8d72-480ca60a32c8",
   "metadata": {},
   "outputs": [
    {
     "name": "stdout",
     "output_type": "stream",
     "text": [
      "0으로 나누지 마세요\n"
     ]
    }
   ],
   "source": [
    "# try-except-finally 3단계도 가능, finally는 에러가 나도 무조건 처리하는 것 (여기서 파일 닫기)\n",
    "try:\n",
    "    f = open('foo.txt','w')\n",
    "    f.write(4/0)\n",
    "\n",
    "except:\n",
    "    print(\"0으로 나누지 마세요\")\n",
    "\n",
    "finally:\n",
    "    f.close()\n",
    "    "
   ]
  },
  {
   "cell_type": "code",
   "execution_count": 1,
   "id": "97a98bcf-b6eb-40ef-bc4b-fa3e6147e8d7",
   "metadata": {},
   "outputs": [
    {
     "name": "stdout",
     "output_type": "stream",
     "text": [
      "tuple index out of range\n"
     ]
    }
   ],
   "source": [
    "#테스트 해볼것 2개 이상의 오류를 동일하게 처리\n",
    "try:\n",
    "    a = 1,2\n",
    "    print(a[512])\n",
    "    4/0\n",
    "\n",
    "except IndexError as e:\n",
    "    print(e)\n",
    "except ZeroDivisionError:\n",
    "    print(\"0으로 나누지 마세요.\")"
   ]
  },
  {
   "cell_type": "code",
   "execution_count": 10,
   "id": "e5155cb4-ee73-4c82-a038-32e9f8dc06bd",
   "metadata": {},
   "outputs": [
    {
     "name": "stdin",
     "output_type": "stream",
     "text": [
      "나이를 입력하세요 13\n"
     ]
    },
    {
     "name": "stdout",
     "output_type": "stream",
     "text": [
      "청소년\n",
      "====================\n",
      "분석끝\n"
     ]
    }
   ],
   "source": [
    "#try-else 문   else 파이썬만 있음\n",
    "try: \n",
    "    age = int(input(\"나이를 입력하세요\"))\n",
    "except:\n",
    "    print(\"입력이 정확하지 않습니다.\")\n",
    "else:  \n",
    "    if age <= 18:\n",
    "        print(\"청소년\")\n",
    "    else:\n",
    "        print(\"성인\")\n",
    "finally:\n",
    "    print('='*20 +'\\n분석끝')\n",
    "    "
   ]
  },
  {
   "cell_type": "code",
   "execution_count": 13,
   "id": "f8a24e02-44bb-46b4-9e42-26935048285c",
   "metadata": {},
   "outputs": [
    {
     "name": "stdin",
     "output_type": "stream",
     "text": [
      "나이를 입력하세요 하이\n"
     ]
    },
    {
     "name": "stdout",
     "output_type": "stream",
     "text": [
      "입력이 정확하지 않습니다.\n",
      "====================\n",
      "분석끝\n"
     ]
    }
   ],
   "source": [
    "#try-else 문 생략\n",
    "try: \n",
    "    age = int(input(\"나이를 입력하세요\"))\n",
    "    if age <= 18:\n",
    "        print(\"청소년\")\n",
    "    else:\n",
    "        print(\"성인\")\n",
    "except:\n",
    "    print(\"입력이 정확하지 않습니다.\")\n",
    "finally:\n",
    "    print('='*20 +'\\n분석끝')"
   ]
  },
  {
   "cell_type": "code",
   "execution_count": 20,
   "id": "52d24dbd-a6d7-4c2d-adfc-8629d480cda4",
   "metadata": {},
   "outputs": [
    {
     "name": "stdout",
     "output_type": "stream",
     "text": [
      "반가워\n"
     ]
    }
   ],
   "source": [
    "# 오류 회피하기\n",
    "try:\n",
    "    print('반가워')\n",
    "    f=open('없는파일','r') # 이 에러지점부터 이후로는 처리 안함\n",
    "    print('안녕')\n",
    "except FileNotFoundError:\n",
    "    pass"
   ]
  },
  {
   "cell_type": "code",
   "execution_count": 31,
   "id": "a92635fc-3562-4884-a006-02b2afaf9541",
   "metadata": {},
   "outputs": [
    {
     "name": "stdout",
     "output_type": "stream",
     "text": [
      "나는 독수리다.\n"
     ]
    }
   ],
   "source": [
    "# 오류 일부러 발생시키기 (클래스 상속기반)\n",
    "class Bird:\n",
    "    def fly(self):\n",
    "        raise NotImplementedError\n",
    "\n",
    "class Eagle(Bird):\n",
    "    def fly(self):\n",
    "        print('나는 독수리다.')\n",
    "\n",
    "eagle = Eagle()\n",
    "eagle.fly()"
   ]
  },
  {
   "cell_type": "code",
   "execution_count": 32,
   "id": "9cb87a82-5a5c-4caa-83e1-09acd8177f72",
   "metadata": {},
   "outputs": [],
   "source": [
    "# 예외 만들기\n",
    "class MyError(Exception):\n",
    "    pass"
   ]
  },
  {
   "cell_type": "code",
   "execution_count": 33,
   "id": "df5f638a-07fb-4455-a888-2761d56abd93",
   "metadata": {},
   "outputs": [],
   "source": [
    "def say_nick(nick):\n",
    "    if nick == '바보':\n",
    "        raise MyError()\n",
    "    print(nick)\n",
    "    "
   ]
  },
  {
   "cell_type": "code",
   "execution_count": 35,
   "id": "294adbad-d5ef-4ae1-a1bc-e7c784033037",
   "metadata": {},
   "outputs": [
    {
     "ename": "MyError",
     "evalue": "",
     "output_type": "error",
     "traceback": [
      "\u001b[1;31m---------------------------------------------------------------------------\u001b[0m",
      "\u001b[1;31mMyError\u001b[0m                                   Traceback (most recent call last)",
      "Cell \u001b[1;32mIn[35], line 1\u001b[0m\n\u001b[1;32m----> 1\u001b[0m \u001b[43msay_nick\u001b[49m\u001b[43m(\u001b[49m\u001b[38;5;124;43m'\u001b[39;49m\u001b[38;5;124;43m바보\u001b[39;49m\u001b[38;5;124;43m'\u001b[39;49m\u001b[43m)\u001b[49m\n",
      "Cell \u001b[1;32mIn[33], line 3\u001b[0m, in \u001b[0;36msay_nick\u001b[1;34m(nick)\u001b[0m\n\u001b[0;32m      1\u001b[0m \u001b[38;5;28;01mdef\u001b[39;00m\u001b[38;5;250m \u001b[39m\u001b[38;5;21msay_nick\u001b[39m(nick):\n\u001b[0;32m      2\u001b[0m     \u001b[38;5;28;01mif\u001b[39;00m nick \u001b[38;5;241m==\u001b[39m \u001b[38;5;124m'\u001b[39m\u001b[38;5;124m바보\u001b[39m\u001b[38;5;124m'\u001b[39m:\n\u001b[1;32m----> 3\u001b[0m         \u001b[38;5;28;01mraise\u001b[39;00m MyError()\n\u001b[0;32m      4\u001b[0m     \u001b[38;5;28mprint\u001b[39m(nick)\n",
      "\u001b[1;31mMyError\u001b[0m: "
     ]
    }
   ],
   "source": [
    "say_nick('바보')"
   ]
  },
  {
   "cell_type": "code",
   "execution_count": 43,
   "id": "48e6ccd9-973f-4bc4-bede-99eefab4e443",
   "metadata": {},
   "outputs": [
    {
     "name": "stdout",
     "output_type": "stream",
     "text": [
      "천사\n",
      "욕하지마 바보아냐 욕하지마 그래도 사람은 착해\n"
     ]
    }
   ],
   "source": [
    "try:\n",
    "    say_nick('천사')\n",
    "    say_nick('바보')\n",
    "except MyError as e:\n",
    "    print('욕하지마 바보아냐', e)"
   ]
  },
  {
   "cell_type": "code",
   "execution_count": 42,
   "id": "1b98d76d-ed99-43f2-91c7-8a5fcf096571",
   "metadata": {},
   "outputs": [],
   "source": [
    "class MyError(Exception):\n",
    "    def __str__(self):\n",
    "        return \"욕하지마 그래도 사람은 착해\""
   ]
  },
  {
   "cell_type": "code",
   "execution_count": null,
   "id": "569b95a6-1a19-4fdd-a6b1-5a6c584876a4",
   "metadata": {},
   "outputs": [],
   "source": []
  }
 ],
 "metadata": {
  "kernelspec": {
   "display_name": "Python 3 (ipykernel)",
   "language": "python",
   "name": "python3"
  },
  "language_info": {
   "codemirror_mode": {
    "name": "ipython",
    "version": 3
   },
   "file_extension": ".py",
   "mimetype": "text/x-python",
   "name": "python",
   "nbconvert_exporter": "python",
   "pygments_lexer": "ipython3",
   "version": "3.13.1"
  }
 },
 "nbformat": 4,
 "nbformat_minor": 5
}
