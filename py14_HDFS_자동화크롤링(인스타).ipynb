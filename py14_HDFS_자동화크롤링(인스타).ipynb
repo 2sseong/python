{
 "cells": [
  {
   "cell_type": "code",
   "execution_count": 21,
   "id": "da92f2bc-085f-4042-abd1-1f93c3d81b10",
   "metadata": {},
   "outputs": [],
   "source": [
    "from selenium import webdriver\n",
    "from selenium.webdriver.common.action_chains import ActionChains\n",
    "from selenium.webdriver.chrome.service import Service\n",
    "from selenium.webdriver.chrome.options import Options\n",
    "from selenium.webdriver.common.keys import Keys\n",
    "from selenium.webdriver.common.by import By\n",
    "from datetime import datetime\n",
    "from bs4 import BeautifulSoup as bs\n",
    "import pandas as pd\n",
    "import time\n",
    "import re\n",
    "from bs4 import BeautifulSoup as bs\n",
    "import pandas as pd\n",
    "from hdfs import InsecureClient\n",
    "from datetime import datetime # datetime 모듈 임포트\n",
    "\n",
    "from selenium.webdriver.support.ui import WebDriverWait\n",
    "from selenium.webdriver.support import expected_conditions as EC"
   ]
  },
  {
   "cell_type": "code",
   "execution_count": 33,
   "id": "ed0986ba-b15c-4f90-ab3c-77daa06dea56",
   "metadata": {},
   "outputs": [
    {
     "name": "stdout",
     "output_type": "stream",
     "text": [
      "Instagram\n",
      "로그인 시도 아이디/비밀번호\n",
      "확인 및 이동\n",
      "부산여행 검색시작!\n",
      "첫카드 클릭\n",
      "all.about.busan**저장필수**부산토박이가 알려주는 동네별 맛집 지도!!💛광안리부터 해운대, 서면 등등 핫플은 다 정리해뒀음내 짝꿍이랑 25년도에 다 뿌시기📝------*부산맛집만 보고싶다면 👉 @matzip.in.busan*부산카페만 보고싶다면 👉 @cafe.in.busan*부산데이트스팟 보고싶다면 👉@dateinbusan8주\n"
     ]
    }
   ],
   "source": [
    "# Chrome 옵션 설정\n",
    "options = Options()\n",
    "options.binary_location = \"./chrome-win64/chrome.exe\"         # chrome 경로 설정\n",
    "options.add_argument(\"--no-sandbox\")             # sandbox 설정\n",
    "# options.add_argument(\"--headless=new\")\n",
    "options.add_argument(\"--disable-dev-shm-usage\")  # 공유메모리 설정\n",
    "options.add_argument(\"--window-size=1920,1080\")  # 화면크기 설정, 반응형 웹 대비\n",
    "# options.add_argument(\"--disable-gpu\")  # GPU 비활성화\n",
    "\n",
    "# ChromeDriver 설정\n",
    "service = Service(\"chromedriver.exe\")\n",
    "driver = webdriver.Chrome(service=service, options = options)\n",
    "driver.get(\"https://www.instagram.com/\")\n",
    "print(driver.title)\n",
    "time.sleep(3)\n",
    "\n",
    "email = 'lsh999051@gmail.com'\n",
    "passwd = 'sh@96899689'\n",
    "print(\"로그인 시도 아이디/비밀번호\")\n",
    "\n",
    "# 아이디 기입\n",
    "input_id = driver.find_element(By.CSS_SELECTOR, \"#loginForm > div.x9f619.xjbqb8w.x78zum5.x168nmei.x13lgxp2.x5pf9jr.xo71vjh.xqui205.x1n2onr6.x1plvlek.xryxfnj.x1c4vz4f.x2lah0s.xdt5ytf.xqjyukv.x1qjc9v5.x1oa3qoh.x1nhvcw1 > div:nth-child(1) > div > label > input\")\n",
    "input_id.clear()\n",
    "time.sleep(1)\n",
    "input_id.send_keys(email)\n",
    "time.sleep(2)\n",
    "\n",
    "# 비밀번호 기입\n",
    "input_pw = driver.find_element(By.CSS_SELECTOR, \"#loginForm > div.x9f619.xjbqb8w.x78zum5.x168nmei.x13lgxp2.x5pf9jr.xo71vjh.xqui205.x1n2onr6.x1plvlek.xryxfnj.x1c4vz4f.x2lah0s.xdt5ytf.xqjyukv.x1qjc9v5.x1oa3qoh.x1nhvcw1 > div:nth-child(2) > div > label > input\")\n",
    "input_pw.clear()\n",
    "time.sleep(1)\n",
    "input_pw.send_keys(passwd)\n",
    "time.sleep(2)\n",
    "\n",
    "# 로그인 버튼 클릭 \n",
    "login_btn = driver.find_element(By.CSS_SELECTOR,\"#loginForm > div.x9f619.xjbqb8w.x78zum5.x168nmei.x13lgxp2.x5pf9jr.xo71vjh.xqui205.x1n2onr6.x1plvlek.xryxfnj.x1c4vz4f.x2lah0s.xdt5ytf.xqjyukv.x1qjc9v5.x1oa3qoh.x1nhvcw1 > div:nth-child(3)\")\n",
    "login_btn.click()\n",
    "print(\"확인 및 이동\")\n",
    "time.sleep(5)\n",
    "try:\n",
    "    popup = driver.find_element(By.CSS_SELECTOR,\"#mount_0_0_vE > div > div > div.x9f619.x1n2onr6.x1ja2u2z > div > div > div.x78zum5.xdt5ytf.x1t2pt76.x1n2onr6.x1ja2u2z.x10cihs4 > div.x9f619.xvbhtw8.x78zum5.x168nmei.x13lgxp2.x5pf9jr.xo71vjh.x1uhb9sk.x1plvlek.xryxfnj.x1c4vz4f.x2lah0s.x1q0g3np.xqjyukv.x1qjc9v5.x1oa3qoh.x1qughib > div.x1gryazu.xh8yej3.x10o80wk.x14k21rp.x17snn68.x6osk4m.x1porb0y.x8vgawa > section > main > div > div > div > div\")\n",
    "    popup.click()\n",
    "except:\n",
    "    pass\n",
    "\n",
    "# 검색\n",
    "def insta_search(word):\n",
    "    url_ori = f\"https://www.instagram.com/explore/search/keyword/?q={word}\"\n",
    "    return url_ori\n",
    "    \n",
    "word = \"부산여행\"\n",
    "url = insta_search(word)\n",
    "driver.get(url)\n",
    "print(f\"{word} 검색시작!\")\n",
    "time.sleep(10)\n",
    "\n",
    "select_box1 = WebDriverWait(driver, 60).until(EC.presence_of_element_located((By.CSS_SELECTOR, \"div > div > div > div > div > div > div > div > div > section > main > div > div> div > div:nth-child(1) > div:nth-child(1) > div > a > div._aagu > div._aagw\")))\n",
    "select_box1.click()\n",
    "print(\"첫카드 클릭\")\n",
    "time.sleep(5)\n",
    "\n",
    "#로드 결과\n",
    "# wait = WebDriverWait(driver,10)\n",
    "# sel1 = wait.until(EC.presence_od_element_located(By.CSS_SELECTOR,\" \"))\n",
    "\n",
    "\n",
    "html = driver.page_source\n",
    "soup = bs(html,'html.parser')\n",
    "# 1. 본문내용 가져오기\n",
    "content = soup.select_one('div._a9zr').get_text()\n",
    "print(content)\n"
   ]
  },
  {
   "cell_type": "code",
   "execution_count": 14,
   "id": "dee72373-f475-4641-bd55-a1fd5089e994",
   "metadata": {},
   "outputs": [],
   "source": [
    "# service.stop()"
   ]
  },
  {
   "cell_type": "code",
   "execution_count": null,
   "id": "670fc117-0464-43e2-bb84-f3f9df1d1f29",
   "metadata": {},
   "outputs": [],
   "source": []
  }
 ],
 "metadata": {
  "kernelspec": {
   "display_name": "Python 3 (ipykernel)",
   "language": "python",
   "name": "python3"
  },
  "language_info": {
   "codemirror_mode": {
    "name": "ipython",
    "version": 3
   },
   "file_extension": ".py",
   "mimetype": "text/x-python",
   "name": "python",
   "nbconvert_exporter": "python",
   "pygments_lexer": "ipython3",
   "version": "3.13.1"
  }
 },
 "nbformat": 4,
 "nbformat_minor": 5
}
