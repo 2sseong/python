{
 "cells": [
  {
   "cell_type": "code",
   "execution_count": 3,
   "metadata": {
    "id": "EFomPllRfhQ2"
   },
   "outputs": [],
   "source": [
    "# with open('./drive/MyDrive/ReadME.md','w') as f:\n",
    "#     data = f.write('반가워요')\n",
    "#     print('저장되었습니다')"
   ]
  },
  {
   "cell_type": "markdown",
   "metadata": {
    "id": "QuBfy_lJis8r"
   },
   "source": [
    "#넘파이(numpy)\n"
   ]
  },
  {
   "cell_type": "markdown",
   "metadata": {
    "id": "nJjJ0K0ijaMq"
   },
   "source": [
    "- ndim: 축의 개수\n",
    "- shape: 배열의 차원정보\n",
    "- size: 배열안에 있는 원소의 총 개수\n",
    "- dtype:배열 원소의 자료형"
   ]
  },
  {
   "cell_type": "markdown",
   "metadata": {
    "id": "xMhO0XtuuOIU"
   },
   "source": [
    "## 1차원과 속성들"
   ]
  },
  {
   "cell_type": "code",
   "execution_count": 12,
   "metadata": {
    "colab": {
     "base_uri": "https://localhost:8080/"
    },
    "id": "aT393YsAi3dT",
    "outputId": "5552dbfb-32b1-41c3-b613-9840b6dd96d1"
   },
   "outputs": [
    {
     "name": "stdout",
     "output_type": "stream",
     "text": [
      "[0 1 2 3 4] <class 'numpy.ndarray'>\n",
      "1\n",
      "(5,)\n",
      "5\n",
      "int64\n",
      "[2 3]\n"
     ]
    }
   ],
   "source": [
    "# pip install numpy\n",
    "import numpy as np\n",
    "narry = np.array(range(5))\n",
    "print(narry,type(narry))\n",
    "print(narry.ndim)\n",
    "print(narry.shape)\n",
    "print(narry.size)\n",
    "print(narry.dtype)\n",
    "print(narry[2:4])"
   ]
  },
  {
   "cell_type": "code",
   "execution_count": 18,
   "metadata": {
    "colab": {
     "base_uri": "https://localhost:8080/"
    },
    "id": "9rbUZJwJjBT3",
    "outputId": "60480d17-8875-4560-80dc-82e580e9a6de"
   },
   "outputs": [
    {
     "name": "stdout",
     "output_type": "stream",
     "text": [
      "[1 2 3 4] int64\n",
      "['1' '2' 'a' 'b'] <U21\n",
      "['1' '2' '3' '4'] <U1\n"
     ]
    }
   ],
   "source": [
    "narr1=np.array([1,2,3,4])\n",
    "narr2=np.array([1,2,'a','b'])\n",
    "narr3=np.array([1,2,3,4],dtype='str')\n",
    "print(narr1,narr1.dtype)\n",
    "print(narr2,narr2.dtype)\n",
    "print(narr3,narr3.dtype)"
   ]
  },
  {
   "cell_type": "code",
   "execution_count": 69,
   "metadata": {
    "colab": {
     "base_uri": "https://localhost:8080/"
    },
    "id": "EwbGj7A2piDG",
    "outputId": "7a40e0ea-eba9-48ee-f96e-2476afb8c520"
   },
   "outputs": [
    {
     "name": "stdout",
     "output_type": "stream",
     "text": [
      "[[0 0]\n",
      " [0 0]] 2 int64 (2, 2) 4 <class 'numpy.ndarray'>\n",
      "[[1. 1.]\n",
      " [1. 1.]] 2 float64 (2, 2) 4 <class 'numpy.ndarray'>\n",
      "[[3 3 3]\n",
      " [3 3 3]\n",
      " [3 3 3]] 2 int64 (3, 3) 9 <class 'numpy.ndarray'>\n",
      "[['number' 'number' 'number']\n",
      " ['number' 'number' 'number']\n",
      " ['number' 'number' 'number']] 2 <U6 (3, 3) 9 <class 'numpy.ndarray'>\n",
      "[[1. 0. 0.]\n",
      " [0. 1. 0.]\n",
      " [0. 0. 1.]] 2 float64 (3, 3) 9 <class 'numpy.ndarray'>\n",
      "[ 0 20 40 60 80] 1 int64 (5,) 5 <class 'numpy.ndarray'>\n",
      "[ 0 20 40 60 80] 1 int64 (5,) 5 <class 'numpy.ndarray'>\n"
     ]
    }
   ],
   "source": [
    "narr4 = np.zeros((2,2),dtype='int64')\n",
    "narr5 = np.ones((2,2))\n",
    "narr6 = np.full((3,3),3)\n",
    "narr7 = np.full((3,3),'number')\n",
    "narr8 = np.eye(3)\n",
    "narr9 = np.linspace(0,100,5,endpoint=False,dtype = 'int64')\n",
    "narr10 = np.arange(0,100,20)\n",
    "print(narr4, narr4.ndim, narr4.dtype, narr4.shape, narr4.size, type(narr4))\n",
    "print(narr5, narr5.ndim, narr5.dtype, narr5.shape, narr5.size, type(narr5))\n",
    "print(narr6, narr6.ndim, narr6.dtype, narr6.shape, narr6.size, type(narr6))\n",
    "print(narr7, narr7.ndim, narr7.dtype, narr7.shape, narr7.size, type(narr7))\n",
    "print(narr8, narr8.ndim, narr8.dtype, narr8.shape, narr8.size, type(narr8))\n",
    "print(narr9, narr9.ndim, narr9.dtype, narr9.shape, narr9.size, type(narr9))\n",
    "print(narr10, narr10.ndim, narr10.dtype, narr10.shape, narr10.size, type(narr10))"
   ]
  },
  {
   "cell_type": "markdown",
   "metadata": {
    "id": "B91XlZAHuWN8"
   },
   "source": [
    "## 2차원 배열"
   ]
  },
  {
   "cell_type": "code",
   "execution_count": 45,
   "metadata": {
    "colab": {
     "base_uri": "https://localhost:8080/"
    },
    "id": "_nlzeDyMvhBr",
    "outputId": "741bf41b-f4fa-46c7-affd-c3130e8d51c0"
   },
   "outputs": [
    {
     "name": "stdout",
     "output_type": "stream",
     "text": [
      "[2, 3, 4, 5, 6, 7, 8, 9]\n",
      "[2 3 4 5 6 7 8 9]\n"
     ]
    },
    {
     "data": {
      "text/plain": [
       "array([0, 1, 2, 3, 4, 5, 6, 7, 8, 9])"
      ]
     },
     "execution_count": 45,
     "metadata": {},
     "output_type": "execute_result"
    }
   ],
   "source": [
    "print(list(range(2,10)))\n",
    "print(np.arange(2,10))\n",
    "np.arange(10)"
   ]
  },
  {
   "cell_type": "code",
   "execution_count": 29,
   "metadata": {
    "colab": {
     "base_uri": "https://localhost:8080/"
    },
    "id": "5qfj51l7p9j-",
    "outputId": "f51b1a3f-0fdf-4fcd-b313-6e17f4fcaa30"
   },
   "outputs": [
    {
     "name": "stdout",
     "output_type": "stream",
     "text": [
      "[[0 0]\n",
      " [0 0]] 2 int64 (2, 2) 4\n"
     ]
    }
   ],
   "source": [
    "arr1= np.array([[0,0],[0,0]])\n",
    "print(arr1,arr1.ndim, arr1.dtype, arr1.shape, arr1.size)"
   ]
  },
  {
   "cell_type": "code",
   "execution_count": 54,
   "metadata": {
    "colab": {
     "base_uri": "https://localhost:8080/"
    },
    "id": "h97MEDZGqfyl",
    "outputId": "af6a4fba-d295-48d8-d213-21c061695341"
   },
   "outputs": [
    {
     "name": "stdout",
     "output_type": "stream",
     "text": [
      "차원: 2 / 데이터타입: int64 / 형태: (3, 3) / 크기: 9 \n",
      " [[1 2 3]\n",
      " [4 5 6]\n",
      " [7 8 9]]\n",
      "차원: 2 / 데이터타입: int64 / 형태: (3, 3) / 크기: 9 \n",
      " [[1 2 3]\n",
      " [4 5 6]\n",
      " [7 8 9]]\n",
      "차원: 2 / 데이터타입: int64 / 형태: (2, 5) / 크기: 10 \n",
      " [[ 1  2  3  4  5]\n",
      " [ 6  7  8  9 10]]\n",
      "차원: 2 / 데이터타입: int64 / 형태: (5, 2) / 크기: 10 \n",
      " [[ 1  2]\n",
      " [ 3  4]\n",
      " [ 5  6]\n",
      " [ 7  8]\n",
      " [ 9 10]]\n",
      "차원: 3 / 데이터타입: int64 / 형태: (3, 3, 3) / 크기: 27 \n",
      " [[[ 1  2  3]\n",
      "  [ 4  5  6]\n",
      "  [ 7  8  9]]\n",
      "\n",
      " [[10 11 12]\n",
      "  [13 14 15]\n",
      "  [16 17 18]]\n",
      "\n",
      " [[19 20 21]\n",
      "  [22 23 24]\n",
      "  [25 26 27]]]\n"
     ]
    }
   ],
   "source": [
    "arr2 = np.array([1,2,3,4,5,6,7,8,9]).reshape(3,3)\n",
    "arr3 = np.arange(1,10).reshape(3,3)\n",
    "arr4 = np.arange(1,11).reshape(2,5)\n",
    "arr5 = np.arange(1,11).reshape(5,2)\n",
    "arr6 = np.arange(1,28).reshape(3,3,3)\n",
    "print('차원:',arr2.ndim, '/ 데이터타입:',arr2.dtype, '/ 형태:',arr2.shape, '/ 크기:',arr2.size,'\\n', arr2)\n",
    "print('차원:',arr3.ndim, '/ 데이터타입:',arr3.dtype, '/ 형태:',arr3.shape, '/ 크기:',arr3.size,'\\n', arr3)\n",
    "print('차원:',arr4.ndim, '/ 데이터타입:',arr4.dtype, '/ 형태:',arr4.shape, '/ 크기:',arr4.size,'\\n', arr4)\n",
    "print('차원:',arr5.ndim, '/ 데이터타입:',arr5.dtype, '/ 형태:',arr5.shape, '/ 크기:',arr5.size,'\\n', arr5)\n",
    "print('차원:',arr6.ndim, '/ 데이터타입:',arr6.dtype, '/ 형태:',arr6.shape, '/ 크기:',arr6.size,'\\n', arr6)"
   ]
  },
  {
   "cell_type": "code",
   "execution_count": 62,
   "metadata": {
    "colab": {
     "base_uri": "https://localhost:8080/"
    },
    "id": "ekoQVG5qu96g",
    "outputId": "cbf7612b-5728-44ec-81af-55db47f20c59"
   },
   "outputs": [
    {
     "name": "stdout",
     "output_type": "stream",
     "text": [
      "[[ 1  2  3  4  5  6  7]\n",
      " [ 8  9 10 11 12 13 14]\n",
      " [15 16 17 18 19 20 21]]\n",
      "=======================\n",
      "[[1]\n",
      " [2]\n",
      " [3]\n",
      " [4]\n",
      " [5]\n",
      " [6]\n",
      " [7]]\n",
      "=======================\n",
      "[[ 1  2]\n",
      " [ 3  4]\n",
      " [ 5  6]\n",
      " [ 7  8]\n",
      " [ 9 10]]\n",
      "=======================\n",
      "[[ 1  2  3  4  5  6  7]\n",
      " [ 8  9 10 11 12 13 14]\n",
      " [15 16 17 18 19 20 21]]\n",
      "=======================\n",
      "[[[ 1]\n",
      "  [ 2]\n",
      "  [ 3]]\n",
      "\n",
      " [[ 4]\n",
      "  [ 5]\n",
      "  [ 6]]\n",
      "\n",
      " [[ 7]\n",
      "  [ 8]\n",
      "  [ 9]]\n",
      "\n",
      " [[10]\n",
      "  [11]\n",
      "  [12]]]\n"
     ]
    }
   ],
   "source": [
    "t1 = np.arange(1,22).reshape(3,7)\n",
    "t2 = np.arange(1,8).reshape(7,1)\n",
    "t3 = np.arange(1,11).reshape(5,2)\n",
    "t4 = np.arange(1,22).reshape(3,7)\n",
    "t5 = np.arange(1,13).reshape(4,3,1)\n",
    "print(t1)\n",
    "print('='*23)\n",
    "print(t2)\n",
    "print('='*23)\n",
    "print(t3)\n",
    "print('='*23)\n",
    "print(t4)\n",
    "print('='*23)\n",
    "print(t5)"
   ]
  },
  {
   "cell_type": "code",
   "execution_count": 100,
   "metadata": {
    "colab": {
     "base_uri": "https://localhost:8080/"
    },
    "id": "sDjym0K62ucK",
    "outputId": "b8e2affd-c1c7-48fa-d777-8ce845dd38bb"
   },
   "outputs": [
    {
     "name": "stdout",
     "output_type": "stream",
     "text": [
      "[10 11 12] \n",
      "\n",
      "[4 5 6 7]\n",
      "[11 12 13 14]\n",
      "[18 19 20 21]\n",
      "\n",
      "\n",
      "[[ 4  5  6  7]\n",
      " [11 12 13 14]\n",
      " [18 19 20 21]] \n",
      "\n",
      "[[12 13]\n",
      " [19 20]] \n",
      "\n",
      "[13 14 15 16 17 18 19 20 21] \n",
      "\n",
      "[[False  True False  True False  True False]\n",
      " [ True False  True False  True False  True]\n",
      " [False  True False  True False  True False]] \n",
      "\n"
     ]
    }
   ],
   "source": [
    "# test\n",
    "print(t1[1][2:5],'\\n')\n",
    "for i in range(3):\n",
    "  print(t4[i][3:])\n",
    "print('\\n')\n",
    "print(t4[0:3, 3:],'\\n')\n",
    "print(t4[1:3, 4:6],'\\n')\n",
    "print(t4[t4>12],'\\n')\n",
    "print(t4%2 == 0,'\\n')"
   ]
  },
  {
   "cell_type": "code",
   "execution_count": 103,
   "metadata": {
    "colab": {
     "base_uri": "https://localhost:8080/"
    },
    "id": "by12uAdIFh2j",
    "outputId": "ba582494-88df-4be6-da8f-01413aa54124"
   },
   "outputs": [
    {
     "name": "stdout",
     "output_type": "stream",
     "text": [
      "덧셈: [ 7  9 11 13 15]\n",
      "뺄셈: [5 5 5 5 5]\n",
      "곱셈: [ 6 14 24 36 50]\n",
      "나눗셈: [6.         3.5        2.66666667 2.25       2.        ]\n",
      "제곱: [ 36  49  64  81 100]\n"
     ]
    }
   ],
   "source": [
    "# np 배열 연산 //shape 가 같을 경우 원소별 연산이 가능\n",
    "np1 = np.array([6,7,8,9,10])\n",
    "np2 = np.array([1,2,3,4,5])\n",
    "print('덧셈:',np1+np2)\n",
    "print('뺄셈:',np1-np2)\n",
    "print('곱셈:',np1*np2)\n",
    "print('나눗셈:',np1/np2)\n",
    "print('제곱:',np1**2)"
   ]
  },
  {
   "cell_type": "code",
   "execution_count": 104,
   "metadata": {
    "colab": {
     "base_uri": "https://localhost:8080/"
    },
    "id": "BCvY_BGwGJoJ",
    "outputId": "57ef6d0b-45e9-47a4-8640-576552bedaea"
   },
   "outputs": [
    {
     "data": {
      "text/plain": [
       "array([ 6,  7,  8,  9, 10])"
      ]
     },
     "execution_count": 104,
     "metadata": {},
     "output_type": "execute_result"
    }
   ],
   "source": [
    "np1"
   ]
  },
  {
   "cell_type": "code",
   "execution_count": 105,
   "metadata": {
    "colab": {
     "base_uri": "https://localhost:8080/"
    },
    "id": "IgQgGg6DG5QR",
    "outputId": "ba4b4310-712f-447d-fc78-7141d80b9fe8"
   },
   "outputs": [
    {
     "name": "stdout",
     "output_type": "stream",
     "text": [
      "[16 17 18 19 20]\n"
     ]
    }
   ],
   "source": [
    "# 브로드캐스팅\n",
    "np3 = np1 +10\n",
    "print(np3)"
   ]
  },
  {
   "cell_type": "code",
   "execution_count": 113,
   "metadata": {
    "colab": {
     "base_uri": "https://localhost:8080/"
    },
    "id": "pcoqLIBwHBnS",
    "outputId": "3c654416-41d2-4843-8e6f-838554170571"
   },
   "outputs": [
    {
     "name": "stdout",
     "output_type": "stream",
     "text": [
      "[[1 2 3]\n",
      " [4 5 6]\n",
      " [7 8 9]]\n",
      "[11 22 33]\n",
      "========스칼라와 연산==========\n",
      "[[ 4  5  6]\n",
      " [ 7  8  9]\n",
      " [10 11 12]]\n",
      "[[ 2  4  6]\n",
      " [ 8 10 12]\n",
      " [14 16 18]]\n",
      "=========2D와 1D의 연산=========\n",
      "[[12 24 36]\n",
      " [15 27 39]\n",
      " [18 30 42]]\n",
      "[[ 11  44  99]\n",
      " [ 44 110 198]\n",
      " [ 77 176 297]]\n"
     ]
    }
   ],
   "source": [
    "br1 = np.arange(1,10).reshape(3,3)\n",
    "br2 = np.array([11,22,33])\n",
    "#스칼라와 연산\n",
    "print(br1) \n",
    "print(br2)\n",
    "print('========스칼라와 연산==========')\n",
    "print(br1+3)\n",
    "print(br1*2)\n",
    "#2D와 1D의 연산\n",
    "print('=========2D와 1D의 연산=========')\n",
    "print(br1+br2)\n",
    "print(br1*br2)"
   ]
  },
  {
   "cell_type": "code",
   "execution_count": 122,
   "metadata": {
    "colab": {
     "base_uri": "https://localhost:8080/"
    },
    "id": "Iw9hfDAGHncG",
    "outputId": "e279dd2b-dae9-41be-9783-04ce13fb6890"
   },
   "outputs": [
    {
     "name": "stdout",
     "output_type": "stream",
     "text": [
      "[11 22 33]\n",
      "[1 2 3 4 5 6 7 8 9]\n",
      "[1 2 3 4 5 6 7 8 9]\n"
     ]
    }
   ],
   "source": [
    "# flatten 처리\n",
    "ff = np.arange(1,10).reshape(3,3)\n",
    "print(br2.flatten())\n",
    "print(ff.reshape(9))\n",
    "print(ff.flatten())"
   ]
  },
  {
   "cell_type": "code",
   "execution_count": 1,
   "metadata": {
    "id": "YaZxUdFfJtYs"
   },
   "outputs": [
    {
     "ename": "ModuleNotFoundError",
     "evalue": "No module named 'google'",
     "output_type": "error",
     "traceback": [
      "\u001b[1;31m---------------------------------------------------------------------------\u001b[0m",
      "\u001b[1;31mModuleNotFoundError\u001b[0m                       Traceback (most recent call last)",
      "Cell \u001b[1;32mIn[1], line 2\u001b[0m\n\u001b[0;32m      1\u001b[0m \u001b[38;5;66;03m# 구글 제미나이\u001b[39;00m\n\u001b[1;32m----> 2\u001b[0m \u001b[38;5;28;01mfrom\u001b[39;00m\u001b[38;5;250m \u001b[39m\u001b[38;5;21;01mgoogle\u001b[39;00m\u001b[38;5;250m \u001b[39m\u001b[38;5;28;01mimport\u001b[39;00m genai\n\u001b[0;32m      4\u001b[0m client \u001b[38;5;241m=\u001b[39m genai\u001b[38;5;241m.\u001b[39mClient(api_key\u001b[38;5;241m=\u001b[39m\u001b[38;5;124m\"\u001b[39m\u001b[38;5;124mYOUR_API_KEY\u001b[39m\u001b[38;5;124m\"\u001b[39m)\n\u001b[0;32m      6\u001b[0m response \u001b[38;5;241m=\u001b[39m client\u001b[38;5;241m.\u001b[39mmodels\u001b[38;5;241m.\u001b[39mgenerate_content(\n\u001b[0;32m      7\u001b[0m     model\u001b[38;5;241m=\u001b[39m\u001b[38;5;124m\"\u001b[39m\u001b[38;5;124mgemini-2.0-flash\u001b[39m\u001b[38;5;124m\"\u001b[39m,\n\u001b[0;32m      8\u001b[0m     contents\u001b[38;5;241m=\u001b[39m\u001b[38;5;124m\"\u001b[39m\u001b[38;5;124mExplain how AI works\u001b[39m\u001b[38;5;124m\"\u001b[39m,\n\u001b[0;32m      9\u001b[0m )\n",
      "\u001b[1;31mModuleNotFoundError\u001b[0m: No module named 'google'"
     ]
    }
   ],
   "source": []
  },
  {
   "cell_type": "code",
   "execution_count": null,
   "metadata": {},
   "outputs": [],
   "source": []
  }
 ],
 "metadata": {
  "colab": {
   "provenance": [],
   "toc_visible": true
  },
  "kernelspec": {
   "display_name": "Python 3 (ipykernel)",
   "language": "python",
   "name": "python3"
  },
  "language_info": {
   "codemirror_mode": {
    "name": "ipython",
    "version": 3
   },
   "file_extension": ".py",
   "mimetype": "text/x-python",
   "name": "python",
   "nbconvert_exporter": "python",
   "pygments_lexer": "ipython3",
   "version": "3.13.1"
  }
 },
 "nbformat": 4,
 "nbformat_minor": 4
}
