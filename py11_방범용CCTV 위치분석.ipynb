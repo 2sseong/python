{
 "cells": [
  {
   "cell_type": "markdown",
   "id": "64bb8e53-60a2-45b0-8591-136240747356",
   "metadata": {},
   "source": [
    "# 방범용CCTV 위치와 인구 데이터 분석\n",
    "- https://data.busan.go.kr/\n",
    "- 파일데이터 \"부산광역시_방범용 CCTV 정보_20230622.CSV\" 다운로드\n",
    "- 목표: CCTV 수와 인구대비 CCTV 비율을 파악\n",
    "- 인구대비 CCTV의 평균치를 확인하고 그로부터 CCTV가 과하게 부족한 구를 확인 "
   ]
  },
  {
   "cell_type": "code",
   "execution_count": 1,
   "id": "31704cfa-8abf-486b-85ec-150ff8a0ab9b",
   "metadata": {},
   "outputs": [
    {
     "name": "stdout",
     "output_type": "stream",
     "text": [
      "/home/pkdata/data\n"
     ]
    }
   ],
   "source": [
    "!pwd"
   ]
  },
  {
   "cell_type": "code",
   "execution_count": 2,
   "id": "a2058f63-b7ba-4528-8d74-2b361a5d0fe0",
   "metadata": {},
   "outputs": [],
   "source": [
    "# !pip install pandas"
   ]
  },
  {
   "cell_type": "code",
   "execution_count": 3,
   "id": "0e91f37e-62be-4878-a8f6-ddb9a86c3906",
   "metadata": {},
   "outputs": [
    {
     "data": {
      "text/html": [
       "<div>\n",
       "<style scoped>\n",
       "    .dataframe tbody tr th:only-of-type {\n",
       "        vertical-align: middle;\n",
       "    }\n",
       "\n",
       "    .dataframe tbody tr th {\n",
       "        vertical-align: top;\n",
       "    }\n",
       "\n",
       "    .dataframe thead th {\n",
       "        text-align: right;\n",
       "    }\n",
       "</style>\n",
       "<table border=\"1\" class=\"dataframe\">\n",
       "  <thead>\n",
       "    <tr style=\"text-align: right;\">\n",
       "      <th></th>\n",
       "      <th>CCTV 명칭</th>\n",
       "      <th>CCTV 좌표</th>\n",
       "      <th>CCTV 그룹</th>\n",
       "    </tr>\n",
       "  </thead>\n",
       "  <tbody>\n",
       "    <tr>\n",
       "      <th>5571</th>\n",
       "      <td>(7차)_부암1동_진흥마제스타워뒤_동평로183번길33-16</td>\n",
       "      <td>10.1.11.63:0:0:0:0:0:0,10.1.11.63:9400:</td>\n",
       "      <td>진구-7차</td>\n",
       "    </tr>\n",
       "    <tr>\n",
       "      <th>1826</th>\n",
       "      <td>(10차)_시실로_19-9_명륜2차아이파크1단지_앞_고4</td>\n",
       "      <td>10.1.11.200:0:0:0:0:0:0,10.1.11.200:9400:</td>\n",
       "      <td>동래-10차</td>\n",
       "    </tr>\n",
       "    <tr>\n",
       "      <th>3826</th>\n",
       "      <td>(폐공가)_고신대병원_주변</td>\n",
       "      <td>10.1.12.27:0:0:0:0:0:0,10.1.12.27:9400:</td>\n",
       "      <td>서구-폐공가</td>\n",
       "    </tr>\n",
       "  </tbody>\n",
       "</table>\n",
       "</div>"
      ],
      "text/plain": [
       "                               CCTV 명칭  \\\n",
       "5571  (7차)_부암1동_진흥마제스타워뒤_동평로183번길33-16   \n",
       "1826   (10차)_시실로_19-9_명륜2차아이파크1단지_앞_고4   \n",
       "3826                    (폐공가)_고신대병원_주변   \n",
       "\n",
       "                                        CCTV 좌표 CCTV 그룹  \n",
       "5571    10.1.11.63:0:0:0:0:0:0,10.1.11.63:9400:   진구-7차  \n",
       "1826  10.1.11.200:0:0:0:0:0:0,10.1.11.200:9400:  동래-10차  \n",
       "3826    10.1.12.27:0:0:0:0:0:0,10.1.12.27:9400:  서구-폐공가  "
      ]
     },
     "execution_count": 3,
     "metadata": {},
     "output_type": "execute_result"
    }
   ],
   "source": [
    "import pandas as pd\n",
    "file_path = \"./ref/부산광역시방범용CCTV정보20230622.csv\"\n",
    "CCTV = pd.read_csv(file_path, encoding = \"EUC-KR\")\n",
    "CCTV.sample(3)"
   ]
  },
  {
   "cell_type": "code",
   "execution_count": 4,
   "id": "fea273f2-e9ae-462a-85e2-cc1504ffe708",
   "metadata": {},
   "outputs": [],
   "source": [
    "CCTV.columns = ['x','xx','local']\n",
    "cctv = CCTV.rename(columns={\"CCTV 그룹\":\"local\"})['local']"
   ]
  },
  {
   "cell_type": "code",
   "execution_count": 5,
   "id": "6711e7cd-dbaa-4916-976d-1ce0213c4cc8",
   "metadata": {},
   "outputs": [
    {
     "data": {
      "text/html": [
       "<div>\n",
       "<style scoped>\n",
       "    .dataframe tbody tr th:only-of-type {\n",
       "        vertical-align: middle;\n",
       "    }\n",
       "\n",
       "    .dataframe tbody tr th {\n",
       "        vertical-align: top;\n",
       "    }\n",
       "\n",
       "    .dataframe thead th {\n",
       "        text-align: right;\n",
       "    }\n",
       "</style>\n",
       "<table border=\"1\" class=\"dataframe\">\n",
       "  <thead>\n",
       "    <tr style=\"text-align: right;\">\n",
       "      <th></th>\n",
       "      <th>local</th>\n",
       "      <th>count</th>\n",
       "    </tr>\n",
       "  </thead>\n",
       "  <tbody>\n",
       "    <tr>\n",
       "      <th>0</th>\n",
       "      <td>사하</td>\n",
       "      <td>431</td>\n",
       "    </tr>\n",
       "    <tr>\n",
       "      <th>1</th>\n",
       "      <td>사상</td>\n",
       "      <td>422</td>\n",
       "    </tr>\n",
       "    <tr>\n",
       "      <th>2</th>\n",
       "      <td>해운대</td>\n",
       "      <td>418</td>\n",
       "    </tr>\n",
       "    <tr>\n",
       "      <th>3</th>\n",
       "      <td>동래</td>\n",
       "      <td>404</td>\n",
       "    </tr>\n",
       "    <tr>\n",
       "      <th>4</th>\n",
       "      <td>금정</td>\n",
       "      <td>403</td>\n",
       "    </tr>\n",
       "    <tr>\n",
       "      <th>5</th>\n",
       "      <td>북구</td>\n",
       "      <td>403</td>\n",
       "    </tr>\n",
       "    <tr>\n",
       "      <th>6</th>\n",
       "      <td>진구</td>\n",
       "      <td>395</td>\n",
       "    </tr>\n",
       "    <tr>\n",
       "      <th>7</th>\n",
       "      <td>영도</td>\n",
       "      <td>381</td>\n",
       "    </tr>\n",
       "    <tr>\n",
       "      <th>8</th>\n",
       "      <td>연제</td>\n",
       "      <td>377</td>\n",
       "    </tr>\n",
       "    <tr>\n",
       "      <th>9</th>\n",
       "      <td>동구</td>\n",
       "      <td>374</td>\n",
       "    </tr>\n",
       "    <tr>\n",
       "      <th>10</th>\n",
       "      <td>수영</td>\n",
       "      <td>365</td>\n",
       "    </tr>\n",
       "    <tr>\n",
       "      <th>11</th>\n",
       "      <td>강서</td>\n",
       "      <td>352</td>\n",
       "    </tr>\n",
       "    <tr>\n",
       "      <th>12</th>\n",
       "      <td>남구</td>\n",
       "      <td>351</td>\n",
       "    </tr>\n",
       "    <tr>\n",
       "      <th>13</th>\n",
       "      <td>서구</td>\n",
       "      <td>348</td>\n",
       "    </tr>\n",
       "    <tr>\n",
       "      <th>14</th>\n",
       "      <td>기장</td>\n",
       "      <td>344</td>\n",
       "    </tr>\n",
       "    <tr>\n",
       "      <th>15</th>\n",
       "      <td>중구</td>\n",
       "      <td>337</td>\n",
       "    </tr>\n",
       "  </tbody>\n",
       "</table>\n",
       "</div>"
      ],
      "text/plain": [
       "   local  count\n",
       "0     사하    431\n",
       "1     사상    422\n",
       "2    해운대    418\n",
       "3     동래    404\n",
       "4     금정    403\n",
       "5     북구    403\n",
       "6     진구    395\n",
       "7     영도    381\n",
       "8     연제    377\n",
       "9     동구    374\n",
       "10    수영    365\n",
       "11    강서    352\n",
       "12    남구    351\n",
       "13    서구    348\n",
       "14    기장    344\n",
       "15    중구    337"
      ]
     },
     "execution_count": 5,
     "metadata": {},
     "output_type": "execute_result"
    }
   ],
   "source": [
    "# 방법1 구 별로 통합\n",
    "cctv = cctv.apply(lambda x: x.split('-')[0]) #함수를 적용시키려면 apply 사용해야함\n",
    "\n",
    "# 방법2 \n",
    "# local_list =[]\n",
    "# for v in cctv:\n",
    "#     local_list.append(v.split('-')[0])\n",
    "# cctv = pd.Series(local_list)\n",
    "\n",
    "# # 방법3 정규표현식 사용\n",
    "# cctv = cctv.str.extract(r\"(\\D+)-\")[0]\n",
    "cctv = cctv.value_counts()\n",
    "cctv = cctv.reset_index()\n",
    "cctv"
   ]
  },
  {
   "attachments": {
    "e3d35cdc-9af4-49b7-b3ec-34dbea424543.png": {
     "image/png": "[encoded data removed]"
    }
   },
   "cell_type": "markdown",
   "id": "0114c04e-8b2b-4571-b709-a860975ebe65",
   "metadata": {},
   "source": [
    "- 행정동별 연령별 인구현황\n",
    "- https://jumin.mois.go.kr/ageStatMonth.do\n",
    "  <hr>\n",
    "- <img src= \"attachment:e3d35cdc-9af4-49b7-b3ec-34dbea424543.png\" width=400>"
   ]
  },
  {
   "cell_type": "code",
   "execution_count": 6,
   "id": "089862f6-0b6f-47ae-99cc-5859ae07eee6",
   "metadata": {},
   "outputs": [],
   "source": [
    "# !pip install openpyxl"
   ]
  },
  {
   "cell_type": "code",
   "execution_count": 7,
   "id": "2045f207-bbb1-49b3-b3bb-16d0e17365c7",
   "metadata": {},
   "outputs": [
    {
     "name": "stderr",
     "output_type": "stream",
     "text": [
      "/home/pkdata/.local/lib/python3.10/site-packages/openpyxl/styles/stylesheet.py:237: UserWarning: Workbook contains no default style, apply openpyxl's default\n",
      "  warn(\"Workbook contains no default style, apply openpyxl's default\")\n"
     ]
    },
    {
     "data": {
      "text/html": [
       "<div>\n",
       "<style scoped>\n",
       "    .dataframe tbody tr th:only-of-type {\n",
       "        vertical-align: middle;\n",
       "    }\n",
       "\n",
       "    .dataframe tbody tr th {\n",
       "        vertical-align: top;\n",
       "    }\n",
       "\n",
       "    .dataframe thead th {\n",
       "        text-align: right;\n",
       "    }\n",
       "</style>\n",
       "<table border=\"1\" class=\"dataframe\">\n",
       "  <thead>\n",
       "    <tr style=\"text-align: right;\">\n",
       "      <th></th>\n",
       "      <th>행정기관코드</th>\n",
       "      <th>행정기관</th>\n",
       "      <th>총 인구수</th>\n",
       "      <th>연령구간인구수</th>\n",
       "      <th>0~9세</th>\n",
       "      <th>10~19세</th>\n",
       "      <th>20~29세</th>\n",
       "      <th>30~39세</th>\n",
       "      <th>40~49세</th>\n",
       "      <th>50~59세</th>\n",
       "      <th>...</th>\n",
       "      <th>10~19세.2</th>\n",
       "      <th>20~29세.2</th>\n",
       "      <th>30~39세.2</th>\n",
       "      <th>40~49세.2</th>\n",
       "      <th>50~59세.2</th>\n",
       "      <th>60~69세.2</th>\n",
       "      <th>70~79세.2</th>\n",
       "      <th>80~89세.2</th>\n",
       "      <th>90~99세.2</th>\n",
       "      <th>100세 이상.2</th>\n",
       "    </tr>\n",
       "  </thead>\n",
       "  <tbody>\n",
       "    <tr>\n",
       "      <th>0</th>\n",
       "      <td>2600000000</td>\n",
       "      <td>부산광역시</td>\n",
       "      <td>3,306,993</td>\n",
       "      <td>3,306,993</td>\n",
       "      <td>200,627</td>\n",
       "      <td>264,771</td>\n",
       "      <td>386,558</td>\n",
       "      <td>393,792</td>\n",
       "      <td>489,807</td>\n",
       "      <td>539,964</td>\n",
       "      <td>...</td>\n",
       "      <td>128,872</td>\n",
       "      <td>187,837</td>\n",
       "      <td>191,071</td>\n",
       "      <td>242,526</td>\n",
       "      <td>276,337</td>\n",
       "      <td>296,378</td>\n",
       "      <td>172,706</td>\n",
       "      <td>87,000</td>\n",
       "      <td>13,119</td>\n",
       "      <td>384</td>\n",
       "    </tr>\n",
       "    <tr>\n",
       "      <th>1</th>\n",
       "      <td>2611000000</td>\n",
       "      <td>부산광역시 중구</td>\n",
       "      <td>39,311</td>\n",
       "      <td>39,311</td>\n",
       "      <td>931</td>\n",
       "      <td>1,773</td>\n",
       "      <td>5,638</td>\n",
       "      <td>4,310</td>\n",
       "      <td>4,582</td>\n",
       "      <td>6,423</td>\n",
       "      <td>...</td>\n",
       "      <td>914</td>\n",
       "      <td>2,964</td>\n",
       "      <td>2,037</td>\n",
       "      <td>2,096</td>\n",
       "      <td>3,078</td>\n",
       "      <td>4,109</td>\n",
       "      <td>2,877</td>\n",
       "      <td>1,532</td>\n",
       "      <td>251</td>\n",
       "      <td>15</td>\n",
       "    </tr>\n",
       "  </tbody>\n",
       "</table>\n",
       "<p>2 rows × 41 columns</p>\n",
       "</div>"
      ],
      "text/plain": [
       "       행정기관코드       행정기관      총 인구수    연령구간인구수     0~9세   10~19세   20~29세  \\\n",
       "0  2600000000    부산광역시    3,306,993  3,306,993  200,627  264,771  386,558   \n",
       "1  2611000000  부산광역시 중구      39,311     39,311      931    1,773    5,638   \n",
       "\n",
       "    30~39세   40~49세   50~59세  ... 10~19세.2 20~29세.2 30~39세.2 40~49세.2  \\\n",
       "0  393,792  489,807  539,964  ...  128,872  187,837  191,071  242,526   \n",
       "1    4,310    4,582    6,423  ...      914    2,964    2,037    2,096   \n",
       "\n",
       "   50~59세.2 60~69세.2 70~79세.2 80~89세.2 90~99세.2 100세 이상.2  \n",
       "0   276,337  296,378  172,706   87,000   13,119       384  \n",
       "1     3,078    4,109    2,877    1,532      251        15  \n",
       "\n",
       "[2 rows x 41 columns]"
      ]
     },
     "execution_count": 7,
     "metadata": {},
     "output_type": "execute_result"
    }
   ],
   "source": [
    "import pandas as pd\n",
    "file_path2 = \"./ref/연령별인구현황월간202306.xlsx\"\n",
    "ori = pd.read_excel(file_path2,sheet_name=\"연령별인구현황\",skiprows=3)\n",
    "ori.head(2)"
   ]
  },
  {
   "cell_type": "code",
   "execution_count": 8,
   "id": "069e1d0f-71a1-4408-adcf-960d8a942650",
   "metadata": {},
   "outputs": [
    {
     "data": {
      "text/html": [
       "<div>\n",
       "<style scoped>\n",
       "    .dataframe tbody tr th:only-of-type {\n",
       "        vertical-align: middle;\n",
       "    }\n",
       "\n",
       "    .dataframe tbody tr th {\n",
       "        vertical-align: top;\n",
       "    }\n",
       "\n",
       "    .dataframe thead th {\n",
       "        text-align: right;\n",
       "    }\n",
       "</style>\n",
       "<table border=\"1\" class=\"dataframe\">\n",
       "  <thead>\n",
       "    <tr style=\"text-align: right;\">\n",
       "      <th></th>\n",
       "      <th>local</th>\n",
       "      <th>population</th>\n",
       "    </tr>\n",
       "  </thead>\n",
       "  <tbody>\n",
       "    <tr>\n",
       "      <th>0</th>\n",
       "      <td>중구</td>\n",
       "      <td>39,311</td>\n",
       "    </tr>\n",
       "    <tr>\n",
       "      <th>1</th>\n",
       "      <td>서구</td>\n",
       "      <td>104,449</td>\n",
       "    </tr>\n",
       "    <tr>\n",
       "      <th>2</th>\n",
       "      <td>동구</td>\n",
       "      <td>86,809</td>\n",
       "    </tr>\n",
       "    <tr>\n",
       "      <th>3</th>\n",
       "      <td>영도구</td>\n",
       "      <td>107,006</td>\n",
       "    </tr>\n",
       "    <tr>\n",
       "      <th>4</th>\n",
       "      <td>부산진구</td>\n",
       "      <td>357,475</td>\n",
       "    </tr>\n",
       "    <tr>\n",
       "      <th>5</th>\n",
       "      <td>동래구</td>\n",
       "      <td>272,590</td>\n",
       "    </tr>\n",
       "    <tr>\n",
       "      <th>6</th>\n",
       "      <td>남구</td>\n",
       "      <td>255,786</td>\n",
       "    </tr>\n",
       "    <tr>\n",
       "      <th>7</th>\n",
       "      <td>북구</td>\n",
       "      <td>276,684</td>\n",
       "    </tr>\n",
       "    <tr>\n",
       "      <th>8</th>\n",
       "      <td>해운대구</td>\n",
       "      <td>383,355</td>\n",
       "    </tr>\n",
       "    <tr>\n",
       "      <th>9</th>\n",
       "      <td>사하구</td>\n",
       "      <td>300,922</td>\n",
       "    </tr>\n",
       "    <tr>\n",
       "      <th>10</th>\n",
       "      <td>금정구</td>\n",
       "      <td>218,711</td>\n",
       "    </tr>\n",
       "    <tr>\n",
       "      <th>11</th>\n",
       "      <td>강서구</td>\n",
       "      <td>143,052</td>\n",
       "    </tr>\n",
       "    <tr>\n",
       "      <th>12</th>\n",
       "      <td>연제구</td>\n",
       "      <td>202,919</td>\n",
       "    </tr>\n",
       "    <tr>\n",
       "      <th>13</th>\n",
       "      <td>수영구</td>\n",
       "      <td>175,511</td>\n",
       "    </tr>\n",
       "    <tr>\n",
       "      <th>14</th>\n",
       "      <td>사상구</td>\n",
       "      <td>203,029</td>\n",
       "    </tr>\n",
       "    <tr>\n",
       "      <th>15</th>\n",
       "      <td>기장군</td>\n",
       "      <td>179,384</td>\n",
       "    </tr>\n",
       "  </tbody>\n",
       "</table>\n",
       "</div>"
      ],
      "text/plain": [
       "   local population\n",
       "0     중구     39,311\n",
       "1     서구    104,449\n",
       "2     동구     86,809\n",
       "3    영도구    107,006\n",
       "4   부산진구    357,475\n",
       "5    동래구    272,590\n",
       "6     남구    255,786\n",
       "7     북구    276,684\n",
       "8   해운대구    383,355\n",
       "9    사하구    300,922\n",
       "10   금정구    218,711\n",
       "11   강서구    143,052\n",
       "12   연제구    202,919\n",
       "13   수영구    175,511\n",
       "14   사상구    203,029\n",
       "15   기장군    179,384"
      ]
     },
     "execution_count": 8,
     "metadata": {},
     "output_type": "execute_result"
    }
   ],
   "source": [
    "data = ori[['행정기관','총 인구수']]\n",
    "data.columns = ['local','population']\n",
    "data = data.loc[1:]\n",
    "# data.replace(\"부산광역시 \",\"\")\n",
    "\n",
    "# data['local'] = data['local'].apply(lambda x: x.split(\" \")[1])\n",
    "data['local'] = data['local'].apply(lambda x: x.replace(\"부산광역시 \",\"\").strip())\n",
    "data = data.reset_index(drop=True) #drop=True 기존인덱스를 삭제하고 새롭게 부여\n",
    "data"
   ]
  },
  {
   "cell_type": "code",
   "execution_count": 9,
   "id": "9a4025b3-3ce0-4d9f-a455-549056cdc30c",
   "metadata": {},
   "outputs": [],
   "source": [
    "# cctv = cctv.sort_values(by=\"local\", ascending = True)\n",
    "# data = data.sort_values(by=\"local\", ascending = True)\n",
    "# 방법1\n",
    "# total = pd.concat([cctv,data],axis = 1)\n",
    "# total.columns = ['local','count','localx','population']\n",
    "# total = total.drop(columns=['localx'])\n",
    "\n",
    "\n",
    "\n",
    "# 방법2\n",
    "# total = total.drop(total.columns[2], axis=1) #이름이 같을경우 인덱스가 사용안됨.\n"
   ]
  },
  {
   "cell_type": "code",
   "execution_count": 10,
   "id": "8d4d4d32-ff44-429a-9b40-6a65157625b9",
   "metadata": {},
   "outputs": [],
   "source": [
    "data['local'] = data['local'].apply(lambda x : x.replace(\"구\",\"\").replace(\"군\",\"\").replace('부산진',\"진구\").strip() if len(x.strip())>2 else x)"
   ]
  },
  {
   "cell_type": "code",
   "execution_count": 11,
   "id": "ef1e10da-7c56-49f7-b9f2-366d0c8738aa",
   "metadata": {},
   "outputs": [
    {
     "data": {
      "text/html": [
       "<div>\n",
       "<style scoped>\n",
       "    .dataframe tbody tr th:only-of-type {\n",
       "        vertical-align: middle;\n",
       "    }\n",
       "\n",
       "    .dataframe tbody tr th {\n",
       "        vertical-align: top;\n",
       "    }\n",
       "\n",
       "    .dataframe thead th {\n",
       "        text-align: right;\n",
       "    }\n",
       "</style>\n",
       "<table border=\"1\" class=\"dataframe\">\n",
       "  <thead>\n",
       "    <tr style=\"text-align: right;\">\n",
       "      <th></th>\n",
       "      <th>local</th>\n",
       "      <th>count</th>\n",
       "      <th>population</th>\n",
       "    </tr>\n",
       "  </thead>\n",
       "  <tbody>\n",
       "    <tr>\n",
       "      <th>2</th>\n",
       "      <td>해운대</td>\n",
       "      <td>418</td>\n",
       "      <td>383355</td>\n",
       "    </tr>\n",
       "    <tr>\n",
       "      <th>6</th>\n",
       "      <td>진구</td>\n",
       "      <td>395</td>\n",
       "      <td>357475</td>\n",
       "    </tr>\n",
       "    <tr>\n",
       "      <th>0</th>\n",
       "      <td>사하</td>\n",
       "      <td>431</td>\n",
       "      <td>300922</td>\n",
       "    </tr>\n",
       "    <tr>\n",
       "      <th>5</th>\n",
       "      <td>북구</td>\n",
       "      <td>403</td>\n",
       "      <td>276684</td>\n",
       "    </tr>\n",
       "    <tr>\n",
       "      <th>3</th>\n",
       "      <td>동래</td>\n",
       "      <td>404</td>\n",
       "      <td>272590</td>\n",
       "    </tr>\n",
       "    <tr>\n",
       "      <th>12</th>\n",
       "      <td>남구</td>\n",
       "      <td>351</td>\n",
       "      <td>255786</td>\n",
       "    </tr>\n",
       "    <tr>\n",
       "      <th>4</th>\n",
       "      <td>금정</td>\n",
       "      <td>403</td>\n",
       "      <td>218711</td>\n",
       "    </tr>\n",
       "    <tr>\n",
       "      <th>1</th>\n",
       "      <td>사상</td>\n",
       "      <td>422</td>\n",
       "      <td>203029</td>\n",
       "    </tr>\n",
       "    <tr>\n",
       "      <th>8</th>\n",
       "      <td>연제</td>\n",
       "      <td>377</td>\n",
       "      <td>202919</td>\n",
       "    </tr>\n",
       "    <tr>\n",
       "      <th>14</th>\n",
       "      <td>기장</td>\n",
       "      <td>344</td>\n",
       "      <td>179384</td>\n",
       "    </tr>\n",
       "    <tr>\n",
       "      <th>10</th>\n",
       "      <td>수영</td>\n",
       "      <td>365</td>\n",
       "      <td>175511</td>\n",
       "    </tr>\n",
       "    <tr>\n",
       "      <th>11</th>\n",
       "      <td>강서</td>\n",
       "      <td>352</td>\n",
       "      <td>143052</td>\n",
       "    </tr>\n",
       "    <tr>\n",
       "      <th>7</th>\n",
       "      <td>영도</td>\n",
       "      <td>381</td>\n",
       "      <td>107006</td>\n",
       "    </tr>\n",
       "    <tr>\n",
       "      <th>13</th>\n",
       "      <td>서구</td>\n",
       "      <td>348</td>\n",
       "      <td>104449</td>\n",
       "    </tr>\n",
       "    <tr>\n",
       "      <th>9</th>\n",
       "      <td>동구</td>\n",
       "      <td>374</td>\n",
       "      <td>86809</td>\n",
       "    </tr>\n",
       "    <tr>\n",
       "      <th>15</th>\n",
       "      <td>중구</td>\n",
       "      <td>337</td>\n",
       "      <td>39311</td>\n",
       "    </tr>\n",
       "  </tbody>\n",
       "</table>\n",
       "</div>"
      ],
      "text/plain": [
       "   local  count  population\n",
       "2    해운대    418      383355\n",
       "6     진구    395      357475\n",
       "0     사하    431      300922\n",
       "5     북구    403      276684\n",
       "3     동래    404      272590\n",
       "12    남구    351      255786\n",
       "4     금정    403      218711\n",
       "1     사상    422      203029\n",
       "8     연제    377      202919\n",
       "14    기장    344      179384\n",
       "10    수영    365      175511\n",
       "11    강서    352      143052\n",
       "7     영도    381      107006\n",
       "13    서구    348      104449\n",
       "9     동구    374       86809\n",
       "15    중구    337       39311"
      ]
     },
     "execution_count": 11,
     "metadata": {},
     "output_type": "execute_result"
    }
   ],
   "source": [
    "total = pd.merge(cctv,data, on='local')\n",
    "total['population'] = total['population'].str.replace(\",\",\"\").astype(int)\n",
    "total = total.sort_values(by='population',ascending=False)\n",
    "# total = total.set_index('local') #중요함\n",
    "total"
   ]
  },
  {
   "cell_type": "code",
   "execution_count": 12,
   "id": "865392c0-85aa-4406-92e9-c5eab0f9d5d6",
   "metadata": {},
   "outputs": [
    {
     "name": "stdout",
     "output_type": "stream",
     "text": [
      "Hit:1 http://security.ubuntu.com/ubuntu jammy-security InRelease\n",
      "Hit:2 http://archive.ubuntu.com/ubuntu jammy InRelease\n",
      "Hit:3 http://archive.ubuntu.com/ubuntu jammy-updates InRelease\n",
      "Hit:4 http://archive.ubuntu.com/ubuntu jammy-backports InRelease\n",
      "Reading package lists... Done\n"
     ]
    }
   ],
   "source": [
    "!echo 1234 | sudo -S apt-get update"
   ]
  },
  {
   "cell_type": "code",
   "execution_count": 13,
   "id": "d8d12a89-f455-414e-b43b-cfc55eda07c0",
   "metadata": {},
   "outputs": [
    {
     "name": "stdout",
     "output_type": "stream",
     "text": [
      "Reading package lists... Done\n",
      "Building dependency tree... Done\n",
      "Reading state information... Done\n",
      "fonts-nanum is already the newest version (20200506-1).\n",
      "0 upgraded, 0 newly installed, 0 to remove and 5 not upgraded.\n"
     ]
    }
   ],
   "source": [
    "!echo 1234 | sudo -S apt-get install -y fonts-nanum"
   ]
  },
  {
   "cell_type": "code",
   "execution_count": 14,
   "id": "ab0a00f7-a99a-4230-9165-53473f229d10",
   "metadata": {},
   "outputs": [
    {
     "name": "stdout",
     "output_type": "stream",
     "text": [
      "[sudo] password for pkdata: /usr/share/fonts: caching, new cache contents: 0 fonts, 1 dirs\n",
      "/usr/share/fonts/truetype: caching, new cache contents: 0 fonts, 2 dirs\n",
      "/usr/share/fonts/truetype/dejavu: caching, new cache contents: 22 fonts, 0 dirs\n",
      "/usr/share/fonts/truetype/nanum: caching, new cache contents: 12 fonts, 0 dirs\n",
      "/usr/local/share/fonts: caching, new cache contents: 0 fonts, 0 dirs\n",
      "/root/.local/share/fonts: skipping, no such directory\n",
      "/root/.fonts: skipping, no such directory\n",
      "/usr/share/fonts/truetype: skipping, looped directory detected\n",
      "/usr/share/fonts/truetype/dejavu: skipping, looped directory detected\n",
      "/usr/share/fonts/truetype/nanum: skipping, looped directory detected\n",
      "/var/cache/fontconfig: cleaning cache directory\n",
      "/root/.cache/fontconfig: not cleaning non-existent cache directory\n",
      "/root/.fontconfig: not cleaning non-existent cache directory\n",
      "fc-cache: succeeded\n"
     ]
    }
   ],
   "source": [
    "!echo 1234 | sudo -S fc-cache -fv"
   ]
  },
  {
   "cell_type": "code",
   "execution_count": 15,
   "id": "af8a2e72-9c4c-4d25-8031-7cb9a40a7888",
   "metadata": {},
   "outputs": [],
   "source": [
    "!rm ~/.cache/matplotlib -rf"
   ]
  },
  {
   "cell_type": "code",
   "execution_count": 16,
   "id": "71ee51e6-21cc-44e5-972f-f845fa2e58e4",
   "metadata": {},
   "outputs": [
    {
     "data": {
      "text/plain": [
       "Text(0.2, 0.3, '한글')"
      ]
     },
     "execution_count": 16,
     "metadata": {},
     "output_type": "execute_result"
    },
    {
     "data": {
      "image/png": "[encoded data removed]",
      "text/plain": [
       "<Figure size 640x480 with 1 Axes>"
      ]
     },
     "metadata": {},
     "output_type": "display_data"
    }
   ],
   "source": [
    "import matplotlib\n",
    "import matplotlib.pyplot as plt\n",
    "from matplotlib import rc\n",
    "import matplotlib.font_manager as fm\n",
    "\n",
    "#리눅스용 폰트 경로 설정\n",
    "plt.rc('font',family=\"NanumBarunGothic\")\n",
    "plt.text(0.2,0.3,'한글',size=100)"
   ]
  },
  {
   "cell_type": "code",
   "execution_count": 17,
   "id": "ae8131b4-89ec-48fe-866d-02864533446d",
   "metadata": {},
   "outputs": [
    {
     "data": {
      "image/png": "[encoded data removed]",
      "text/plain": [
       "<Figure size 700x700 with 1 Axes>"
      ]
     },
     "metadata": {},
     "output_type": "display_data"
    }
   ],
   "source": [
    "# plt.figure()\n",
    "total['count'].sort_values().plot(y=total['local'], kind='barh', grid =True, figsize=(7,7), ylabel='구')\n",
    "\n",
    "\n",
    "plt.title('부산시 지역구별 CCTV 설치 데이터')\n",
    "plt.xlabel('CCTV 설치대 수')\n",
    "\n",
    "plt.show()"
   ]
  },
  {
   "cell_type": "code",
   "execution_count": 18,
   "id": "a3ebdc85-3719-4f37-aadd-cd568d3f9ad1",
   "metadata": {},
   "outputs": [
    {
     "data": {
      "image/png": "[encoded data removed]",
      "text/plain": [
       "<Figure size 1400x800 with 2 Axes>"
      ]
     },
     "metadata": {},
     "output_type": "display_data"
    }
   ],
   "source": [
    "import numpy as np\n",
    "fp1 = np.polyfit(total['population'],total['count'],1)\n",
    "f1 = np.poly1d(fp1)\n",
    "fx = np.linspace(40000,400000,10)\n",
    "\n",
    "# 오차\n",
    "total['err'] = np.abs(total['count'] - f1(total['population']))\n",
    "\n",
    "\n",
    "plt.figure(figsize=(14,8))\n",
    "plt.plot(fx,f1(fx), ls='dashed', lw=3, color='g')\n",
    "plt.scatter(total['population'], total['count'],s=30, c=total['err'])\n",
    "\n",
    "plt.xlabel('population')\n",
    "plt.ylabel('CCTV')\n",
    "\n",
    "\n",
    "\n",
    "\n",
    "#  for i in range(len(total['local'])):\n",
    "#     plt.text(total['population'][i], total['count'][i], total['local'][i], size=10)\n",
    "for i in range(len(total['local'])):\n",
    "    plt.text(total.iloc[i,2]*1.01, total.iloc[i,1]*0.998, total.iloc[i,0], size=15)\n",
    "    \n",
    "plt.grid() #격자무늬\n",
    "plt.colorbar()\n",
    "plt.show()"
   ]
  },
  {
   "cell_type": "code",
   "execution_count": null,
   "id": "a278dad6-dd54-4cfe-8e75-74264327d826",
   "metadata": {},
   "outputs": [],
   "source": []
  }
 ],
 "metadata": {
  "kernelspec": {
   "display_name": "Python 3 (ipykernel)",
   "language": "python",
   "name": "python3"
  },
  "language_info": {
   "codemirror_mode": {
    "name": "ipython",
    "version": 3
   },
   "file_extension": ".py",
   "mimetype": "text/x-python",
   "name": "python",
   "nbconvert_exporter": "python",
   "pygments_lexer": "ipython3",
   "version": "3.10.12"
  }
 },
 "nbformat": 4,
 "nbformat_minor": 5
}
