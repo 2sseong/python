{
 "cells": [
  {
   "cell_type": "code",
   "execution_count": 2,
   "id": "f1e0a990-ef38-45da-af36-6f77dfdbc7bc",
   "metadata": {},
   "outputs": [],
   "source": [
    "# !pip install pymongo"
   ]
  },
  {
   "cell_type": "code",
   "execution_count": 1,
   "id": "8250bca2-c390-4b3f-8796-6766e26808ad",
   "metadata": {},
   "outputs": [
    {
     "name": "stdout",
     "output_type": "stream",
     "text": [
      "{'ok': 1.0}\n",
      "MongoDB 서버에 성공적으로 연결되었습니다\n"
     ]
    }
   ],
   "source": [
    "from pymongo import MongoClient\n",
    "client = MongoClient(\"mongodb://mongodb:27017\")\n",
    "\n",
    "try:\n",
    "    print(client.admin.command('ping'))\n",
    "    print(\"MongoDB 서버에 성공적으로 연결되었습니다\")\n",
    "except Exception as e:\n",
    "    print(\"MongoDB 서버 연결 실패:\",e)\n",
    "    "
   ]
  },
  {
   "cell_type": "code",
   "execution_count": 2,
   "id": "d781df86-01da-4e00-aaed-c567c0c3fbaf",
   "metadata": {},
   "outputs": [
    {
     "name": "stdout",
     "output_type": "stream",
     "text": [
      "사용할 데이터베이스 선택됨\n",
      "사용할 컬렉션 선택됨\n"
     ]
    }
   ],
   "source": [
    "# 사용할 데이터베이스 선택\n",
    "db = client[\"mdb\"]\n",
    "print(\"사용할 데이터베이스 선택됨\")\n",
    "\n",
    "# 사용할 컬렉션 선택\n",
    "collection = db[\"c1\"]\n",
    "print(\"사용할 컬렉션 선택됨\")"
   ]
  },
  {
   "cell_type": "code",
   "execution_count": 3,
   "id": "3f8f1ff6-b987-4e21-a811-ec071846b4b3",
   "metadata": {},
   "outputs": [
    {
     "name": "stdout",
     "output_type": "stream",
     "text": [
      "Inserted ID: 67f70d3a03b8e41bcf3564f4\n"
     ]
    }
   ],
   "source": [
    "# 단일 문서 삽입\n",
    "user = {\"name\":\"Alice\",\"age\":25,\"city\":\"Seoul\"}\n",
    "insert_result = collection.insert_one(user)\n",
    "print(\"Inserted ID:\",insert_result.inserted_id)"
   ]
  },
  {
   "cell_type": "code",
   "execution_count": 4,
   "id": "88e8719d-fc46-4eee-9bef-8049ea02df6a",
   "metadata": {},
   "outputs": [
    {
     "name": "stdout",
     "output_type": "stream",
     "text": [
      "Inserted IDs: InsertManyResult([ObjectId('67f70d3d03b8e41bcf3564f5'), ObjectId('67f70d3d03b8e41bcf3564f6'), ObjectId('67f70d3d03b8e41bcf3564f7')], acknowledged=True)\n"
     ]
    }
   ],
   "source": [
    "# 여러개 문서 삽입\n",
    "user = [\n",
    "    {\"name\":\"Bob\",\"age\":30,\"city\":\"Busan\"},\n",
    "    {\"name\":\"Char\",\"age\":35,\"city\":\"Incheon\"},\n",
    "    {\"name\":\"Apple\",\"age\":15,\"city\":\"Daegu\"}\n",
    "]\n",
    "insert_results = collection.insert_many(user)\n",
    "print(\"Inserted IDs:\",insert_results)"
   ]
  },
  {
   "cell_type": "code",
   "execution_count": 42,
   "id": "dbf18996-4044-4143-96bb-a6ef4d56e29e",
   "metadata": {},
   "outputs": [
    {
     "name": "stdout",
     "output_type": "stream",
     "text": [
      "{'name': 'superman', 'etc': '힘쌤', 'etc1': 'test'}\n",
      "{'name': 'cutegirl', 'age': 20, 'gender': 'female', 'etc1': 'test'}\n",
      "{'name': 'Bob', 'age': 30, 'city': 'Busan'}\n",
      "{'name': 'Char', 'age': 35, 'city': 'Incheon'}\n",
      "{'name': 'Bob', 'age': 30, 'city': 'Busan'}\n",
      "{'name': 'Char', 'age': 35, 'city': 'Incheon'}\n"
     ]
    }
   ],
   "source": [
    "# 여러개의 문서 조회\n",
    "users = collection.find({},{\"_id\":0})\n",
    "for u in users:\n",
    "    print(u)"
   ]
  },
  {
   "cell_type": "code",
   "execution_count": 45,
   "id": "894b1c37-d20e-4754-96ac-492acc8ef7c1",
   "metadata": {},
   "outputs": [
    {
     "name": "stdout",
     "output_type": "stream",
     "text": [
      "None\n"
     ]
    }
   ],
   "source": [
    "# 단일 문서 조회\n",
    "user = collection.find_one({\"name\":\"Apple\"})\n",
    "print(user)"
   ]
  },
  {
   "cell_type": "code",
   "execution_count": 44,
   "id": "e6fc0e53-772c-4521-bee5-ae0c7d882248",
   "metadata": {},
   "outputs": [
    {
     "name": "stdout",
     "output_type": "stream",
     "text": [
      "{'name': 'Bob', 'age': 30, 'city': 'Busan'}\n",
      "{'name': 'Char', 'age': 35, 'city': 'Incheon'}\n",
      "{'name': 'Bob', 'age': 30, 'city': 'Busan'}\n",
      "{'name': 'Char', 'age': 35, 'city': 'Incheon'}\n"
     ]
    }
   ],
   "source": [
    "# 특정 조건을 만족하는 문서 조회\n",
    "filters = {\"age\":{\"$gt\":20}} # 나이가 2보다 큰 문서 찾기\n",
    "filtered = collection.find(filters,{\"_id\":0})\n",
    "for f in filtered:\n",
    "    print(f)"
   ]
  },
  {
   "cell_type": "code",
   "execution_count": 28,
   "id": "eba9e1d6-13a3-45f5-b0ef-17ee9affbf48",
   "metadata": {},
   "outputs": [
    {
     "name": "stdout",
     "output_type": "stream",
     "text": [
      "수정됨: UpdateResult({'n': 1, 'nModified': 1, 'ok': 1.0, 'updatedExisting': True}, acknowledged=True)\n"
     ]
    }
   ],
   "source": [
    "# 특정 문서 한 개 수정\n",
    "update = collection.update_one({\"name\":\"Alice\"},{\"$set\":{\"age\":26}})\n",
    "print(\"수정됨:\",update)"
   ]
  },
  {
   "cell_type": "code",
   "execution_count": 31,
   "id": "dd6c8e29-b7ed-4b9f-815c-73dfa86d1868",
   "metadata": {},
   "outputs": [
    {
     "name": "stdout",
     "output_type": "stream",
     "text": [
      "수정됨s: UpdateResult({'n': 4, 'nModified': 4, 'ok': 1.0, 'updatedExisting': True}, acknowledged=True)\n"
     ]
    }
   ],
   "source": [
    "# 특정 문서 여러개 수정 \n",
    "updates = collection.update_many({\"name\":{\"$regex\":\"^A\"}},{\"$inc\":{\"age\":5}})  # A로 시작하는 이름을 5살 증가시켜라\n",
    "print(\"수정됨s:\",updates)"
   ]
  },
  {
   "cell_type": "code",
   "execution_count": 38,
   "id": "1c934338-c0ea-4e1f-a8b0-8e202f106351",
   "metadata": {},
   "outputs": [
    {
     "name": "stdout",
     "output_type": "stream",
     "text": [
      "DeleteResult({'n': 1, 'ok': 1.0}, acknowledged=True)\n"
     ]
    }
   ],
   "source": [
    "# 특정 문서 한개 삭제\n",
    "delete = collection.delete_one({\"etc\":\"잘생김\"})\n",
    "print(delete)"
   ]
  },
  {
   "cell_type": "code",
   "execution_count": 39,
   "id": "44111818-16ae-48b4-8581-43e5c4075217",
   "metadata": {},
   "outputs": [
    {
     "name": "stdout",
     "output_type": "stream",
     "text": [
      "DeleteResult({'n': 5, 'ok': 1.0}, acknowledged=True)\n"
     ]
    }
   ],
   "source": [
    "# 특정 문서 여러개 삭제\n",
    "deletes = collection.delete_many({\"name\":{\"$regex\":\"e$\"}})  # 정규식으로 e로 끝나는 이름을 모두 삭제\n",
    "print(deletes)"
   ]
  },
  {
   "cell_type": "code",
   "execution_count": 50,
   "id": "c14db1b8-0ce8-4818-914c-dd21667998fc",
   "metadata": {},
   "outputs": [],
   "source": [
    "import json\n",
    "\n",
    "with open('./photos.json') as f:\n",
    "    data = json.load(f)"
   ]
  },
  {
   "cell_type": "code",
   "execution_count": 51,
   "id": "ab8e7cc0-dd98-4837-afb5-863ff5a09a7b",
   "metadata": {},
   "outputs": [
    {
     "name": "stdout",
     "output_type": "stream",
     "text": [
      "사용할 데이터베이스 선택됨\n",
      "사용할 컬렉션 선택됨\n"
     ]
    }
   ],
   "source": [
    "# 사용할 데이터베이스 선택\n",
    "db = client[\"jdb\"]\n",
    "print(\"사용할 데이터베이스 선택됨\")\n",
    "\n",
    "# 사용할 컬렉션 선택\n",
    "collection2 = db[\"j1\"]\n",
    "print(\"사용할 컬렉션 선택됨\")"
   ]
  },
  {
   "cell_type": "code",
   "execution_count": 52,
   "id": "69748523-04f1-4578-9578-9db94a967631",
   "metadata": {},
   "outputs": [
    {
     "name": "stdout",
     "output_type": "stream",
     "text": [
      "로드완료\n"
     ]
    }
   ],
   "source": [
    "collection2.insert_many(data)\n",
    "print(\"로드완료\")"
   ]
  },
  {
   "cell_type": "code",
   "execution_count": 71,
   "id": "0fa6db28-0716-4fae-a117-dc5c8716ade4",
   "metadata": {},
   "outputs": [
    {
     "name": "stdout",
     "output_type": "stream",
     "text": [
      "https://via.placeholder.com/600/92c952\n",
      "https://via.placeholder.com/600/771796\n",
      "https://via.placeholder.com/600/24f355\n",
      "https://via.placeholder.com/600/d32776\n",
      "https://via.placeholder.com/600/f66b97\n",
      "https://via.placeholder.com/600/56a8c2\n",
      "https://via.placeholder.com/600/b0f7cc\n",
      "https://via.placeholder.com/600/54176f\n",
      "https://via.placeholder.com/600/51aa97\n",
      "https://via.placeholder.com/600/810b14\n",
      "https://via.placeholder.com/600/92c952\n",
      "https://via.placeholder.com/600/771796\n",
      "https://via.placeholder.com/600/24f355\n",
      "https://via.placeholder.com/600/d32776\n",
      "https://via.placeholder.com/600/f66b97\n",
      "https://via.placeholder.com/600/56a8c2\n",
      "https://via.placeholder.com/600/b0f7cc\n",
      "https://via.placeholder.com/600/54176f\n",
      "https://via.placeholder.com/600/51aa97\n",
      "https://via.placeholder.com/600/810b14\n"
     ]
    }
   ],
   "source": [
    "# id가 10 이하인 문서의 url만을 출력하여라\n",
    "filters = {\"id\":{\"$lte\":10}}\n",
    "filtered = collection2.find(filters,{\"_id\":0})\n",
    "for f in filtered:\n",
    "    print(f[\"url\"])"
   ]
  },
  {
   "cell_type": "code",
   "execution_count": 72,
   "id": "445f6baa-76c1-4a1d-aeef-f4851f4f75b6",
   "metadata": {},
   "outputs": [
    {
     "name": "stdout",
     "output_type": "stream",
     "text": [
      "https://via.placeholder.com/600/92c952\n",
      "https://via.placeholder.com/600/771796\n",
      "https://via.placeholder.com/600/24f355\n",
      "https://via.placeholder.com/600/d32776\n",
      "https://via.placeholder.com/600/f66b97\n",
      "https://via.placeholder.com/600/56a8c2\n",
      "https://via.placeholder.com/600/b0f7cc\n",
      "https://via.placeholder.com/600/54176f\n",
      "https://via.placeholder.com/600/51aa97\n",
      "https://via.placeholder.com/600/810b14\n",
      "https://via.placeholder.com/600/92c952\n",
      "https://via.placeholder.com/600/771796\n",
      "https://via.placeholder.com/600/24f355\n",
      "https://via.placeholder.com/600/d32776\n",
      "https://via.placeholder.com/600/f66b97\n",
      "https://via.placeholder.com/600/56a8c2\n",
      "https://via.placeholder.com/600/b0f7cc\n",
      "https://via.placeholder.com/600/54176f\n",
      "https://via.placeholder.com/600/51aa97\n",
      "https://via.placeholder.com/600/810b14\n"
     ]
    }
   ],
   "source": [
    "out = collection2.find({'id':{'$lte':10}})\n",
    "for o in out:\n",
    "    print(o[\"url\"])"
   ]
  },
  {
   "cell_type": "code",
   "execution_count": null,
   "id": "ab4c34c4-6772-4549-ae31-8ea59120b859",
   "metadata": {},
   "outputs": [],
   "source": []
  }
 ],
 "metadata": {
  "kernelspec": {
   "display_name": "Python 3 (ipykernel)",
   "language": "python",
   "name": "python3"
  },
  "language_info": {
   "codemirror_mode": {
    "name": "ipython",
    "version": 3
   },
   "file_extension": ".py",
   "mimetype": "text/x-python",
   "name": "python",
   "nbconvert_exporter": "python",
   "pygments_lexer": "ipython3",
   "version": "3.10.12"
  }
 },
 "nbformat": 4,
 "nbformat_minor": 5
}
