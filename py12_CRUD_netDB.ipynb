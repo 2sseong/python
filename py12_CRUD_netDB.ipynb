{
 "cells": [
  {
   "cell_type": "code",
   "execution_count": 5,
   "id": "3efbc338-8ff1-4962-9b1a-a72e6ecc6d6a",
   "metadata": {},
   "outputs": [
    {
     "name": "stdout",
     "output_type": "stream",
     "text": [
      "MySQL 서버1에 성공적으로 연결되었습니다.\n",
      "MySQL 서버2에 성공적으로 연결되었습니다.\n",
      "연결중....\n"
     ]
    }
   ],
   "source": [
    "import mysql.connector\n",
    "try:\n",
    "    conn1 = mysql.connector.connect(\n",
    "        host=\"127.0.0.1\", # MySQL 서버 주소\n",
    "        user=\"root\",\n",
    "        password=\"1234\"\n",
    "    )\n",
    "    conn2 = mysql.connector.connect(\n",
    "        host=\"210.119.14.63\", # MySQL 서버2 주소\n",
    "        user=\"root\",\n",
    "        password=\"1234\"\n",
    "    )\n",
    "    \n",
    "    if conn1.is_connected():\n",
    "        print(\"MySQL 서버1에 성공적으로 연결되었습니다.\")\n",
    "    if conn2.is_connected():\n",
    "        print(\"MySQL 서버2에 성공적으로 연결되었습니다.\")\n",
    "        \n",
    "except Exception as e:\n",
    "    print(\"MySQL 연결 실패:\",e)\n",
    "finally:\n",
    "    if all([conn1.is_connected(),conn2.is_connected()]):\n",
    "        print(\"연결중....\")"
   ]
  },
  {
   "cell_type": "code",
   "execution_count": 6,
   "id": "6db61e8a-9e61-49c7-98e0-c47d54ad801e",
   "metadata": {},
   "outputs": [],
   "source": [
    "# 커서 생성\n",
    "cursor1 = conn1.cursor()\n",
    "que = \"CREATE DATABASE IF NOT EXISTS lshdb\"\n",
    "cursor1.execute(que)\n",
    "conn1.close()\n",
    "\n",
    "cursor2 = conn2.cursor()\n",
    "que = \"CREATE DATABASE IF NOT EXISTS jhsdb\"\n",
    "cursor2.execute(que)\n",
    "conn2.close()"
   ]
  },
  {
   "cell_type": "code",
   "execution_count": 38,
   "id": "1c43c94f-1cca-4387-8ae8-2d8b97603ffa",
   "metadata": {},
   "outputs": [
    {
     "name": "stdout",
     "output_type": "stream",
     "text": [
      "MySQL 연결성공!\n"
     ]
    }
   ],
   "source": [
    "# MySQL에 연결\n",
    "conn1 = mysql.connector.connect(\n",
    "        host=\"mysql\", # MySQL 서버 주소\n",
    "        user=\"root\",\n",
    "        password=\"1234\",\n",
    "        database=\"lshdb\" #사용할 데이터 베이스\n",
    "    )\n",
    "\n",
    "conn2 = mysql.connector.connect(\n",
    "        host=\"210.119.14.63\", # MySQL 서버 주소\n",
    "        user=\"root\",\n",
    "        password=\"1234\",\n",
    "        database=\"jhsdb\" #사용할 데이터 베이스\n",
    "    )\n",
    "cursor1 = conn1.cursor()\n",
    "cursor2 = conn2.cursor()\n",
    "print(\"MySQL 연결성공!\")"
   ]
  },
  {
   "cell_type": "code",
   "execution_count": 39,
   "id": "a492dfea-849b-4819-bb65-ef15bbbdb62c",
   "metadata": {},
   "outputs": [
    {
     "name": "stdout",
     "output_type": "stream",
     "text": [
      "테이블 생성완료\n"
     ]
    }
   ],
   "source": [
    "# 테이블 생성\n",
    "query = \"CREATE TABLE IF NOT EXISTS users(id INT AUTO_INCREMENT PRIMARY KEY, name VARCHAR(100), age INT, city VARCHAR(50))\"\n",
    "cursor1.execute(query)\n",
    "cursor2.execute(query)\n",
    "print(\"테이블 생성완료\")"
   ]
  },
  {
   "cell_type": "code",
   "execution_count": 40,
   "id": "8122b6bb-3381-420f-b1d6-cc3464215a74",
   "metadata": {},
   "outputs": [
    {
     "name": "stdout",
     "output_type": "stream",
     "text": [
      "여러개의 데이터를 두 대의 DB에 삽입 완료\n"
     ]
    }
   ],
   "source": [
    "#여러개의 데이터 삽입\n",
    "sql = \"INSERT INTO users(name, age, city) VALUES (%s, %s, %s)\" \n",
    "m_values = [(\"이성훈\",33,\"Busan\"),(\"성훈\",17,\"Incheon\"),(\"추성훈\",22,\"Japan\")]\n",
    "cursor1.executemany(sql,m_values)\n",
    "cursor2.executemany(sql,m_values)\n",
    "conn1.commit()\n",
    "conn2.commit()\n",
    "print(\"여러개의 데이터를 두 대의 DB에 삽입 완료\")"
   ]
  },
  {
   "cell_type": "code",
   "execution_count": 1,
   "id": "6280d8b8-2e54-4065-9a17-5169df6d4b8f",
   "metadata": {},
   "outputs": [],
   "source": [
    "#강사님 DB 연동"
   ]
  },
  {
   "cell_type": "code",
   "execution_count": 3,
   "id": "d77465c2-21a0-4aa8-beea-9c0798777fab",
   "metadata": {},
   "outputs": [
    {
     "name": "stdout",
     "output_type": "stream",
     "text": [
      "MySQL 서버1에 성공적으로 연결되었습니다.\n",
      "MySQL 서버2에 성공적으로 연결되었습니다.\n",
      "연결중....\n"
     ]
    }
   ],
   "source": [
    "import mysql.connector\n",
    "try:\n",
    "    conn1 = mysql.connector.connect(\n",
    "        host=\"mysql\", # MySQL 서버 주소\n",
    "        user=\"root\",\n",
    "        password=\"1234\"\n",
    "    )\n",
    "    conn2 = mysql.connector.connect(\n",
    "        host=\"210.119.14.56\", # MySQL 서버2 주소\n",
    "        user=\"root\",\n",
    "        password=\"1234\"\n",
    "    )\n",
    "    \n",
    "    if conn1.is_connected():\n",
    "        print(\"MySQL 서버1에 성공적으로 연결되었습니다.\")\n",
    "    if conn2.is_connected():\n",
    "        print(\"MySQL 서버2에 성공적으로 연결되었습니다.\")\n",
    "        \n",
    "except:\n",
    "    print(\"MySQL 연결 실패:\",err)\n",
    "finally:\n",
    "    if all([conn1.is_connected(),conn2.is_connected()]):\n",
    "        print(\"연결중....\")"
   ]
  },
  {
   "cell_type": "code",
   "execution_count": 4,
   "id": "3932e864-1f61-4690-a9bf-2fd5c7c70670",
   "metadata": {},
   "outputs": [],
   "source": [
    "# 커서 생성\n",
    "cursor1 = conn1.cursor()\n",
    "que = \"CREATE DATABASE IF NOT EXISTS lshdb\"\n",
    "cursor1.execute(que)\n",
    "conn1.close()\n",
    "\n",
    "cursor2 = conn2.cursor()\n",
    "que = \"CREATE DATABASE IF NOT EXISTS sh9051\"\n",
    "cursor2.execute(que)\n",
    "conn2.close()"
   ]
  },
  {
   "cell_type": "code",
   "execution_count": 5,
   "id": "3cb8024a-15dd-4332-8d41-928e88f6ffcb",
   "metadata": {},
   "outputs": [
    {
     "name": "stdout",
     "output_type": "stream",
     "text": [
      "MySQL 연결성공!\n"
     ]
    }
   ],
   "source": [
    "# MySQL에 연결\n",
    "conn1 = mysql.connector.connect(\n",
    "        host=\"mysql\", # MySQL 서버 주소\n",
    "        user=\"root\",\n",
    "        password=\"1234\",\n",
    "        database=\"lshdb\" #사용할 데이터 베이스\n",
    "    )\n",
    "\n",
    "conn2 = mysql.connector.connect(\n",
    "        host=\"210.119.14.56\", # MySQL 서버 주소\n",
    "        user=\"root\",\n",
    "        password=\"1234\",\n",
    "        database=\"sh9051\" #사용할 데이터 베이스\n",
    "    )\n",
    "cursor1 = conn1.cursor()\n",
    "cursor2 = conn2.cursor()\n",
    "print(\"MySQL 연결성공!\")"
   ]
  },
  {
   "cell_type": "code",
   "execution_count": null,
   "id": "70891592-29d3-4f2d-81c2-e531b8b0a2fe",
   "metadata": {},
   "outputs": [],
   "source": [
    "# 테이블 생성\n",
    "query = \"CREATE TABLE IF NOT EXISTS StarBucks(name VARCHAR(100) PRIMARY KEY, address VARCHAR(100), type VARCHAR(50), reserve VARCHAR(50))\"\n",
    "cursor1.execute(query)\n",
    "cursor2.execute(query)\n",
    "print(\"테이블 생성완료\")"
   ]
  },
  {
   "cell_type": "code",
   "execution_count": null,
   "id": "92b534fb-3016-477c-a2d8-27a5ce556a88",
   "metadata": {},
   "outputs": [],
   "source": [
    "#여러개의 데이터 삽입\n",
    "sql = \"INSERT INTO users(name, address, type, reserve) VALUES (%s, %s, %s, %s)\" \n",
    "cursor1.executemany(sql,star)\n",
    "cursor2.executemany(sql,star)\n",
    "conn1.commit()\n",
    "conn2.commit()\n",
    "print(\"여러개의 데이터를 두 대의 DB에 삽입 완료\")"
   ]
  }
 ],
 "metadata": {
  "kernelspec": {
   "display_name": "Python 3 (ipykernel)",
   "language": "python",
   "name": "python3"
  },
  "language_info": {
   "codemirror_mode": {
    "name": "ipython",
    "version": 3
   },
   "file_extension": ".py",
   "mimetype": "text/x-python",
   "name": "python",
   "nbconvert_exporter": "python",
   "pygments_lexer": "ipython3",
   "version": "3.13.1"
  }
 },
 "nbformat": 4,
 "nbformat_minor": 5
}
