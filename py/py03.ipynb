{
 "cells": [
  {
   "cell_type": "markdown",
   "id": "acf8e401-4767-436d-839d-deb7d5429b8e",
   "metadata": {},
   "source": [
    "# 제어문"
   ]
  },
  {
   "cell_type": "markdown",
   "id": "1c7f5ce7-261b-45b3-b191-afdd50c5fc18",
   "metadata": {},
   "source": [
    "## if문"
   ]
  },
  {
   "cell_type": "code",
   "execution_count": 29,
   "id": "4a80bfae-9e83-4bc8-b7b0-24347a5cf900",
   "metadata": {},
   "outputs": [
    {
     "name": "stdout",
     "output_type": "stream",
     "text": [
      "항상동작합니다.\n",
      "5가 큽니다.\n"
     ]
    }
   ],
   "source": [
    "if True:\n",
    "    print(\"항상동작합니다.\")\n",
    "if False:\n",
    "    print(\"이건 동작할까요?\")\n",
    "if 5 > 2:\n",
    "    print(\"5가 큽니다.\")\n",
    "if 4 > 10:\n",
    "    print(\"나올까요?\")"
   ]
  },
  {
   "cell_type": "code",
   "execution_count": 49,
   "id": "d10136e6-6b35-4617-b448-fa43150be412",
   "metadata": {},
   "outputs": [
    {
     "name": "stdout",
     "output_type": "stream",
     "text": [
      "택시를\n",
      "타고\n",
      "가라\n"
     ]
    }
   ],
   "source": [
    "if True:\n",
    "    print(\"택시를\")\n",
    "    print(\"타고\")\n",
    "    print(\"가라\")"
   ]
  },
  {
   "cell_type": "code",
   "execution_count": 53,
   "id": "862dbb30-edf8-489a-8a87-8887ee5517f2",
   "metadata": {},
   "outputs": [
    {
     "name": "stdin",
     "output_type": "stream",
     "text": [
      "얼마 가지고 있습니까? 2000\n"
     ]
    },
    {
     "name": "stdout",
     "output_type": "stream",
     "text": [
      "걸어가세요.\n"
     ]
    }
   ],
   "source": [
    "money = int(input(\"얼마 가지고 있습니까?\")) #input은 무조건 문자로 나옴\n",
    "if money >= 3000:\n",
    "    print('택시타고 가세요.')\n",
    "# if money < 3000: \n",
    "else:\n",
    "    print('걸어가세요.')"
   ]
  },
  {
   "cell_type": "code",
   "execution_count": 54,
   "id": "c7b0f136-c2dc-4b7f-a8a5-ee0292680d6c",
   "metadata": {},
   "outputs": [],
   "source": [
    "# and, or, not"
   ]
  },
  {
   "cell_type": "code",
   "execution_count": 56,
   "id": "3596863f-fee4-48ad-bbe2-283d7f79d0d3",
   "metadata": {
    "collapsed": true,
    "jupyter": {
     "outputs_hidden": true
    }
   },
   "outputs": [
    {
     "name": "stdout",
     "output_type": "stream",
     "text": [
      "======= and연산 =======\n",
      "True\n",
      "False\n",
      "False\n",
      "False\n",
      "======= or연산 =======\n",
      "True\n",
      "True\n",
      "True\n",
      "False\n",
      "======= not연산 =======\n",
      "True\n",
      "False\n",
      "True\n"
     ]
    }
   ],
   "source": [
    "# 논리 and\n",
    "print(\"======= and연산 =======\")\n",
    "print(True and True)\n",
    "print(True and False)\n",
    "print(False and True)\n",
    "print(False and False)\n",
    "# 논리 or\n",
    "print(\"======= or연산 =======\")\n",
    "print(True or True)\n",
    "print(True or False)\n",
    "print(False or True)\n",
    "print(False or False)\n",
    "print(\"======= not연산 =======\")\n",
    "print(True)\n",
    "print(not True)\n",
    "print(not False)"
   ]
  },
  {
   "cell_type": "code",
   "execution_count": 63,
   "id": "a6f300c5-59a8-4a26-bce2-2eab8e8d1971",
   "metadata": {},
   "outputs": [
    {
     "name": "stdout",
     "output_type": "stream",
     "text": [
      "반가워요.\n"
     ]
    }
   ],
   "source": [
    "이상형 = True\n",
    "똑똑 = False\n",
    "if 이상형 and 똑똑:\n",
    "    print(\"만납시다.\")\n",
    "else:\n",
    "    print(\"반가워요.\")"
   ]
  },
  {
   "cell_type": "code",
   "execution_count": 65,
   "id": "4efc0db0-7177-4a8c-bf30-3c9ac0597261",
   "metadata": {},
   "outputs": [
    {
     "name": "stdout",
     "output_type": "stream",
     "text": [
      "만납시다.\n"
     ]
    }
   ],
   "source": [
    "이상형 = True\n",
    "다정 = False\n",
    "if 이상형 or 똑똑:\n",
    "    print(\"만납시다.\")\n",
    "else:\n",
    "    print(\"반가워요.\")"
   ]
  },
  {
   "cell_type": "code",
   "execution_count": 67,
   "id": "3a82e455-0648-40e1-b35e-e44d9fe72cf8",
   "metadata": {},
   "outputs": [
    {
     "name": "stdout",
     "output_type": "stream",
     "text": [
      "만나요.\n"
     ]
    }
   ],
   "source": [
    "주사 = False\n",
    "if not 주사:\n",
    "    print(\"만나요.\")\n",
    "else:\n",
    "    print(\"잘가요.\")"
   ]
  },
  {
   "cell_type": "code",
   "execution_count": 70,
   "id": "004e4eaf-e191-4bb8-aaf1-ae5397a6f306",
   "metadata": {},
   "outputs": [
    {
     "name": "stdout",
     "output_type": "stream",
     "text": [
      "택시를 타고 가라\n"
     ]
    }
   ],
   "source": [
    "money = 2000\n",
    "card = True\n",
    "if money >=3000 or card:\n",
    "    print(\"택시를 타고 가라\")\n",
    "else:\n",
    "    print(\"걸어가라\")"
   ]
  },
  {
   "cell_type": "code",
   "execution_count": 103,
   "id": "cd3293ff-a87a-4fac-a6ec-71c1e314794b",
   "metadata": {},
   "outputs": [
    {
     "name": "stdout",
     "output_type": "stream",
     "text": [
      "A회사 불합격입니다.\n",
      "B회사 합격입니다.\n",
      "C회사 합격입니다.\n"
     ]
    }
   ],
   "source": [
    "me = 'Python'\n",
    "compA = ['JAVA','CSS','Javascript','C','mySQL']\n",
    "compB = ['JAVA','Python','HTML','Javascript','C','mySQL']\n",
    "compC = ['JAVA','Python','HTML','mySQL']\n",
    "if me in compA:\n",
    "    print('A회사 합격입니다.')\n",
    "else:\n",
    "    print(\"A회사 불합격입니다.\")\n",
    "if me in compB:\n",
    "    print('B회사 합격입니다.')\n",
    "else:\n",
    "    print(\"B회사 불합격입니다.\")\n",
    "if me in compC:\n",
    "    print('C회사 합격입니다.')\n",
    "else:\n",
    "    print(\"C회사 불합격입니다.\")"
   ]
  },
  {
   "cell_type": "code",
   "execution_count": 3,
   "id": "6e32f559-91b8-4e30-b65d-3df9cb7d7cf1",
   "metadata": {},
   "outputs": [
    {
     "name": "stdin",
     "output_type": "stream",
     "text": [
      "점수를 입력하세요. 3\n"
     ]
    },
    {
     "name": "stdout",
     "output_type": "stream",
     "text": [
      "학점 F입니다.\n"
     ]
    }
   ],
   "source": [
    "# if elif를 사용하여 다음을 구성하세요.\n",
    "score = int(input('점수를 입력하세요.') or 0)\n",
    "if  score>=90:\n",
    "    grade= 'A'\n",
    "    \n",
    "elif score>=80:\n",
    "    grade= 'B'\n",
    "\n",
    "elif score>=70:\n",
    "    grade= 'C'\n",
    "\n",
    "elif score>=60:\n",
    "    grade= 'D'\n",
    "\n",
    "else:\n",
    "    grade= 'F'\n",
    "print(f'학점 {grade}입니다.')"
   ]
  },
  {
   "cell_type": "code",
   "execution_count": 118,
   "id": "18921460-0235-46f0-bbac-d9069a78f478",
   "metadata": {},
   "outputs": [
    {
     "name": "stdin",
     "output_type": "stream",
     "text": [
      "온도를 입력하세요 0\n"
     ]
    },
    {
     "name": "stdout",
     "output_type": "stream",
     "text": [
      "지금은 겨울입니다.\n"
     ]
    }
   ],
   "source": [
    "temp = int(input('온도를 입력하세요'))\n",
    "season = '겨울'\n",
    "if 25<=temp:\n",
    "    season = '여름'\n",
    "elif 15<=temp:\n",
    "    season = '봄'\n",
    "elif 10<=temp:\n",
    "    season = '가을'\n",
    "print(f'지금은 {season}입니다.')"
   ]
  },
  {
   "cell_type": "markdown",
   "id": "92353dcc-5680-441f-8f6e-3f5fb5a55f39",
   "metadata": {},
   "source": [
    "## while문"
   ]
  },
  {
   "cell_type": "code",
   "execution_count": null,
   "id": "52a75757-8cd8-4a64-990c-fce7a503c91b",
   "metadata": {},
   "outputs": [],
   "source": [
    "### 137p coffee.py\n",
    "coffee = 10\n",
    "while True:\n",
    "    money = int(input(\"돈을 넣어주세요.\"))\n",
    "    if money ==300:\n",
    "        print(\"커피를 줍니다.\")\n",
    "        coffee = coffee - 1\n",
    "    elif money > 300:\n",
    "        print(f\"거스름돈{money - 300}를 주고 커피를 줍니다.\")\n",
    "        coffee -= 1\n",
    "    else:\n",
    "        print(\"돈을 다시 돌려주고 커피를 주지 않습니다.\")\n",
    "        print(f\"남은 커피의 양은{coffee}개 입니다.\")\n",
    "    if coffee == 0:\n",
    "        print(\"커피가 다 떨어졌습니다. 판매를 중지합니다.\")\n",
    "        break"
   ]
  },
  {
   "cell_type": "code",
   "execution_count": 31,
   "id": "19f4ca61-2d6f-4ecf-bc2b-2cc682834048",
   "metadata": {},
   "outputs": [
    {
     "name": "stdout",
     "output_type": "stream",
     "text": [
      "1 나 화났어\n",
      "2 나 화났어\n",
      "3 나 화났어\n",
      "4 나 화났어\n",
      "5 나 화났어\n",
      "6 나 화났어\n",
      "7 나 화났어\n",
      "8 나 화났어\n",
      "9 나 화났어\n",
      "10 나 화났어\n",
      "11 나 화났어\n",
      "10 안녕\n",
      "9 안녕\n",
      "8 안녕\n",
      "7 안녕\n",
      "6 안녕\n",
      "5 안녕\n",
      "4 안녕\n",
      "3 안녕\n",
      "2 안녕\n",
      "1 안녕\n"
     ]
    }
   ],
   "source": [
    "num = 0\n",
    "while True:\n",
    "    num +=1\n",
    "    print(num,\"나 화났어\")\n",
    "    if num > 10:\n",
    "        break\n",
    "num1 = 10\n",
    "while num1:\n",
    "    print(num1,'안녕')\n",
    "    num1-=1"
   ]
  },
  {
   "cell_type": "code",
   "execution_count": 120,
   "id": "bae667f8-77e9-4322-91dc-85f18d3b9a44",
   "metadata": {},
   "outputs": [
    {
     "name": "stdout",
     "output_type": "stream",
     "text": [
      "나무를 1번 찍었습니다.\n",
      "나무를 2번 찍었습니다.\n",
      "나무를 3번 찍었습니다.\n",
      "나무를 4번 찍었습니다.\n",
      "나무를 5번 찍었습니다.\n",
      "나무를 6번 찍었습니다.\n",
      "나무를 7번 찍었습니다.\n",
      "나무를 8번 찍었습니다.\n",
      "나무를 9번 찍었습니다.\n",
      "나무를 10번 찍었습니다.\n",
      "나무 넘어갑니다.\n"
     ]
    }
   ],
   "source": [
    "treeHit = 0\n",
    "while treeHit < 10:\n",
    "    treeHit = treeHit + 1\n",
    "    print(\"나무를 %d번 찍었습니다.\"%treeHit)\n",
    "    if treeHit == 10:\n",
    "        print(\"나무 넘어갑니다.\")"
   ]
  },
  {
   "cell_type": "code",
   "execution_count": 121,
   "id": "230f70c2-f338-493e-8480-d8776859bb90",
   "metadata": {},
   "outputs": [
    {
     "name": "stdout",
     "output_type": "stream",
     "text": [
      "나무를 1번 찍었습니다.\n",
      "나무를 2번 찍었습니다.\n",
      "나무를 3번 찍었습니다.\n",
      "나무를 4번 찍었습니다.\n",
      "나무를 5번 찍었습니다.\n",
      "나무를 6번 찍었습니다.\n",
      "나무를 7번 찍었습니다.\n",
      "나무를 8번 찍었습니다.\n",
      "나무를 9번 찍었습니다.\n",
      "나무를 10번 찍었습니다.\n",
      "나무 넘어갑니다.\n"
     ]
    }
   ],
   "source": [
    "namu = 10\n",
    "while namu:\n",
    "    namu -=1\n",
    "    print(f\"나무를 {10-namu}번 찍었습니다.\")\n",
    "print(\"나무 넘어갑니다.\")"
   ]
  },
  {
   "cell_type": "code",
   "execution_count": 185,
   "id": "e23ec5e0-3231-4283-a197-26c9295dce98",
   "metadata": {},
   "outputs": [
    {
     "name": "stdin",
     "output_type": "stream",
     "text": [
      " 4\n"
     ]
    },
    {
     "name": "stdout",
     "output_type": "stream",
     "text": [
      "시스템이 종료되었습니다.\n"
     ]
    }
   ],
   "source": [
    "from IPython.display import clear_output\n",
    "prompt = '''\n",
    "    1. Add\n",
    "    2. Del\n",
    "    3. List\n",
    "    4. Quit\n",
    "\n",
    "    Enter number:'''\n",
    "\n",
    "\n",
    "number = 0\n",
    "while number !=4:\n",
    "    print(prompt)\n",
    "    clear_output(wait=True) #이전 질문 지우기\n",
    "    number = int(input())\n",
    "print(\"시스템이 종료되었습니다.\")"
   ]
  },
  {
   "cell_type": "code",
   "execution_count": 251,
   "id": "801dcf32-b745-4619-b82e-ef7a617e6c99",
   "metadata": {},
   "outputs": [],
   "source": [
    "# random 주사위\n",
    "import random as r\n",
    "# ran = r.random()*10 + 1\n",
    "box = [] #초기화"
   ]
  },
  {
   "cell_type": "code",
   "execution_count": 667,
   "id": "9e4e591e-930a-4019-b912-77891e3b8235",
   "metadata": {},
   "outputs": [
    {
     "name": "stdout",
     "output_type": "stream",
     "text": [
      "250000회 정상 진행되었습니다.\n",
      "1번이 41956번 16.7824%등장하였습니다.\n",
      "2번이 41777번 16.7108%등장하였습니다.\n",
      "3번이 41150번 16.4600%등장하였습니다.\n",
      "4번이 41397번 16.5588%등장하였습니다.\n",
      "5번이 41787번 16.7148%등장하였습니다.\n",
      "6번이 41933번 16.7732%등장하였습니다.\n",
      "1번이 41956회로 가장 많이 나왔습니다.\n"
     ]
    }
   ],
   "source": [
    "import random as r\n",
    "box = []\n",
    "\n",
    "n = 0\n",
    "target = 250000\n",
    "\n",
    "while n < target:\n",
    "    n += 1\n",
    "    ran = r.randint(1,6)\n",
    "    box.append(ran)\n",
    "    # print(f'{n}번째 나온 주사위 번호{ran}!')\n",
    "if target == len(box):\n",
    "    print(f\"{target}회 정상 진행되었습니다.\")\n",
    "else:\n",
    "    print(f'검증결과 횟수 이상 있습니다.')\n",
    "    \n",
    "# 리스트의 특정한 숫자를 몇개인지 찾아내는 함수써서\n",
    "num =0\n",
    "t = []\n",
    "while num != 6:\n",
    "    num += 1\n",
    "    print(f'{num}번이 {box.count(num)}번 {(box.count(num)/len(box)*100):.4f}%등장하였습니다.')\n",
    "\n",
    "\n",
    "# print(\"\") 6번이 가장 많이 출현하였습니다.\n",
    "# max(): 가장 큰 수, min(): 가장 작은 수\n",
    "    \n",
    "    t.append(box.count(num))\n",
    "where = t.index(max(t)) + 1\n",
    "print(f'{where}번이 {max(t)}회로 가장 많이 나왔습니다.')\n",
    "\n"
   ]
  },
  {
   "cell_type": "markdown",
   "id": "c2b71a12-8af1-4bb9-89ae-42e4c489e600",
   "metadata": {},
   "source": [
    "## for 문"
   ]
  },
  {
   "cell_type": "code",
   "execution_count": 647,
   "id": "35ae0b12-88b8-4bac-87b0-01d82df503d0",
   "metadata": {},
   "outputs": [
    {
     "name": "stdout",
     "output_type": "stream",
     "text": [
      "one\n",
      "two\n",
      "three\n"
     ]
    }
   ],
   "source": [
    "# 기본 for 문\n",
    "test_list = ['one','two','three']\n",
    "for i in test_list:\n",
    "    print(i)"
   ]
  },
  {
   "cell_type": "code",
   "execution_count": 653,
   "id": "ccb7136c-df3f-43e1-a5e2-1906ef4a3955",
   "metadata": {},
   "outputs": [
    {
     "name": "stdout",
     "output_type": "stream",
     "text": [
      "2\n"
     ]
    }
   ],
   "source": [
    "(A, B) = (1,2)\n",
    "print(B)"
   ]
  },
  {
   "cell_type": "code",
   "execution_count": 654,
   "id": "7e61fe9c-f6f6-4fd1-95c6-3fb3165d747e",
   "metadata": {},
   "outputs": [
    {
     "name": "stdout",
     "output_type": "stream",
     "text": [
      "1 2 11\n",
      "3 4 33\n",
      "5 6 55\n"
     ]
    }
   ],
   "source": [
    "# 다양한 for 문의 사용 #iterable = 순회를 당하는 것이 가능한 컬렉션이다.\n",
    "a= [(1,2,11),(3,4,33),(5,6,55)]\n",
    "for (x, y, z) in a:\n",
    "    print(x, y, z)"
   ]
  },
  {
   "cell_type": "code",
   "execution_count": 678,
   "id": "4210b5f7-18e7-4aa9-9c16-a2c629b1aeb7",
   "metadata": {},
   "outputs": [
    {
     "name": "stdout",
     "output_type": "stream",
     "text": [
      "1번 학생은 합격입니다.\n",
      "2번 학생은 불합격입니다.\n",
      "3번 학생은 합격입니다.\n",
      "4번 학생은 불합격입니다.\n",
      "5번 학생은 합격입니다.\n"
     ]
    }
   ],
   "source": [
    "# p143 marks1.py\n",
    "marks = [90,25,67,45,80]\n",
    "number = 0 \n",
    "for mark in marks:\n",
    "    number += 1\n",
    "    if mark >= 60:\n",
    "        print(f\"{number}번 학생은 합격입니다.\")\n",
    "    else:\n",
    "        print(\"%d번 학생은 불합격입니다.\"%number)"
   ]
  },
  {
   "cell_type": "code",
   "execution_count": 692,
   "id": "0c3a1187-4f55-4f61-bb23-a6d7ece16666",
   "metadata": {},
   "outputs": [
    {
     "name": "stdout",
     "output_type": "stream",
     "text": [
      "1\n",
      "3\n",
      "5\n",
      "7\n",
      "9\n"
     ]
    }
   ],
   "source": [
    "s =  [1,2,3,4,5,6,7,8,9,10]\n",
    "for i in s:\n",
    "  \n",
    "    if i%2 == 0:\n",
    "        continue\n",
    "    print(i)\n",
    "        "
   ]
  },
  {
   "cell_type": "markdown",
   "id": "100ef4b8-eaa6-4dd4-bb92-1fc82fcf6c61",
   "metadata": {},
   "source": [
    "### range 함수"
   ]
  },
  {
   "cell_type": "code",
   "execution_count": 696,
   "id": "e5717178-c1ff-4e04-b45d-2a31f75b2ee6",
   "metadata": {},
   "outputs": [
    {
     "name": "stdout",
     "output_type": "stream",
     "text": [
      "range(0, 10)\n"
     ]
    }
   ],
   "source": [
    "# range함수\n",
    "a = range(10)\n",
    "print(a)"
   ]
  },
  {
   "cell_type": "code",
   "execution_count": 702,
   "id": "dceeca9b-1947-4f02-9cd1-ed79aebd2e2e",
   "metadata": {},
   "outputs": [
    {
     "name": "stdout",
     "output_type": "stream",
     "text": [
      "0\n",
      "1\n",
      "2\n",
      "3\n",
      "4\n"
     ]
    }
   ],
   "source": [
    "for n in range(5):\n",
    "    print(n)"
   ]
  },
  {
   "cell_type": "code",
   "execution_count": 708,
   "id": "4d0faefd-3aac-4f75-999f-b65d928e108f",
   "metadata": {},
   "outputs": [
    {
     "name": "stdout",
     "output_type": "stream",
     "text": [
      "[0, 1, 2, 3, 4, 5, 6, 7, 8, 9]\n"
     ]
    }
   ],
   "source": [
    "la = list(range(0,10,))\n",
    "print(la)"
   ]
  },
  {
   "cell_type": "code",
   "execution_count": 709,
   "id": "7fb6c913-2f7a-495f-8fde-b26e6d9fba60",
   "metadata": {},
   "outputs": [
    {
     "name": "stdout",
     "output_type": "stream",
     "text": [
      "0\n",
      "2\n",
      "4\n",
      "6\n",
      "8\n"
     ]
    }
   ],
   "source": [
    "for even in range(0,10,2):\n",
    "    print(even)"
   ]
  },
  {
   "cell_type": "code",
   "execution_count": 715,
   "id": "b9645617-0573-46be-bc89-f776ae77c16e",
   "metadata": {},
   "outputs": [
    {
     "name": "stdout",
     "output_type": "stream",
     "text": [
      "8515\n"
     ]
    }
   ],
   "source": [
    "la = range(1,131)\n",
    "p = 0\n",
    "for i in la:\n",
    "    p += i\n",
    "    \n",
    "print(p)"
   ]
  },
  {
   "cell_type": "code",
   "execution_count": 718,
   "id": "13dc668b-295e-4200-9121-a9c42b5a70f4",
   "metadata": {},
   "outputs": [
    {
     "name": "stdout",
     "output_type": "stream",
     "text": [
      "1번 학생 축하합니다. 합격입니다.\n",
      "3번 학생 축하합니다. 합격입니다.\n",
      "5번 학생 축하합니다. 합격입니다.\n"
     ]
    }
   ],
   "source": [
    "marks = [90,25,67,45,80]\n",
    "for num in range(len(marks)):\n",
    "    if marks[num] < 60:\n",
    "        continue\n",
    "    print(f'{num+1}번 학생 축하합니다. 합격입니다.')"
   ]
  },
  {
   "cell_type": "code",
   "execution_count": 727,
   "id": "eea5b012-f981-4a4e-8a08-73edf745b7f6",
   "metadata": {},
   "outputs": [
    {
     "name": "stdout",
     "output_type": "stream",
     "text": [
      "     March 2025\n",
      "Su Mo Tu We Th Fr Sa\n",
      "                   1\n",
      " 2  3  4  5  6  7  8\n",
      " 9 10 11 12 13 14 15\n",
      "16 17 18 19 20 21 22\n",
      "23 24 25 26 27 28 29\n",
      "30 31\n",
      "\n"
     ]
    }
   ],
   "source": [
    "# 연습\n",
    "import calendar\n",
    "c = calendar.TextCalendar(calendar.SUNDAY)\n",
    "print(c.formatmonth(2025,3))"
   ]
  },
  {
   "cell_type": "code",
   "execution_count": 2,
   "id": "697bf2c9-8e6f-49de-89b9-a625209e5778",
   "metadata": {},
   "outputs": [
    {
     "name": "stdout",
     "output_type": "stream",
     "text": [
      "■■■■■■■■■■■"
     ]
    }
   ],
   "source": [
    "# 테스트 타이머\n",
    "import time as t\n",
    "for x in range(11):\n",
    "    print('■',end='')\n",
    "    t.sleep(0.5)"
   ]
  },
  {
   "cell_type": "code",
   "execution_count": 5,
   "id": "290b8936-2d67-42df-82b5-c8a92dd001b1",
   "metadata": {},
   "outputs": [
    {
     "name": "stdout",
     "output_type": "stream",
     "text": [
      "<class 'list'>\n",
      "<class 'tuple'>\n"
     ]
    }
   ],
   "source": [
    "# 리스트 속도 측정\n",
    "import time as t\n",
    "lt =[]\n",
    "tp =[]\n",
    "length = 10000\n",
    "for l in range(length):\n",
    "    lt.append(x)\n",
    "for t in range(length):\n",
    "    lt.append  \n",
    "tp = tuple(tp)\n",
    "print(type(lt))\n",
    "print(type(tp))"
   ]
  },
  {
   "cell_type": "code",
   "execution_count": 18,
   "id": "f7caa8f3-22af-45c3-9281-1c5a7700786d",
   "metadata": {},
   "outputs": [
    {
     "name": "stdout",
     "output_type": "stream",
     "text": [
      "1738905483.1553864\n",
      "0.0006527900695800781\n"
     ]
    }
   ],
   "source": [
    "import time as t\n",
    "start = t.time()\n",
    "for x in lt:\n",
    "    tps = (1,2,3,4,5,)\n",
    "print(start)\n",
    "print(t.time() - start)"
   ]
  },
  {
   "cell_type": "code",
   "execution_count": 80,
   "id": "312c0ca5-bffd-455a-af92-40cbba0ff1e7",
   "metadata": {},
   "outputs": [
    {
     "name": "stderr",
     "output_type": "stream",
     "text": [
      "100%|████████████████████████████████████████████████████████████████████████████████| 100/100 [00:10<00:00,  9.82it/s]\n"
     ]
    }
   ],
   "source": [
    "# !pip install tqdm\n",
    "from tqdm import tqdm\n",
    "import time as tt\n",
    "for x in tqdm(range(100)):\n",
    "\n",
    "    pass\n",
    "    tt.sleep(0.1)"
   ]
  },
  {
   "cell_type": "code",
   "execution_count": 108,
   "id": "da5365a6-7ca8-4ad5-b0d1-1008a7215280",
   "metadata": {},
   "outputs": [
    {
     "name": "stdout",
     "output_type": "stream",
     "text": [
      "최대가:152817000 최소가:149809000 시작가:152630000 변화폭:3008000.0\n",
      "상승장\n"
     ]
    }
   ],
   "source": [
    "# 비트코인시세로 상승장 하강장 구분하기\n",
    "import requests as req\n",
    "url = \"https://api.bithumb.com/public/ticker/ALL_KRW\"\n",
    "gdata = req.get(url).json() #json형태로 파씽\n",
    "btc = gdata['data']['BTC']\n",
    "maxp = btc['max_price'] # 최대가\n",
    "minp = btc['min_price'] # 최소가\n",
    "openp = btc['opening_price'] # 시작가\n",
    "bandp = float(maxp) - float(minp) # 변화폭\n",
    "\n",
    "print(f'최대가:{maxp} 최소가:{minp} 시작가:{openp} 변화폭:{bandp}')\n",
    "if (float(openp) + float(bandp)) > float(maxp):\n",
    "    print(\"상승장\")\n",
    "else:\n",
    "    print(\"하강장\")\n"
   ]
  },
  {
   "cell_type": "code",
   "execution_count": 111,
   "id": "670e2d09-ff53-4889-b70c-a6c89395623c",
   "metadata": {},
   "outputs": [
    {
     "name": "stdout",
     "output_type": "stream",
     "text": [
      "{'market': 'KRW-BTC', 'candle_date_time_utc': '2025-02-07T06:21:00', 'candle_date_time_kst': '2025-02-07T15:21:00', 'opening_price': 149959000, 'high_price': 149959000, 'low_price': 149932000, 'trade_price': 149949000, 'timestamp': 1738909273000, 'candle_acc_trade_price': 52955601.37411, 'candle_acc_trade_volume': 0.35316971, 'unit': 1}\n"
     ]
    }
   ],
   "source": [
    "url = \"https://api.bithumb.com/v1/candles/minutes/1?market=KRW-BTC&count=1\"\n",
    "btc_data = req.get(url).json()\n",
    "\n",
    "print(btc_data[0])"
   ]
  },
  {
   "cell_type": "code",
   "execution_count": 87,
   "id": "60bc4200-53b7-458b-acdb-8c98f3c9b7df",
   "metadata": {},
   "outputs": [],
   "source": [
    "import requests as req\n",
    "url = \"https://api.bithumb.com/public/ticker/ALL_KRW\"\n",
    "gdata = req.get(url).json() #json형태로 파씽\n",
    "# print(gdata)"
   ]
  },
  {
   "cell_type": "code",
   "execution_count": 124,
   "id": "c5b5e0c6-d8e1-49be-9d4c-a71b3fff59c4",
   "metadata": {},
   "outputs": [
    {
     "name": "stdin",
     "output_type": "stream",
     "text": [
      "몇단을 할까요? 4\n"
     ]
    },
    {
     "name": "stdout",
     "output_type": "stream",
     "text": [
      "4x1 = 4\n",
      "4x2 = 8\n",
      "4x3 = 12\n",
      "4x4 = 16\n",
      "4x5 = 20\n",
      "4x6 = 24\n",
      "4x7 = 28\n",
      "4x8 = 32\n",
      "4x9 = 36\n"
     ]
    }
   ],
   "source": [
    "a = int(input('몇단을 할까요?'))\n",
    "for b in range(1,10):\n",
    "    print(f\"{a}x{b} =\",a*b)"
   ]
  },
  {
   "cell_type": "code",
   "execution_count": 156,
   "id": "2f604c8c-8655-4c35-b18c-6b4817e6d372",
   "metadata": {},
   "outputs": [
    {
     "name": "stdout",
     "output_type": "stream",
     "text": [
      "구구단\n",
      "====2단====\n",
      "2x1 = 2\n",
      "2x2 = 4\n",
      "2x3 = 6\n",
      "2x4 = 8\n",
      "2x5 = 10\n",
      "2x6 = 12\n",
      "2x7 = 14\n",
      "2x8 = 16\n",
      "2x9 = 18\n",
      "====3단====\n",
      "3x1 = 3\n",
      "3x2 = 6\n",
      "3x3 = 9\n",
      "3x4 = 12\n",
      "3x5 = 15\n",
      "3x6 = 18\n",
      "3x7 = 21\n",
      "3x8 = 24\n",
      "3x9 = 27\n",
      "====4단====\n",
      "4x1 = 4\n",
      "4x2 = 8\n",
      "4x3 = 12\n",
      "4x4 = 16\n",
      "4x5 = 20\n",
      "4x6 = 24\n",
      "4x7 = 28\n",
      "4x8 = 32\n",
      "4x9 = 36\n",
      "====5단====\n",
      "5x1 = 5\n",
      "5x2 = 10\n",
      "5x3 = 15\n",
      "5x4 = 20\n",
      "5x5 = 25\n",
      "5x6 = 30\n",
      "5x7 = 35\n",
      "5x8 = 40\n",
      "5x9 = 45\n",
      "====6단====\n",
      "6x1 = 6\n",
      "6x2 = 12\n",
      "6x3 = 18\n",
      "6x4 = 24\n",
      "6x5 = 30\n",
      "6x6 = 36\n",
      "6x7 = 42\n",
      "6x8 = 48\n",
      "6x9 = 54\n",
      "====7단====\n",
      "7x1 = 7\n",
      "7x2 = 14\n",
      "7x3 = 21\n",
      "7x4 = 28\n",
      "7x5 = 35\n",
      "7x6 = 42\n",
      "7x7 = 49\n",
      "7x8 = 56\n",
      "7x9 = 63\n",
      "====8단====\n",
      "8x1 = 8\n",
      "8x2 = 16\n",
      "8x3 = 24\n",
      "8x4 = 32\n",
      "8x5 = 40\n",
      "8x6 = 48\n",
      "8x7 = 56\n",
      "8x8 = 64\n",
      "8x9 = 72\n",
      "====9단====\n",
      "9x1 = 9\n",
      "9x2 = 18\n",
      "9x3 = 27\n",
      "9x4 = 36\n",
      "9x5 = 45\n",
      "9x6 = 54\n",
      "9x7 = 63\n",
      "9x8 = 72\n",
      "9x9 = 81\n"
     ]
    }
   ],
   "source": [
    "print(\"구구단\")\n",
    "\n",
    "for b in range(2,10):\n",
    "    print(f\"{str(b)+'단':=^10}\")\n",
    "    for a in range(1,10):\n",
    "        print(f\"{b}x{a} =\",b*a)\n",
    "\n",
    "# [f'{j} x {i} = {j*i}' for j in range(2,10) for i in range(1,10)] 컴프리헨션"
   ]
  },
  {
   "cell_type": "markdown",
   "id": "b2458d05-1d0b-4569-af9a-7a5f4f965526",
   "metadata": {},
   "source": [
    "### 리스트 컴프리헨션"
   ]
  },
  {
   "cell_type": "code",
   "execution_count": 157,
   "id": "d77e5744-f04e-4ec4-8066-edd40dbd1665",
   "metadata": {},
   "outputs": [
    {
     "name": "stdout",
     "output_type": "stream",
     "text": [
      "[3, 6, 9, 12]\n"
     ]
    }
   ],
   "source": [
    "# 기본적인 리스트에 값 넣기\n",
    "a = [1,2,3,4]\n",
    "result = []\n",
    "for num in a:\n",
    "    result.append(num*3)\n",
    "print(result)\n"
   ]
  },
  {
   "cell_type": "code",
   "execution_count": 158,
   "id": "cece1f74-7784-46a5-89b9-6ac88cae702b",
   "metadata": {},
   "outputs": [
    {
     "data": {
      "text/plain": [
       "[3, 6, 9, 12]"
      ]
     },
     "execution_count": 158,
     "metadata": {},
     "output_type": "execute_result"
    }
   ],
   "source": [
    "# 리스트 컴프리헨션\n",
    "[num*3 for num in [1,2,3,4]]"
   ]
  },
  {
   "cell_type": "code",
   "execution_count": 159,
   "id": "c2d11503-7579-4b72-983a-e6689f492d2e",
   "metadata": {},
   "outputs": [
    {
     "data": {
      "text/plain": [
       "[0, 1, 2, 3, 4, 5, 6, 7, 8, 9]"
      ]
     },
     "execution_count": 159,
     "metadata": {},
     "output_type": "execute_result"
    }
   ],
   "source": [
    "# 테스트1\n",
    "# list(range(10))\n",
    "[x for x in range(10)]"
   ]
  },
  {
   "cell_type": "code",
   "execution_count": 166,
   "id": "a9fa560d-e317-4804-b3ac-db59ede060bc",
   "metadata": {},
   "outputs": [
    {
     "name": "stdout",
     "output_type": "stream",
     "text": [
      "[0, 6, 12, 18, 24]\n"
     ]
    }
   ],
   "source": [
    "res = []\n",
    "for x in range(10):\n",
    "    if x%2 == 0:\n",
    "        res.append(x*3)\n",
    "print(res)"
   ]
  },
  {
   "cell_type": "code",
   "execution_count": 167,
   "id": "155c1596-0cc3-457d-9aa2-cc1678cfd6ed",
   "metadata": {},
   "outputs": [
    {
     "data": {
      "text/plain": [
       "[0, 6, 12, 18, 24]"
      ]
     },
     "execution_count": 167,
     "metadata": {},
     "output_type": "execute_result"
    }
   ],
   "source": [
    "[x*3 for x in range(10) if x%2==0]"
   ]
  },
  {
   "cell_type": "code",
   "execution_count": 168,
   "id": "1c078970-38fa-49e6-88ff-3c9e37bc4f6d",
   "metadata": {},
   "outputs": [
    {
     "name": "stdout",
     "output_type": "stream",
     "text": [
      "[2, 4, 6, 8, 10, 12, 14, 16, 18, 3, 6, 9, 12, 15, 18, 21, 24, 27, 4, 8, 12, 16, 20, 24, 28, 32, 36, 5, 10, 15, 20, 25, 30, 35, 40, 45, 6, 12, 18, 24, 30, 36, 42, 48, 54, 7, 14, 21, 28, 35, 42, 49, 56, 63, 8, 16, 24, 32, 40, 48, 56, 64, 72, 9, 18, 27, 36, 45, 54, 63, 72, 81]\n"
     ]
    }
   ],
   "source": [
    "result = [i*j for i in range(2,10) for j in range(1,10)]\n",
    "print(result)"
   ]
  },
  {
   "cell_type": "code",
   "execution_count": 122,
   "id": "eee139e0-6d8b-44b5-9301-8a1355eab438",
   "metadata": {},
   "outputs": [],
   "source": [
    "# [f'{j} x {i} = {j*i}' for j in range(2,10) for i in range(1,10)]"
   ]
  },
  {
   "cell_type": "code",
   "execution_count": 108,
   "id": "48679a15-bc98-45c2-b00f-0efce9740bec",
   "metadata": {},
   "outputs": [
    {
     "name": "stdout",
     "output_type": "stream",
     "text": [
      "250000회 정상 진행되었습니다.\n",
      "1번이 41765번 16.7060%등장하였습니다.\n",
      "2번이 41471번 16.5884%등장하였습니다.\n",
      "3번이 41975번 16.7900%등장하였습니다.\n",
      "4번이 41529번 16.6116%등장하였습니다.\n",
      "5번이 41471번 16.5884%등장하였습니다.\n",
      "6번이 41789번 16.7156%등장하였습니다.\n",
      "3번이 41975회로 가장 많이 나왔습니다.\n"
     ]
    }
   ],
   "source": [
    "import random as r\n",
    "box = []\n",
    "\n",
    "n = 0\n",
    "target = 250000\n",
    "\n",
    "while n < target:\n",
    "    n += 1\n",
    "    ran = r.randint(1,6)\n",
    "    box.append(ran)\n",
    "    # print(f'{n}번째 나온 주사위 번호{ran}!')\n",
    "if target == len(box):\n",
    "    print(f\"{target}회 정상 진행되었습니다.\")\n",
    "else:\n",
    "    print(f'검증결과 횟수 이상 있습니다.')\n",
    "    \n",
    "# 리스트의 특정한 숫자를 몇개인지 찾아내는 함수써서\n",
    "num =0\n",
    "t = []\n",
    "while num != 6:\n",
    "    num += 1\n",
    "    print(f'{num}번이 {box.count(num)}번 {(box.count(num)/len(box)*100):.4f}%등장하였습니다.')\n",
    "\n",
    "\n",
    "# print(\"\") 6번이 가장 많이 출현하였습니다.\n",
    "# max(): 가장 큰 수, min(): 가장 작은 수\n",
    "    \n",
    "    t.append(box.count(num))\n",
    "where = t.index(max(t)) + 1\n",
    "print(f'{where}번이 {max(t)}회로 가장 많이 나왔습니다.')\n"
   ]
  },
  {
   "cell_type": "code",
   "execution_count": 2,
   "id": "d755a8c3-f475-44b4-a114-5f962f6224ae",
   "metadata": {},
   "outputs": [
    {
     "name": "stdout",
     "output_type": "stream",
     "text": [
      "1번째 번호 5!\n",
      "2번째 번호 40!\n",
      "3번째 번호 23!\n",
      "4번째 번호 9!\n",
      "5번째 번호 27!\n",
      "6번째 번호 11!\n",
      "[5, 9, 11, 23, 27, 40]\n"
     ]
    }
   ],
   "source": [
    "# 로또 생성기\n",
    "import random as r\n",
    "n=0\n",
    "c = []\n",
    "while n < 6:\n",
    "    n+=1\n",
    "    lotto = r.randint(1,45)\n",
    "    if c.count(lotto) == 1:\n",
    "        while c.count(lotto) == 1:\n",
    "            lotto = r.randint(1,45)\n",
    "        c.append(lotto)\n",
    "        # print(c)\n",
    "    else:\n",
    "        c.append(lotto)\n",
    "        # print(c)\n",
    "    \n",
    "    print(f'{n}번째 번호 {lotto}!')\n",
    "c.sort()\n",
    "print(c)\n"
   ]
  },
  {
   "cell_type": "code",
   "execution_count": 251,
   "id": "4c6cb82e-2368-4c27-b281-f76839f19edc",
   "metadata": {},
   "outputs": [
    {
     "ename": "SyntaxError",
     "evalue": "unmatched ')' (4003106391.py, line 4)",
     "output_type": "error",
     "traceback": [
      "\u001b[1;36m  Cell \u001b[1;32mIn[251], line 4\u001b[1;36m\u001b[0m\n\u001b[1;33m    1)배열요소를 오름차순으로 나열하라\u001b[0m\n\u001b[1;37m     ^\u001b[0m\n\u001b[1;31mSyntaxError\u001b[0m\u001b[1;31m:\u001b[0m unmatched ')'\n"
     ]
    }
   ],
   "source": [
    "배열의 요소가 3개일 때\n",
    "max, min, sort등을 안쓰고 직접\n",
    "완전 하드코딩으로 \n",
    "1)배열요소를 오름차순으로 나열하라\n",
    "난이도 저(3자리): [33,11,22]\n",
    "난이도 중(4자리): [33,11,22,44]\n",
    "\n",
    "2)요소 중 제일 큰 수를 찾아내라:"
   ]
  },
  {
   "cell_type": "code",
   "execution_count": 466,
   "id": "a5604272-eb40-4ee4-a683-eefc4559faca",
   "metadata": {},
   "outputs": [
    {
     "name": "stdout",
     "output_type": "stream",
     "text": [
      "[11, 22, 33]\n"
     ]
    }
   ],
   "source": [
    "a = [33,11,22]\n",
    "for i in range(2):\n",
    "    if a[i] > a[i+1]:\n",
    "       a[i],a[i+1]=a[i+1],a[i]\n",
    "print(a)\n"
   ]
  },
  {
   "cell_type": "code",
   "execution_count": 464,
   "id": "ecf6c0ee-1502-454a-a146-e90a18c1c125",
   "metadata": {},
   "outputs": [
    {
     "name": "stdout",
     "output_type": "stream",
     "text": [
      "[11, 22, 33, 44]\n"
     ]
    }
   ],
   "source": [
    "b = [33,11,22,44]\n",
    "for i in range(3):\n",
    "    if b[i] > b[i+1]:\n",
    "        b[i],b[i+1]=b[i+1],b[i]\n",
    "print(b)"
   ]
  },
  {
   "cell_type": "code",
   "execution_count": 497,
   "id": "e5499c2b-f14f-48ff-9cbf-29bf30b1eda3",
   "metadata": {},
   "outputs": [
    {
     "name": "stdout",
     "output_type": "stream",
     "text": [
      "44\n"
     ]
    }
   ],
   "source": [
    "# 제일 큰 수 찾기\n",
    "a=[33,11,22]\n",
    "b=[33,11,22,44]\n",
    "top = 0\n",
    "for i in range(len(b)):\n",
    "    if top < b[i]:\n",
    "        top = b[i]\n",
    "    \n",
    "print(top)\n",
    "    "
   ]
  },
  {
   "cell_type": "code",
   "execution_count": 1,
   "id": "980e0247-250b-491d-ac37-69f3f4408f7b",
   "metadata": {},
   "outputs": [
    {
     "name": "stdout",
     "output_type": "stream",
     "text": [
      "[6, 10, 16, 36, 42, 44] 6\n"
     ]
    }
   ],
   "source": [
    "import random\n",
    "def 로또(파라미터=6,매개변수=46):\n",
    "    box = []\n",
    "    while len(box) < 파라미터:\n",
    "        ran = random.randint(1,매개변수)\n",
    "        if not ran in box:\n",
    "            box.append(ran)\n",
    "    box.sort()\n",
    "    print(box,len(box))\n",
    "로또()"
   ]
  },
  {
   "cell_type": "code",
   "execution_count": 2,
   "id": "0fdd2f5f-d959-48b8-87cf-49c9a80e0ec8",
   "metadata": {},
   "outputs": [
    {
     "name": "stdout",
     "output_type": "stream",
     "text": [
      "[9, 18, 21, 22, 36, 45] 6\n",
      "[3, 13, 33, 34, 36, 46] 6\n",
      "[2, 29, 30, 43, 44, 45] 6\n",
      "[5, 6, 17, 22, 40, 45] 6\n",
      "[4, 6, 8, 20, 37, 40] 6\n",
      "[4, 12, 14, 15, 24, 34] 6\n"
     ]
    }
   ],
   "source": [
    "for i in range(6):\n",
    "    로또()"
   ]
  },
  {
   "cell_type": "code",
   "execution_count": null,
   "id": "f0c9be0e-4518-43d4-a213-8321aab3155e",
   "metadata": {},
   "outputs": [],
   "source": []
  }
 ],
 "metadata": {
  "kernelspec": {
   "display_name": "Python 3 (ipykernel)",
   "language": "python",
   "name": "python3"
  },
  "language_info": {
   "codemirror_mode": {
    "name": "ipython",
    "version": 3
   },
   "file_extension": ".py",
   "mimetype": "text/x-python",
   "name": "python",
   "nbconvert_exporter": "python",
   "pygments_lexer": "ipython3",
   "version": "3.13.1"
  }
 },
 "nbformat": 4,
 "nbformat_minor": 5
}
