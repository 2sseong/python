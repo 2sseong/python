{
 "cells": [
  {
   "cell_type": "code",
   "execution_count": 297,
   "id": "797be021-d6b4-473f-924e-8eac0a982a53",
   "metadata": {},
   "outputs": [
    {
     "name": "stdin",
     "output_type": "stream",
     "text": [
      "단어를 입력하세요: 가나다라다나가\n"
     ]
    },
    {
     "name": "stdout",
     "output_type": "stream",
     "text": [
      "앞 뒤 똑같습니다.\n"
     ]
    }
   ],
   "source": [
    "# P1\n",
    "inp = input('단어를 입력하세요:')\n",
    "a = inp\n",
    "b = 0\n",
    "c = 0\n",
    "for i in range(int(len(a)/2)):\n",
    "    b += 1\n",
    "    if a[i] == a[len(a)-b]:\n",
    "        c+=1\n",
    "    else:\n",
    "        c=0\n",
    "if c == int(len(a)/2):\n",
    "    print(\"앞 뒤 똑같습니다.\")\n",
    "else:\n",
    "    print(\"앞 뒤 다릅니다.\")"
   ]
  },
  {
   "cell_type": "code",
   "execution_count": 3,
   "id": "ce9c82fd-2371-4646-9498-330c00548010",
   "metadata": {},
   "outputs": [
    {
     "name": "stdout",
     "output_type": "stream",
     "text": [
      "짝수: ['2', '4']\n",
      "홀수: ['1', '3']\n"
     ]
    }
   ],
   "source": [
    "# P2\n",
    "from IPython.display import clear_output\n",
    "a=[]\n",
    "inp = ''\n",
    "while inp != 'end':\n",
    "    inp = input('숫자를 입력하세요(끝나면end입력)')\n",
    "    a.append(inp)\n",
    "    clear_output(wait=True) #이전 질문 지우기\n",
    "a.remove('end')    \n",
    "j =[]\n",
    "h =[]\n",
    "for i in range(len(a)):\n",
    "    if int(a[i])%2 == 0:\n",
    "        j.append(a[i])\n",
    "        \n",
    "    else:\n",
    "        h.append(a[i])\n",
    "        \n",
    "print('짝수:', j)\n",
    "print('홀수:', h)"
   ]
  },
  {
   "cell_type": "code",
   "execution_count": 5,
   "id": "ab678086-fe11-4dfb-a438-2dee4100103e",
   "metadata": {},
   "outputs": [
    {
     "name": "stdin",
     "output_type": "stream",
     "text": [
      "문장 입력하세요: 안녕하세요 감사해요. 잘있어요. 다시 만나요.\n"
     ]
    },
    {
     "name": "stdout",
     "output_type": "stream",
     "text": [
      "제일 긴 단어: ['안녕하세요', '감사해요.', '잘있어요.']\n"
     ]
    }
   ],
   "source": [
    "# P3\n",
    "\n",
    "inp = input('문장 입력하세요:')\n",
    "\n",
    "x = inp.split(\" \")\n",
    "x = sorted(x,key=len,reverse=True)\n",
    "\n",
    "long =[]\n",
    "long.append(x[0])\n",
    "for a in range(1,len(x)):\n",
    "    if len(x[0]) == len(x[a]):\n",
    "        long.append(x[a])\n",
    "    \n",
    "        \n",
    "        \n",
    "print('제일 긴 단어:', long)"
   ]
  },
  {
   "cell_type": "code",
   "execution_count": 230,
   "id": "0bc750be-2e25-44a0-8d62-eeaf74b3b7dd",
   "metadata": {},
   "outputs": [
    {
     "name": "stdin",
     "output_type": "stream",
     "text": [
      "당신의 기분을 한 문장으로 표현해주세요: 오늘 답답하지만 할만해 멋져!!!!!\n"
     ]
    },
    {
     "name": "stdout",
     "output_type": "stream",
     "text": [
      "오늘 답답하지만 할만해 멋져\n",
      "13 -1\n",
      "기분이 좋아 보이네요\n"
     ]
    }
   ],
   "source": [
    "#p4\n",
    "positive_words = [\"좋아\",\"행복\",\"멋져\",\"최고\",\"사랑해\"]\n",
    "negative_words = [\"싫어\",\"화나\",\"짜증\",\"별로\",\"나빠\"]\n",
    "inp = input(\"당신의 기분을 한 문장으로 표현해주세요:\")\n",
    "inp = inp.replace('!',\"\").replace('.',\"\").replace('?',\"\").replace(',',\"\")\n",
    "print(inp)\n",
    "emotion = 0\n",
    "p_words = -1\n",
    "n_words = -1\n",
    "for i in range(5):                                \n",
    "    if positive_words[i] in inp: \n",
    "        p_words = inp.find(positive_words[i])\n",
    "      \n",
    "        \n",
    "    elif negative_words[i] in inp:\n",
    "        n_words = inp.find(negative_words[i])\n",
    "       \n",
    "        \n",
    "if p_words > n_words:                #문장 마지막 단어를 통해 기분 결정\n",
    "    print(\"기분이 좋아 보이네요\")\n",
    "elif p_words < n_words:\n",
    "    print(\"기분이 나빠 보이네요\")\n",
    "else:\n",
    "    print(\"평범한 하루네요\")"
   ]
  },
  {
   "cell_type": "code",
   "execution_count": 288,
   "id": "814e70da-6774-4527-8078-0eac36b0b7ca",
   "metadata": {},
   "outputs": [
    {
     "name": "stdin",
     "output_type": "stream",
     "text": [
      "영어 문장 tody is a happy day\n"
     ]
    },
    {
     "name": "stdout",
     "output_type": "stream",
     "text": [
      "Tody Is A Happy Day. "
     ]
    }
   ],
   "source": [
    "#p5 영어 소문자 문장을 입력 받으면 매 첫글자만 대문자로 변경되게 하라\n",
    "inp = input(\"영어 문장:\")\n",
    "\n",
    "\n",
    "inp = inp.split(\" \")\n",
    "for i in range(len(inp)):\n",
    "    inp[i] = inp[i].replace(inp[i][0],inp[i][0].upper())\n",
    "\n",
    "inp[len(inp)-1] = inp[len(inp)-1] + '.'\n",
    "for i in range(len(inp)):\n",
    "    print(inp[i],end=\" \")\n",
    "\n",
    "    "
   ]
  },
  {
   "cell_type": "code",
   "execution_count": null,
   "id": "948d18d5-964a-4607-a97e-378bf29625fb",
   "metadata": {},
   "outputs": [],
   "source": []
  }
 ],
 "metadata": {
  "kernelspec": {
   "display_name": "Python 3 (ipykernel)",
   "language": "python",
   "name": "python3"
  },
  "language_info": {
   "codemirror_mode": {
    "name": "ipython",
    "version": 3
   },
   "file_extension": ".py",
   "mimetype": "text/x-python",
   "name": "python",
   "nbconvert_exporter": "python",
   "pygments_lexer": "ipython3",
   "version": "3.13.1"
  }
 },
 "nbformat": 4,
 "nbformat_minor": 5
}
