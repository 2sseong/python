{
 "cells": [
  {
   "cell_type": "code",
   "execution_count": 297,
   "id": "797be021-d6b4-473f-924e-8eac0a982a53",
   "metadata": {},
   "outputs": [
    {
     "name": "stdin",
     "output_type": "stream",
     "text": [
      "단어를 입력하세요: 가나다라다나가\n"
     ]
    },
    {
     "name": "stdout",
     "output_type": "stream",
     "text": [
      "앞 뒤 똑같습니다.\n"
     ]
    }
   ],
   "source": [
    "# P1\n",
    "inp = input('단어를 입력하세요:')\n",
    "a = inp\n",
    "b = 0\n",
    "c = 0\n",
    "for i in range(int(len(a)/2)):\n",
    "    b += 1\n",
    "    if a[i] == a[len(a)-b]:\n",
    "        c+=1\n",
    "    else:\n",
    "        c=0\n",
    "if c == int(len(a)/2):\n",
    "    print(\"앞 뒤 똑같습니다.\")\n",
    "else:\n",
    "    print(\"앞 뒤 다릅니다.\")"
   ]
  },
  {
   "cell_type": "code",
   "execution_count": 3,
   "id": "ce9c82fd-2371-4646-9498-330c00548010",
   "metadata": {},
   "outputs": [
    {
     "name": "stdout",
     "output_type": "stream",
     "text": [
      "짝수: ['2', '4']\n",
      "홀수: ['1', '3']\n"
     ]
    }
   ],
   "source": [
    "# P2\n",
    "from IPython.display import clear_output\n",
    "a=[]\n",
    "inp = ''\n",
    "while inp != 'end':\n",
    "    inp = input('숫자를 입력하세요(끝나면end입력)')\n",
    "    a.append(inp)\n",
    "    clear_output(wait=True) #이전 질문 지우기\n",
    "a.remove('end')    \n",
    "j =[]\n",
    "h =[]\n",
    "for i in range(len(a)):\n",
    "    if int(a[i])%2 == 0:\n",
    "        j.append(a[i])\n",
    "        \n",
    "    else:\n",
    "        h.append(a[i])\n",
    "        \n",
    "print('짝수:', j)\n",
    "print('홀수:', h)"
   ]
  },
  {
   "cell_type": "code",
   "execution_count": 5,
   "id": "ab678086-fe11-4dfb-a438-2dee4100103e",
   "metadata": {},
   "outputs": [
    {
     "name": "stdin",
     "output_type": "stream",
     "text": [
      "문장 입력하세요: 안녕하세요 감사해요. 잘있어요. 다시 만나요.\n"
     ]
    },
    {
     "name": "stdout",
     "output_type": "stream",
     "text": [
      "제일 긴 단어: ['안녕하세요', '감사해요.', '잘있어요.']\n"
     ]
    }
   ],
   "source": [
    "# P3\n",
    "\n",
    "inp = input('문장 입력하세요:')\n",
    "\n",
    "x = inp.split(\" \")\n",
    "x = sorted(x,key=len,reverse=True)\n",
    "\n",
    "long =[]\n",
    "long.append(x[0])\n",
    "for a in range(1,len(x)):\n",
    "    if len(x[0]) == len(x[a]):\n",
    "        long.append(x[a])\n",
    "    \n",
    "        \n",
    "        \n",
    "print('제일 긴 단어:', long)"
   ]
  },
  {
   "cell_type": "code",
   "execution_count": 56,
   "id": "0bc750be-2e25-44a0-8d62-eeaf74b3b7dd",
   "metadata": {},
   "outputs": [
    {
     "name": "stdin",
     "output_type": "stream",
     "text": [
      "당신의 기분을 한 문장으로 표현해주세요: 좋아 행복해 근데 짜증 나\n"
     ]
    },
    {
     "name": "stdout",
     "output_type": "stream",
     "text": [
      "좋아 행복해 근데 짜증 나\n",
      "기분이 나빠 보이네요\n"
     ]
    }
   ],
   "source": [
    "#p4\n",
    "positive_words = [\"좋아\",\"행복\",\"멋져\",\"최고\",\"사랑해\"]\n",
    "negative_words = [\"싫어\",\"화나\",\"짜증\",\"별로\",\"나빠\"]\n",
    "inp = input(\"당신의 기분을 한 문장으로 표현해주세요:\")\n",
    "inp = inp.replace('!',\"\").replace('.',\"\").replace('?',\"\").replace(',',\"\")\n",
    "print(inp)\n",
    "emotion = 0\n",
    "p_words = -1\n",
    "n_words = -1\n",
    "for i in range(5):                                \n",
    "    if positive_words[i] in inp: \n",
    "        p_words = inp.find(positive_words[i])\n",
    "      \n",
    "        \n",
    "    elif negative_words[i] in inp:\n",
    "        n_words = inp.find(negative_words[i])\n",
    "       \n",
    "        \n",
    "if p_words > n_words:                #문장 마지막 단어를 통해 기분 결정\n",
    "    print(\"기분이 좋아 보이네요\")\n",
    "elif p_words < n_words:\n",
    "    print(\"기분이 나빠 보이네요\")\n",
    "else:\n",
    "    print(\"평범한 하루네요\")"
   ]
  },
  {
   "cell_type": "code",
   "execution_count": 20,
   "id": "3724ff66-5466-42cf-a022-460e32480b89",
   "metadata": {},
   "outputs": [
    {
     "name": "stdin",
     "output_type": "stream",
     "text": [
      "당신의 기분을 한 문장으로 표현해주세요: 좋아 싫어 싫어 최고야\n"
     ]
    },
    {
     "name": "stdout",
     "output_type": "stream",
     "text": [
      "-1\n"
     ]
    }
   ],
   "source": [
    "# p4 강사님 풀이\n",
    "positive_words = [\"좋아\",\"행복\",\"멋져\",\"최고\",\"사랑해\"]\n",
    "negative_words = [\"싫어\",\"화나\",\"짜증\",\"별로\",\"나빠\"]\n",
    "text = input('당신의 기분을 한 문장으로 표현해주세요:')\n",
    "#간단\n",
    "# for v in positive_words:\n",
    "#     if v in text:\n",
    "#         print('기분이 좋아보이네요.')\n",
    "# for n in negative_words:\n",
    "#     if n in text:\n",
    "#         print('기분이 나빠보이네요.')\n",
    "\n",
    "# 해설2\n",
    "# if any (word in text for word in positive_words):\n",
    "#     print(\"기분이 좋아 보이네요.\")\n",
    "# elif any(word in text for word in negative_words):\n",
    "#     print(\"기분이 나빠 보이네요\")\n",
    "# else:\n",
    "#     print(\"보통이시네요\")\n",
    "\n",
    "# 해설3\n",
    "# pos = [v for v in positive_words if v in text]\n",
    "# print(pos,len(pos))\n",
    "# neg = [v for v in negative_words if v in text]\n",
    "# print(neg,len(neg))\n",
    "# if len(pos)>len(neg):\n",
    "#     print(\"기분이 좋아 보이네요\")\n",
    "# elif len(pos)<len(neg):\n",
    "#     print(\"기분이 나빠 보이네요\")\n",
    "# else:\n",
    "#     print(\"보통이네요\")\n",
    "\n",
    "# 해설4\n",
    "# pnum = 0\n",
    "# text = text.split(\" \")\n",
    "# for v in positive_words:\n",
    "#     for s in text:\n",
    "        # if v == s:\n",
    "#             pnum += 1\n",
    "# for x in negative_words:\n",
    "#     for y in text:\n",
    "#         if x == y:\n",
    "#             pnum -= 1\n",
    "# print(pnum)\n"
   ]
  },
  {
   "cell_type": "code",
   "execution_count": 69,
   "id": "1610b730-c168-41d6-97da-fdd59d33f5a4",
   "metadata": {},
   "outputs": [],
   "source": [
    "# !pip install konlpy"
   ]
  },
  {
   "cell_type": "code",
   "execution_count": null,
   "id": "67f82bde-3a0c-4925-80de-069ecee1b9df",
   "metadata": {},
   "outputs": [],
   "source": [
    "from konlpy.tag import Okt\n",
    "\n",
    "#한글 형태소 분석기\n",
    "okt =Okt()\n",
    "positive_words = ['좋다', '행복','행복하다', '멋지다', '최고', '사랑']\n",
    "negative_words = ['싫다', '화나다', '짜증','짜증나다', '별로', '나쁘다']\n",
    "text = input('당신의 기분을 한 문장으로 표현해주세요:')\n",
    "pnum = 0\n",
    "words = okt.morphs(text, stem = True)\n",
    "\n",
    "for v in positive_words:\n",
    "    for s in words:\n",
    "        if v == s:\n",
    "            pnum += 1\n",
    "for x in negative_words:\n",
    "    for y in words:\n",
    "        if x == y:\n",
    "            pnum -= 1\n",
    "if pnum>0:\n",
    "    print('기분이 좋아 보이네요')\n",
    "elif pnum<0:\n",
    "    print('기분이 나빠 보이네요')\n",
    "else:\n",
    "    print('기분이 보통이네요')\n",
    "\n",
    "\n",
    "print(words)"
   ]
  },
  {
   "cell_type": "code",
   "execution_count": 288,
   "id": "814e70da-6774-4527-8078-0eac36b0b7ca",
   "metadata": {},
   "outputs": [
    {
     "name": "stdin",
     "output_type": "stream",
     "text": [
      "영어 문장 tody is a happy day\n"
     ]
    },
    {
     "name": "stdout",
     "output_type": "stream",
     "text": [
      "Tody Is A Happy Day. "
     ]
    }
   ],
   "source": [
    "#p5 영어 소문자 문장을 입력 받으면 매 첫글자만 대문자로 변경되게 하라\n",
    "inp = input(\"영어 문장:\")\n",
    "\n",
    "\n",
    "inp = inp.split(\" \")\n",
    "for i in range(len(inp)):\n",
    "    inp[i] = inp[i].replace(inp[i][0],inp[i][0].upper())\n",
    "\n",
    "inp[len(inp)-1] = inp[len(inp)-1] + '.'\n",
    "for i in range(len(inp)):\n",
    "    print(inp[i],end=\" \")\n",
    "\n",
    "    "
   ]
  },
  {
   "cell_type": "code",
   "execution_count": 61,
   "id": "948d18d5-964a-4607-a97e-378bf29625fb",
   "metadata": {},
   "outputs": [
    {
     "ename": "KeyError",
     "evalue": "'boxOfficeResult'",
     "output_type": "error",
     "traceback": [
      "\u001b[1;31m---------------------------------------------------------------------------\u001b[0m",
      "\u001b[1;31mKeyError\u001b[0m                                  Traceback (most recent call last)",
      "Cell \u001b[1;32mIn[61], line 16\u001b[0m\n\u001b[0;32m     14\u001b[0m url \u001b[38;5;241m=\u001b[39m \u001b[38;5;124mf\u001b[39m\u001b[38;5;124m\"\u001b[39m\u001b[38;5;124mhttp://www.kobis.or.kr/kobisopenapi/webservice/rest/boxoffice/searchDailyBoxOfficeList.json?key=\u001b[39m\u001b[38;5;132;01m{\u001b[39;00mKEY\u001b[38;5;132;01m}\u001b[39;00m\u001b[38;5;124m&targetDt=\u001b[39m\u001b[38;5;132;01m{\u001b[39;00myesterday_date\u001b[38;5;132;01m}\u001b[39;00m\u001b[38;5;124m&itemPerPage=10&repNationCd=K\u001b[39m\u001b[38;5;124m\"\u001b[39m\n\u001b[0;32m     15\u001b[0m req \u001b[38;5;241m=\u001b[39m requests\u001b[38;5;241m.\u001b[39mget(url)\n\u001b[1;32m---> 16\u001b[0m data \u001b[38;5;241m=\u001b[39m \u001b[43mreq\u001b[49m\u001b[38;5;241;43m.\u001b[39;49m\u001b[43mjson\u001b[49m\u001b[43m(\u001b[49m\u001b[43m)\u001b[49m\u001b[43m[\u001b[49m\u001b[38;5;124;43m'\u001b[39;49m\u001b[38;5;124;43mboxOfficeResult\u001b[39;49m\u001b[38;5;124;43m'\u001b[39;49m\u001b[43m]\u001b[49m[\u001b[38;5;124m'\u001b[39m\u001b[38;5;124mdailyBoxOfficeList\u001b[39m\u001b[38;5;124m'\u001b[39m]\n\u001b[0;32m     18\u001b[0m \u001b[38;5;28mprint\u001b[39m(\u001b[38;5;124mf\u001b[39m\u001b[38;5;124m\"\u001b[39m\u001b[38;5;124m========== \u001b[39m\u001b[38;5;132;01m{\u001b[39;00mtoday_date\u001b[38;5;132;01m}\u001b[39;00m\u001b[38;5;124m 영화 순위 ==========\u001b[39m\u001b[38;5;124m\"\u001b[39m)\n\u001b[0;32m     19\u001b[0m \u001b[38;5;28;01mfor\u001b[39;00m i \u001b[38;5;129;01min\u001b[39;00m \u001b[38;5;28mrange\u001b[39m(\u001b[38;5;241m10\u001b[39m):\n",
      "\u001b[1;31mKeyError\u001b[0m: 'boxOfficeResult'"
     ]
    }
   ],
   "source": [
    "import requests\n",
    "from datetime import datetime, timedelta\n",
    "from dotenv import load_dotenv\n",
    "import json\n",
    "import os\n",
    "\n",
    "load_dotenv()\n",
    "z = 'd942667071533ab10be808404c2ac45f'\n",
    "KEY = os.getenv(z)\n",
    "\n",
    "today_date = datetime.today().strftime(\"%Y-%m-%d\").replace(\"-\",\"\") #오늘 날짜\n",
    "yesterday_date = (datetime.today() - timedelta(1)).strftime(\"%Y-%m-%d\").replace(\"-\",\"\") #어제 날짜 (영화 순위 업데이트가 안돼서 어제 날짜로 해야 잘 나옴)\n",
    "\n",
    "url = f\"http://www.kobis.or.kr/kobisopenapi/webservice/rest/boxoffice/searchDailyBoxOfficeList.json?key={KEY}&targetDt={yesterday_date}&itemPerPage=10&repNationCd=K\"\n",
    "req = requests.get(url)\n",
    "data = req.json()['boxOfficeResult']['dailyBoxOfficeList']\n",
    "\n",
    "print(f\"========== {today_date} 영화 순위 ==========\")\n",
    "for i in range(10):\n",
    "    print(f\"{i + 1}위 : {data[i]['movieNm']}\")"
   ]
  },
  {
   "cell_type": "code",
   "execution_count": 39,
   "id": "60ab7e87-290b-4760-b218-8fc328d8aa0b",
   "metadata": {},
   "outputs": [
    {
     "name": "stdout",
     "output_type": "stream",
     "text": [
      "========== 2025-02-17 영화 순위 ==========\n",
      ".\n"
     ]
    }
   ],
   "source": [
    "import requests\n",
    "from datetime import datetime, timedelta\n",
    "from dotenv import load_dotenv\n",
    "import os\n",
    "\n",
    "# .env 파일 로드\n",
    "load_dotenv()\n",
    "\n",
    "KOBIS_API_KEY = 'd942667071533ab10be808404c2ac45f'\n",
    "# 환경 변수에서 API 키 가져오기\n",
    "KEY = os.getenv(\"KOBIS_API_KEY\")  # 환경 변수명을 올바르게 설정\n",
    "\n",
    "# 날짜 설정 (어제 날짜 기준)\n",
    "yesterday_date = (datetime.today() - timedelta(days=1)).strftime(\"%Y%m%d\")  # YYYYMMDD 형식으로 변경\n",
    "today_date = datetime.today().strftime(\"%Y-%m-%d\")\n",
    "\n",
    "# API 요청 URL\n",
    "url = f\"http://www.kobis.or.kr/kobisopenapi/webservice/rest/boxoffice/searchDailyBoxOfficeList.json?key={KEY}&targetDt={yesterday_date}&itemPerPage=10&repNationCd=K\"\n",
    "\n",
    "try:\n",
    "    # API 요청\n",
    "    req = requests.get(url)\n",
    "    req.raise_for_status()  # 요청 실패 시 예외 발생\n",
    "    data = req.json().get('boxOfficeResult', {}).get('dailyBoxOfficeList', [])\n",
    "except requests.exceptions.RequestException as e:\n",
    "    print(f\"API 요청 실패: {e}\")\n",
    "    \n",
    "\n",
    "# 결과 출력\n",
    "print(f\"========== {today_date} 영화 순위 ==========\")\n",
    "\n",
    "if not data:\n",
    "    print(\".\")\n",
    "else:\n",
    "    for i in range(min(10, len(data))):  # 데이터 개수만큼 반복\n",
    "        print(f\"{i + 1}위 : {data[i]['movieNm']}\")"
   ]
  },
  {
   "cell_type": "code",
   "execution_count": 58,
   "id": "7d7109be-5e9c-4604-896c-0b346a1250c0",
   "metadata": {},
   "outputs": [],
   "source": [
    "class Ascii:\n",
    "    def __init__(self):\n",
    "        return\n",
    "    def ex1():\n",
    "        for i in range(65, 91):\n",
    "            print(chr(i),end = ' ')"
   ]
  },
  {
   "cell_type": "code",
   "execution_count": 37,
   "id": "7f90fd72-95f1-47a5-8d66-eedfd4335c16",
   "metadata": {},
   "outputs": [],
   "source": [
    "class Ascii:\n",
    "    def __init__(self):\n",
    "        self.result = 0\n",
    "    def ex1(self):\n",
    "        for i in range(65, 91):\n",
    "            print(chr(i),end = ' ')\n",
    "    def  ex2(self):\n",
    "        for j in range(122,96,-1):\n",
    "            print(chr(j),end='')\n",
    "    def ex3(self):\n",
    "        for i in range(3):\n",
    "            print('\\n')\n",
    "            for j in range(1,11):\n",
    "                print(chr(i+65) + str(j) + '\\t',end='')\n"
   ]
  },
  {
   "cell_type": "code",
   "execution_count": 38,
   "id": "7728eaa0-dac9-4ddf-8110-a498b9d9da13",
   "metadata": {},
   "outputs": [
    {
     "name": "stdout",
     "output_type": "stream",
     "text": [
      "A B C D E F G H I J K L M N O P Q R S T U V W X Y Z zyxwvutsrqponmlkjihgfedcba\n",
      "\n",
      "A1\tA2\tA3\tA4\tA5\tA6\tA7\tA8\tA9\tA10\t\n",
      "\n",
      "B1\tB2\tB3\tB4\tB5\tB6\tB7\tB8\tB9\tB10\t\n",
      "\n",
      "C1\tC2\tC3\tC4\tC5\tC6\tC7\tC8\tC9\tC10\t"
     ]
    }
   ],
   "source": [
    "a = Ascii()\n",
    "a.ex1()\n",
    "a.ex2()\n",
    "a.ex3()"
   ]
  },
  {
   "cell_type": "code",
   "execution_count": 36,
   "id": "738a17a0-0a43-439f-a5df-6298d96b715c",
   "metadata": {},
   "outputs": [
    {
     "name": "stdout",
     "output_type": "stream",
     "text": [
      "zyxwvutsrqponmlkjihgfedcba"
     ]
    }
   ],
   "source": [
    "Ascii.ex2()"
   ]
  },
  {
   "cell_type": "code",
   "execution_count": 95,
   "id": "3ea18426-60e3-4a1d-a22e-cd0ea7dcdfe8",
   "metadata": {},
   "outputs": [
    {
     "name": "stdout",
     "output_type": "stream",
     "text": [
      "\n",
      "\n",
      "A1\tA2\tA3\tA4\tA5\tA6\tA7\tA8\tA9\tA10\t\n",
      "\n",
      "B1\tB2\tB3\tB4\tB5\tB6\tB7\tB8\tB9\tB10\t\n",
      "\n",
      "C1\tC2\tC3\tC4\tC5\tC6\tC7\tC8\tC9\tC10\t"
     ]
    }
   ],
   "source": [
    "Ascii.ex3(9)"
   ]
  },
  {
   "cell_type": "code",
   "execution_count": 3,
   "id": "20016fc9-704b-45ff-9abe-086c8437e493",
   "metadata": {},
   "outputs": [
    {
     "name": "stdout",
     "output_type": "stream",
     "text": [
      "A B C D E F G H I J K L M N O P Q R S T U V W X Y Z "
     ]
    }
   ],
   "source": [
    "ascii.ex1()"
   ]
  },
  {
   "cell_type": "code",
   "execution_count": 4,
   "id": "94000fd9-1233-466b-914b-8f6956b237fc",
   "metadata": {},
   "outputs": [
    {
     "name": "stdout",
     "output_type": "stream",
     "text": [
      "zyxwvutsrqponmlkjihgfedcba"
     ]
    }
   ],
   "source": [
    "ascii.ex2()"
   ]
  },
  {
   "cell_type": "code",
   "execution_count": null,
   "id": "a9267c3e-132e-4f7b-82a0-ce0df66c3182",
   "metadata": {},
   "outputs": [],
   "source": []
  }
 ],
 "metadata": {
  "kernelspec": {
   "display_name": "Python 3 (ipykernel)",
   "language": "python",
   "name": "python3"
  },
  "language_info": {
   "codemirror_mode": {
    "name": "ipython",
    "version": 3
   },
   "file_extension": ".py",
   "mimetype": "text/x-python",
   "name": "python",
   "nbconvert_exporter": "python",
   "pygments_lexer": "ipython3",
   "version": "3.13.1"
  }
 },
 "nbformat": 4,
 "nbformat_minor": 5
}
