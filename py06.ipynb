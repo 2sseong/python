{
 "cells": [
  {
   "cell_type": "markdown",
   "id": "80b1476f-3c17-4f2f-947c-963880773c44",
   "metadata": {},
   "source": [
    "# 모듈"
   ]
  },
  {
   "cell_type": "markdown",
   "id": "13abe73e-8aae-4554-8c4e-5dbb246d58fb",
   "metadata": {},
   "source": [
    "## 모듈 만들기"
   ]
  },
  {
   "cell_type": "code",
   "execution_count": 1,
   "id": "7394d6a5-ba48-4309-9cba-0470ee63aebc",
   "metadata": {},
   "outputs": [],
   "source": [
    "# 모듈 만들기\n",
    "# def add(a,b):\n",
    "#     return a+b\n",
    "# def sub(a,b):\n",
    "#     return a-b"
   ]
  },
  {
   "cell_type": "code",
   "execution_count": 5,
   "id": "d36e8fa5-2ba9-4ff0-8186-c79c7879d418",
   "metadata": {},
   "outputs": [
    {
     "name": "stdout",
     "output_type": "stream",
     "text": [
      "33\n",
      "11\n"
     ]
    }
   ],
   "source": [
    "import mod1\n",
    "print(mod1.add(11,22))\n",
    "print(mod1.sub(33,22))"
   ]
  },
  {
   "cell_type": "code",
   "execution_count": 25,
   "id": "01dde33a-3c1c-4b1d-a66d-887854512e65",
   "metadata": {},
   "outputs": [],
   "source": [
    "with open(\"mod2.py\",\"w\") as f:\n",
    "    data=\"\"\"\n",
    "def mul(a,b):\n",
    "    return a*b\n",
    "def div(a,b):\n",
    "    return a/b\n",
    "    \"\"\"\n",
    "    f.write(data)\n",
    "    "
   ]
  },
  {
   "cell_type": "code",
   "execution_count": 26,
   "id": "b991af64-b344-42d5-830a-2ddf7b1043d1",
   "metadata": {},
   "outputs": [
    {
     "name": "stdout",
     "output_type": "stream",
     "text": [
      "12\n",
      "3.0\n"
     ]
    }
   ],
   "source": [
    "import mod2\n",
    "print(mod2.mul(3,4))\n",
    "print(mod2.div(12,4))"
   ]
  },
  {
   "cell_type": "code",
   "execution_count": 1,
   "id": "23b1ecd4-6a6c-4fc6-b3a2-60eebf8bef90",
   "metadata": {},
   "outputs": [
    {
     "name": "stdout",
     "output_type": "stream",
     "text": [
      "33\n",
      "11\n",
      "12\n",
      "3.0\n"
     ]
    }
   ],
   "source": [
    "import mod1, mod2     #여러 모듈 불러오기\n",
    "\n",
    "\n",
    "print(mod1.add(11,22))\n",
    "print(mod1.sub(33,22))\n",
    "print(mod2.mul(3,4))\n",
    "print(mod2.div(12,4))"
   ]
  },
  {
   "cell_type": "code",
   "execution_count": 1,
   "id": "c97f636e-bbdc-48ca-b2a5-9a61c4707102",
   "metadata": {},
   "outputs": [
    {
     "name": "stdout",
     "output_type": "stream",
     "text": [
      "33\n",
      "11\n",
      "12\n",
      "3.0\n"
     ]
    }
   ],
   "source": [
    "# import mod1 as m1\n",
    "# import mod2 as m2\n",
    "import mod1 as m1, mod2 as m2  #충돌 일어날 일이 적음\n",
    "print(m1.add(11,22))\n",
    "print(m1.sub(33,22))\n",
    "print(m2.mul(3,4))\n",
    "print(m2.div(12,4))"
   ]
  },
  {
   "cell_type": "code",
   "execution_count": 2,
   "id": "c29b44e3-74d3-483f-adef-19b617873725",
   "metadata": {},
   "outputs": [
    {
     "name": "stdout",
     "output_type": "stream",
     "text": [
      "77\n"
     ]
    }
   ],
   "source": [
    "from mod1 import add, sub #충돌 일어날 수 있음\n",
    "print(add(33,44))"
   ]
  },
  {
   "cell_type": "code",
   "execution_count": 3,
   "id": "ffbad00b-35aa-4a8e-9334-640e49473acb",
   "metadata": {},
   "outputs": [
    {
     "name": "stdout",
     "output_type": "stream",
     "text": [
      "20\n"
     ]
    }
   ],
   "source": [
    "from mod2 import *\n",
    "print(mul(4,5))"
   ]
  },
  {
   "cell_type": "markdown",
   "id": "23ae1319-cfd4-49b5-9aac-801099be4880",
   "metadata": {},
   "source": [
    "## '__main__'의 의미"
   ]
  },
  {
   "cell_type": "code",
   "execution_count": 37,
   "id": "9b8eb432-09a0-4ce2-a807-a286571adcb8",
   "metadata": {},
   "outputs": [],
   "source": [
    "with open(\"mod1.py\",\"a\") as f:\n",
    "    text = \"\"\"\\nprint(add(1,4))\\nprint(sub(4,2))\n",
    "    \"\"\"\n",
    "    f.write(text)"
   ]
  },
  {
   "cell_type": "code",
   "execution_count": 38,
   "id": "31dd5b38-b1bf-4c7f-bfbe-1b5a981cebfb",
   "metadata": {},
   "outputs": [],
   "source": [
    "# %%bash: 우분투"
   ]
  },
  {
   "cell_type": "code",
   "execution_count": 1,
   "id": "6c8df680-fa2b-4f08-9e9b-4e5ff7471b93",
   "metadata": {},
   "outputs": [
    {
     "name": "stdout",
     "output_type": "stream",
     "text": [
      "Microsoft Windows [Version 10.0.26100.2894]\n",
      "(c) Microsoft Corporation. All rights reserved.\n",
      "\n",
      "SH\\code>python mod1.py\n",
      "5\n",
      "2\n",
      "__main__\n",
      "�� ���Ϸ� ������ �Ǿ����.\n",
      "\n",
      "D:\\LSH\\code>"
     ]
    }
   ],
   "source": [
    "%%cmd\n",
    "python mod1.py"
   ]
  },
  {
   "cell_type": "code",
   "execution_count": 29,
   "id": "19f6fe51-1701-4a1b-9452-4428c1ac278d",
   "metadata": {},
   "outputs": [
    {
     "name": "stdout",
     "output_type": "stream",
     "text": [
      "['__builtins__', '__cached__', '__doc__', '__file__', '__loader__', '__name__', '__package__', '__spec__', 'add', 'sub']\n",
      "mod1\n"
     ]
    }
   ],
   "source": [
    "import mod1\n",
    "print(dir(mod1))\n",
    "print(mod1.__name__)"
   ]
  },
  {
   "cell_type": "code",
   "execution_count": 45,
   "id": "a317e95c-8533-4f00-afd9-094fb9240c22",
   "metadata": {},
   "outputs": [],
   "source": [
    "with open('mod1.py','a') as f:\n",
    "    content = \"\\nprint(__name__)\"\n",
    "    f.write(content)"
   ]
  },
  {
   "cell_type": "code",
   "execution_count": 2,
   "id": "dc47fe2d-43d2-4dde-af55-ee311ebbe7e5",
   "metadata": {},
   "outputs": [
    {
     "name": "stdout",
     "output_type": "stream",
     "text": [
      "5\n",
      "2\n",
      "mod1\n",
      "전 모듈로 임포트 되었어요.\n"
     ]
    },
    {
     "data": {
      "text/plain": [
       "['__builtins__',\n",
       " '__cached__',\n",
       " '__doc__',\n",
       " '__file__',\n",
       " '__loader__',\n",
       " '__name__',\n",
       " '__package__',\n",
       " '__spec__',\n",
       " 'add',\n",
       " 'sub']"
      ]
     },
     "execution_count": 2,
     "metadata": {},
     "output_type": "execute_result"
    }
   ],
   "source": [
    "import mod1\n",
    "dir(mod1)"
   ]
  },
  {
   "cell_type": "code",
   "execution_count": 6,
   "id": "69498af7-c36e-44f8-8f57-6a0138bb559c",
   "metadata": {},
   "outputs": [],
   "source": [
    "with open(\"sam.py\",\"a\",encoding = \"utf-8\") as f:\n",
    "    data=\"\"\"print(__name__)\n",
    "if __name__ == \"__main__\":\n",
    "    print(\"전 파일로 실행이 되었어요.\")\n",
    "else:\n",
    "    print(\"전 모듈로 임포트 되었어요.\")\n",
    "    \n",
    "    \n",
    "    \"\"\"\n",
    "    f.write(data)"
   ]
  },
  {
   "cell_type": "markdown",
   "id": "c09e062e-78b5-4cf7-96d0-94ca4c6be237",
   "metadata": {},
   "source": [
    "### 연습문제"
   ]
  },
  {
   "cell_type": "code",
   "execution_count": 3,
   "id": "239fd7b5-f43b-45bc-bc10-37e69029a310",
   "metadata": {},
   "outputs": [
    {
     "name": "stdout",
     "output_type": "stream",
     "text": [
      "sam\n",
      " \n"
     ]
    }
   ],
   "source": [
    "import sam"
   ]
  },
  {
   "cell_type": "code",
   "execution_count": 109,
   "id": "5286be7a-f2ee-46e9-b3d1-4feefbac1094",
   "metadata": {},
   "outputs": [],
   "source": [
    "import requests as req\n",
    "def kia():\n",
    "    a = input('')\n",
    "    url = \"https://finance.naver.com/sise/sise_market_sum.naver\"\n",
    "    web = req.get(url)\n",
    "    html = web.text\n",
    "    f2 = html.find(a)\n",
    "    return (f'{a}:' +html[f2:f2+100][17:50].replace('<td class=\"number\">',\"\").replace('</td>',\"\").replace('\\n',\"\").replace('\\t',\"\")+\"원\")\n"
   ]
  },
  {
   "cell_type": "code",
   "execution_count": 110,
   "id": "6b13184e-c278-4764-9cb3-89b87d648a15",
   "metadata": {},
   "outputs": [
    {
     "name": "stdin",
     "output_type": "stream",
     "text": [
      " 기아\n"
     ]
    },
    {
     "name": "stdout",
     "output_type": "stream",
     "text": [
      "기아:94,700원\n"
     ]
    }
   ],
   "source": [
    "print(kia())"
   ]
  },
  {
   "cell_type": "code",
   "execution_count": 93,
   "id": "0d9da26c-7564-49b9-af45-5c313651ebc6",
   "metadata": {},
   "outputs": [],
   "source": [
    "with open(\"sam2.py\",\"a\",encoding = \"utf-8\") as f:\n",
    "    data=\"\"\"\n",
    "def kia(a):\n",
    "    url = \"https://finance.naver.com/sise/sise_market_sum.naver\"\n",
    "    web = req.get(url)\n",
    "    html = web.text\n",
    "    f2 = html.find(a)\n",
    "    return (f'{a}:' +html[f2:f2+100][17:50].replace('<td class=\"number\">',\"\").replace('</td>',\"\").replace('\\n',\"\").replace('\\t',\"\")+\"원\")\n",
    "print(__name__)\n",
    "if __name__ == \"__main__\":\n",
    "    print(kia(a))\n",
    "else:\n",
    "    print(\"\")\n",
    "    \n",
    "    \"\"\"\n",
    "    f.write(data)"
   ]
  },
  {
   "cell_type": "code",
   "execution_count": 1,
   "id": "54f4c3c2-0a97-4cc8-9fe5-17b5005e2279",
   "metadata": {},
   "outputs": [
    {
     "name": "stdin",
     "output_type": "stream",
     "text": [
      " 기아\n"
     ]
    },
    {
     "name": "stdout",
     "output_type": "stream",
     "text": [
      "sam3\n",
      "기아:94,600\n",
      "\t\t원\n"
     ]
    }
   ],
   "source": [
    "import sam3"
   ]
  },
  {
   "cell_type": "code",
   "execution_count": 2,
   "id": "87841c5a-997a-40a7-bcba-1df1fa167363",
   "metadata": {},
   "outputs": [
    {
     "name": "stdin",
     "output_type": "stream",
     "text": [
      "원하는 종목을 입력하세요: 삼성전자\n"
     ]
    }
   ],
   "source": [
    "import requests as req\n",
    "a = input('원하는 종목을 입력하세요:')\n",
    "url = \"https://finance.naver.com/sise/sise_market_sum.naver\"\n",
    "web = req.get(url)\n",
    "html = web.text\n",
    "f2 = html.find(a)\n",
    "result = (f'{a}:' +html[f2:f2+100][17:50].replace('<td class=\"number\">',\"\").replace('</td>',\"\").replace('',\"\").replace('  ',\"\")+\"원\")"
   ]
  },
  {
   "cell_type": "code",
   "execution_count": 7,
   "id": "f91c3607-1ee4-4f4b-bee3-5315e286174e",
   "metadata": {},
   "outputs": [],
   "source": [
    "import sam_final"
   ]
  },
  {
   "cell_type": "markdown",
   "id": "5c44b4a1-0699-4434-a479-717e651ae217",
   "metadata": {},
   "source": [
    "## 클래스나 변수등을 포함한 모듈"
   ]
  },
  {
   "cell_type": "code",
   "execution_count": 1,
   "id": "29a7c223-4354-4c2e-9b2e-252767734055",
   "metadata": {},
   "outputs": [],
   "source": [
    "with open('mod3.py','w') as f:\n",
    "    text = \"\"\"PI = 3.141592\\n\\nclass Math:\\n\\tdef solv(self,r):\\n\\t\\treturn PI*(r**2)\\n\\ndef add(a,b):\\n\\treturn a+b\"\"\"\n",
    "    f.write(text)"
   ]
  },
  {
   "cell_type": "code",
   "execution_count": 3,
   "id": "258bd7e5-2418-45d8-8d98-4139fdf05a52",
   "metadata": {},
   "outputs": [
    {
     "ename": "ModuleNotFoundError",
     "evalue": "No module named 'mod3'",
     "output_type": "error",
     "traceback": [
      "\u001b[1;31m---------------------------------------------------------------------------\u001b[0m",
      "\u001b[1;31mModuleNotFoundError\u001b[0m                       Traceback (most recent call last)",
      "Cell \u001b[1;32mIn[3], line 1\u001b[0m\n\u001b[1;32m----> 1\u001b[0m \u001b[38;5;28;01mimport\u001b[39;00m\u001b[38;5;250m \u001b[39m\u001b[38;5;21;01mmod3\u001b[39;00m\n\u001b[0;32m      2\u001b[0m \u001b[38;5;66;03m# 변수\u001b[39;00m\n\u001b[0;32m      3\u001b[0m \u001b[38;5;28mprint\u001b[39m(mod3\u001b[38;5;241m.\u001b[39mPI)\n",
      "\u001b[1;31mModuleNotFoundError\u001b[0m: No module named 'mod3'"
     ]
    }
   ],
   "source": [
    "import mod3\n",
    "# 변수\n",
    "print(mod3.PI)\n",
    "\n",
    "# 클래스\n",
    "a = mod3.Math()\n",
    "print(a.solv(10))\n",
    "\n",
    "# 함수\n",
    "print(mod3.add(mod3.PI, 4.4))"
   ]
  },
  {
   "cell_type": "markdown",
   "id": "a03e02a6-bdfa-44d7-941a-793724079303",
   "metadata": {},
   "source": [
    "## 다른 디렉터리에 있는 모듈 불러오기"
   ]
  },
  {
   "cell_type": "code",
   "execution_count": 1,
   "id": "e8230843-9ada-479b-bbb7-3088c886afee",
   "metadata": {},
   "outputs": [
    {
     "data": {
      "text/plain": [
       "['C:\\\\Users\\\\Admin\\\\AppData\\\\Local\\\\Programs\\\\Python\\\\Python313\\\\python313.zip',\n",
       " 'C:\\\\Users\\\\Admin\\\\AppData\\\\Local\\\\Programs\\\\Python\\\\Python313\\\\DLLs',\n",
       " 'C:\\\\Users\\\\Admin\\\\AppData\\\\Local\\\\Programs\\\\Python\\\\Python313\\\\Lib',\n",
       " 'C:\\\\Users\\\\Admin\\\\AppData\\\\Local\\\\Programs\\\\Python\\\\Python313',\n",
       " '',\n",
       " 'C:\\\\Users\\\\Admin\\\\AppData\\\\Local\\\\Programs\\\\Python\\\\Python313\\\\Lib\\\\site-packages',\n",
       " 'C:\\\\Users\\\\Admin\\\\AppData\\\\Local\\\\Programs\\\\Python\\\\Python313\\\\Lib\\\\site-packages\\\\win32',\n",
       " 'C:\\\\Users\\\\Admin\\\\AppData\\\\Local\\\\Programs\\\\Python\\\\Python313\\\\Lib\\\\site-packages\\\\win32\\\\lib',\n",
       " 'C:\\\\Users\\\\Admin\\\\AppData\\\\Local\\\\Programs\\\\Python\\\\Python313\\\\Lib\\\\site-packages\\\\Pythonwin']"
      ]
     },
     "execution_count": 1,
     "metadata": {},
     "output_type": "execute_result"
    }
   ],
   "source": [
    "import sys\n",
    "sys.path"
   ]
  },
  {
   "cell_type": "code",
   "execution_count": 3,
   "id": "da3215a8-3294-41ae-9458-c779562b3bb9",
   "metadata": {},
   "outputs": [
    {
     "data": {
      "text/plain": [
       "['C:\\\\Users\\\\Admin\\\\AppData\\\\Local\\\\Programs\\\\Python\\\\Python313\\\\python313.zip',\n",
       " 'C:\\\\Users\\\\Admin\\\\AppData\\\\Local\\\\Programs\\\\Python\\\\Python313\\\\DLLs',\n",
       " 'C:\\\\Users\\\\Admin\\\\AppData\\\\Local\\\\Programs\\\\Python\\\\Python313\\\\Lib',\n",
       " 'C:\\\\Users\\\\Admin\\\\AppData\\\\Local\\\\Programs\\\\Python\\\\Python313',\n",
       " '',\n",
       " 'C:\\\\Users\\\\Admin\\\\AppData\\\\Local\\\\Programs\\\\Python\\\\Python313\\\\Lib\\\\site-packages',\n",
       " 'C:\\\\Users\\\\Admin\\\\AppData\\\\Local\\\\Programs\\\\Python\\\\Python313\\\\Lib\\\\site-packages\\\\win32',\n",
       " 'C:\\\\Users\\\\Admin\\\\AppData\\\\Local\\\\Programs\\\\Python\\\\Python313\\\\Lib\\\\site-packages\\\\win32\\\\lib',\n",
       " 'C:\\\\Users\\\\Admin\\\\AppData\\\\Local\\\\Programs\\\\Python\\\\Python313\\\\Lib\\\\site-packages\\\\Pythonwin',\n",
       " 'D:\\\\lsh\\\\code\\\\mymod']"
      ]
     },
     "execution_count": 3,
     "metadata": {},
     "output_type": "execute_result"
    }
   ],
   "source": [
    "sys.path.append('D:\\\\lsh\\\\code\\\\mymod') #초기화하면 사라짐\n",
    "sys.path"
   ]
  },
  {
   "cell_type": "code",
   "execution_count": 1,
   "id": "285071f7-4397-4972-87d3-8d84eecfa3eb",
   "metadata": {},
   "outputs": [
    {
     "ename": "SyntaxError",
     "evalue": "invalid syntax (3837460090.py, line 1)",
     "output_type": "error",
     "traceback": [
      "\u001b[1;36m  Cell \u001b[1;32mIn[1], line 1\u001b[1;36m\u001b[0m\n\u001b[1;33m    CMD에서 set PYTHONPATH=D:\\lsh\\code\\mymod\u001b[0m\n\u001b[1;37m          ^\u001b[0m\n\u001b[1;31mSyntaxError\u001b[0m\u001b[1;31m:\u001b[0m invalid syntax\n"
     ]
    }
   ],
   "source": [
    "CMD에서 set PYTHONPATH=D:\\lsh\\code\\mymod\n",
    "PS에서 $env PYTHONPATH=D:\\lsh\\code\\mymod"
   ]
  },
  {
   "cell_type": "code",
   "execution_count": 1,
   "id": "e0393d20-0638-4a88-84d9-10e8f6c55ef1",
   "metadata": {},
   "outputs": [],
   "source": [
    "# !pip install python-dotenv\n",
    "# !python.exe -m pip install --upgrade pip"
   ]
  },
  {
   "cell_type": "code",
   "execution_count": 9,
   "id": "12c57ff5-b674-4581-9de1-d41c624bc2af",
   "metadata": {},
   "outputs": [
    {
     "name": "stdout",
     "output_type": "stream",
     "text": [
      "myphone01099999999\n",
      "https://www.google.com\n",
      "이게될까?? 모르겠어요.!\n"
     ]
    }
   ],
   "source": [
    "from dotenv import load_dotenv\n",
    "import os\n",
    "\n",
    "# .env 파일 로드\n",
    "load_dotenv()\n",
    "\n",
    "SKEY = os.getenv(\"SECRET_KEY\")\n",
    "print(SKEY)\n",
    "DBUG = os.getenv(\"DEBUG\")\n",
    "print(DBUG)\n",
    "TEST = os.getenv(\"TEST\")\n",
    "print(TEST)"
   ]
  },
  {
   "cell_type": "code",
   "execution_count": null,
   "id": "4259aa76-e4fd-4bf1-950e-1614e61eff1f",
   "metadata": {},
   "outputs": [],
   "source": []
  },
  {
   "cell_type": "code",
   "execution_count": 1,
   "id": "47268fdc-4afc-4dde-8887-dba53c99e6f6",
   "metadata": {},
   "outputs": [
    {
     "name": "stdout",
     "output_type": "stream",
     "text": [
      "{\n",
      "\t\"lastBuildDate\":\"Thu, 13 Feb 2025 15:47:31 +0900\",\n",
      "\t\"total\":2094071,\n",
      "\t\"start\":1,\n",
      "\t\"display\":10,\n",
      "\t\"items\":[\n",
      "\t\t{\n",
      "\t\t\t\"title\":\"잔혹한 학대 당하다 동창 살해한 10대…심신미약 수용 2심서 집행유예\",\n",
      "\t\t\t\"originallink\":\"http:\\/\\/www.kado.net\\/news\\/articleView.html?idxno=1293309\",\n",
      "\t\t\t\"link\":\"https:\\/\\/n.news.naver.com\\/mnews\\/article\\/654\\/0000105899?sid=102\",\n",
      "\t\t\t\"description\":\"<b>속보<\\/b>=잔혹한 괴롭힘을 참지 못하고 살인을 저지 10대 피고인(본지 5월 24일자 5면 등)의 심신미약에 대한 주장이 받아들여지면서 2심에서 집행유예로 감형받아 석방됐다. 13일 서울고법 춘천재판부 형사1부(부장판사... \",\n",
      "\t\t\t\"pubDate\":\"Thu, 13 Feb 2025 15:42:00 +0900\"\n",
      "\t\t},\n",
      "\t\t{\n",
      "\t\t\t\"title\":\"[<b>속보<\\/b>] 코스피 1.36% 오른 2583.17 마감...원·달러 환율 1447.5원\",\n",
      "\t\t\t\"originallink\":\"https:\\/\\/www.gukjenews.com\\/news\\/articleView.html?idxno=3201471\",\n",
      "\t\t\t\"link\":\"https:\\/\\/www.gukjenews.com\\/news\\/articleView.html?idxno=3201471\",\n",
      "\t\t\t\"description\":\"원·달러 환율이 13년 6개월만에 1400원을 돌파한 22일 오전 서울 여의도 국민은행 딜링룸 전광판에 환율이 표시되고 있다. 코스피는 전 거래일(2347.21)보다 27.51포인트(1.17%) 내린 2319.70에, 코스닥은 전... \",\n",
      "\t\t\t\"pubDate\":\"Thu, 13 Feb 2025 15:40:00 +0900\"\n",
      "\t\t},\n",
      "\t\t{\n",
      "\t\t\t\"title\":\"[<b>속보<\\/b>] 국힘 윤리위, 尹 제명·탈당 권유 등 징계 않기로 결정\",\n",
      "\t\t\t\"originallink\":\"https:\\/\\/www.busan.com\\/view\\/busan\\/view.php?code=2025021315294691312\",\n",
      "\t\t\t\"link\":\"https:\\/\\/n.news.naver.com\\/mnews\\/article\\/082\\/0001311655?sid=100\",\n",
      "\t\t\t\"description\":\"국민의힘 중앙윤리위원회가 한동훈 전 대표의 요구로 시작된 윤석열 대통령 징계 절차 종결을 선언하고 제명·탈당 권유 등 징계 조치를 하지 않기로 결론을 내렸다. 13일 여의도 당사에서 윤리위 회의를 마친 여상원 당... \",\n",
      "\t\t\t\"pubDate\":\"Thu, 13 Feb 2025 15:40:00 +0900\"\n",
      "\t\t},\n",
      "\t\t{\n",
      "\t\t\t\"title\":\"[<b>속보<\\/b>] 코스피, 34.78p(1.36%) 오른 2583.17 마감\",\n",
      "\t\t\t\"originallink\":\"https:\\/\\/www.ajunews.com\\/view\\/20250213153604105\",\n",
      "\t\t\t\"link\":\"https:\\/\\/www.ajunews.com\\/view\\/20250213153604105\",\n",
      "\t\t\t\"description\":\"아주경제=홍승우 기자 hongscoop@ajunews.com 코스피, 34.78p(1.36%) 오른 2583.17 마감 코스닥, 4.10p(0.55%) 오른 749.28 마감\",\n",
      "\t\t\t\"pubDate\":\"Thu, 13 Feb 2025 15:38:00 +0900\"\n",
      "\t\t},\n",
      "\t\t{\n",
      "\t\t\t\"title\":\"[ET라씨로]이수페타시스, 5공장 증설 가속화에 상승세\",\n",
      "\t\t\t\"originallink\":\"https:\\/\\/www.etnews.com\\/20250213000334\",\n",
      "\t\t\t\"link\":\"https:\\/\\/n.news.naver.com\\/mnews\\/article\\/030\\/0003283967?sid=101\",\n",
      "\t\t\t\"description\":\"신청 이 기사는 전자신문과 금융 AI 전문기업 씽크풀이 공동으로 작성한 것입니다. AI를 기반으로 생성된 데이터에 기자의 취재 내용을 추가한 'AI 휴머노이드 기사'입니다. ※ ET라씨로에서 실시간 <b>속보<\\/b> 확인하기\",\n",
      "\t\t\t\"pubDate\":\"Thu, 13 Feb 2025 15:37:00 +0900\"\n",
      "\t\t},\n",
      "\t\t{\n",
      "\t\t\t\"title\":\"[ET라씨로]현대건설, 1조 규모 힐튼호텔 계약 수주에 상승세\",\n",
      "\t\t\t\"originallink\":\"https:\\/\\/www.etnews.com\\/20250213000336\",\n",
      "\t\t\t\"link\":\"https:\\/\\/n.news.naver.com\\/mnews\\/article\\/030\\/0003283966?sid=101\",\n",
      "\t\t\t\"description\":\"신청 이 기사는 전자신문과 금융 AI 전문기업 씽크풀이 공동으로 작성한 것입니다. AI를 기반으로 생성된 데이터에 기자의 취재 내용을 추가한 'AI 휴머노이드 기사'입니다. ※ ET라씨로에서 실시간 <b>속보<\\/b> 확인하기\",\n",
      "\t\t\t\"pubDate\":\"Thu, 13 Feb 2025 15:37:00 +0900\"\n",
      "\t\t},\n",
      "\t\t{\n",
      "\t\t\t\"title\":\"[<b>속보<\\/b>] 코스피 34.78p(1.36%) 오른 2583.17(마감)\",\n",
      "\t\t\t\"originallink\":\"https:\\/\\/www.etoday.co.kr\\/news\\/view\\/2444958\",\n",
      "\t\t\t\"link\":\"https:\\/\\/www.etoday.co.kr\\/news\\/view\\/2444958\",\n",
      "\t\t\t\"description\":\"이투데이=박정호 기자 | 코스피 34.78p(1.36%) 오른 2583.17(마감)\",\n",
      "\t\t\t\"pubDate\":\"Thu, 13 Feb 2025 15:36:00 +0900\"\n",
      "\t\t},\n",
      "\t\t{\n",
      "\t\t\t\"title\":\"[<b>속보<\\/b>] 군사법원, 이진우 전 수방사령관 보석 신청 '기각'\",\n",
      "\t\t\t\"originallink\":\"http:\\/\\/news.mt.co.kr\\/mtview.php?no=2025021315341337828\",\n",
      "\t\t\t\"link\":\"https:\\/\\/n.news.naver.com\\/mnews\\/article\\/008\\/0005152928?sid=102\",\n",
      "\t\t\t\"description\":\"국방부 중앙지역군사법원 13일.\",\n",
      "\t\t\t\"pubDate\":\"Thu, 13 Feb 2025 15:35:00 +0900\"\n",
      "\t\t},\n",
      "\t\t{\n",
      "\t\t\t\"title\":\"[<b>속보<\\/b>]국민의힘 윤리위, 尹 제명·탈당 권유 등 징계 않기로\",\n",
      "\t\t\t\"originallink\":\"https:\\/\\/www.ikbc.co.kr\\/article\\/view\\/kbc202502130055\",\n",
      "\t\t\t\"link\":\"https:\\/\\/n.news.naver.com\\/mnews\\/article\\/660\\/0000079332?sid=100\",\n",
      "\t\t\t\"description\":\"국민의힘 중앙윤리위원회가 한동훈 전 대표의 요구로 시작된 윤석열 대통령에 대한 징계 절차 종결을 선언했습니다. 제명·탈당 권유 등 징계 조치는 하지 않기로 결론 내렸습니다. 여상원 당 윤리위원장은 13일 여의도... \",\n",
      "\t\t\t\"pubDate\":\"Thu, 13 Feb 2025 15:35:00 +0900\"\n",
      "\t\t},\n",
      "\t\t{\n",
      "\t\t\t\"title\":\"[<b>속보<\\/b>] 코스닥, 0.55%(4.10p) 오른 749.28(마감)\",\n",
      "\t\t\t\"originallink\":\"https:\\/\\/www.etoday.co.kr\\/news\\/view\\/2444957\",\n",
      "\t\t\t\"link\":\"https:\\/\\/www.etoday.co.kr\\/news\\/view\\/2444957\",\n",
      "\t\t\t\"description\":\"이투데이=박정호 기자 | 코스닥, 0.55%(4.10p) 오른 749.28(마감)\",\n",
      "\t\t\t\"pubDate\":\"Thu, 13 Feb 2025 15:34:00 +0900\"\n",
      "\t\t}\n",
      "\t]\n",
      "}\n"
     ]
    }
   ],
   "source": [
    "# 네이버 검색 API 예제 - 블로그 검색\n",
    "import os\n",
    "import sys\n",
    "import urllib.request\n",
    "from dotenv import load_dotenv\n",
    "\n",
    "\n",
    "load_dotenv()\n",
    "client_id = os.environ.get(\"MY_ID\")\n",
    "client_secret = os.environ.get(\"MY_SECRET\")\n",
    "\n",
    "encText = urllib.parse.quote(\"속보\")\n",
    "url = \"https://openapi.naver.com/v1/search/news.json?query=\" + encText  # JSON 결과\n",
    "request = urllib.request.Request(url)\n",
    "request.add_header(\"X-Naver-Client-Id\",client_id)\n",
    "request.add_header(\"X-Naver-Client-Secret\",client_secret)\n",
    "response = urllib.request.urlopen(request)\n",
    "rescode = response.getcode()\n",
    "if(rescode==200):\n",
    "    response_body = response.read()\n",
    "    print(response_body.decode('utf-8'))\n",
    "else:\n",
    "    print(\"Error Code:\" + rescode)"
   ]
  },
  {
   "cell_type": "code",
   "execution_count": null,
   "id": "ee47946d-0533-4b9c-80e3-a0b1f5879690",
   "metadata": {},
   "outputs": [],
   "source": []
  }
 ],
 "metadata": {
  "kernelspec": {
   "display_name": "Python 3 (ipykernel)",
   "language": "python",
   "name": "python3"
  },
  "language_info": {
   "codemirror_mode": {
    "name": "ipython",
    "version": 3
   },
   "file_extension": ".py",
   "mimetype": "text/x-python",
   "name": "python",
   "nbconvert_exporter": "python",
   "pygments_lexer": "ipython3",
   "version": "3.13.1"
  }
 },
 "nbformat": 4,
 "nbformat_minor": 5
}
