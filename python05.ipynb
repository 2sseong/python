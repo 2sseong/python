{
 "cells": [
  {
   "cell_type": "markdown",
   "id": "82ab9a0c-9f89-4436-9ccd-e52614ec3d79",
   "metadata": {},
   "source": [
    "# 클래스"
   ]
  },
  {
   "cell_type": "markdown",
   "id": "9872c1bc-81ca-445b-b6c4-10ce287f3244",
   "metadata": {},
   "source": [
    "## 클래스 기본"
   ]
  },
  {
   "cell_type": "code",
   "execution_count": 3,
   "id": "f88be5d0-bacd-4593-a1af-287850e956de",
   "metadata": {},
   "outputs": [
    {
     "name": "stdout",
     "output_type": "stream",
     "text": [
      "[1, 2, 3, 4] <class 'list'>\n",
      "(11, 22, 33, 44) <class 'tuple'>\n"
     ]
    }
   ],
   "source": [
    "what1 = [1,2,3,4]\n",
    "what2 = ['a','b','c']\n",
    "who = 11,22,33,44\n",
    "print(what,type(what))\n",
    "print(who,type(who))"
   ]
  },
  {
   "cell_type": "code",
   "execution_count": 29,
   "id": "fab9c223-5bd1-4ef8-ae19-791e14ca8bee",
   "metadata": {},
   "outputs": [
    {
     "name": "stdout",
     "output_type": "stream",
     "text": [
      "1: 1\n",
      "2: 1\n",
      "2: 2\n",
      "1: 2\n",
      "1: 3\n",
      "2: 3\n"
     ]
    }
   ],
   "source": [
    "#함수로 구성\n",
    "result1 = 0\n",
    "result2 = 0\n",
    "def add1(num):\n",
    "    global result1\n",
    "    result1 += num\n",
    "    return result1\n",
    "\n",
    "def add2(num):\n",
    "    global result2\n",
    "    result2 +=num\n",
    "    return result2\n",
    "\n",
    "print('1:',add1(1))\n",
    "print('2:',add2(1))\n",
    "print('2:',add2(1))\n",
    "print('1:',add1(1))\n",
    "print('1:',add1(1))\n",
    "print('2:',add2(1))"
   ]
  },
  {
   "cell_type": "code",
   "execution_count": 32,
   "id": "a1e13aa3-3e86-46fa-a071-c043da2d33f6",
   "metadata": {},
   "outputs": [
    {
     "name": "stdout",
     "output_type": "stream",
     "text": [
      "1: 1\n",
      "2: 1\n",
      "2: 2\n",
      "1: 2\n",
      "1: 3\n",
      "2: 3\n",
      "2: 2\n",
      "2: 1\n"
     ]
    }
   ],
   "source": [
    "# 클래스로 구성\n",
    "class Calculator:\n",
    "    def __init__(self):\n",
    "        self.result = 0\n",
    "    def add(self,num):\n",
    "        self.result += num\n",
    "        return self.result\n",
    "    def sub(self,num):\n",
    "        self.result -= num\n",
    "        return self.result\n",
    "\n",
    "#인스턴스화 : 클래스의 구체적인 구현물\n",
    "cal1 = Calculator()\n",
    "cal2 = Calculator()\n",
    "print('1:',cal1.add(1))\n",
    "print('2:',cal2.add(1))\n",
    "print('2:',cal2.add(1))\n",
    "print('1:',cal1.add(1))\n",
    "print('1:',cal1.add(1))\n",
    "print('2:',cal2.add(1))\n",
    "\n",
    "print('2:',cal2.sub(1))\n",
    "print('2:',cal2.sub(1))"
   ]
  },
  {
   "cell_type": "markdown",
   "id": "f400b5c5-20c4-495f-92c9-74c9a90e5aee",
   "metadata": {},
   "source": [
    "## 생성자"
   ]
  },
  {
   "cell_type": "code",
   "execution_count": 116,
   "id": "bf4e024a-118a-45bf-9607-a8ac0b42c6b1",
   "metadata": {},
   "outputs": [],
   "source": [
    "# 예제1\n",
    "class Dduk:\n",
    "    def __init__(self,won,ea):  #__ = 외부에서 사용못하게 하는 용도\n",
    "        self.won = won     \n",
    "        self.ea = ea\n",
    "    def dduk(self):\n",
    "        result = self.won*self.ea\n",
    "        print(f\"배가 고파서 떡볶이집에서 떡볶이를 {result}원어치 먹었다.\")\n",
    "    def odeng(self):\n",
    "        result = self.won*2*self.ea\n",
    "        print(f\"배가 고파서 떡볶이집에서 오뎅을 {result}원어치 먹었다.\")\n",
    "    def sundae(self):\n",
    "        result = self.won*3*self.ea\n",
    "        print(f\"배가 고파서 떡볶이집에서 순대를 {result}원어치 먹었다.\")"
   ]
  },
  {
   "cell_type": "code",
   "execution_count": 102,
   "id": "77ed3492-8114-4248-8917-0ba9834bdd47",
   "metadata": {},
   "outputs": [],
   "source": [
    "성훈 = Dduk(2000,3)\n",
    "희성 = Dduk(3500,2)\n",
    "기윤 = Dduk(1500,6)"
   ]
  },
  {
   "cell_type": "code",
   "execution_count": 103,
   "id": "45ac0a3e-6c9e-43c7-a8c6-028dfa301b3a",
   "metadata": {},
   "outputs": [
    {
     "name": "stdout",
     "output_type": "stream",
     "text": [
      "배가 고파서 떡볶이집에서 떡볶이를 6000원어치 먹었다.\n",
      "배가 고파서 떡볶이집에서 오뎅을 12000원어치 먹었다.\n"
     ]
    }
   ],
   "source": [
    "성훈.dduk()\n",
    "성훈.odeng()"
   ]
  },
  {
   "cell_type": "code",
   "execution_count": 104,
   "id": "2cf041e4-4313-460c-a260-bb551e66c563",
   "metadata": {},
   "outputs": [
    {
     "name": "stdout",
     "output_type": "stream",
     "text": [
      "배가 고파서 떡볶이집에서 떡볶이를 7000원어치 먹었다.\n",
      "배가 고파서 떡볶이집에서 오뎅을 14000원어치 먹었다.\n"
     ]
    }
   ],
   "source": [
    "희성.dduk()\n",
    "희성.odeng()"
   ]
  },
  {
   "cell_type": "code",
   "execution_count": 105,
   "id": "fe394a41-0f1d-4f74-9d60-8469b0739f73",
   "metadata": {},
   "outputs": [
    {
     "name": "stdout",
     "output_type": "stream",
     "text": [
      "배가 고파서 떡볶이집에서 떡볶이를 9000원어치 먹었다.\n",
      "배가 고파서 떡볶이집에서 오뎅을 18000원어치 먹었다.\n"
     ]
    }
   ],
   "source": [
    "기윤.dduk()\n",
    "기윤.odeng()"
   ]
  },
  {
   "cell_type": "code",
   "execution_count": 106,
   "id": "e543c228-2da9-4787-9dab-58c4d01377f5",
   "metadata": {},
   "outputs": [],
   "source": [
    "성훈.__init__(3300,2)"
   ]
  },
  {
   "cell_type": "code",
   "execution_count": 107,
   "id": "052147d4-23a3-48d7-b630-8d549b5349e1",
   "metadata": {},
   "outputs": [
    {
     "name": "stdout",
     "output_type": "stream",
     "text": [
      "배가 고파서 떡볶이집에서 떡볶이를 6600원어치 먹었다.\n"
     ]
    }
   ],
   "source": [
    "성훈.dduk()"
   ]
  },
  {
   "cell_type": "code",
   "execution_count": 111,
   "id": "3522b7a9-7a4e-4e1f-a085-af5d4ae828f9",
   "metadata": {},
   "outputs": [
    {
     "name": "stdout",
     "output_type": "stream",
     "text": [
      "배가 고파서 떡볶이집에서 순대를 19800원어치 먹었다.\n"
     ]
    }
   ],
   "source": [
    "성훈.sundae()"
   ]
  },
  {
   "cell_type": "code",
   "execution_count": 112,
   "id": "3f0fb9d0-32ab-46dc-9e39-afcb412e08c6",
   "metadata": {},
   "outputs": [],
   "source": [
    "성훈 = Dduk(1000,2)"
   ]
  },
  {
   "cell_type": "code",
   "execution_count": 113,
   "id": "784f9d7b-aebc-42e0-8086-c0b5bebee383",
   "metadata": {},
   "outputs": [
    {
     "name": "stdout",
     "output_type": "stream",
     "text": [
      "배가 고파서 떡볶이집에서 순대를 6000원어치 먹었다.\n"
     ]
    }
   ],
   "source": [
    "성훈.sundae()"
   ]
  },
  {
   "cell_type": "markdown",
   "id": "1d3f9500-edf6-4d0b-b2f0-7bf694303199",
   "metadata": {},
   "source": [
    "## 예제들"
   ]
  },
  {
   "cell_type": "code",
   "execution_count": 126,
   "id": "512dc8f2-b7cc-49f4-9088-015691889487",
   "metadata": {},
   "outputs": [
    {
     "name": "stdout",
     "output_type": "stream",
     "text": [
      "방가방가 저는 고전 인사입니다!!\n",
      "==================================================\n",
      "\n",
      "이것은 예로부터 전해오는 고전 인사함수 입니다. Docstring \n",
      "\n",
      "==================================================\n",
      "Help on function test in module __main__:\n",
      "\n",
      "test()\n",
      "    이것은 예로부터 전해오는 고전 인사함수 입니다. Docstring\n",
      "\n"
     ]
    }
   ],
   "source": [
    "# 테스트1\n",
    "def test():\n",
    "    \"\"\"\n",
    "    이것은 예로부터 전해오는 고전 인사함수 입니다. Docstring \n",
    "    \"\"\"\n",
    "    print(\"방가방가 저는 고전 인사입니다!!\")\n",
    "test()\n",
    "print('='*50)\n",
    "print(test.__doc__)\n",
    "print('='*50)\n",
    "\n",
    "help(test)"
   ]
  },
  {
   "cell_type": "code",
   "execution_count": null,
   "id": "82a054b1-7cea-40e3-b089-e99d79357719",
   "metadata": {},
   "outputs": [],
   "source": [
    "# 테스트2 \n",
    "# class의 self없이 함수 만들기\n",
    "def set_car(name, color):\n",
    "    return {'name':name, 'color':color}\n",
    "# print(set_car(\"HD\",\"Blue\"))\n",
    "def get_car_info(car):\n",
    "    return f\"Car:{car['name']},Color:{car['color']}\"\n",
    "\n",
    "#자동차를 생성\n",
    "car = set_car(\"HD\",\"Blue\")\n",
    "print(get_car_info(car))\n",
    "#자동차 정보를 생성\n",
    "print(get_car_info(car))"
   ]
  },
  {
   "cell_type": "code",
   "execution_count": 135,
   "id": "8007c2d8-ba81-46f5-8196-b7f12b969fd9",
   "metadata": {},
   "outputs": [
    {
     "name": "stdout",
     "output_type": "stream",
     "text": [
      "Car:KIA,Color:white\n"
     ]
    }
   ],
   "source": [
    "print(get_car_info(set_car(\"KIA\",\"white\")))"
   ]
  },
  {
   "cell_type": "code",
   "execution_count": null,
   "id": "f4d35971-d44d-4117-8fea-8eeda7ab05c8",
   "metadata": {},
   "outputs": [],
   "source": [
    "#  테스트3\n",
    "class Car:\n",
    "    def set_car(name, color):\n",
    "        return {'name':name, 'color':color}\n",
    "    def get_car_info(car):\n",
    "        return f\"Car:{car['name']},Color:{car['color']}\"\n",
    "\n",
    "        \n",
    "\n",
    "car1 = Car.set_car(\"HD\",\"Yellow\")\n",
    "car2 = Car.set_car(\"KIA\",\"White0w\")\n",
    "print(Car.get_car_info(car1))\n",
    "print(Car.get_car_info(car2))"
   ]
  },
  {
   "cell_type": "code",
   "execution_count": null,
   "id": "b61665b7-437d-4e7b-b8f7-dac92d348a1f",
   "metadata": {},
   "outputs": [],
   "source": [
    "class Car:\n",
    "    def __init__(self,name,color): # 생성자\n",
    "        self.name = name\n",
    "        self.color = color\n",
    "    def get_car_info(self):\n",
    "        return f\"Car:{self.name},Color:{self.color}\"\n",
    "        \n",
    "\n",
    "car1 = Car('tesla','white')\n",
    "car2 = Car('KIA','grey')\n",
    "\n",
    "print(car1.get_car_info())\n",
    "print(car2.get_car_info())"
   ]
  },
  {
   "cell_type": "code",
   "execution_count": 86,
   "id": "ca42e251-4b26-41f1-a67b-1c4ead5d32be",
   "metadata": {},
   "outputs": [
    {
     "name": "stdout",
     "output_type": "stream",
     "text": [
      "Car:tesla,Color:white\n",
      "Car:KIA,Color:grey\n"
     ]
    }
   ],
   "source": [
    "#테스트 5\n",
    "class Car:\n",
    "    def __init__(self,name,color): # 생성자\n",
    "        self.name = name\n",
    "        self.color = color\n",
    "        self.speed = 0  #초기값0\n",
    "    def get_car_info(self):\n",
    "        return f\"Car:{self.name},Color:{self.color}\"\n",
    "    def acc(self,amount):\n",
    "        self.speed += amount #속도가 증가\n",
    "        return f\"{self.color}색 {self.name} 속도 올려요. 현재 속도는 {self.speed}km/h\"\n",
    "\n",
    "car1 = Car('tesla','white')\n",
    "car2 = Car('KIA','grey')\n",
    "\n",
    "print(car1.get_car_info())\n",
    "print(car2.get_car_info())"
   ]
  },
  {
   "cell_type": "code",
   "execution_count": 87,
   "id": "96f21a45-2c89-4413-ad85-c0d45f62d7a4",
   "metadata": {},
   "outputs": [
    {
     "name": "stdout",
     "output_type": "stream",
     "text": [
      "white색 tesla 속도 올려요. 현재 속도는 30km/h\n",
      "grey색 KIA 속도 올려요. 현재 속도는 50km/h\n",
      "white색 tesla 속도 올려요. 현재 속도는 40km/h\n"
     ]
    }
   ],
   "source": [
    "print(car1.acc(30))\n",
    "print(car2.acc(50))\n",
    "print(car1.acc(10))"
   ]
  },
  {
   "cell_type": "code",
   "execution_count": 88,
   "id": "5c8b3005-13f0-432d-bc51-4d3abd5c3222",
   "metadata": {},
   "outputs": [
    {
     "name": "stdout",
     "output_type": "stream",
     "text": [
      "white색 tesla 속도 올려요. 현재 속도는 41km/h\n",
      "white색 tesla 속도 올려요. 현재 속도는 42km/h\n",
      "white색 tesla 속도 올려요. 현재 속도는 43km/h\n",
      "white색 tesla 속도 올려요. 현재 속도는 44km/h\n",
      "white색 tesla 속도 올려요. 현재 속도는 45km/h\n",
      "속도 유지 중.....\n"
     ]
    }
   ],
   "source": [
    "#테스트 연습\n",
    "import time as t\n",
    "for n in range(5):\n",
    "    print(car1.acc(1))\n",
    "    t.sleep(1)\n",
    "print(\"속도 유지 중.....\")"
   ]
  },
  {
   "cell_type": "code",
   "execution_count": 89,
   "id": "d4ce7025-032b-4fec-9b29-654792c60fbc",
   "metadata": {},
   "outputs": [],
   "source": [
    "#테스트6 상속\n",
    "class Mycar(Car): #()상속\n",
    "    def turbo(self):\n",
    "        self.speed += 50\n",
    "        return(f\"내차가 나른다!! 터보! {self.speed}km/h\")\n",
    "    def acc(self):\n",
    "        self.speed += 30 # 속도가증가\n",
    "        return f\"{self.name}의 {self.speed}!!\""
   ]
  },
  {
   "cell_type": "code",
   "execution_count": 90,
   "id": "853dc139-cc9a-42a3-9556-5b28ae0c940e",
   "metadata": {},
   "outputs": [],
   "source": [
    "my = Mycar(\"mycar\",\"skyblue\")"
   ]
  },
  {
   "cell_type": "code",
   "execution_count": 91,
   "id": "a58a15fd-828c-4aef-9b93-392840007264",
   "metadata": {},
   "outputs": [
    {
     "name": "stdout",
     "output_type": "stream",
     "text": [
      "내차가 나른다!! 터보! 50km/h\n",
      "mycar의 80!!\n"
     ]
    }
   ],
   "source": [
    "print(my.turbo())\n",
    "print(my.acc())"
   ]
  },
  {
   "cell_type": "code",
   "execution_count": 138,
   "id": "a55e5524-54fa-444f-a48a-9196d5fad5b4",
   "metadata": {},
   "outputs": [],
   "source": [
    "# 테스트7\n",
    "class Pet:\n",
    "    def __init__(self,name,species):\n",
    "        '''펫을 생성'''\n",
    "        self.name=name\n",
    "        self.species=species\n",
    "        self.hunger=50 #초기 배고픔 수치(0~100)\n",
    "    def feed(self):\n",
    "        '''밥을 주면 배고픔 감소'''\n",
    "        if self.hunger >10:\n",
    "            self.hunger -= 10\n",
    "            return f\"{self.name}에게 밥을 줬습니다. 배고픔:{self.hunger}\"\n",
    "    def play(self):\n",
    "        '''놀아주면 배고픔이 증가'''\n",
    "        if self.hunger <= 80:\n",
    "            self.hunger += 20\n",
    "        else:\n",
    "            self.hunger = 100\n",
    "        return f\"{self.name}와 아주 잘 놀아 줬어요. 배고픔:{self.hunger}\""
   ]
  },
  {
   "cell_type": "code",
   "execution_count": 244,
   "id": "cf8a1063-1134-49de-9266-901536bdbe3c",
   "metadata": {},
   "outputs": [
    {
     "name": "stdout",
     "output_type": "stream",
     "text": [
      "뽀삐에게 밥을 줬습니다. 배고픔:40\n",
      "뽀삐에게 밥을 줬습니다. 배고픔:30\n",
      "뽀삐에게 밥을 줬습니다. 배고픔:20\n",
      "아지와 아주 잘 놀아 줬어요. 배고픔:70\n",
      "아지와 아주 잘 놀아 줬어요. 배고픔:90\n",
      "아지와 아주 잘 놀아 줬어요. 배고픔:100\n",
      "컁이에게 밥을 줬습니다. 배고픔:40\n",
      "컁이에게 밥을 줬습니다. 배고픔:30\n",
      "컁이에게 밥을 줬습니다. 배고픔:20\n",
      "컁이와 아주 잘 놀아 줬어요. 배고픔:40\n",
      "컁이와 아주 잘 놀아 줬어요. 배고픔:60\n",
      "컁이와 아주 잘 놀아 줬어요. 배고픔:80\n"
     ]
    }
   ],
   "source": [
    "# 펫 생성\n",
    "dog1 = Pet(\"뽀삐\",\"말티즈\")\n",
    "dog2 = Pet(\"아지\",\"요크\")\n",
    "cat = Pet(\"컁이\",\"고양이\")\n",
    "print(dog1.feed())\n",
    "print(dog1.feed())\n",
    "print(dog1.feed())\n",
    "print(dog2.play())\n",
    "print(dog2.play())\n",
    "print(dog2.play())\n",
    "print(cat.feed())\n",
    "print(cat.feed())\n",
    "print(cat.feed())\n",
    "print(cat.play())\n",
    "print(cat.play())\n",
    "print(cat.play())\n"
   ]
  },
  {
   "cell_type": "code",
   "execution_count": 144,
   "id": "98ec8b68-3ba5-4305-a0b3-a02f1c078a24",
   "metadata": {},
   "outputs": [],
   "source": [
    "class Bacteria:\n",
    "    def __init__(self,initial_population, growth_rate):\n",
    "        '''세균초기화'''\n",
    "        self.population = initial_population\n",
    "        self.growth_rate = growth_rate\n",
    "        self.time = 0 #시작시간\n",
    "\n",
    "    def grow(self,hours):\n",
    "        \"\"\"일정 시간이 지나면 세균이 증식함\"\"\"\n",
    "        self.time += hours\n",
    "        self.population *= self.growth_rate**hours\n",
    "        return f\"{self.time} 시간 후 세균 수: {int(self.population)}마리\"\n",
    "    def check(self):\n",
    "        \"\"\"현재 세균 수 확인\"\"\"\n",
    "        return f\"현재 세균 수: {int(self.population)} 마리\""
   ]
  },
  {
   "cell_type": "code",
   "execution_count": 145,
   "id": "bc5a9822-2530-4211-a6f9-5dad95f6dc11",
   "metadata": {},
   "outputs": [],
   "source": [
    "bacteria = Bacteria(100,2)"
   ]
  },
  {
   "cell_type": "code",
   "execution_count": 146,
   "id": "0989eb01-a56e-4ea2-a785-e7270dbd8a80",
   "metadata": {},
   "outputs": [
    {
     "name": "stdout",
     "output_type": "stream",
     "text": [
      "1 시간 후 세균 수: 200마리\n",
      "3 시간 후 세균 수: 800마리\n",
      "6 시간 후 세균 수: 6400마리\n"
     ]
    }
   ],
   "source": [
    "print(bacteria.grow(1))\n",
    "print(bacteria.grow(2))\n",
    "print(bacteria.grow(3))"
   ]
  },
  {
   "cell_type": "code",
   "execution_count": 213,
   "id": "bebcdc3b-709e-434f-a1f7-1e2964209a29",
   "metadata": {},
   "outputs": [],
   "source": [
    "# 테스트 9 은행예금 캡슐화 예제, 클래스 변수                      #캡슐화 안된 예제\n",
    "class BankAccount:\n",
    "    interest_rate = 0.02 # 클래스 변수 / 전체에 적용시킴\n",
    "    def __init__(self,owner,balance):\n",
    "        self.owner = owner\n",
    "        self.balance = balance or 0 #캡슐화 안됨\n",
    "    def bprint(self):\n",
    "        return f\"{self.owner}님의 잔고는 {self.balance}원 입니다.\""
   ]
  },
  {
   "cell_type": "code",
   "execution_count": 290,
   "id": "6c6e5127-949d-459e-adaa-72d782b78839",
   "metadata": {},
   "outputs": [],
   "source": [
    "# 테스트 9 은행예금 캡슐화 예제, 클래스 변수                     #캡슐화 된 예제\n",
    "class BankAccount:\n",
    "    interest_rate = 0.02 # 클래스 변수 / 전체에 적용시킴 / 들어갈때 self. 붙어야 사용가능\n",
    "    def __init__(self,owner,balance):\n",
    "        self.owner = owner\n",
    "        self.__balance = balance or 0 #캡슐화\n",
    "    def bprint(self):\n",
    "        return f\"{self.owner}님의 잔고는 {self.__balance}원 입니다.\"\n",
    "    def deposit(self,amount):\n",
    "        self.__balance += amount\n",
    "        return f\"{self.owner}님의 계좌에 {amount}원 입금 되었습니다. 현재 잔액:{self.__balance}원\"\n",
    "    def withdraw(self, amount):\n",
    "        if self.__balance >= amount:\n",
    "            self.__balance  -=amount\n",
    "            return f\"{self.owner}님의 계좌에 {amount}원 출금되었습니다. 현재 잔액:{self.__balance}원\"\n",
    "        return \"잔액이 부족합니다.\"\n",
    "    def interest(self):\n",
    "        total = self.__balance*(1+self.interest_rate)\n",
    "        return f\"{self.interest_rate}%의 이자가 반영된 금액은{total:.0f}원 입니다.\""
   ]
  },
  {
   "cell_type": "code",
   "execution_count": null,
   "id": "a52d1e76-4a1b-4dac-9128-7be90467fefc",
   "metadata": {},
   "outputs": [],
   "source": [
    "#인스턴스화\n",
    "acc3 = BankAccount(\"철수\",50000)\n",
    "acc4 = BankAccount(\"영희\",200000)\n",
    "print(acc3.bprint())\n",
    "print(acc4.bprint())\n",
    "#클래스 변수 바꾸기\n",
    "acc3.interest_rate = 0.03\n",
    "print(acc3.interest())\n",
    "print(acc4.interest())\n",
    "\n",
    "\n",
    "\n",
    "\n",
    "\n",
    "#공격후\n",
    "# acc3.balance = 9000000\n",
    "# print(acc3.bprint())\n",
    "# 내장메소드로 캡슐화된 변수 접근\n",
    "# print(acc3.deposit(30000))\n",
    "# print(acc3.withdraw(5000))"
   ]
  },
  {
   "cell_type": "code",
   "execution_count": 377,
   "id": "d6917b5b-1f35-4e43-972b-173c46923d89",
   "metadata": {},
   "outputs": [
    {
     "name": "stdout",
     "output_type": "stream",
     "text": [
      "잔액이2000원 증가했습니다.\n",
      "콜라을(를) 구매했습니다! 남은 잔액 500원\n",
      "잔액이 부족합니다.(사이다가격: 1400원, 현재 잔액: 500)원\n",
      "잔액 500원이 반환되었습니다.\n"
     ]
    }
   ],
   "source": [
    "class VendingMachine:\n",
    "    def __init__(self):\n",
    "        \"\"\"자동판매기 초기화\"\"\"\n",
    "        self.balance = 0 #사용자의 잔액\n",
    "        self.items = {   #상품목록(이름:가격)\n",
    "            \"콜라\":1500,\n",
    "            \"사이다\":1400,\n",
    "            \"물\":1000\n",
    "        }\n",
    "      \n",
    "    def insert_money(self,amount):\n",
    "        \"\"\"잔액충전\"\"\"\n",
    "        self.balance += amount\n",
    "        return f\"잔액이{self.balance}원 증가했습니다.\"\n",
    "\n",
    "    def buy_item(self,item_name):\n",
    "        \"\"\"상품구매\"\"\"\n",
    "        if item_name not in self.items:\n",
    "            return f\"{item_name}은 존재하지 않습니다.\"\n",
    "        price =self.items[item_name]\n",
    "        if self.balance < price:\n",
    "            return f\"잔액이 부족합니다.({item_name}가격: {price}원, 현재 잔액: {self.balance})원\"\n",
    "        self.balance -=price\n",
    "        return f\"{item_name}을(를) 구매했습니다! 남은 잔액 {self.balance}원\"\n",
    "\n",
    "    def refund(self):\n",
    "        \"\"\"잔액반환\"\"\"\n",
    "        amount = self.balance\n",
    "        self.balance = 0\n",
    "        return f\"잔액 {amount}원이 반환되었습니다.\"\n",
    "# 자동판매기 객체 생성\n",
    "vm =VendingMachine()\n",
    "#잔액충전\n",
    "print(vm.insert_money(2000))\n",
    "#상품구매\n",
    "print(vm.buy_item(\"콜라\"))\n",
    "print(vm.buy_item(\"사이다\"))\n",
    "#잔액 반환\n",
    "print(vm.refund())\n",
    "\n",
    "\n",
    "        "
   ]
  },
  {
   "cell_type": "code",
   "execution_count": 1,
   "id": "59b22fe3-fe2b-48df-8974-c16832447bf5",
   "metadata": {},
   "outputs": [],
   "source": [
    "import turtle\n",
    "window = turtle.Screen()\n",
    "window.bgcolor(\"white\")\n",
    "\n",
    "#거북이 생성\n",
    "my_turtle = turtle.Turtle()\n",
    "my_turtle.shape(\"turtle\")\n",
    "my_turtle.color(\"yellow\")\n",
    "\n",
    "#사각형 그리기\n",
    "for _ in range(4):\n",
    "    my_turtle.forward(100) #앞으로 100픽셀 이동\n",
    "    my_turtle.right(45)   #오른쪽으로 90픽셀 이동\n",
    "    my_turtle.forward(100)\n",
    "    my_turtle.left(45)\n",
    "    "
   ]
  },
  {
   "cell_type": "code",
   "execution_count": 378,
   "id": "db27c5a3-0f66-4371-922f-65fcd199a2f4",
   "metadata": {},
   "outputs": [
    {
     "ename": "NameError",
     "evalue": "name 'window' is not defined",
     "output_type": "error",
     "traceback": [
      "\u001b[1;31m---------------------------------------------------------------------------\u001b[0m",
      "\u001b[1;31mNameError\u001b[0m                                 Traceback (most recent call last)",
      "Cell \u001b[1;32mIn[378], line 2\u001b[0m\n\u001b[0;32m      1\u001b[0m \u001b[38;5;66;03m#창 닫기\u001b[39;00m\n\u001b[1;32m----> 2\u001b[0m \u001b[43mwindow\u001b[49m\u001b[38;5;241m.\u001b[39mmainloop()\n",
      "\u001b[1;31mNameError\u001b[0m: name 'window' is not defined"
     ]
    }
   ],
   "source": [
    "#창 닫기\n",
    "window.mainloop()"
   ]
  },
  {
   "cell_type": "code",
   "execution_count": null,
   "id": "bce21ffd-da3b-4140-b6c6-8b3f77c9d8ae",
   "metadata": {},
   "outputs": [],
   "source": []
  }
 ],
 "metadata": {
  "kernelspec": {
   "display_name": "Python 3 (ipykernel)",
   "language": "python",
   "name": "python3"
  },
  "language_info": {
   "codemirror_mode": {
    "name": "ipython",
    "version": 3
   },
   "file_extension": ".py",
   "mimetype": "text/x-python",
   "name": "python",
   "nbconvert_exporter": "python",
   "pygments_lexer": "ipython3",
   "version": "3.13.1"
  }
 },
 "nbformat": 4,
 "nbformat_minor": 5
}
