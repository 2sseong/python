{
 "cells": [
  {
   "cell_type": "code",
   "execution_count": null,
   "id": "c70ea88b-a570-497d-b63c-8ebc4f8b4336",
   "metadata": {},
   "outputs": [],
   "source": [
    "# !hostname -I\n",
    "# !ping kafka"
   ]
  },
  {
   "cell_type": "code",
   "execution_count": null,
   "id": "020fde72-cb6d-4b05-974d-7a563b03f367",
   "metadata": {},
   "outputs": [],
   "source": [
    "from kafka import KafkaProducer\n",
    "import json\n",
    "import time\n",
    "\n",
    "producer = KafkaProducer(\n",
    "    bootstrap_servers = 'kafka:9092',\n",
    "    value_serializer = lambda v:json.dumps(v).encode('utf-8')\n",
    ")\n",
    "num = 0\n",
    "how = 1000\n",
    "delay = 1\n",
    "\n",
    "def generate_smartcar_data(num):\n",
    "    import random\n",
    "    return{\n",
    "        \"car_id\":f\"{num}/{how}\",\n",
    "        \"speed\": round(random.uniform(80,100), 2),\n",
    "        \"latitude\": round(random.uniform(34,36), 2),\n",
    "        \"longitude\": round(random.uniform(124,126), 2),\n",
    "        \"timestamp\": time.time()\n",
    "    }\n",
    "\n",
    "if __name__ == \"__main__\":\n",
    "    try:\n",
    "        for i, r in enumerate(range(how),1):\n",
    "            data = generate_smartcar_data(i)\n",
    "            producer.send(\"smart-car\", value = data)\n",
    "            print(f\"Send:{data}\")\n",
    "            time.sleep(delay)\n",
    "    except:\n",
    "        print(\"Error\")\n",
    "    finally:\n",
    "        producer.close()"
   ]
  },
  {
   "cell_type": "code",
   "execution_count": 1,
   "id": "0220d2d1-801c-41db-85de-e311c19a957c",
   "metadata": {
    "scrolled": true
   },
   "outputs": [
    {
     "ename": "ModuleNotFoundError",
     "evalue": "No module named 'kafka'",
     "output_type": "error",
     "traceback": [
      "\u001b[1;31m---------------------------------------------------------------------------\u001b[0m",
      "\u001b[1;31mModuleNotFoundError\u001b[0m                       Traceback (most recent call last)",
      "Cell \u001b[1;32mIn[1], line 1\u001b[0m\n\u001b[1;32m----> 1\u001b[0m \u001b[38;5;28;01mfrom\u001b[39;00m\u001b[38;5;250m \u001b[39m\u001b[38;5;21;01mkafka\u001b[39;00m\u001b[38;5;250m \u001b[39m\u001b[38;5;28;01mimport\u001b[39;00m KafkaConsumer\n\u001b[0;32m      2\u001b[0m \u001b[38;5;28;01mimport\u001b[39;00m\u001b[38;5;250m \u001b[39m\u001b[38;5;21;01mjson\u001b[39;00m\n\u001b[0;32m      4\u001b[0m \u001b[38;5;66;03m# Kafka 컨슈머 설정\u001b[39;00m\n",
      "\u001b[1;31mModuleNotFoundError\u001b[0m: No module named 'kafka'"
     ]
    }
   ],
   "source": [
    "from kafka import KafkaConsumer\n",
    "import json\n",
    "\n",
    "# Kafka 컨슈머 설정\n",
    "consumer = KafkaConsumer(\n",
    "    'smart-car',  # 토픽명\n",
    "    bootstrap_servers='kafka:9092',  # Kafka 브로커 주소\n",
    "    auto_offset_reset='latest',  # 오프셋 위치(earliest:가장 처음, latest: 가장 최근)\n",
    "    enable_auto_commit=True,  # 오프셋 자동 커밋 여부\n",
    "    group_id=None,  # 컨슈머 그룹 식별자\n",
    "    value_deserializer=lambda x: json.loads(x.decode('utf-8')),  # 메시지의 값 역직렬화\n",
    "    consumer_timeout_ms=100000  # 데이터를 기다리는 최대 시간\n",
    ")\n",
    "\n",
    "# 메시지 수신 및 처리\n",
    "for message in consumer:\n",
    "    print(message.value)"
   ]
  },
  {
   "cell_type": "code",
   "execution_count": null,
   "id": "95da855d-a9ae-4bd0-9537-cc19ef7ed050",
   "metadata": {},
   "outputs": [],
   "source": []
  },
  {
   "cell_type": "code",
   "execution_count": null,
   "id": "b9cff99a-1a50-4f54-8b03-93bcf18a817d",
   "metadata": {},
   "outputs": [],
   "source": []
  }
 ],
 "metadata": {
  "kernelspec": {
   "display_name": "Python 3 (ipykernel)",
   "language": "python",
   "name": "python3"
  },
  "language_info": {
   "codemirror_mode": {
    "name": "ipython",
    "version": 3
   },
   "file_extension": ".py",
   "mimetype": "text/x-python",
   "name": "python",
   "nbconvert_exporter": "python",
   "pygments_lexer": "ipython3",
   "version": "3.13.1"
  }
 },
 "nbformat": 4,
 "nbformat_minor": 5
}
