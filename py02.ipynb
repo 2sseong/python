{
 "cells": [
  {
   "cell_type": "markdown",
   "id": "a20f2bba-6301-4fc9-ba73-b378a10852ce",
   "metadata": {},
   "source": [
    "# 자료형"
   ]
  },
  {
   "cell_type": "markdown",
   "id": "e00d9941-d2cd-4147-a331-2b2a06c2302f",
   "metadata": {},
   "source": [
    "## 리스트 자료형"
   ]
  },
  {
   "cell_type": "markdown",
   "id": "a17194b0-ad33-4730-bba8-435e8f88a770",
   "metadata": {},
   "source": [
    "### 리스트의 인덱싱과 슬라이싱"
   ]
  },
  {
   "cell_type": "code",
   "execution_count": 1,
   "id": "3bc6a47d-48d4-44bb-9717-5113d4a9edc7",
   "metadata": {},
   "outputs": [
    {
     "name": "stdout",
     "output_type": "stream",
     "text": [
      "['Life', 'is']\n",
      "Life\n"
     ]
    }
   ],
   "source": [
    "odd = [1,3,5,7,9]\n",
    "a = []\n",
    "b = [1,2,3]\n",
    "c = ['Life','is','too','short']\n",
    "d = [1,2,'Life','is']\n",
    "e = [1,2,['Life','is']]\n",
    "print(e[2])\n",
    "print(e[2][0])"
   ]
  },
  {
   "cell_type": "code",
   "execution_count": 2,
   "id": "fbfb7ecc-5f9c-45bf-8357-3a1fad1a21d2",
   "metadata": {},
   "outputs": [
    {
     "name": "stdout",
     "output_type": "stream",
     "text": [
      "5\n",
      "Lifeshort\n",
      "LifeLifeLife\n"
     ]
    }
   ],
   "source": [
    "print(b[1] + b[2])\n",
    "print(c[0] + c[3])\n",
    "print(c[0]*b[2])"
   ]
  },
  {
   "cell_type": "code",
   "execution_count": 3,
   "id": "bca8c5cb-6894-4ac6-a491-aba470c84337",
   "metadata": {},
   "outputs": [
    {
     "name": "stdout",
     "output_type": "stream",
     "text": [
      "[11, 22]\n",
      "[33, 44, 55]\n",
      "[11, 22]\n",
      "[44, 55]\n",
      "[55, 44, 33, 22, 11]\n"
     ]
    }
   ],
   "source": [
    "# 리스트의 슬라이싱\n",
    "a = [11,22,33,44,55]\n",
    "print(a[0:2])\n",
    "print(a[2:])\n",
    "print(a[:-3])\n",
    "print(a[-2:])\n",
    "print(a[::-1])"
   ]
  },
  {
   "cell_type": "markdown",
   "id": "8e1c6c54-d70c-4e0f-9082-6b692349e40f",
   "metadata": {},
   "source": [
    "### 리스트 연산, 수정, 삭제"
   ]
  },
  {
   "cell_type": "code",
   "execution_count": 4,
   "id": "21499ac8-ff0f-472d-b4bb-002683357ede",
   "metadata": {},
   "outputs": [
    {
     "name": "stdout",
     "output_type": "stream",
     "text": [
      "[11, 22, 33, 44, 55, 66]\n",
      "[11, 22, 33, 11, 22, 33, 11, 22, 33]\n"
     ]
    }
   ],
   "source": [
    "a = [11,22,33]\n",
    "b = [44,55,66]\n",
    "print(a + b) #리스트 더하기\n",
    "c = a*3   #리스트 반복하기\n",
    "print(c)"
   ]
  },
  {
   "cell_type": "code",
   "execution_count": 5,
   "id": "986e0cdf-5c55-4c49-aa6d-58907f37016a",
   "metadata": {},
   "outputs": [
    {
     "name": "stdout",
     "output_type": "stream",
     "text": [
      "[11, 22, 44]\n",
      "[11, 44]\n"
     ]
    }
   ],
   "source": [
    "# 리스트 값 수정하기\n",
    "a = [11,22,33]\n",
    "a[2] = 44\n",
    "print(a)\n",
    "# a[3] = 55 없는 요소를 수정하는 것은 에러\n",
    "# print(a)\n",
    "# a[1] = None 빈칸 수정 삽입\n",
    "del a[1] # 리스트값 삭제하기\n",
    "print(a)"
   ]
  },
  {
   "cell_type": "code",
   "execution_count": 6,
   "id": "7f0dad63-a386-468e-af80-fd7cfbda2d44",
   "metadata": {
    "editable": true,
    "slideshow": {
     "slide_type": ""
    },
    "tags": []
   },
   "outputs": [
    {
     "name": "stdout",
     "output_type": "stream",
     "text": [
      "[11, 22, 33, 11, 22, 33, 11, 22, 33]\n",
      "[22, 33, 11, 22, 33]\n"
     ]
    }
   ],
   "source": [
    "print(c) #리스트값 슬라이싱으로 삭제\n",
    "del c[:4]\n",
    "print(c)"
   ]
  },
  {
   "cell_type": "markdown",
   "id": "c2148509-921a-4b57-8464-51b9f8e15e72",
   "metadata": {},
   "source": [
    "### 리스트 관련 함수"
   ]
  },
  {
   "cell_type": "code",
   "execution_count": 7,
   "id": "6db4a19b-1dbe-4fc1-9309-d8f8710231de",
   "metadata": {},
   "outputs": [
    {
     "name": "stdout",
     "output_type": "stream",
     "text": [
      "[]\n"
     ]
    }
   ],
   "source": [
    "c.clear() # 리스트 요소 비우기\n",
    "print(c)"
   ]
  },
  {
   "cell_type": "code",
   "execution_count": 8,
   "id": "01562a2b-fee3-430e-8f05-aa743939c70a",
   "metadata": {},
   "outputs": [],
   "source": [
    "a = [] # 리스트 초기화"
   ]
  },
  {
   "cell_type": "code",
   "execution_count": 9,
   "id": "283c2072-09ce-4d12-851a-7794ff6ad810",
   "metadata": {},
   "outputs": [
    {
     "name": "stdout",
     "output_type": "stream",
     "text": [
      "[4, [11, 22]]\n"
     ]
    }
   ],
   "source": [
    "# 리스트에 요소 추가하기 - append\n",
    "a.append(4)\n",
    "a.append([11,22])\n",
    "print(a)"
   ]
  },
  {
   "cell_type": "code",
   "execution_count": 10,
   "id": "c32fe542-9f00-4561-ada0-48df57fd482d",
   "metadata": {},
   "outputs": [],
   "source": [
    "b = []\n",
    "num = 0"
   ]
  },
  {
   "cell_type": "code",
   "execution_count": 11,
   "id": "dfb2ac3d-d109-4b49-9438-e67d9442306d",
   "metadata": {},
   "outputs": [
    {
     "name": "stdout",
     "output_type": "stream",
     "text": [
      "[1]\n"
     ]
    }
   ],
   "source": [
    "num += 1\n",
    "b.append(num)\n",
    "print(b)"
   ]
  },
  {
   "cell_type": "code",
   "execution_count": 12,
   "id": "5460b91e-2d74-469b-b6b7-3134d4bddfd0",
   "metadata": {},
   "outputs": [
    {
     "name": "stdout",
     "output_type": "stream",
     "text": [
      "[11, 22, 33, 44, 55]\n"
     ]
    }
   ],
   "source": [
    " # 리스트 정렬(오름차순) - sort\n",
    "a = [11,44,33,22,55]\n",
    "a.sort()\n",
    "print(a)"
   ]
  },
  {
   "cell_type": "code",
   "execution_count": 13,
   "id": "3c957829-de05-4c04-9bdb-c998c3e23717",
   "metadata": {},
   "outputs": [
    {
     "name": "stdout",
     "output_type": "stream",
     "text": [
      "[55, 44, 33, 22, 11]\n"
     ]
    }
   ],
   "source": [
    " # 리스트 정렬(내림차순) - sort\n",
    "a = [11,44,33,22,55]\n",
    "a.sort(reverse =True)\n",
    "print(a)"
   ]
  },
  {
   "cell_type": "code",
   "execution_count": 14,
   "id": "6dfc5cd0-a9a7-4087-af08-488d2118db4b",
   "metadata": {},
   "outputs": [
    {
     "name": "stdout",
     "output_type": "stream",
     "text": [
      "[66, 77, 88, 99, 0]\n",
      "[0, 66, 77, 88, 99]\n",
      "[99, 88, 77, 66, 0]\n"
     ]
    }
   ],
   "source": [
    " # 리스트 정렬 원본 유지하기\n",
    "aa = [66,77,88,99,0]\n",
    "bb = sorted(aa)\n",
    "cc = sorted(aa, reverse=True)\n",
    "print(aa)\n",
    "print(bb)\n",
    "print(cc)"
   ]
  },
  {
   "cell_type": "code",
   "execution_count": 15,
   "id": "e5c0c170-7854-47dc-8434-c71099ec8004",
   "metadata": {},
   "outputs": [
    {
     "name": "stdout",
     "output_type": "stream",
     "text": [
      "['banana', 'kiwi', 'orange', 'melon', 'pear', 'apple', 'strawberry', 'blueberry']\n",
      "['kiwi', 'pear', 'melon', 'apple', 'banana', 'orange', 'blueberry', 'strawberry']\n",
      "['strawberry', 'blueberry', 'banana', 'orange', 'melon', 'apple', 'kiwi', 'pear']\n"
     ]
    }
   ],
   "source": [
    " # sorted 응용\n",
    "fruit = ['banana','kiwi','orange','melon','pear','apple','strawberry','blueberry']\n",
    "result = sorted(fruit,key=len)\n",
    "result2 = sorted(fruit,key=len,reverse=True)\n",
    "print(fruit)\n",
    "print(result)\n",
    "print(result2)"
   ]
  },
  {
   "cell_type": "code",
   "execution_count": 16,
   "id": "02994ff3-3c69-497b-aaf2-442b1ab20f28",
   "metadata": {},
   "outputs": [
    {
     "name": "stdout",
     "output_type": "stream",
     "text": [
      "[55, 22, 33, 44, 11]\n"
     ]
    }
   ],
   "source": [
    " # 리스트 뒤집기 - reverse\n",
    "a = [11,44,33,22,55]\n",
    "a.reverse()\n",
    "print(a)"
   ]
  },
  {
   "cell_type": "code",
   "execution_count": 17,
   "id": "eb07caeb-5768-41b8-9f2c-4402f70cdaea",
   "metadata": {},
   "outputs": [
    {
     "name": "stdout",
     "output_type": "stream",
     "text": [
      "kiwi냠냠 맛있다\n",
      "pear냠냠 맛있다\n",
      "melon냠냠 맛있다\n",
      "apple냠냠 맛있다\n",
      "banana못먹겠어 웩\n",
      "orange냠냠 맛있다\n",
      "blueberry냠냠 맛있다\n",
      "strawberry냠냠 맛있다\n",
      "와 다먹었다\n"
     ]
    }
   ],
   "source": [
    "for r in result:\n",
    "    if r == 'banana':\n",
    "        print(r + '못먹겠어 웩')\n",
    "    if r != 'banana':\n",
    "        print(r + '냠냠 맛있다')\n",
    "print('와 다먹었다')"
   ]
  },
  {
   "cell_type": "code",
   "execution_count": 18,
   "id": "854e10dd-a92b-452f-81b9-aceeafe2b039",
   "metadata": {},
   "outputs": [
    {
     "data": {
      "text/plain": [
       "3"
      ]
     },
     "execution_count": 18,
     "metadata": {},
     "output_type": "execute_result"
    }
   ],
   "source": [
    "# 인덱스 반환 - index\n",
    "fruit = ['banana','kiwi','orange','melon','pear','apple','strawberry','blueberry']\n",
    "fruit.index('melon')"
   ]
  },
  {
   "cell_type": "code",
   "execution_count": 19,
   "id": "1b06afd8-9bb1-4f2a-9d10-b32b043d34d7",
   "metadata": {
    "editable": true,
    "slideshow": {
     "slide_type": ""
    },
    "tags": []
   },
   "outputs": [
    {
     "name": "stdin",
     "output_type": "stream",
     "text": [
      "먹고싶은 과일을 입력하세요 kiwi\n"
     ]
    },
    {
     "name": "stdout",
     "output_type": "stream",
     "text": [
      "kiwi를 좋아하시는군요! 그것은 2번 째에 있습니다.\n"
     ]
    }
   ],
   "source": [
    "# 인덱스 응용\n",
    "fruit = ['banana','kiwi','orange','melon','pear','apple','strawberry','blueberry']\n",
    "want = input('먹고싶은 과일을 입력하세요')\n",
    "where = fruit.index(want)\n",
    "print(f'{want}를 좋아하시는군요! 그것은 {where + 1}번 째에 있습니다.')"
   ]
  },
  {
   "cell_type": "code",
   "execution_count": 20,
   "id": "2db6d0c5-81c8-4059-b1f0-d5ea7fe87790",
   "metadata": {
    "editable": true,
    "slideshow": {
     "slide_type": ""
    },
    "tags": []
   },
   "outputs": [
    {
     "name": "stdout",
     "output_type": "stream",
     "text": [
      "[11, 22, 33, 55, 66, 77, 88]\n",
      "[11, 22, 33, 44, 55, 66, 77, 88]\n"
     ]
    }
   ],
   "source": [
    "# 리스트에 요소 삽입 - insert\n",
    "num = [11,22,33,55,66,77,88]\n",
    "print(num)\n",
    "num.insert( 3,44)\n",
    "print(num)"
   ]
  },
  {
   "cell_type": "code",
   "execution_count": 21,
   "id": "6bacaac1-72f9-478c-8a37-20e26601ad7f",
   "metadata": {},
   "outputs": [],
   "source": [
    "ex = []"
   ]
  },
  {
   "cell_type": "code",
   "execution_count": 22,
   "id": "9acca97e-5c4c-42ef-8b0c-81b216323166",
   "metadata": {},
   "outputs": [
    {
     "name": "stdout",
     "output_type": "stream",
     "text": [
      "['맨앞']\n",
      "['-1인덱스', '맨앞']\n",
      "['맨앞', '-1인덱스', '맨앞']\n",
      "['맨앞', '-1인덱스', '맨앞', '제일 끝']\n"
     ]
    }
   ],
   "source": [
    "ex.insert(0,'맨앞')\n",
    "print(ex)\n",
    "ex.insert(-1,'-1인덱스')\n",
    "print(ex)\n",
    "ex.insert(0,'맨앞')\n",
    "print(ex)\n",
    "ex.insert(len(ex),'제일 끝') #제일 끝 삽입 가능\n",
    "print(ex)"
   ]
  },
  {
   "cell_type": "code",
   "execution_count": 23,
   "id": "28312705-67c6-4808-881e-c7295627f6a3",
   "metadata": {},
   "outputs": [
    {
     "name": "stdout",
     "output_type": "stream",
     "text": [
      "[1, 2, 1, 2, 3]\n"
     ]
    }
   ],
   "source": [
    "# 리스트 요소제거 -remove\n",
    "a = [1,2,3,1,2,3,]\n",
    "a.remove(3)\n",
    "print(a)"
   ]
  },
  {
   "cell_type": "code",
   "execution_count": 24,
   "id": "f98e1635-5ac2-43c4-8548-00c74d7d5efa",
   "metadata": {},
   "outputs": [
    {
     "name": "stdout",
     "output_type": "stream",
     "text": [
      "[1, 2]\n",
      "받은거: 3\n"
     ]
    }
   ],
   "source": [
    "# 리스트 요소 끄집어 내기 - pop\n",
    "a = [1,2,3]\n",
    "hand = a.pop()\n",
    "print(a)\n",
    "print(\"받은거:\",hand)"
   ]
  },
  {
   "cell_type": "code",
   "execution_count": 25,
   "id": "619a8ba6-3591-420a-a2a0-a06c0ca1146e",
   "metadata": {},
   "outputs": [
    {
     "name": "stdout",
     "output_type": "stream",
     "text": [
      "[1, 3]\n",
      "받은거 2\n"
     ]
    }
   ],
   "source": [
    "a = [1,2,3]\n",
    "hand = a.pop(1)\n",
    "print(a)\n",
    "print(\"받은거\", hand)"
   ]
  },
  {
   "cell_type": "code",
   "execution_count": 26,
   "id": "8ab20f58-fd83-4fdc-b8bd-f2961252b0dc",
   "metadata": {},
   "outputs": [
    {
     "name": "stdout",
     "output_type": "stream",
     "text": [
      "2\n",
      "8\n"
     ]
    }
   ],
   "source": [
    "# 리스트에 포함된 요소 x의 개수 세기 - count\n",
    "st =\"안녕하세요 반가워요\"\n",
    "print(st.count('요'))\n",
    "a = [1,2,3,1,1,1,1,1,2,3,24,5,34,1,1]\n",
    "print(a.count(1))"
   ]
  },
  {
   "cell_type": "code",
   "execution_count": 27,
   "id": "a9c1fd60-9bb1-4e1a-bf17-da84e3962b3a",
   "metadata": {},
   "outputs": [
    {
     "name": "stdout",
     "output_type": "stream",
     "text": [
      "[1, 2, 3, 4, 5]\n",
      "[11, 22, 33, 44, 55, 66]\n"
     ]
    }
   ],
   "source": [
    "# 리스트 확장\n",
    "a = [1,2,3,]\n",
    "a.extend([4,5])\n",
    "print(a)\n",
    "b =[11,22,33]\n",
    "c = [44,55,66]\n",
    "print(b + c) #파이썬에서만 가능"
   ]
  },
  {
   "cell_type": "code",
   "execution_count": 28,
   "id": "f578daec-f29e-4fdc-86c6-8babc75a174b",
   "metadata": {},
   "outputs": [],
   "source": [
    "bag = []"
   ]
  },
  {
   "cell_type": "code",
   "execution_count": 29,
   "id": "292b89cc-0549-4d9b-8954-498ec3ce0f69",
   "metadata": {},
   "outputs": [
    {
     "name": "stdin",
     "output_type": "stream",
     "text": [
      "필요한 항목을 넣어주세요. rkrk\n"
     ]
    },
    {
     "name": "stdout",
     "output_type": "stream",
     "text": [
      "장바구니에는 ['rkrk']들이 있습니다.\n"
     ]
    }
   ],
   "source": [
    "# 장바구니\n",
    "\n",
    "inp = input('필요한 항목을 넣어주세요.')\n",
    "bag.append(inp)\n",
    "print(f'장바구니에는 {bag}들이 있습니다.')"
   ]
  },
  {
   "cell_type": "code",
   "execution_count": 30,
   "id": "baf65828-e63e-4360-845d-11409203d506",
   "metadata": {},
   "outputs": [
    {
     "name": "stdout",
     "output_type": "stream",
     "text": [
      "rkrk을 꺼내서 장바구니에[]이(가) 남았습니다.\n"
     ]
    }
   ],
   "source": [
    "# FIFO출력(큐 출력)\n",
    "hand = bag.pop(0)\n",
    "print(f'{hand}을 꺼내서 장바구니에{bag}이(가) 남았습니다.')"
   ]
  },
  {
   "cell_type": "code",
   "execution_count": 31,
   "id": "d6b65340-a097-4163-b0b4-e99d027903f9",
   "metadata": {},
   "outputs": [
    {
     "name": "stdout",
     "output_type": "stream",
     "text": [
      "['호박', '감자', '소주', '맥주', '피자']\n"
     ]
    },
    {
     "name": "stdin",
     "output_type": "stream",
     "text": [
      "꺼내고 싶은 물품을 입력하세요. 호박\n"
     ]
    },
    {
     "name": "stdout",
     "output_type": "stream",
     "text": [
      "호박\n",
      "바구니에서 호박을(를) 꺼내어 ['감자', '소주', '맥주', '피자']이 남았습니다.\n"
     ]
    }
   ],
   "source": [
    "#선택출력\n",
    "bag = ['호박','감자','소주','맥주','피자']\n",
    "print(bag)\n",
    "bring = input('꺼내고 싶은 물품을 입력하세요.')\n",
    "what = bag.pop(bag.index(bring))\n",
    "print(what)\n",
    "print(f'바구니에서 {what}을(를) 꺼내어 {bag}이 남았습니다.')"
   ]
  },
  {
   "cell_type": "code",
   "execution_count": 32,
   "id": "fb6599f2-50a0-4697-80d0-3b8351598984",
   "metadata": {},
   "outputs": [
    {
     "name": "stdout",
     "output_type": "stream",
     "text": [
      "33을(를) 제거 하였습니다.\n",
      "[11, 22, 44, 55, 66]\n"
     ]
    }
   ],
   "source": [
    "# 테스트\n",
    "a = [11,22,33,44,55,66]\n",
    "choice = 33\n",
    "hands = a.remove(choice)\n",
    "print(f\"{choice}을(를) 제거 하였습니다.\")\n",
    "print(a)"
   ]
  },
  {
   "cell_type": "code",
   "execution_count": 33,
   "id": "2afd5879-44bc-4d9f-9b94-7e00ece5a23d",
   "metadata": {},
   "outputs": [
    {
     "name": "stdin",
     "output_type": "stream",
     "text": [
      "추가할 물품을 지정해주세요. 라면\n",
      "앞의 물품을 지정해주세요. 피자\n"
     ]
    },
    {
     "name": "stdout",
     "output_type": "stream",
     "text": [
      "['호박', '감자', '소주', '맥주', '피자', '라면']\n"
     ]
    }
   ],
   "source": [
    "# 실습\n",
    "bag = ['호박','감자','소주','맥주','피자']\n",
    "# 물품 하나를 추가하기. 단, 지정한 물품 바로 뒤에 추가하기\n",
    "test1 =input('추가할 물품을 지정해주세요.')\n",
    "test2 =input('앞의 물품을 지정해주세요.')\n",
    "where = bag.index(test2)\n",
    "bag.insert(where+1, test1)\n",
    "print(bag)"
   ]
  },
  {
   "cell_type": "code",
   "execution_count": 34,
   "id": "130aa789-c981-4168-95b5-d4e4341b6552",
   "metadata": {},
   "outputs": [
    {
     "name": "stdin",
     "output_type": "stream",
     "text": [
      "내가 누구게? 숫자를 입력하세요. 3\n"
     ]
    },
    {
     "name": "stdout",
     "output_type": "stream",
     "text": [
      "3 <class 'str'>\n"
     ]
    }
   ],
   "source": [
    "num = input('내가 누구게? 숫자를 입력하세요.')\n",
    "print(num,type(num))"
   ]
  },
  {
   "cell_type": "code",
   "execution_count": 38,
   "id": "f47edf3a-aadc-4a87-8b62-657428d048df",
   "metadata": {},
   "outputs": [
    {
     "name": "stdout",
     "output_type": "stream",
     "text": [
      "<class 'list'>\n",
      "1,460.8 <class 'str'>\n"
     ]
    },
    {
     "data": {
      "text/plain": [
       "1460.8"
      ]
     },
     "execution_count": 38,
     "metadata": {},
     "output_type": "execute_result"
    }
   ],
   "source": [
    "import requests\n",
    "import json\n",
    "url = 'https://www.koreaexim.go.kr/site/program/financial/exchangeJSON?authkey=9P3zh9051kXxiU8f6zvUb1vmqHTIpcnY93yj&data=AP01'\n",
    "res = requests.get(url).text\n",
    "data = json.loads(res)\n",
    "print(type(data))\n",
    "result = data[-1]['deal_bas_r']\n",
    "print(result,type(result))\n",
    "#스트링을 숫자로 바꾸어라. 단 쉼표는 전처리하여 사용 가능하게 하라.\n",
    "result2 = result.replace(\",\",\"\").replace(\".\",\"\")\n",
    "int(result2)/10"
   ]
  },
  {
   "cell_type": "markdown",
   "id": "f6587001-dbfa-4c7b-8ce8-d62e4cfa142f",
   "metadata": {},
   "source": [
    "##### # 환률 계산기 만들기\n",
    "\n",
    "test1 = input(\"원화로 계산할 달러를 입력하세요.\")\n",
    "won = int(test1)*1450.12\n",
    "print(f\"{test1}달러는 원화로 {won:,}원 입니다.\")"
   ]
  },
  {
   "cell_type": "code",
   "execution_count": null,
   "id": "bcf2470c-74c2-4e13-beb0-8b7f558a8b33",
   "metadata": {},
   "outputs": [],
   "source": [
    "from IPython.display import clear_output\n",
    "#test\n",
    "inp1 = input('질문1')\n",
    "clear_output(wait=True)\n",
    "inp2 = input('질문2')\n",
    "clear_output(wait=True)\n",
    "inp3 = input('질문3')"
   ]
  },
  {
   "cell_type": "code",
   "execution_count": null,
   "id": "88d37100-d2c6-48df-b4cc-4c32e03f26d0",
   "metadata": {},
   "outputs": [],
   "source": [
    "# from decimal import Decimal 더 정밀한 계산\n",
    "# result = Decimal(rr)\n",
    "rr = 1449.4*2\n",
    "print(round(rr,1))"
   ]
  },
  {
   "cell_type": "markdown",
   "id": "13331998-5ae9-47eb-b161-d630c4e2dfe9",
   "metadata": {},
   "source": [
    "## 튜플 자료형"
   ]
  },
  {
   "cell_type": "code",
   "execution_count": null,
   "id": "636b39e5-7a7d-479a-9c53-e203f5bf5860",
   "metadata": {},
   "outputs": [],
   "source": [
    "t1 = ()\n",
    "t2 = (2,)\n",
    "t3 = (1,2,3)\n",
    "t4 = 1, 2, 3\n",
    "t5 = ('a','b',('ab','cd'))\n",
    "print(t1)\n",
    "print(t2)\n",
    "print(t3)\n",
    "print(t4)\n",
    "print(t5)"
   ]
  },
  {
   "cell_type": "code",
   "execution_count": null,
   "id": "5f842f8c-aff4-4e0a-9844-bef03e7bc271",
   "metadata": {},
   "outputs": [],
   "source": [
    "# 튜플의 요소값을 삭제하려 할 때\n",
    "t1 = (1,2,'a','b')\n",
    "# del t1[0]\n",
    "# 'tuple' object doesn't support item deletion\n",
    "\n",
    "# 튜플 요솟값을 변경하려 할 때\n",
    "# t1[0] = 'c'\n",
    "# 'tuple' object does not support item assignment\n",
    "\n",
    "# dir(tuple) #tuple()"
   ]
  },
  {
   "cell_type": "code",
   "execution_count": 4,
   "id": "2bfda75b-f6f7-42ff-8e1a-cabec153dc5f",
   "metadata": {},
   "outputs": [
    {
     "name": "stdout",
     "output_type": "stream",
     "text": [
      "1 b\n"
     ]
    }
   ],
   "source": [
    "# 인덱싱하기\n",
    "t1 = (1,2,'a','b')\n",
    "print(t1[0],t1[3])"
   ]
  },
  {
   "cell_type": "code",
   "execution_count": null,
   "id": "aa3dcdc1-2e03-488c-acce-b9a4a79b4b50",
   "metadata": {},
   "outputs": [],
   "source": [
    "# 슬라이싱 \n",
    "t1 = (1,2,'a','b')\n",
    "print(t1[1:])"
   ]
  },
  {
   "cell_type": "code",
   "execution_count": null,
   "id": "29541429-7377-4d22-8b06-66f49cd73140",
   "metadata": {},
   "outputs": [],
   "source": [
    "# 튜플 더하기\n",
    "t1 = (1,2,'a','b')\n",
    "t2 = (3,4)\n",
    "t3 = t1 + t2\n",
    "print(t3)"
   ]
  },
  {
   "cell_type": "code",
   "execution_count": 5,
   "id": "287e8b6e-85d0-41dd-aeea-51f8643f6798",
   "metadata": {},
   "outputs": [
    {
     "name": "stdout",
     "output_type": "stream",
     "text": [
      "(3, 4, 3, 4, 3, 4)\n"
     ]
    },
    {
     "data": {
      "text/plain": [
       "6"
      ]
     },
     "execution_count": 5,
     "metadata": {},
     "output_type": "execute_result"
    }
   ],
   "source": [
    "#튜플 곱하기\n",
    "t2=3, 4\n",
    "t3 = t2*3\n",
    "print(t3)\n",
    "\n",
    "#튜플 길이 구하기\n",
    "len(t3)"
   ]
  },
  {
   "cell_type": "code",
   "execution_count": null,
   "id": "158689ea-2dac-4131-bf19-17ad51a8fcd4",
   "metadata": {},
   "outputs": [],
   "source": [
    "t1 = (1,2,3)\n",
    "t2 = (4,)\n",
    "t3 = t1 + t2\n",
    "print(t3)"
   ]
  },
  {
   "cell_type": "markdown",
   "id": "d3696e71-7470-45cf-9983-a3d44cc9bb4f",
   "metadata": {},
   "source": [
    "## 딕셔너리 자료형"
   ]
  },
  {
   "cell_type": "code",
   "execution_count": 103,
   "id": "1b3d0dc0-41b9-42f0-84d3-1ff1629b4419",
   "metadata": {},
   "outputs": [
    {
     "name": "stdout",
     "output_type": "stream",
     "text": [
      "pey\n",
      "010-1234-5678\n",
      "1118\n"
     ]
    }
   ],
   "source": [
    "dic = {'name':'pey','phone':'010-1234-5678','birth':'1118'}\n",
    "print(dic['name'])\n",
    "print(dic['phone'])\n",
    "print(dic['birth'])"
   ]
  },
  {
   "cell_type": "code",
   "execution_count": 102,
   "id": "38d9180f-4971-4d10-811c-25117b579e91",
   "metadata": {},
   "outputs": [
    {
     "name": "stdout",
     "output_type": "stream",
     "text": [
      "11\n",
      "11\n",
      "11\n"
     ]
    }
   ],
   "source": [
    "ad = [11,22,33,44,55]\n",
    "at = 11,22,33,44,55\n",
    "al = {0:11, 1:22, 2:33, 3:44, 4:55}\n",
    "print(ad[0])\n",
    "print(at[0])\n",
    "print(al[0])"
   ]
  },
  {
   "cell_type": "code",
   "execution_count": null,
   "id": "f0fbd5cc-ec78-4f41-aa3a-d4c8f3003600",
   "metadata": {},
   "outputs": [],
   "source": [
    "# test\n",
    "for l in al:\n",
    "    print(l)\n",
    "print('='*10)\n",
    "for t in at:\n",
    "    print(t)"
   ]
  },
  {
   "cell_type": "code",
   "execution_count": 105,
   "id": "50d20d9f-3401-48aa-8dbc-a589cb40f3ab",
   "metadata": {},
   "outputs": [
    {
     "name": "stdout",
     "output_type": "stream",
     "text": [
      "[1, 2, 3, 4, 5]\n"
     ]
    }
   ],
   "source": [
    "a = {'aa':[1,2,3,4,5,]}\n",
    "print(a['aa'])"
   ]
  },
  {
   "cell_type": "markdown",
   "id": "eab90a06-3ecd-433f-a522-3b726a87fd72",
   "metadata": {},
   "source": [
    "### 딕셔너리 쌍 추가, 삭제하기"
   ]
  },
  {
   "cell_type": "code",
   "execution_count": 106,
   "id": "36652b34-3dae-4761-8813-9d3179b8d113",
   "metadata": {},
   "outputs": [
    {
     "name": "stdout",
     "output_type": "stream",
     "text": [
      "{'name': 'pey', 'phone': '010-1234-5678', 'birth': '1118', 'address': 'busan'}\n"
     ]
    }
   ],
   "source": [
    "dic = {'name':'pey','phone':'010-1234-5678','birth':'1118'}\n",
    "dic['address'] = 'busan'\n",
    "\n",
    "print(dic)"
   ]
  },
  {
   "cell_type": "code",
   "execution_count": 41,
   "id": "c0d23575-74f2-4d61-aad4-4f0822cac277",
   "metadata": {},
   "outputs": [
    {
     "name": "stdout",
     "output_type": "stream",
     "text": [
      "{'name': 'pey', 'phone': '010-1234-5678', 'birth': '1118', 'address': 'busan', 'array': [1, 2, 3, 4, 5]}\n"
     ]
    }
   ],
   "source": [
    "dic['array'] = [1,2,3,4,5,]\n",
    "print(dic)"
   ]
  },
  {
   "cell_type": "code",
   "execution_count": null,
   "id": "062cbe92-70c4-42f1-b566-e87cdf887b60",
   "metadata": {},
   "outputs": [],
   "source": [
    "print(dic)\n",
    "del dic['birth'] \n",
    "print(dic)"
   ]
  },
  {
   "cell_type": "code",
   "execution_count": 104,
   "id": "5da3ff06-837e-4726-ad2c-6682b9ec9def",
   "metadata": {},
   "outputs": [
    {
     "name": "stdout",
     "output_type": "stream",
     "text": [
      "{1: 'b'}\n"
     ]
    }
   ],
   "source": [
    "# 딕셔너리 만들 때 주의할 사항\n",
    "a = {1:'a', 1:'b'}\n",
    "print(a)"
   ]
  },
  {
   "cell_type": "markdown",
   "id": "76bee00a-0232-4c77-9b5b-ce996171d77c",
   "metadata": {},
   "source": [
    "### 딕셔너리 관련함수"
   ]
  },
  {
   "cell_type": "code",
   "execution_count": 111,
   "id": "12b15b27-8f52-46bf-bcda-5bf280156d0f",
   "metadata": {},
   "outputs": [
    {
     "name": "stdout",
     "output_type": "stream",
     "text": [
      "dict_keys(['name', 'phone', 'birth', 'address', 'array'])\n",
      "dict_values(['pey', '010-1234-5678', '1118', 'busan', [1, 2, 3, 4, 5]])\n",
      "['pey', '010-1234-5678', '1118', 'busan', [1, 2, 3, 4, 5]]\n",
      "dict_items([('name', 'pey'), ('phone', '010-1234-5678'), ('birth', '1118'), ('address', 'busan'), ('array', [1, 2, 3, 4, 5])])\n",
      "{'name': 'pey', 'phone': '010-1234-5678', 'birth': '1118', 'address': 'busan', 'array': [1, 2, 3, 4, 5]}\n",
      "{}\n"
     ]
    }
   ],
   "source": [
    "a = {'name': 'pey', 'phone': '010-1234-5678', 'birth': '1118', 'address': 'busan', 'array': [1, 2, 3, 4, 5]}\n",
    "# key 리스트 만들기\n",
    "print(a.keys()) #리스트의 기능을 일부는 갖고 있음 \n",
    "#value 리스트 만들기 - values\n",
    "print(a.values())\n",
    "print(list(a.values()))\n",
    "#key,value 쌍 얻기 - items\n",
    "print(a.items())\n",
    "print(a)\n",
    "#key, value 쌍 모두 지우기 - clear\n",
    "a.clear()\n",
    "print(a)"
   ]
  },
  {
   "cell_type": "code",
   "execution_count": 43,
   "id": "57b86468-8182-46a6-b999-3dd81e9a7f44",
   "metadata": {},
   "outputs": [
    {
     "name": "stdout",
     "output_type": "stream",
     "text": [
      "name\n",
      "phone\n",
      "birth\n",
      "address\n",
      "array\n"
     ]
    }
   ],
   "source": [
    "for k in a.keys():\n",
    "    print(k)"
   ]
  },
  {
   "cell_type": "code",
   "execution_count": 108,
   "id": "9dc2829d-2080-4503-af62-d058e70f0e98",
   "metadata": {},
   "outputs": [
    {
     "name": "stdout",
     "output_type": "stream",
     "text": [
      "pey\n",
      "None\n"
     ]
    },
    {
     "ename": "KeyError",
     "evalue": "'money'",
     "output_type": "error",
     "traceback": [
      "\u001b[1;31m---------------------------------------------------------------------------\u001b[0m",
      "\u001b[1;31mKeyError\u001b[0m                                  Traceback (most recent call last)",
      "Cell \u001b[1;32mIn[108], line 4\u001b[0m\n\u001b[0;32m      2\u001b[0m \u001b[38;5;28mprint\u001b[39m(a\u001b[38;5;241m.\u001b[39mget(\u001b[38;5;124m'\u001b[39m\u001b[38;5;124mname\u001b[39m\u001b[38;5;124m'\u001b[39m))\n\u001b[0;32m      3\u001b[0m \u001b[38;5;28mprint\u001b[39m(a\u001b[38;5;241m.\u001b[39mget(\u001b[38;5;124m'\u001b[39m\u001b[38;5;124msuper\u001b[39m\u001b[38;5;124m'\u001b[39m)) \u001b[38;5;66;03m#None 값 발생\u001b[39;00m\n\u001b[1;32m----> 4\u001b[0m \u001b[38;5;28mprint\u001b[39m(\u001b[43ma\u001b[49m\u001b[43m[\u001b[49m\u001b[38;5;124;43m'\u001b[39;49m\u001b[38;5;124;43mmoney\u001b[39;49m\u001b[38;5;124;43m'\u001b[39;49m\u001b[43m]\u001b[49m)     \u001b[38;5;66;03m#오류 발생\u001b[39;00m\n",
      "\u001b[1;31mKeyError\u001b[0m: 'money'"
     ]
    }
   ],
   "source": [
    "a = {'name': 'pey', 'phone': '010-1234-5678', 'birth': '1118', 'address': 'busan', 'array': [1, 2, 3, 4, 5]}\n",
    "print(a.get('name'))\n",
    "print(a.get('super')) #None 값 발생\n",
    "print(a['money'])     #오류 발생"
   ]
  },
  {
   "cell_type": "code",
   "execution_count": 51,
   "id": "02398b88-4a87-4fb1-a84e-06546de8d54c",
   "metadata": {},
   "outputs": [
    {
     "name": "stdout",
     "output_type": "stream",
     "text": [
      "True\n"
     ]
    }
   ],
   "source": [
    "a = {'name': 'pey', 'phone': '010-1234-5678', 'birth': '1118', 'address': 'busan', 'array': [1, 2, 3, 4, 5]}\n",
    "print('name' in a)"
   ]
  },
  {
   "cell_type": "code",
   "execution_count": 109,
   "id": "75c0a81b-7834-42a1-8777-eb51bba23138",
   "metadata": {},
   "outputs": [
    {
     "name": "stdout",
     "output_type": "stream",
     "text": [
      "True\n",
      "False\n",
      "True\n"
     ]
    }
   ],
   "source": [
    "al = [11,22,33,44,55] \n",
    "at = 11,22,33,44,55\n",
    "ad = {0:11,1:22,2:33,3:44,4:55}\n",
    "\n",
    "print(22 in al) # 리스트\n",
    "print(99 in at) # 튜플\n",
    "print(1 in ad) # 딕셔너리의 키"
   ]
  },
  {
   "cell_type": "code",
   "execution_count": null,
   "id": "b2aa9324-2155-418b-8e6c-cfc4706033db",
   "metadata": {},
   "outputs": [],
   "source": [
    "# 주피터랩 자동실행\n",
    "@echo off\n",
    "echo jupyter starting ....  주피터랩 자동시작\n",
    "timeout 10 /nobreak 10초 후에 접속\n",
    "jupyter lab\n",
    "pause"
   ]
  },
  {
   "cell_type": "code",
   "execution_count": 56,
   "id": "cf4ea2ba-f949-4df6-8d3f-179a32f7496b",
   "metadata": {},
   "outputs": [
    {
     "name": "stdout",
     "output_type": "stream",
     "text": [
      "0과 1사이의 랜덤 소수0.779297556251178\n",
      "0과 1사이의 랜덤 실수95\n",
      "오늘의 선택된 메뉴는과자!\n",
      "[8, 6, 7, 9, 5, 1, 2, 3, 4, 10]\n"
     ]
    }
   ],
   "source": [
    "# 실습 random 모듈\n",
    "import random\n",
    "menu = [\"구내식당\",\"후문편의점\",\"자가도시락\",\"굶기\",\"과자\"]\n",
    "\n",
    "num1 = random.random()\n",
    "print(f'0과 1사이의 랜덤 소수{num1}')\n",
    "num2 = random.randint(1,100)\n",
    "print(f'0과 1사이의 랜덤 실수{num2}')\n",
    "lunch = random.choice(menu)\n",
    "print(f'오늘의 선택된 메뉴는{lunch}추천드립니다.')\n",
    "deck = [1,2,3,4,5,6,7,8,9,10]\n",
    "random.shuffle(deck)\n",
    "print(deck)\n"
   ]
  },
  {
   "cell_type": "markdown",
   "id": "d8fbca6e-e87a-4d31-82f0-f7648f5f3801",
   "metadata": {},
   "source": [
    "## 집합 자료형"
   ]
  },
  {
   "cell_type": "code",
   "execution_count": 61,
   "id": "3b33d55e-cbf0-44aa-82eb-a7efb22b6ba0",
   "metadata": {},
   "outputs": [
    {
     "name": "stdout",
     "output_type": "stream",
     "text": [
      "{1, 2, 3} <class 'set'>\n",
      "{'h', 'o', 'l', 'e'} <class 'set'>\n"
     ]
    }
   ],
   "source": [
    "s1 = set([1,2,3]) # 딕셔너리와 댜르게 key가 없고 value만 있음\n",
    "print(s1,type(s1)) \n",
    "s2 = set(\"hello\") # 리스트와 튜플은 순서가 있지만 set은 순서가 없음, 중복을 허용하지 않음\n",
    "print(s2,type(s2)"
   ]
  },
  {
   "cell_type": "code",
   "execution_count": 65,
   "id": "cca23040-8a4e-425a-b38b-3a2b33a758f5",
   "metadata": {},
   "outputs": [
    {
     "name": "stdout",
     "output_type": "stream",
     "text": [
      "[33, 11, 22] <class 'list'>\n",
      "(33, 11, 22) <class 'tuple'>\n"
     ]
    }
   ],
   "source": [
    "# 집합 자료형의 특징\n",
    "s1 = set([11,22,33,11,22])\n",
    "l1 = list(s1)\n",
    "print(l1,type(l1))\n",
    "t1 = tuple(s1)\n",
    "print(t1,type(t1))"
   ]
  },
  {
   "cell_type": "markdown",
   "id": "abf3b3df-255d-4d22-8d03-489a963047be",
   "metadata": {},
   "source": [
    "### 교집합, 합집합, 차집합 구하기"
   ]
  },
  {
   "cell_type": "code",
   "execution_count": 69,
   "id": "f1ad5507-f5e3-49b4-a4ec-5f6057772b46",
   "metadata": {},
   "outputs": [
    {
     "name": "stdout",
     "output_type": "stream",
     "text": [
      "{4, 5, 6}\n",
      "{4, 5, 6}\n",
      "\n"
     ]
    }
   ],
   "source": [
    "# 교집합\n",
    "s1 = set([1,2,3,4,5,6,])\n",
    "s2 = set([4,5,6,7,8,9])\n",
    "print(s1 & s2)\n",
    "print(s1.intersection(s2))\n",
    "print()\n"
   ]
  },
  {
   "cell_type": "code",
   "execution_count": 72,
   "id": "b9be3b00-f0f4-46ff-846f-0fdc704d3406",
   "metadata": {},
   "outputs": [
    {
     "name": "stdout",
     "output_type": "stream",
     "text": [
      "{1, 2, 3, 4, 5, 6, 7, 8, 9}\n"
     ]
    }
   ],
   "source": [
    "# 합집합\n",
    "print(s1 | s2)\n",
    "print(s1.union(s2))"
   ]
  },
  {
   "cell_type": "code",
   "execution_count": 73,
   "id": "3e20b5b4-1e4a-468f-a5fe-d954eff7d908",
   "metadata": {},
   "outputs": [
    {
     "name": "stdout",
     "output_type": "stream",
     "text": [
      "{1, 2, 3}\n",
      "{8, 9, 7}\n"
     ]
    }
   ],
   "source": [
    "# 차집합\n",
    "print(s1 - s2)\n",
    "print(s2 - s1)"
   ]
  },
  {
   "cell_type": "markdown",
   "id": "809e629e-3cc8-418a-8c2e-112eabef11d3",
   "metadata": {},
   "source": [
    "### 집합 자료형 관련 함수"
   ]
  },
  {
   "cell_type": "code",
   "execution_count": 74,
   "id": "46bf8394-163a-4354-b912-27e97da1e34b",
   "metadata": {},
   "outputs": [
    {
     "name": "stdout",
     "output_type": "stream",
     "text": [
      "{1, 2, 3, 4}\n"
     ]
    }
   ],
   "source": [
    "# 값 1개 추가하기\n",
    "s1 = set([1,2,3])\n",
    "s1.add(4)\n",
    "print(s1)"
   ]
  },
  {
   "cell_type": "code",
   "execution_count": 75,
   "id": "baaa92c4-864f-49f0-ba26-b98a8b611be6",
   "metadata": {},
   "outputs": [
    {
     "name": "stdout",
     "output_type": "stream",
     "text": [
      "{1, 2, 3, 4, 5, 6}\n"
     ]
    }
   ],
   "source": [
    "# 값 여러개 추가하기 - update\n",
    "s1 = set([1,2,3])\n",
    "s1.update([4,5,6])\n",
    "print(s1)"
   ]
  },
  {
   "cell_type": "code",
   "execution_count": 76,
   "id": "54bfcec4-4a64-492d-8fde-4aa923e50828",
   "metadata": {},
   "outputs": [
    {
     "name": "stdout",
     "output_type": "stream",
     "text": [
      "{1, 3}\n"
     ]
    }
   ],
   "source": [
    "# 특정 값 제거하기 - remove\n",
    "s1 = set([1,2,3])\n",
    "s1.remove(2)\n",
    "print(s1)"
   ]
  },
  {
   "cell_type": "markdown",
   "id": "81b5e2a2-8ac1-4b55-9568-580775478b1c",
   "metadata": {},
   "source": [
    "## 불자료형"
   ]
  },
  {
   "cell_type": "code",
   "execution_count": 77,
   "id": "e47880ea-6fff-4842-94fb-158d0f726500",
   "metadata": {},
   "outputs": [],
   "source": [
    "# True: 참을 뜻한다. (1)\n",
    "# False: 거짓을 의미한다. (0)"
   ]
  },
  {
   "cell_type": "code",
   "execution_count": 78,
   "id": "79e85feb-8aec-49b3-8b8d-bc6047cbef6f",
   "metadata": {},
   "outputs": [
    {
     "name": "stdout",
     "output_type": "stream",
     "text": [
      "<class 'bool'>\n",
      "<class 'bool'>\n"
     ]
    }
   ],
   "source": [
    "print(type(True))\n",
    "print(type(False))"
   ]
  },
  {
   "cell_type": "code",
   "execution_count": 81,
   "id": "b3f6e778-5539-42df-b43a-d87ddbe0ae0a",
   "metadata": {},
   "outputs": [
    {
     "name": "stdout",
     "output_type": "stream",
     "text": [
      "0\n"
     ]
    }
   ],
   "source": [
    "print(int(4==5))"
   ]
  },
  {
   "cell_type": "code",
   "execution_count": 101,
   "id": "e44ea0c8-9ba6-42cb-ab2f-3c0a0bc0d4ce",
   "metadata": {},
   "outputs": [
    {
     "name": "stdout",
     "output_type": "stream",
     "text": [
      "True\n",
      "False\n",
      "True\n",
      "False\n",
      "True\n",
      "False\n",
      "True\n",
      "True\n",
      "False\n",
      "False\n"
     ]
    }
   ],
   "source": [
    "# 자료형의 참과 거짓\n",
    "print(bool(\"python\"))\n",
    "print(bool(\"\"))\n",
    "print(bool([1,2,3]))\n",
    "print(bool([]))\n",
    "print(bool((1,2,3)))\n",
    "print(bool())\n",
    "print(bool({'a':1}))\n",
    "print(bool(1))\n",
    "print(bool(0))\n",
    "print(bool(None))\n",
    "\n",
    "      "
   ]
  },
  {
   "cell_type": "code",
   "execution_count": 99,
   "id": "d84a88df-f620-4602-b7c2-f5dc3a533066",
   "metadata": {},
   "outputs": [
    {
     "name": "stdout",
     "output_type": "stream",
     "text": [
      "어느 날, 서투른 마법사는 귀신이 나오는 흉가에서 모험을 떠나 비밀 통로를 발견했다. 그리고 신나는 선생님는 마법의 성에서 고대의 미스터리를 풀었다.\n"
     ]
    }
   ],
   "source": [
    "# random으로 스토리 생성기 만들기\n",
    "\n",
    "# 등장인물 리스트\n",
    "characters = [\"용감한기사\",\"모험심 넘치는 고양이\",\"호기심 많은 로봇\",\"서투른 마법사\",\"명석한 탐정\",\"신나는 선생님\"]\n",
    "places = [\"어두운 숲에서\",\"먼 우주 행성에서\",\"마법의 성에서\",\"바닷속 도시에서\",\"귀신이 나오는 흉가에서\",\"재밌는 교실에서\"]\n",
    "events = [\"숨겨진 보물을 발견했다.\",\"무시무시한 용과 싸웠다.\",\"비밀 통로를 발견했다.\",\"고대의 미스터리를 풀었다.\",\"왕국을 위험에서 구하였다.\",\"꾸안꾸로 다녔다.\"]\n",
    "\n",
    "ch = random.choice(characters)\n",
    "pl = random.choice(places)\n",
    "ev = random.choice(events)\n",
    "ch2 = random.choice(characters)\n",
    "pl2 = random.choice(places)\n",
    "ev2 = random.choice(events)\n",
    "\n",
    "print(f\"어느 날, {ch}는 {pl} 모험을 떠나 {ev} 그리고 {ch2}는 {pl2} {ev2}\")"
   ]
  },
  {
   "cell_type": "markdown",
   "id": "2a14e8aa-e386-418d-b4e1-f8343a540a14",
   "metadata": {},
   "source": [
    "# 자료형의 값을 저장하는 공간, 변수"
   ]
  },
  {
   "cell_type": "markdown",
   "id": "f6d596d3-4216-4b70-b8f2-51c06efcedba",
   "metadata": {},
   "source": [
    "## 리스트의 옅은복사, 깊은복사"
   ]
  },
  {
   "cell_type": "code",
   "execution_count": 9,
   "id": "21ff17bf-f657-441f-ad8c-7322adfa530d",
   "metadata": {},
   "outputs": [
    {
     "name": "stdout",
     "output_type": "stream",
     "text": [
      "[1, 2, 3] 2066193134720\n",
      "[1, 2, 3] 2066193134720\n",
      "[1, 7, 3] 2066193134720\n",
      "[1, 7, 3] 2066193134720\n"
     ]
    }
   ],
   "source": [
    "# 같은 저장공간\n",
    "a = [1,2,3]\n",
    "b = a\n",
    "print(a,id(a))\n",
    "print(b,id(b))\n",
    "\n",
    "b[1] = 7\n",
    "print(a,id(a))\n",
    "print(b,id(b))"
   ]
  },
  {
   "cell_type": "code",
   "execution_count": 2,
   "id": "8c06ae70-aa46-4aab-8073-59976a6114e1",
   "metadata": {},
   "outputs": [
    {
     "data": {
      "text/plain": [
       "True"
      ]
     },
     "execution_count": 2,
     "metadata": {},
     "output_type": "execute_result"
    }
   ],
   "source": [
    "a is b"
   ]
  },
  {
   "cell_type": "code",
   "execution_count": 11,
   "id": "fce1e33f-2d76-4a57-9fb1-690dfa16225f",
   "metadata": {},
   "outputs": [
    {
     "name": "stdout",
     "output_type": "stream",
     "text": [
      "[11, 22, 33] 2066193044160\n",
      "[11, 22, 33] 2066193112064\n",
      "[11, 22, 33] 2066193044160\n",
      "[11, 77, 33] 2066193112064\n",
      "[11, 22, 33] 2066187029696\n",
      "[11, 22, 33] 2066193102208\n"
     ]
    }
   ],
   "source": [
    "# 다른 저장공간\n",
    "\n",
    "# d= c.copy() 방식1\n",
    "import copy\n",
    "c = [11,22,33]\n",
    "d = copy.copy(c)\n",
    "print(c,id(c))\n",
    "print(d,id(d))\n",
    "\n",
    "d[1] = 77\n",
    "print(c,id(c))\n",
    "print(d,id(d))\n",
    "\n",
    "# d= copy 방식2\n",
    "d = c[:] #방식3\n",
    "from copy import copy\n",
    "c = [11,22,33]\n",
    "d = copy(c)\n",
    "print(c,id(c))\n",
    "print(d,id(d))"
   ]
  },
  {
   "cell_type": "code",
   "execution_count": 5,
   "id": "80c9debe-5aaa-4f6b-9dff-40e3513a8f06",
   "metadata": {},
   "outputs": [
    {
     "data": {
      "text/plain": [
       "False"
      ]
     },
     "execution_count": 5,
     "metadata": {},
     "output_type": "execute_result"
    }
   ],
   "source": [
    "c is d"
   ]
  },
  {
   "cell_type": "markdown",
   "id": "abe73c63-ca82-4472-86c6-b8f16385fcc0",
   "metadata": {},
   "source": [
    "## 변수를 만드는 여러가지 방법"
   ]
  },
  {
   "cell_type": "code",
   "execution_count": 20,
   "id": "def5a4c9-567e-4de2-a895-a56cf2514406",
   "metadata": {},
   "outputs": [
    {
     "name": "stdout",
     "output_type": "stream",
     "text": [
      "[11, 22, 33] 2066193463936\n",
      "[11, 22, 33] 2066193502784\n"
     ]
    }
   ],
   "source": [
    "c = [11,22,33]\n",
    "d = c[:]\n",
    "print(c,id(c))\n",
    "print(d,id(d))"
   ]
  },
  {
   "cell_type": "code",
   "execution_count": 21,
   "id": "b551a214-19a8-4a99-b61d-730bc40b34fc",
   "metadata": {},
   "outputs": [
    {
     "name": "stdout",
     "output_type": "stream",
     "text": [
      "파이썬 짱짱\n",
      "배고파 밥줘\n",
      "10 10 10\n"
     ]
    }
   ],
   "source": [
    "a , b = '파이썬','짱짱'\n",
    "[c,d] =['배고파','밥줘']\n",
    "print(a,b)\n",
    "print(c,d)\n",
    "num1 = num2 = num3 = 10\n",
    "print(num1,num2,num3)"
   ]
  },
  {
   "cell_type": "code",
   "execution_count": 23,
   "id": "9dfd3d9d-3c38-4ec1-982b-1f53e2b06adc",
   "metadata": {},
   "outputs": [
    {
     "name": "stdout",
     "output_type": "stream",
     "text": [
      "3 7\n",
      "7 3\n"
     ]
    }
   ],
   "source": [
    "a = 3\n",
    "b = 7\n",
    "print(a,b)\n",
    "a,b = b,a\n",
    "print(a,b)"
   ]
  },
  {
   "cell_type": "code",
   "execution_count": null,
   "id": "78b4dba4-acf1-449b-84d0-9cbe2dddab1e",
   "metadata": {},
   "outputs": [],
   "source": []
  }
 ],
 "metadata": {
  "kernelspec": {
   "display_name": "Python 3 (ipykernel)",
   "language": "python",
   "name": "python3"
  },
  "language_info": {
   "codemirror_mode": {
    "name": "ipython",
    "version": 3
   },
   "file_extension": ".py",
   "mimetype": "text/x-python",
   "name": "python",
   "nbconvert_exporter": "python",
   "pygments_lexer": "ipython3",
   "version": "3.10.12"
  }
 },
 "nbformat": 4,
 "nbformat_minor": 5
}
