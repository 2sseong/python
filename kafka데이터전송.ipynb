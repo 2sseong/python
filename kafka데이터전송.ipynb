{
 "cells": [
  {
   "cell_type": "code",
   "execution_count": 7,
   "id": "cb39791f-46ae-4b7b-8ffd-1ef82b88ddf7",
   "metadata": {},
   "outputs": [
    {
     "name": "stdout",
     "output_type": "stream",
     "text": [
      "172.18.0.2 \n"
     ]
    }
   ],
   "source": [
    "# !pip install kafka-python\n",
    "!hostname -I"
   ]
  },
  {
   "cell_type": "code",
   "execution_count": 6,
   "id": "1e505f0e-d574-4789-af33-c2aa8ebd68e0",
   "metadata": {},
   "outputs": [
    {
     "name": "stdout",
     "output_type": "stream",
     "text": [
      "ping: kafka: Name or service not known\n"
     ]
    }
   ],
   "source": [
    "!ping kafka"
   ]
  },
  {
   "cell_type": "code",
   "execution_count": null,
   "id": "55086eda-cd42-434a-8cae-c9cfb3edba02",
   "metadata": {
    "scrolled": true
   },
   "outputs": [
    {
     "name": "stdout",
     "output_type": "stream",
     "text": [
      "Send:{'car_id': '0/1000', 'speed': 98.27, 'latitude': 34.21, 'longitude': 125.37, 'timestamp': 1745223450.5575907}\n",
      "Send:{'car_id': '1/1000', 'speed': 91.66, 'latitude': 35.94, 'longitude': 124.89, 'timestamp': 1745223451.6684308}\n",
      "Send:{'car_id': '2/1000', 'speed': 98.77, 'latitude': 35.29, 'longitude': 124.31, 'timestamp': 1745223455.54756}\n",
      "Send:{'car_id': '3/1000', 'speed': 90.07, 'latitude': 34.11, 'longitude': 124.88, 'timestamp': 1745223456.5484314}\n",
      "Send:{'car_id': '4/1000', 'speed': 89.23, 'latitude': 34.93, 'longitude': 125.18, 'timestamp': 1745223457.5502858}\n",
      "Send:{'car_id': '5/1000', 'speed': 87.66, 'latitude': 34.01, 'longitude': 125.85, 'timestamp': 1745223458.5537167}\n",
      "Send:{'car_id': '6/1000', 'speed': 92.49, 'latitude': 35.07, 'longitude': 124.83, 'timestamp': 1745223459.5567675}\n",
      "Send:{'car_id': '7/1000', 'speed': 95.91, 'latitude': 34.89, 'longitude': 124.62, 'timestamp': 1745223460.561538}\n",
      "Send:{'car_id': '8/1000', 'speed': 81.2, 'latitude': 34.63, 'longitude': 124.34, 'timestamp': 1745223461.565109}\n",
      "Send:{'car_id': '9/1000', 'speed': 80.43, 'latitude': 34.82, 'longitude': 124.19, 'timestamp': 1745223462.5672388}\n",
      "Send:{'car_id': '10/1000', 'speed': 98.54, 'latitude': 35.46, 'longitude': 125.16, 'timestamp': 1745223463.570212}\n",
      "Send:{'car_id': '11/1000', 'speed': 90.01, 'latitude': 35.76, 'longitude': 124.5, 'timestamp': 1745223464.5730653}\n",
      "Send:{'car_id': '12/1000', 'speed': 84.43, 'latitude': 35.97, 'longitude': 124.13, 'timestamp': 1745223465.5741189}\n",
      "Send:{'car_id': '13/1000', 'speed': 86.82, 'latitude': 35.68, 'longitude': 124.74, 'timestamp': 1745223466.575392}\n",
      "Send:{'car_id': '14/1000', 'speed': 95.09, 'latitude': 35.0, 'longitude': 124.6, 'timestamp': 1745223467.5765774}\n",
      "Send:{'car_id': '15/1000', 'speed': 94.43, 'latitude': 35.32, 'longitude': 125.46, 'timestamp': 1745223468.5783098}\n",
      "Send:{'car_id': '16/1000', 'speed': 91.54, 'latitude': 35.7, 'longitude': 125.19, 'timestamp': 1745223469.5826924}\n",
      "Send:{'car_id': '17/1000', 'speed': 98.24, 'latitude': 35.48, 'longitude': 124.51, 'timestamp': 1745223470.585946}\n",
      "Send:{'car_id': '18/1000', 'speed': 96.82, 'latitude': 35.31, 'longitude': 125.37, 'timestamp': 1745223471.5885313}\n",
      "Send:{'car_id': '19/1000', 'speed': 90.78, 'latitude': 35.67, 'longitude': 124.62, 'timestamp': 1745223472.590992}\n",
      "Send:{'car_id': '20/1000', 'speed': 95.81, 'latitude': 34.85, 'longitude': 125.08, 'timestamp': 1745223473.5937812}\n",
      "Send:{'car_id': '21/1000', 'speed': 92.86, 'latitude': 34.07, 'longitude': 124.03, 'timestamp': 1745223474.595656}\n",
      "Send:{'car_id': '22/1000', 'speed': 87.82, 'latitude': 35.0, 'longitude': 124.11, 'timestamp': 1745223475.5996673}\n",
      "Send:{'car_id': '23/1000', 'speed': 84.57, 'latitude': 35.58, 'longitude': 124.63, 'timestamp': 1745223476.6043553}\n",
      "Send:{'car_id': '24/1000', 'speed': 92.56, 'latitude': 34.9, 'longitude': 125.96, 'timestamp': 1745223477.6081312}\n",
      "Send:{'car_id': '25/1000', 'speed': 95.59, 'latitude': 35.28, 'longitude': 124.7, 'timestamp': 1745223478.6099322}\n",
      "Send:{'car_id': '26/1000', 'speed': 95.88, 'latitude': 34.53, 'longitude': 125.8, 'timestamp': 1745223479.612746}\n",
      "Send:{'car_id': '27/1000', 'speed': 81.43, 'latitude': 35.02, 'longitude': 125.34, 'timestamp': 1745223480.614845}\n",
      "Send:{'car_id': '28/1000', 'speed': 89.39, 'latitude': 35.9, 'longitude': 125.55, 'timestamp': 1745223481.6165228}\n",
      "Send:{'car_id': '29/1000', 'speed': 96.88, 'latitude': 34.62, 'longitude': 124.67, 'timestamp': 1745223482.6191087}\n",
      "Send:{'car_id': '30/1000', 'speed': 94.73, 'latitude': 35.19, 'longitude': 124.68, 'timestamp': 1745223483.6211066}\n",
      "Send:{'car_id': '31/1000', 'speed': 91.92, 'latitude': 35.35, 'longitude': 124.19, 'timestamp': 1745223484.6260076}\n",
      "Send:{'car_id': '32/1000', 'speed': 94.79, 'latitude': 35.8, 'longitude': 125.56, 'timestamp': 1745223488.54117}\n",
      "Send:{'car_id': '33/1000', 'speed': 88.3, 'latitude': 34.64, 'longitude': 125.38, 'timestamp': 1745223489.5436454}\n",
      "Send:{'car_id': '34/1000', 'speed': 85.64, 'latitude': 34.59, 'longitude': 124.44, 'timestamp': 1745223490.544918}\n",
      "Send:{'car_id': '35/1000', 'speed': 98.87, 'latitude': 34.97, 'longitude': 125.4, 'timestamp': 1745223491.54823}\n",
      "Send:{'car_id': '36/1000', 'speed': 88.84, 'latitude': 34.14, 'longitude': 125.79, 'timestamp': 1745223492.550917}\n",
      "Send:{'car_id': '37/1000', 'speed': 80.61, 'latitude': 35.94, 'longitude': 125.28, 'timestamp': 1745223493.5526187}\n",
      "Send:{'car_id': '38/1000', 'speed': 92.01, 'latitude': 34.37, 'longitude': 124.1, 'timestamp': 1745223494.555094}\n",
      "Send:{'car_id': '39/1000', 'speed': 86.44, 'latitude': 35.85, 'longitude': 125.83, 'timestamp': 1745223495.5588515}\n",
      "Send:{'car_id': '40/1000', 'speed': 94.69, 'latitude': 35.87, 'longitude': 124.48, 'timestamp': 1745223496.5618074}\n",
      "Send:{'car_id': '41/1000', 'speed': 94.26, 'latitude': 35.45, 'longitude': 124.0, 'timestamp': 1745223497.5638394}\n",
      "Send:{'car_id': '42/1000', 'speed': 97.16, 'latitude': 34.46, 'longitude': 124.56, 'timestamp': 1745223498.5680876}\n",
      "Send:{'car_id': '43/1000', 'speed': 84.43, 'latitude': 35.67, 'longitude': 124.53, 'timestamp': 1745223499.571252}\n",
      "Send:{'car_id': '44/1000', 'speed': 92.77, 'latitude': 35.79, 'longitude': 126.0, 'timestamp': 1745223500.5730555}\n",
      "Send:{'car_id': '45/1000', 'speed': 87.47, 'latitude': 34.04, 'longitude': 124.47, 'timestamp': 1745223501.5768704}\n",
      "Send:{'car_id': '46/1000', 'speed': 95.97, 'latitude': 34.61, 'longitude': 124.34, 'timestamp': 1745223502.5796525}\n",
      "Send:{'car_id': '47/1000', 'speed': 99.16, 'latitude': 34.02, 'longitude': 124.41, 'timestamp': 1745223503.580231}\n",
      "Send:{'car_id': '48/1000', 'speed': 90.98, 'latitude': 35.56, 'longitude': 124.54, 'timestamp': 1745223504.581913}\n",
      "Send:{'car_id': '49/1000', 'speed': 86.11, 'latitude': 34.63, 'longitude': 124.18, 'timestamp': 1745223505.584024}\n",
      "Send:{'car_id': '50/1000', 'speed': 85.32, 'latitude': 35.21, 'longitude': 124.69, 'timestamp': 1745223506.5897024}\n",
      "Send:{'car_id': '51/1000', 'speed': 86.25, 'latitude': 34.59, 'longitude': 125.32, 'timestamp': 1745223507.5911732}\n",
      "Send:{'car_id': '52/1000', 'speed': 82.87, 'latitude': 35.86, 'longitude': 124.7, 'timestamp': 1745223508.5929327}\n",
      "Send:{'car_id': '53/1000', 'speed': 83.34, 'latitude': 35.48, 'longitude': 124.02, 'timestamp': 1745223509.5964792}\n",
      "Send:{'car_id': '54/1000', 'speed': 99.53, 'latitude': 35.61, 'longitude': 125.53, 'timestamp': 1745223510.5985332}\n",
      "Send:{'car_id': '55/1000', 'speed': 96.98, 'latitude': 35.55, 'longitude': 124.88, 'timestamp': 1745223511.6024332}\n",
      "Send:{'car_id': '56/1000', 'speed': 86.91, 'latitude': 34.33, 'longitude': 124.78, 'timestamp': 1745223512.6040277}\n",
      "Send:{'car_id': '57/1000', 'speed': 97.09, 'latitude': 34.31, 'longitude': 125.44, 'timestamp': 1745223513.605664}\n",
      "Send:{'car_id': '58/1000', 'speed': 83.96, 'latitude': 34.25, 'longitude': 125.08, 'timestamp': 1745223514.6072996}\n",
      "Send:{'car_id': '59/1000', 'speed': 91.38, 'latitude': 34.96, 'longitude': 125.91, 'timestamp': 1745223515.6090708}\n",
      "Send:{'car_id': '60/1000', 'speed': 97.06, 'latitude': 34.11, 'longitude': 124.26, 'timestamp': 1745223516.6132298}\n",
      "Send:{'car_id': '61/1000', 'speed': 89.47, 'latitude': 35.16, 'longitude': 124.31, 'timestamp': 1745223517.6162074}\n",
      "Send:{'car_id': '62/1000', 'speed': 85.29, 'latitude': 34.1, 'longitude': 124.23, 'timestamp': 1745223521.517335}\n",
      "Send:{'car_id': '63/1000', 'speed': 87.03, 'latitude': 35.44, 'longitude': 124.2, 'timestamp': 1745223522.5194242}\n",
      "Send:{'car_id': '64/1000', 'speed': 90.4, 'latitude': 34.46, 'longitude': 125.49, 'timestamp': 1745223523.5227935}\n",
      "Send:{'car_id': '65/1000', 'speed': 92.84, 'latitude': 35.23, 'longitude': 125.44, 'timestamp': 1745223524.5248563}\n",
      "Send:{'car_id': '66/1000', 'speed': 88.2, 'latitude': 35.26, 'longitude': 124.31, 'timestamp': 1745223525.5264614}\n",
      "Send:{'car_id': '67/1000', 'speed': 82.0, 'latitude': 34.89, 'longitude': 124.39, 'timestamp': 1745223526.5286875}\n",
      "Send:{'car_id': '68/1000', 'speed': 91.17, 'latitude': 35.79, 'longitude': 125.45, 'timestamp': 1745223527.5310273}\n",
      "Send:{'car_id': '69/1000', 'speed': 91.71, 'latitude': 35.0, 'longitude': 125.05, 'timestamp': 1745223528.5360541}\n",
      "Send:{'car_id': '70/1000', 'speed': 93.92, 'latitude': 35.04, 'longitude': 125.04, 'timestamp': 1745223529.5399427}\n",
      "Send:{'car_id': '71/1000', 'speed': 96.15, 'latitude': 34.07, 'longitude': 125.72, 'timestamp': 1745223530.541611}\n",
      "Send:{'car_id': '72/1000', 'speed': 92.47, 'latitude': 35.04, 'longitude': 125.46, 'timestamp': 1745223531.5451477}\n",
      "Send:{'car_id': '73/1000', 'speed': 84.13, 'latitude': 35.89, 'longitude': 125.12, 'timestamp': 1745223532.5478096}\n",
      "Send:{'car_id': '74/1000', 'speed': 90.28, 'latitude': 35.33, 'longitude': 124.86, 'timestamp': 1745223533.5507119}\n",
      "Send:{'car_id': '75/1000', 'speed': 90.01, 'latitude': 35.6, 'longitude': 125.8, 'timestamp': 1745223534.5523067}\n",
      "Send:{'car_id': '76/1000', 'speed': 89.28, 'latitude': 35.99, 'longitude': 125.71, 'timestamp': 1745223535.5560453}\n",
      "Send:{'car_id': '77/1000', 'speed': 81.83, 'latitude': 35.86, 'longitude': 125.98, 'timestamp': 1745223536.5594332}\n",
      "Send:{'car_id': '78/1000', 'speed': 92.09, 'latitude': 35.82, 'longitude': 125.41, 'timestamp': 1745223537.5619235}\n",
      "Send:{'car_id': '79/1000', 'speed': 99.22, 'latitude': 35.12, 'longitude': 125.45, 'timestamp': 1745223538.5652204}\n",
      "Send:{'car_id': '80/1000', 'speed': 87.31, 'latitude': 34.24, 'longitude': 124.4, 'timestamp': 1745223539.5686827}\n",
      "Send:{'car_id': '81/1000', 'speed': 93.19, 'latitude': 34.48, 'longitude': 124.1, 'timestamp': 1745223540.5705333}\n",
      "Send:{'car_id': '82/1000', 'speed': 83.96, 'latitude': 35.91, 'longitude': 124.06, 'timestamp': 1745223541.5721352}\n",
      "Send:{'car_id': '83/1000', 'speed': 84.23, 'latitude': 35.84, 'longitude': 125.2, 'timestamp': 1745223542.57438}\n",
      "Send:{'car_id': '84/1000', 'speed': 86.86, 'latitude': 34.12, 'longitude': 125.78, 'timestamp': 1745223543.576711}\n",
      "Send:{'car_id': '85/1000', 'speed': 93.74, 'latitude': 35.15, 'longitude': 125.24, 'timestamp': 1745223544.578102}\n",
      "Send:{'car_id': '86/1000', 'speed': 93.67, 'latitude': 35.03, 'longitude': 124.95, 'timestamp': 1745223545.5807216}\n",
      "Send:{'car_id': '87/1000', 'speed': 87.78, 'latitude': 35.8, 'longitude': 124.04, 'timestamp': 1745223546.5853038}\n",
      "Send:{'car_id': '88/1000', 'speed': 81.54, 'latitude': 34.97, 'longitude': 125.89, 'timestamp': 1745223547.5875318}\n",
      "Send:{'car_id': '89/1000', 'speed': 98.92, 'latitude': 35.19, 'longitude': 125.64, 'timestamp': 1745223548.5887985}\n",
      "Send:{'car_id': '90/1000', 'speed': 97.31, 'latitude': 35.35, 'longitude': 125.27, 'timestamp': 1745223549.5898051}\n",
      "Send:{'car_id': '91/1000', 'speed': 85.1, 'latitude': 35.86, 'longitude': 125.51, 'timestamp': 1745223550.591906}\n",
      "Send:{'car_id': '92/1000', 'speed': 92.42, 'latitude': 34.41, 'longitude': 124.81, 'timestamp': 1745223554.4996989}\n",
      "Send:{'car_id': '93/1000', 'speed': 84.3, 'latitude': 35.34, 'longitude': 125.74, 'timestamp': 1745223555.5023754}\n",
      "Send:{'car_id': '94/1000', 'speed': 81.28, 'latitude': 34.87, 'longitude': 124.96, 'timestamp': 1745223556.5039172}\n",
      "Send:{'car_id': '95/1000', 'speed': 98.9, 'latitude': 36.0, 'longitude': 125.9, 'timestamp': 1745223557.5064354}\n",
      "Send:{'car_id': '96/1000', 'speed': 80.87, 'latitude': 34.87, 'longitude': 124.6, 'timestamp': 1745223558.5084822}\n",
      "Send:{'car_id': '97/1000', 'speed': 91.57, 'latitude': 35.61, 'longitude': 125.62, 'timestamp': 1745223559.5121155}\n",
      "Send:{'car_id': '98/1000', 'speed': 94.55, 'latitude': 35.53, 'longitude': 125.95, 'timestamp': 1745223560.514539}\n",
      "Send:{'car_id': '99/1000', 'speed': 92.64, 'latitude': 35.39, 'longitude': 124.3, 'timestamp': 1745223561.5180259}\n",
      "Send:{'car_id': '100/1000', 'speed': 81.34, 'latitude': 34.09, 'longitude': 124.58, 'timestamp': 1745223562.5242858}\n",
      "Send:{'car_id': '101/1000', 'speed': 83.76, 'latitude': 35.01, 'longitude': 125.16, 'timestamp': 1745223563.5276134}\n",
      "Send:{'car_id': '102/1000', 'speed': 96.33, 'latitude': 34.58, 'longitude': 125.09, 'timestamp': 1745223564.5312607}\n",
      "Send:{'car_id': '103/1000', 'speed': 91.78, 'latitude': 34.28, 'longitude': 125.22, 'timestamp': 1745223565.5327964}\n",
      "Send:{'car_id': '104/1000', 'speed': 99.0, 'latitude': 34.02, 'longitude': 124.53, 'timestamp': 1745223566.534769}\n",
      "Send:{'car_id': '105/1000', 'speed': 89.74, 'latitude': 34.99, 'longitude': 124.84, 'timestamp': 1745223567.536383}\n",
      "Send:{'car_id': '106/1000', 'speed': 94.35, 'latitude': 35.25, 'longitude': 125.3, 'timestamp': 1745223568.5395827}\n",
      "Send:{'car_id': '107/1000', 'speed': 95.6, 'latitude': 34.84, 'longitude': 125.82, 'timestamp': 1745223569.5427434}\n"
     ]
    }
   ],
   "source": [
    "from kafka import KafkaProducer\n",
    "\n",
    "import json\n",
    "import time\n",
    "import random\n",
    "\n",
    "producer = KafkaProducer(\n",
    "    bootstrap_servers = 'kafka:9092',\n",
    "    value_serializer = lambda v: json.dumps(v).encode('utf-8')\n",
    ")\n",
    "num = 0\n",
    "how = 1000\n",
    "delay = 1\n",
    "\n",
    "# 테스트용 스마트카 데이터\n",
    "def generate_smartcar_data(num):\n",
    "    import random\n",
    "    return{\n",
    "        \"car_id\": f\"{num}/{how}\" , # 임의의 자동차 아이디\n",
    "        \"speed\": round(random.uniform(80,100),2), # 차량의 임의속도 (km/h)\n",
    "        \"latitude\": round(random.uniform(34,36),2), # 위도\n",
    "        \"longitude\": round(random.uniform(124,126),2), # 경도\n",
    "        \"timestamp\": time.time()\n",
    "    }\n",
    "\n",
    "if __name__ == \"__main__\":\n",
    "    try:\n",
    "        for i, r in enumerate(range(how)):\n",
    "            data = generate_smartcar_data(i)\n",
    "            \n",
    "            producer.send(\"smart-car\", value = data) #topic에 data 담아서 보내기\n",
    "            print(f'Send:{data}') # 우리가 보는 데이터\n",
    "            time.sleep(delay)\n",
    "\n",
    "    except:\n",
    "        print(\"에러발생\")\n",
    "    finally:\n",
    "        producer.close()\n"
   ]
  },
  {
   "cell_type": "code",
   "execution_count": 3,
   "id": "c80f76e0-e383-4569-ad21-bac908ae3679",
   "metadata": {},
   "outputs": [
    {
     "ename": "NoBrokersAvailable",
     "evalue": "NoBrokersAvailable",
     "output_type": "error",
     "traceback": [
      "\u001b[0;31m---------------------------------------------------------------------------\u001b[0m",
      "\u001b[0;31mNoBrokersAvailable\u001b[0m                        Traceback (most recent call last)",
      "Cell \u001b[0;32mIn[3], line 5\u001b[0m\n\u001b[1;32m      2\u001b[0m \u001b[38;5;28;01mimport\u001b[39;00m\u001b[38;5;250m \u001b[39m\u001b[38;5;21;01mjson\u001b[39;00m\n\u001b[1;32m      4\u001b[0m \u001b[38;5;66;03m# Kafka 컨슈머 설정\u001b[39;00m\n\u001b[0;32m----> 5\u001b[0m consumer \u001b[38;5;241m=\u001b[39m \u001b[43mKafkaConsumer\u001b[49m\u001b[43m(\u001b[49m\n\u001b[1;32m      6\u001b[0m \u001b[43m    \u001b[49m\u001b[38;5;124;43m'\u001b[39;49m\u001b[38;5;124;43msmart-car\u001b[39;49m\u001b[38;5;124;43m'\u001b[39;49m\u001b[43m,\u001b[49m\n\u001b[1;32m      7\u001b[0m \u001b[43m    \u001b[49m\u001b[43mbootstrap_servers\u001b[49m\u001b[43m \u001b[49m\u001b[38;5;241;43m=\u001b[39;49m\u001b[43m \u001b[49m\u001b[38;5;124;43m'\u001b[39;49m\u001b[38;5;124;43mkafka:9092\u001b[39;49m\u001b[38;5;124;43m'\u001b[39;49m\u001b[43m,\u001b[49m\n\u001b[1;32m      8\u001b[0m \u001b[43m    \u001b[49m\u001b[43mauto_offset_reset\u001b[49m\u001b[43m \u001b[49m\u001b[38;5;241;43m=\u001b[39;49m\u001b[43m \u001b[49m\u001b[38;5;124;43m'\u001b[39;49m\u001b[38;5;124;43mlatest\u001b[39;49m\u001b[38;5;124;43m'\u001b[39;49m\u001b[43m,\u001b[49m\n\u001b[1;32m      9\u001b[0m \u001b[43m    \u001b[49m\u001b[43menable_auto_commit\u001b[49m\u001b[43m \u001b[49m\u001b[38;5;241;43m=\u001b[39;49m\u001b[43m \u001b[49m\u001b[38;5;28;43;01mTrue\u001b[39;49;00m\u001b[43m,\u001b[49m\n\u001b[1;32m     10\u001b[0m \u001b[43m    \u001b[49m\u001b[43mgroup_id\u001b[49m\u001b[43m \u001b[49m\u001b[38;5;241;43m=\u001b[39;49m\u001b[43m \u001b[49m\u001b[38;5;28;43;01mNone\u001b[39;49;00m\u001b[43m,\u001b[49m\n\u001b[1;32m     11\u001b[0m \u001b[43m    \u001b[49m\n\u001b[1;32m     12\u001b[0m \u001b[43m)\u001b[49m\n",
      "File \u001b[0;32m~/.local/lib/python3.10/site-packages/kafka/consumer/group.py:387\u001b[0m, in \u001b[0;36mKafkaConsumer.__init__\u001b[0;34m(self, *topics, **configs)\u001b[0m\n\u001b[1;32m    383\u001b[0m         \u001b[38;5;28mself\u001b[39m\u001b[38;5;241m.\u001b[39mconfig[\u001b[38;5;124m'\u001b[39m\u001b[38;5;124mapi_version\u001b[39m\u001b[38;5;124m'\u001b[39m] \u001b[38;5;241m=\u001b[39m \u001b[38;5;28mtuple\u001b[39m(\u001b[38;5;28mmap\u001b[39m(\u001b[38;5;28mint\u001b[39m, str_version\u001b[38;5;241m.\u001b[39msplit(\u001b[38;5;124m'\u001b[39m\u001b[38;5;124m.\u001b[39m\u001b[38;5;124m'\u001b[39m)))\n\u001b[1;32m    384\u001b[0m     log\u001b[38;5;241m.\u001b[39mwarning(\u001b[38;5;124m'\u001b[39m\u001b[38;5;124muse api_version=\u001b[39m\u001b[38;5;132;01m%s\u001b[39;00m\u001b[38;5;124m [tuple] -- \u001b[39m\u001b[38;5;124m\"\u001b[39m\u001b[38;5;132;01m%s\u001b[39;00m\u001b[38;5;124m\"\u001b[39m\u001b[38;5;124m as str is deprecated\u001b[39m\u001b[38;5;124m'\u001b[39m,\n\u001b[1;32m    385\u001b[0m                 \u001b[38;5;28mstr\u001b[39m(\u001b[38;5;28mself\u001b[39m\u001b[38;5;241m.\u001b[39mconfig[\u001b[38;5;124m'\u001b[39m\u001b[38;5;124mapi_version\u001b[39m\u001b[38;5;124m'\u001b[39m]), str_version)\n\u001b[0;32m--> 387\u001b[0m \u001b[38;5;28mself\u001b[39m\u001b[38;5;241m.\u001b[39m_client \u001b[38;5;241m=\u001b[39m \u001b[38;5;28;43mself\u001b[39;49m\u001b[38;5;241;43m.\u001b[39;49m\u001b[43mconfig\u001b[49m\u001b[43m[\u001b[49m\u001b[38;5;124;43m'\u001b[39;49m\u001b[38;5;124;43mkafka_client\u001b[39;49m\u001b[38;5;124;43m'\u001b[39;49m\u001b[43m]\u001b[49m\u001b[43m(\u001b[49m\u001b[43mmetrics\u001b[49m\u001b[38;5;241;43m=\u001b[39;49m\u001b[38;5;28;43mself\u001b[39;49m\u001b[38;5;241;43m.\u001b[39;49m\u001b[43m_metrics\u001b[49m\u001b[43m,\u001b[49m\u001b[43m \u001b[49m\u001b[38;5;241;43m*\u001b[39;49m\u001b[38;5;241;43m*\u001b[39;49m\u001b[38;5;28;43mself\u001b[39;49m\u001b[38;5;241;43m.\u001b[39;49m\u001b[43mconfig\u001b[49m\u001b[43m)\u001b[49m\n\u001b[1;32m    389\u001b[0m \u001b[38;5;66;03m# Get auto-discovered / normalized version from client\u001b[39;00m\n\u001b[1;32m    390\u001b[0m \u001b[38;5;28mself\u001b[39m\u001b[38;5;241m.\u001b[39mconfig[\u001b[38;5;124m'\u001b[39m\u001b[38;5;124mapi_version\u001b[39m\u001b[38;5;124m'\u001b[39m] \u001b[38;5;241m=\u001b[39m \u001b[38;5;28mself\u001b[39m\u001b[38;5;241m.\u001b[39m_client\u001b[38;5;241m.\u001b[39mconfig[\u001b[38;5;124m'\u001b[39m\u001b[38;5;124mapi_version\u001b[39m\u001b[38;5;124m'\u001b[39m]\n",
      "File \u001b[0;32m~/.local/lib/python3.10/site-packages/kafka/client_async.py:262\u001b[0m, in \u001b[0;36mKafkaClient.__init__\u001b[0;34m(self, **configs)\u001b[0m\n\u001b[1;32m    260\u001b[0m \u001b[38;5;66;03m# Check Broker Version if not set explicitly\u001b[39;00m\n\u001b[1;32m    261\u001b[0m \u001b[38;5;28;01mif\u001b[39;00m \u001b[38;5;28mself\u001b[39m\u001b[38;5;241m.\u001b[39mconfig[\u001b[38;5;124m'\u001b[39m\u001b[38;5;124mapi_version\u001b[39m\u001b[38;5;124m'\u001b[39m] \u001b[38;5;129;01mis\u001b[39;00m \u001b[38;5;28;01mNone\u001b[39;00m:\n\u001b[0;32m--> 262\u001b[0m     \u001b[38;5;28mself\u001b[39m\u001b[38;5;241m.\u001b[39mconfig[\u001b[38;5;124m'\u001b[39m\u001b[38;5;124mapi_version\u001b[39m\u001b[38;5;124m'\u001b[39m] \u001b[38;5;241m=\u001b[39m \u001b[38;5;28;43mself\u001b[39;49m\u001b[38;5;241;43m.\u001b[39;49m\u001b[43mcheck_version\u001b[49m\u001b[43m(\u001b[49m\u001b[43m)\u001b[49m\n\u001b[1;32m    263\u001b[0m \u001b[38;5;28;01melif\u001b[39;00m \u001b[38;5;28mself\u001b[39m\u001b[38;5;241m.\u001b[39mconfig[\u001b[38;5;124m'\u001b[39m\u001b[38;5;124mapi_version\u001b[39m\u001b[38;5;124m'\u001b[39m] \u001b[38;5;129;01min\u001b[39;00m BROKER_API_VERSIONS:\n\u001b[1;32m    264\u001b[0m     \u001b[38;5;28mself\u001b[39m\u001b[38;5;241m.\u001b[39m_api_versions \u001b[38;5;241m=\u001b[39m BROKER_API_VERSIONS[\u001b[38;5;28mself\u001b[39m\u001b[38;5;241m.\u001b[39mconfig[\u001b[38;5;124m'\u001b[39m\u001b[38;5;124mapi_version\u001b[39m\u001b[38;5;124m'\u001b[39m]]\n",
      "File \u001b[0;32m~/.local/lib/python3.10/site-packages/kafka/client_async.py:1074\u001b[0m, in \u001b[0;36mKafkaClient.check_version\u001b[0;34m(self, node_id, timeout, **kwargs)\u001b[0m\n\u001b[1;32m   1072\u001b[0m     \u001b[38;5;28;01mraise\u001b[39;00m Errors\u001b[38;5;241m.\u001b[39mNodeNotReadyError(node_id)\n\u001b[1;32m   1073\u001b[0m \u001b[38;5;28;01melse\u001b[39;00m:\n\u001b[0;32m-> 1074\u001b[0m     \u001b[38;5;28;01mraise\u001b[39;00m Errors\u001b[38;5;241m.\u001b[39mNoBrokersAvailable()\n",
      "\u001b[0;31mNoBrokersAvailable\u001b[0m: NoBrokersAvailable"
     ]
    }
   ],
   "source": [
    "from kafka import KafkaConsumer\n",
    "import json\n",
    "\n",
    "# Kafka 컨슈머 설정\n",
    "consumer = KafkaConsumer(\n",
    "    'smart-car',\n",
    "    bootstrap_servers = 'kafka:9092',\n",
    "    auto_offset_reset = 'latest',\n",
    "    enable_auto_commit = True,\n",
    "    group_id = None,\n",
    "    \n",
    ")"
   ]
  },
  {
   "cell_type": "code",
   "execution_count": null,
   "id": "eed94344-69bb-43c5-84d0-3014f6810978",
   "metadata": {},
   "outputs": [],
   "source": []
  }
 ],
 "metadata": {
  "kernelspec": {
   "display_name": "Python 3 (ipykernel)",
   "language": "python",
   "name": "python3"
  },
  "language_info": {
   "codemirror_mode": {
    "name": "ipython",
    "version": 3
   },
   "file_extension": ".py",
   "mimetype": "text/x-python",
   "name": "python",
   "nbconvert_exporter": "python",
   "pygments_lexer": "ipython3",
   "version": "3.10.12"
  }
 },
 "nbformat": 4,
 "nbformat_minor": 5
}
