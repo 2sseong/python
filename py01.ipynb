{
 "cells": [
  {
   "cell_type": "markdown",
   "id": "3be60bd8-bfff-44d4-a3cd-67e37a8643bf",
   "metadata": {},
   "source": [
    "# 주피터랩 단축키\n",
    "- a:위 셀 추가\n",
    "- b:아래 셀 추가\n",
    "- Ctrl + Shift + 방향키: 셀 이동(위, 아래)\n",
    "- Shift + Enter : 셀 실행\n",
    "- dd: 셀 삭제\n",
    "- x: 셀 잘라내기\n",
    "- v: 셀 붙여넣기\n",
    "- c: 셀 복사하기\n",
    "- z: undo\n",
    "- Shift + z: redo\n",
    "- m: markdown y: code"
   ]
  },
  {
   "cell_type": "markdown",
   "id": "9464fe3e-ecd5-4dfd-a963-3584d3741cd8",
   "metadata": {},
   "source": [
    "# 기초"
   ]
  },
  {
   "cell_type": "code",
   "execution_count": 1,
   "id": "0316c49e-cefb-4ff1-862d-f4161507fa0c",
   "metadata": {},
   "outputs": [
    {
     "name": "stdout",
     "output_type": "stream",
     "text": [
      "실제로는 두 번째\n"
     ]
    }
   ],
   "source": [
    "# print(\"처음이에요\")\n",
    "print(\"실제로는 두 번째\")"
   ]
  },
  {
   "cell_type": "code",
   "execution_count": 2,
   "id": "2230e29f-27a2-4906-a6a1-51979bd0f11b",
   "metadata": {},
   "outputs": [
    {
     "data": {
      "text/plain": [
       "1024"
      ]
     },
     "execution_count": 2,
     "metadata": {},
     "output_type": "execute_result"
    }
   ],
   "source": [
    "2**10"
   ]
  },
  {
   "cell_type": "code",
   "execution_count": 3,
   "id": "5c5c47b7-aae1-4ac5-898f-9694f7c17fd4",
   "metadata": {},
   "outputs": [
    {
     "name": "stdout",
     "output_type": "stream",
     "text": [
      "시간이 많이 남았어\n"
     ]
    }
   ],
   "source": [
    "import time as t\n",
    "print(\"배고프다\",end= \"\\r\") #end사용시 다음문과 붙어서 적용\n",
    "t.sleep(1)\n",
    "print(\"근데  \",end=\"\\r\")\n",
    "t.sleep(1)\n",
    "print(\"시간이 많이 남았어\")"
   ]
  },
  {
   "cell_type": "code",
   "execution_count": 4,
   "id": "2c3389e7-997e-46b3-860f-ae3e6c15d76e",
   "metadata": {},
   "outputs": [
    {
     "name": "stdout",
     "output_type": "stream",
     "text": [
      "1-2-3-4-5\n"
     ]
    }
   ],
   "source": [
    "print(1,2,3,4,5, sep='-')"
   ]
  },
  {
   "cell_type": "markdown",
   "id": "b02f22a7-022c-489f-9c43-4179ca49a5ee",
   "metadata": {},
   "source": [
    "# 자료형"
   ]
  },
  {
   "cell_type": "markdown",
   "id": "bf11874f-1fd7-4cbd-b22f-22b8fb4c5941",
   "metadata": {},
   "source": [
    "## 숫자형"
   ]
  },
  {
   "cell_type": "code",
   "execution_count": 5,
   "id": "0bd72d94-f300-4598-9554-d9ecfd1e9355",
   "metadata": {},
   "outputs": [
    {
     "name": "stdout",
     "output_type": "stream",
     "text": [
      "덧셈 877\n",
      "===================== \n",
      "뺄셈 677\n",
      "===================== \n",
      "곱셈 77700\n",
      "===================== \n",
      "나누기 7.77\n",
      "===================== \n",
      "몫 7\n",
      "===================== \n",
      "나머지 77\n",
      "===================== \n",
      "승 603729\n",
      "===================== \n"
     ]
    }
   ],
   "source": [
    "# 사칙연산 예\n",
    "sachik = 777\n",
    "sem = 100\n",
    "print('덧셈',sachik + sem, end='\\n===================== \\n')\n",
    "print('뺄셈',sachik - sem, end='\\n===================== \\n')\n",
    "print('곱셈',sachik * sem, end='\\n===================== \\n')\n",
    "print('나누기',sachik / sem, end='\\n===================== \\n')\n",
    "print('몫',sachik // sem, end='\\n===================== \\n')\n",
    "print('나머지',sachik % sem, end='\\n===================== \\n')\n",
    "print('승',sachik ** 2, end='\\n===================== \\n')"
   ]
  },
  {
   "cell_type": "code",
   "execution_count": 6,
   "id": "6620d062-d925-448e-87be-75da132744dc",
   "metadata": {},
   "outputs": [
    {
     "name": "stdout",
     "output_type": "stream",
     "text": [
      "123 -178 0\n"
     ]
    }
   ],
   "source": [
    "# 정수형\n",
    "a = 123\n",
    "b = -178\n",
    "c = 0\n",
    "print(a,b,c)"
   ]
  },
  {
   "cell_type": "code",
   "execution_count": 7,
   "id": "323df728-6c06-418d-9e8e-6f9a77c61c82",
   "metadata": {},
   "outputs": [
    {
     "name": "stdout",
     "output_type": "stream",
     "text": [
      "1.2 -3.14 4.24e-10\n"
     ]
    }
   ],
   "source": [
    "# 실수형\n",
    "aa = 1.2\n",
    "bb = -3.14\n",
    "cc = 4.24e-10\n",
    "print(aa,bb,cc)"
   ]
  },
  {
   "cell_type": "code",
   "execution_count": 8,
   "id": "59d31459-706e-41f1-a2bd-24d814d2e306",
   "metadata": {},
   "outputs": [
    {
     "name": "stdout",
     "output_type": "stream",
     "text": [
      "15 127 2748\n"
     ]
    }
   ],
   "source": [
    "# 2진수(bin) 8진수(oct) 16진수(hex)\n",
    "aaa = 0b1111 #2진수 0b\n",
    "bbb = 0o177 #8진수 0o\n",
    "ccc = 0xabc #16진수 0x\n",
    "print(aaa,bbb,ccc)"
   ]
  },
  {
   "cell_type": "code",
   "execution_count": 9,
   "id": "63fdba09-ed4e-467a-ba6b-3845c80c5eb4",
   "metadata": {},
   "outputs": [
    {
     "name": "stdout",
     "output_type": "stream",
     "text": [
      "2\n",
      "3\n",
      "4\n"
     ]
    }
   ],
   "source": [
    "# 복합연산자 =+ -= *= /= //= %= **=\n",
    "a=1\n",
    "a=a+1\n",
    "print(a)\n",
    "a=a+1\n",
    "print(a)\n",
    "a=a+1\n",
    "print(a)"
   ]
  },
  {
   "cell_type": "code",
   "execution_count": 10,
   "id": "5e40dd14-afd5-46ed-bc91-245785723cc0",
   "metadata": {},
   "outputs": [
    {
     "name": "stdout",
     "output_type": "stream",
     "text": [
      "5\n",
      "4\n",
      "3\n",
      "2\n"
     ]
    }
   ],
   "source": [
    "a +=1\n",
    "print(a)\n",
    "a -=1\n",
    "print(a)\n",
    "a -=1\n",
    "print(a)\n",
    "a -=1\n",
    "print(a)"
   ]
  },
  {
   "cell_type": "markdown",
   "id": "659619f6-4a2a-4ab6-94ea-c1178652ce6b",
   "metadata": {},
   "source": [
    "## 문자열 자료형 "
   ]
  },
  {
   "cell_type": "markdown",
   "id": "8697231d-0b37-46d8-83c2-e197a1a35f9d",
   "metadata": {},
   "source": [
    "### 문자열 연산하기"
   ]
  },
  {
   "cell_type": "code",
   "execution_count": 11,
   "id": "866c57ae-6f25-4e50-8ed6-56209237614a",
   "metadata": {},
   "outputs": [
    {
     "name": "stdout",
     "output_type": "stream",
     "text": [
      "문자형입니다.\n",
      "\n",
      "이것은 여러줄 문자열 처리 입니다.\n",
      "\n",
      "\n",
      "이것도 여러줄 문자열 처리 입니다.\n",
      "\n"
     ]
    }
   ],
   "source": [
    "# 주석처리입니다.\n",
    "str1= '문자형입니다.'\n",
    "print(str1)\n",
    "str2 = '''\n",
    "이것은 여러줄 문자열 처리 입니다.\n",
    "'''\n",
    "print(str2)\n",
    "str3 = \"\"\"\n",
    "이것도 여러줄 문자열 처리 입니다.\n",
    "\"\"\"\n",
    "print(str3)"
   ]
  },
  {
   "cell_type": "code",
   "execution_count": 13,
   "id": "6e44ff3b-bc1d-4906-ba74-387be900a863",
   "metadata": {},
   "outputs": [
    {
     "name": "stdout",
     "output_type": "stream",
     "text": [
      "python's favorite food is perl\n"
     ]
    }
   ],
   "source": [
    "#food = \"python's favorite food is perl\"\n",
    "food = 'python\\'s favorite food is perl'\n",
    "print(food)\n"
   ]
  },
  {
   "cell_type": "code",
   "execution_count": 1,
   "id": "879d7f23-6775-4bfd-8307-55a9aa8c4855",
   "metadata": {},
   "outputs": [
    {
     "name": "stdout",
     "output_type": "stream",
     "text": [
      " 감사합니다 안녕하세요\n",
      " 감사합니다 안녕하세요\f",
      " 감사합니다\n"
     ]
    }
   ],
   "source": [
    "a='안녕하세요\\r 감사합니다'\n",
    "b='안녕하세요\\n 감사합니다'\n",
    "c='안녕하세요\\f 감사합니다'\n",
    "print(a,b,c)"
   ]
  },
  {
   "cell_type": "code",
   "execution_count": 14,
   "id": "8c1a14c3-3307-442d-aaa6-cc1e236ac79b",
   "metadata": {},
   "outputs": [
    {
     "name": "stdout",
     "output_type": "stream",
     "text": [
      "Life is too short\n",
      "You need python\n"
     ]
    }
   ],
   "source": [
    "multiline = \"Life is too short\\nYou need python\"\n",
    "print(multiline)"
   ]
  },
  {
   "cell_type": "code",
   "execution_count": null,
   "id": "2ee651ac-b23b-4543-bbc4-835c27af82b9",
   "metadata": {},
   "outputs": [],
   "source": [
    "multiline='''\n",
    "Life is too short\n",
    "You need python\n",
    "'''\n",
    "print(multiline)"
   ]
  },
  {
   "cell_type": "markdown",
   "id": "479f0660-6d75-4e78-b1e1-95915723f3f5",
   "metadata": {},
   "source": [
    "<table>\n",
    "<thead>\n",
    "<tr>\n",
    "<th>코드</th>\n",
    "<th>설명</th>\n",
    "</tr>\n",
    "</thead>\n",
    "<tbody>\n",
    "<tr>\n",
    "<td><code>\\n</code></td>\n",
    "<td>문자열 안에서 줄을 바꿀 때 사용</td>\n",
    "</tr>\n",
    "<tr>\n",
    "<td><code>\\t</code></td>\n",
    "<td>문자열 사이에 탭 간격을 줄 때 사용</td>\n",
    "</tr>\n",
    "<tr>\n",
    "<td><code>\\\\</code></td>\n",
    "<td><code>\\</code>를 그대로 표현할 때 사용</td>\n",
    "</tr>\n",
    "<tr>\n",
    "<td><code>\\'</code></td>\n",
    "<td>작은따옴표(')를 그대로 표현할 때 사용</td>\n",
    "</tr>\n",
    "<tr>\n",
    "<td><code>\\\"</code></td>\n",
    "<td>큰따옴표(\")를 그대로 표현할 때 사용</td>\n",
    "</tr>\n",
    "<tr>\n",
    "<td><code>\\r</code></td>\n",
    "<td>캐리지 리턴(줄 바꿈 문자, 커서를 현재 줄의 가장 앞으로 이동)</td>\n",
    "</tr>\n",
    "<tr>\n",
    "<td><code>\\f</code></td>\n",
    "<td>폼 피드(줄 바꿈 문자, 커서를 현재 줄의 다음 줄로 이동)</td>\n",
    "</tr>\n",
    "<tr>\n",
    "<td><code>\\a</code></td>\n",
    "<td>벨 소리(출력할 때 PC 스피커에서 '삑' 소리가 난다)</td>\n",
    "</tr>\n",
    "<tr>\n",
    "<td><code>\\b</code></td>\n",
    "<td>백 스페이스</td>\n",
    "</tr>\n",
    "<tr>\n",
    "<td><code>\\000</code></td>\n",
    "<td>널 문자</td>\n",
    "</tr>\n",
    "</tbody>\n",
    "</table>"
   ]
  },
  {
   "cell_type": "code",
   "execution_count": 16,
   "id": "0481a475-535f-453e-b822-de8904069ed7",
   "metadata": {},
   "outputs": [
    {
     "name": "stdout",
     "output_type": "stream",
     "text": [
      "Python is fun!\n"
     ]
    }
   ],
   "source": [
    "# 문자열 연산하기\n",
    "head = 'Python'\n",
    "tail = ' is fun!'\n",
    "print(head + tail)"
   ]
  },
  {
   "cell_type": "code",
   "execution_count": 18,
   "id": "12d3c0c1-68c4-45fb-b62e-a47ac77b7915",
   "metadata": {},
   "outputs": [
    {
     "name": "stdout",
     "output_type": "stream",
     "text": [
      "Python\n",
      "Python\n",
      "Python\n",
      "Python\n",
      "Python\n",
      "\n"
     ]
    }
   ],
   "source": [
    "a = 'Python' + '\\n'\n",
    "print(a*5)"
   ]
  },
  {
   "cell_type": "code",
   "execution_count": 42,
   "id": "25aeb01a-47b7-4583-9be9-0ad5dad29648",
   "metadata": {},
   "outputs": [
    {
     "name": "stdout",
     "output_type": "stream",
     "text": [
      "====================\n",
      "      영 수 증\n",
      "====================\n",
      "아메리카노:16500원\n",
      "라떼:7200원\n",
      "허브티:12000원\n",
      "====================\n",
      "\n"
     ]
    }
   ],
   "source": [
    "# 숫자계산\n",
    "p1 = 5500 * 3\n",
    "p2 = 7200 * 1\n",
    "p3 = 6000 * 2\n",
    "\n",
    "# 문자열계산\n",
    "m1 = \"아메리카노:\" + str(p1) + \"원\" + \"\\n\" #문자랑 숫자는 더할 수 없다. (str문 사용)\n",
    "m2 = \"라떼:\" + str(p2) + \"원\" +\"\\n\"\n",
    "m3 = \"허브티:\" + str(p3) + \"원\" +\"\\n\"\n",
    "\n",
    "# 출력조합\n",
    "title=\"     \" + \" 영 수 증\" + \"\\n\"  #문자와 문자는 더할 수 있다.\n",
    "line = \"=\"*20 + \"\\n\"\n",
    "# print(\"=\"*20)\n",
    "# print(title)\n",
    "# print(\"=\"*20)\n",
    "# print(m1 + m2 + m3)\n",
    "# print(\"=\"*20)\n",
    "\n",
    "print(line + title + line + m1 + m2 + m3 + line)"
   ]
  },
  {
   "cell_type": "markdown",
   "id": "3fd5b85a-b2b0-48f2-b4fd-f19b183ba596",
   "metadata": {},
   "source": [
    "### 문자열 인덱싱과 슬라이싱"
   ]
  },
  {
   "cell_type": "code",
   "execution_count": 43,
   "id": "b8591121-1a15-467e-89c9-ec1ed8160d37",
   "metadata": {},
   "outputs": [
    {
     "name": "stdout",
     "output_type": "stream",
     "text": [
      "17\n"
     ]
    }
   ],
   "source": [
    "a = \"Life is too short\"\n",
    "print(len(a))"
   ]
  },
  {
   "cell_type": "code",
   "execution_count": 49,
   "id": "68745714-932a-490b-ac73-c588f35cb0da",
   "metadata": {},
   "outputs": [
    {
     "name": "stdout",
     "output_type": "stream",
     "text": [
      "too\n",
      "t o o\n"
     ]
    }
   ],
   "source": [
    "print(a[8]+a[9]+a[10])\n",
    "print(a[8],a[9],a[10])"
   ]
  },
  {
   "cell_type": "code",
   "execution_count": 50,
   "id": "feb6b295-3434-4e04-a480-3f5e9508c3eb",
   "metadata": {},
   "outputs": [
    {
     "name": "stdout",
     "output_type": "stream",
     "text": [
      "t r\n"
     ]
    }
   ],
   "source": [
    "print(a[-1],a[-2])"
   ]
  },
  {
   "cell_type": "code",
   "execution_count": 52,
   "id": "32f26615-d72f-4090-9329-fd2ed9c23d2d",
   "metadata": {},
   "outputs": [
    {
     "name": "stdout",
     "output_type": "stream",
     "text": [
      "too\n",
      "need\n"
     ]
    }
   ],
   "source": [
    "a = 'Life is too short, You need Python' \n",
    "print(a[8:11]) # 8 <= a < 11\n",
    "print(a[23:27])"
   ]
  },
  {
   "cell_type": "code",
   "execution_count": 53,
   "id": "e139d61c-510a-4935-90ca-187f5196e56f",
   "metadata": {},
   "outputs": [
    {
     "name": "stdout",
     "output_type": "stream",
     "text": [
      "Python\n"
     ]
    }
   ],
   "source": [
    "print(a[28:])"
   ]
  },
  {
   "cell_type": "code",
   "execution_count": 54,
   "id": "0f2dca05-3621-433a-b21e-3ab936b56871",
   "metadata": {},
   "outputs": [
    {
     "name": "stdout",
     "output_type": "stream",
     "text": [
      "nohtyP deen uoY ,trohs oot si efiL\n"
     ]
    }
   ],
   "source": [
    "print(a[::-1])"
   ]
  },
  {
   "cell_type": "code",
   "execution_count": 70,
   "id": "c38f893c-80f1-47ab-b513-7f484a4b51be",
   "metadata": {},
   "outputs": [
    {
     "name": "stdout",
     "output_type": "stream",
     "text": [
      "2025년 02월 03일 오늘은 화창하다\n"
     ]
    }
   ],
   "source": [
    "today = '20250203오늘은 화창하다'\n",
    "year = today[0:4]+\"년\"\n",
    "month = today[4:6]+\"월\"\n",
    "day = today[6:8]+\"일\"\n",
    "weather = today[8:]\n",
    "print(year,month,day,weather)"
   ]
  },
  {
   "cell_type": "code",
   "execution_count": 8,
   "id": "49f0dda0-5c15-4665-8794-3f0c6c3e1785",
   "metadata": {},
   "outputs": [
    {
     "name": "stdout",
     "output_type": "stream",
     "text": [
      "한국서 돈벌고 '나 몰라라' 코스트코… 연회비 인상률은 미국의 2배\n",
      "한국서 돈벌고 '나 몰라라' 코스트코… 연회비 인상률은 미국의 3배\n"
     ]
    }
   ],
   "source": [
    "import requests\n",
    "url = 'https://v.daum.net/v/20250203151815463'\n",
    "res = requests.get(url).text\n",
    "print(res[374:411])\n",
    "print(res[374:409]+'3'+res[410:411])"
   ]
  },
  {
   "cell_type": "code",
   "execution_count": 111,
   "id": "7d01de58-2d4e-4636-b39c-8b4838cf8b8d",
   "metadata": {},
   "outputs": [
    {
     "name": "stdout",
     "output_type": "stream",
     "text": [
      "대빵의 톡쏘는 일상 : 네이버 블로그\n",
      "대빵의 톡쏘는 일상 : 네이버 블로그\n"
     ]
    }
   ],
   "source": [
    "import requests\n",
    "url = 'https://blog.naver.com/droad777' \n",
    "res = requests.get(url).text\n",
    "res1 = res[895:915]\n",
    "print(\"대빵\"+res1[-18:])\n",
    "print(\"대빵\"+res1[2:])"
   ]
  },
  {
   "cell_type": "markdown",
   "id": "618807a1-663c-45a8-b193-29727579ceb6",
   "metadata": {},
   "source": [
    "### 문자열 포매팅"
   ]
  },
  {
   "cell_type": "code",
   "execution_count": 9,
   "id": "add3661b-d3e1-4382-af77-44a4e84f58f9",
   "metadata": {},
   "outputs": [
    {
     "name": "stdout",
     "output_type": "stream",
     "text": [
      "I eat 3 apples.\n",
      "I eat 17 apples.\n",
      "I eat five apples.\n"
     ]
    }
   ],
   "source": [
    "print(\"I eat 3 apples.\")\n",
    "print(\"I eat %d apples.\"%17)\n",
    "print(\"I eat %s apples.\"%\"five\")"
   ]
  },
  {
   "cell_type": "markdown",
   "id": "57d2a38b-f173-42ca-a045-e6f9e5c242f0",
   "metadata": {},
   "source": [
    "<table>\n",
    "<thead>\n",
    "<tr>\n",
    "<th>코드</th>\n",
    "<th>설명</th>\n",
    "</tr>\n",
    "</thead>\n",
    "<tbody>\n",
    "<tr>\n",
    "<td>%s</td>\n",
    "<td>문자열(String)</td>\n",
    "</tr>\n",
    "<tr>\n",
    "<td>%c</td>\n",
    "<td>문자 1개(character)</td>\n",
    "</tr>\n",
    "<tr>\n",
    "<td>%d</td>\n",
    "<td>정수(Integer)</td>\n",
    "</tr>\n",
    "<tr>\n",
    "<td>%f</td>\n",
    "<td>부동소수(floating-point)</td>\n",
    "</tr>\n",
    "<tr>\n",
    "<td>%o</td>\n",
    "<td>8진수</td>\n",
    "</tr>\n",
    "<tr>\n",
    "<td>%x</td>\n",
    "<td>16진수</td>\n",
    "</tr>\n",
    "<tr>\n",
    "<td>%%</td>\n",
    "<td>Literal % (문자 <code>%</code> 자체)</td>\n",
    "</tr>\n",
    "</tbody>\n",
    "</table>"
   ]
  },
  {
   "cell_type": "code",
   "execution_count": 22,
   "id": "a46febe6-1f23-4ccd-942c-72ad25870252",
   "metadata": {},
   "outputs": [
    {
     "name": "stdout",
     "output_type": "stream",
     "text": [
      "사람 몸의 수분은 60% 이다.\n"
     ]
    }
   ],
   "source": [
    "print(\"사람 몸의 수분은 %d%% 이다.\"%                60) "
   ]
  },
  {
   "cell_type": "code",
   "execution_count": null,
   "id": "6f5546eb-928f-43bb-92c2-669c089da234",
   "metadata": {},
   "outputs": [],
   "source": [
    "print(\"십진수로 %d은 16진수로 %x이다.\"%(123,123))\n",
    "print(\"십진수로 %d은 8진수로 %o이다.\"%(123,123))"
   ]
  },
  {
   "cell_type": "code",
   "execution_count": 19,
   "id": "9be1fd25-f8cb-4a79-a81e-e024b0bcfc7b",
   "metadata": {},
   "outputs": [
    {
     "name": "stdout",
     "output_type": "stream",
     "text": [
      "십진수로 123은 16진수로 7b이고 8진수로 173이다.\n"
     ]
    }
   ],
   "source": [
    "print(\"십진수로 %d은 16진수로 %x이고 8진수로 %o이다.\"%(123,123,123))"
   ]
  },
  {
   "cell_type": "code",
   "execution_count": 1,
   "id": "bf0f2a51-ff83-425a-9ade-ec68dcc46c9a",
   "metadata": {},
   "outputs": [
    {
     "name": "stdout",
     "output_type": "stream",
     "text": [
      "        hi\n",
      "hi        jame\n"
     ]
    }
   ],
   "source": [
    "# 정렬과 공백(오른쪽 정렬)\n",
    "print(\"%10s\"%\"hi\")\n",
    "\n",
    "print(\"%-10sjame\" %\"hi\") #음수일때 왼쪽 정렬"
   ]
  },
  {
   "cell_type": "markdown",
   "id": "e2269df3-8d60-4422-9f8b-1c8d82674ef5",
   "metadata": {},
   "source": [
    "<img alt=\"\" src=\"https://wikidocs.net/images/page/13/02_2_formating1.png\" width=300>"
   ]
  },
  {
   "cell_type": "code",
   "execution_count": 30,
   "id": "8b081b77-5c2f-49ac-ac61-14d32a439c7e",
   "metadata": {},
   "outputs": [
    {
     "name": "stdout",
     "output_type": "stream",
     "text": [
      "3.1416\n",
      "    3.1416\n"
     ]
    }
   ],
   "source": [
    "#소숫점 표현하기\n",
    "print(\"%0.4f\" %3.141592)\n",
    "print(\"%10.4f\" %3.141592)"
   ]
  },
  {
   "cell_type": "markdown",
   "id": "c4126ff5-df16-4e40-adfc-fbf51a01326b",
   "metadata": {},
   "source": [
    "<img alt=\"\" src=\"https://wikidocs.net/images/page/13/02_2_formating3.png\" width=300>"
   ]
  },
  {
   "cell_type": "markdown",
   "id": "cf6ca2b1-a771-49fd-a503-6846bb1d1c3c",
   "metadata": {},
   "source": [
    "### format 함수를 사용한 포매팅"
   ]
  },
  {
   "cell_type": "code",
   "execution_count": 32,
   "id": "4eed605e-f343-492c-9126-43fefd30ddc3",
   "metadata": {},
   "outputs": [
    {
     "name": "stdout",
     "output_type": "stream",
     "text": [
      "I eat 3 of 10 apples.\n"
     ]
    }
   ],
   "source": [
    "print(\"I eat {0} of {1} apples.\".format(3,10))"
   ]
  },
  {
   "cell_type": "code",
   "execution_count": 40,
   "id": "61ac7f54-83ad-4b3d-8e7e-37a781a05536",
   "metadata": {},
   "outputs": [
    {
     "name": "stdout",
     "output_type": "stream",
     "text": [
      "I eat three of 10 apples.\n"
     ]
    }
   ],
   "source": [
    "total = 10\n",
    "ea = \"three\"\n",
    "print(\"I eat {0} of {1} apples.\" .format(ea,total))"
   ]
  },
  {
   "cell_type": "code",
   "execution_count": 41,
   "id": "0a752e26-a24a-466e-9ea7-8336c361981f",
   "metadata": {},
   "outputs": [
    {
     "name": "stdout",
     "output_type": "stream",
     "text": [
      "I eat three of 10 apples.\n"
     ]
    }
   ],
   "source": [
    "print(\"I eat {ea} of {total} apples.\".format(ea=\"three\",total=10))"
   ]
  },
  {
   "cell_type": "code",
   "execution_count": 44,
   "id": "7555fd2a-a96a-461d-a262-c143e1a2814a",
   "metadata": {},
   "outputs": [
    {
     "name": "stdout",
     "output_type": "stream",
     "text": [
      "I ate 10 apples. so I was sick for 3 days.\n"
     ]
    }
   ],
   "source": [
    "print(\"I ate {0} apples. so I was sick for {day} days.\".format(10,day=3))"
   ]
  },
  {
   "cell_type": "code",
   "execution_count": 74,
   "id": "99e22dd2-9e83-4e78-ba76-1c073cc30ef3",
   "metadata": {},
   "outputs": [
    {
     "name": "stdout",
     "output_type": "stream",
     "text": [
      "        hi\n",
      "    hi    \n",
      "hi        \n"
     ]
    }
   ],
   "source": [
    "# 우측정렬\n",
    "print(\"{0:>10}\".format(\"hi\"))\n",
    "\n",
    "#가운데 정렬\n",
    "print(\"{0:^10}\".format(\"hi\"))\n",
    "\n",
    "# 좌측정렬\n",
    "print(\"{0:<10}\".format(\"hi\"))"
   ]
  },
  {
   "cell_type": "code",
   "execution_count": 53,
   "id": "552403c8-edea-49ed-b092-43322af0e134",
   "metadata": {},
   "outputs": [
    {
     "name": "stdout",
     "output_type": "stream",
     "text": [
      "ㅋㅋㅋㅋㅋㅋㅋㅋ웃겨!ㅋㅋㅋㅋㅋㅋㅋㅋㅋ\n"
     ]
    }
   ],
   "source": [
    "# 가운데 정렬 + 글자 채우기\n",
    "print(\"{0:ㅋ^20}\".format(\"웃겨!\"))"
   ]
  },
  {
   "cell_type": "code",
   "execution_count": 55,
   "id": "54fbc452-0323-45f0-9bee-47a171cafed3",
   "metadata": {},
   "outputs": [
    {
     "name": "stdout",
     "output_type": "stream",
     "text": [
      "              3.1416\n"
     ]
    }
   ],
   "source": [
    "# 소수점 표현하기\n",
    "pi = 3.141592\n",
    "print(\"{0:20.4f}\".format(pi))"
   ]
  },
  {
   "cell_type": "code",
   "execution_count": 57,
   "id": "11400959-8117-4760-b0d4-2f8a1529d3f0",
   "metadata": {},
   "outputs": [
    {
     "name": "stdout",
     "output_type": "stream",
     "text": [
      "중괄호는 { 과 } 입니다.\n"
     ]
    }
   ],
   "source": [
    "# 이스케이프처리\n",
    "print(\"{0}는 {{ 과 }} 입니다.\".format(\"중괄호\"))"
   ]
  },
  {
   "cell_type": "code",
   "execution_count": 63,
   "id": "78d18388-06a9-4ca3-a6b4-3b05ff4b2c07",
   "metadata": {},
   "outputs": [
    {
     "name": "stdout",
     "output_type": "stream",
     "text": [
      "1111011\n"
     ]
    }
   ],
   "source": [
    "# 2진수 처리\n",
    "print(\"{0:b}\".format(123))"
   ]
  },
  {
   "cell_type": "code",
   "execution_count": 70,
   "id": "ea739d47-376d-4e5f-903d-76a85f2acd14",
   "metadata": {},
   "outputs": [
    {
     "name": "stdout",
     "output_type": "stream",
     "text": [
      "01111011\n"
     ]
    }
   ],
   "source": [
    "# 출력하라 0111 1011\n",
    "print(\"{0:>08b}\".format(123))"
   ]
  },
  {
   "cell_type": "markdown",
   "id": "c4accaba-861e-45fb-a88a-c8de365185d4",
   "metadata": {},
   "source": [
    "### f문자열 포매팅 "
   ]
  },
  {
   "cell_type": "code",
   "execution_count": 78,
   "id": "7c56bfd5-04c2-4fe8-8224-121f8fdaa5c9",
   "metadata": {},
   "outputs": [
    {
     "name": "stdout",
     "output_type": "stream",
     "text": [
      "나의 이름은 이성훈입니다. 나이는 26입니다.\n",
      "내년이면 27살이 됩니다.\n"
     ]
    }
   ],
   "source": [
    "name = \"이성훈\" \n",
    "age = 26\n",
    "# \"  \".format() -> f\"  \"\n",
    "print(f\"나의 이름은 {name}입니다. 나이는 {age}입니다.\")\n",
    "print(f\"내년이면 {age + 1}살이 됩니다.\")"
   ]
  },
  {
   "cell_type": "code",
   "execution_count": 81,
   "id": "cb5db855-68a4-4f69-801e-2a02909d823d",
   "metadata": {},
   "outputs": [
    {
     "name": "stdout",
     "output_type": "stream",
     "text": [
      "나의 이름은 홍길동 입니다. 나이는 30 입니다. 성별은 male 입니다.\n"
     ]
    }
   ],
   "source": [
    "d = {'name':'홍길동','age':30,'gen':'male'}\n",
    "print(f'나의 이름은 {d['name']} 입니다. 나이는 {d['age']} 입니다. 성별은 {d['gen']} 입니다.')"
   ]
  },
  {
   "cell_type": "code",
   "execution_count": 93,
   "id": "e3eca036-0989-4630-af87-a05fff465842",
   "metadata": {},
   "outputs": [
    {
     "name": "stdout",
     "output_type": "stream",
     "text": [
      "hi==================\n",
      "=========hi=========\n",
      "==================hi\n"
     ]
    }
   ],
   "source": [
    "print(f'{'hi':=<20}')\n",
    "print(f'{'hi':=^20}')\n",
    "print(f'{'hi':=>20}')"
   ]
  },
  {
   "cell_type": "markdown",
   "id": "27420907-a339-4384-9809-7dad0d25aae4",
   "metadata": {
    "editable": true,
    "slideshow": {
     "slide_type": ""
    },
    "tags": []
   },
   "source": [
    "### 문자열 관련 함수들"
   ]
  },
  {
   "cell_type": "code",
   "execution_count": 98,
   "id": "ae1acd77-dcdf-455b-a1b8-8b6cd1db1bf7",
   "metadata": {},
   "outputs": [
    {
     "data": {
      "text/plain": [
       "2"
      ]
     },
     "execution_count": 98,
     "metadata": {},
     "output_type": "execute_result"
    }
   ],
   "source": [
    "# 문자 개수 세기 count\n",
    "a = \"hobby\"\n",
    "a.count('b')\n",
    "\"hobby\".count('b')"
   ]
  },
  {
   "cell_type": "code",
   "execution_count": 101,
   "id": "24b0a870-42cf-4759-88ab-6fe91ff62d5e",
   "metadata": {},
   "outputs": [
    {
     "name": "stdout",
     "output_type": "stream",
     "text": [
      "한국서 돈벌고 '나 몰라라' 코스트코… 연회비 인상률은 미국의 2배\n",
      "2\n"
     ]
    }
   ],
   "source": [
    "out = res[374:411]\n",
    "print(out)\n",
    "print(res[374:411].count('코'))"
   ]
  },
  {
   "cell_type": "code",
   "execution_count": 104,
   "id": "d1f5c2a7-bcac-4bd5-963e-fc17b8a5466b",
   "metadata": {},
   "outputs": [
    {
     "name": "stdout",
     "output_type": "stream",
     "text": [
      "한국서 돈벌고 '나 몰라라' 코스트코… 연회비 인상률은 미국의 2배\n",
      "16\n",
      "-1\n"
     ]
    }
   ],
   "source": [
    "# 위치알려주기1 find\n",
    "print(out)\n",
    "print(out.find('코'))\n",
    "print(out.find('밥'))"
   ]
  },
  {
   "cell_type": "code",
   "execution_count": 105,
   "id": "fcb06452-f0c2-48a1-830d-b1bb136e3d0f",
   "metadata": {},
   "outputs": [
    {
     "name": "stdout",
     "output_type": "stream",
     "text": [
      "390\n"
     ]
    }
   ],
   "source": [
    "print(res.find('코스트코'))"
   ]
  },
  {
   "cell_type": "code",
   "execution_count": 117,
   "id": "09c1d515-4f8d-4713-bd54-bca6d6fa91dd",
   "metadata": {},
   "outputs": [
    {
     "name": "stdout",
     "output_type": "stream",
     "text": [
      "41529\n",
      "좋아하는 노래제목:toxic till the end\n"
     ]
    }
   ],
   "source": [
    "import requests\n",
    "url = 'https://music.apple.com/kr/playlist/%EC%98%A4%EB%8A%98%EC%9D%98-top-100-%EB%8C%80%ED%95%9C%EB%AF%BC%EA%B5%AD/pl.d3d10c32fbc540b38e266367dc8cb00c'\n",
    "res = requests.get(url).text\n",
    "# print(res.find('toxic till the end')) #없을경우 -1\n",
    "print(res.index('toxic till the end')) #없을경우 오류 발생\n",
    "print(\"좋아하는 노래제목:\" + res[41529:41547])"
   ]
  },
  {
   "cell_type": "code",
   "execution_count": 119,
   "id": "5b0aab56-b573-4820-949e-671fcab77cd9",
   "metadata": {},
   "outputs": [
    {
     "name": "stdout",
     "output_type": "stream",
     "text": [
      "a,b,c,d,e,f,g\n",
      "a,b,c,d\n"
     ]
    }
   ],
   "source": [
    "# 문자열 삽입 join *\n",
    "# 리스트를 문자열로\n",
    "print(\",\".join('abcdefg'))\n",
    "print(\",\".join(['a','b','c','d']))"
   ]
  },
  {
   "cell_type": "code",
   "execution_count": 13,
   "id": "ce75f814-5b66-490f-bd9e-8907d877068f",
   "metadata": {},
   "outputs": [
    {
     "ename": "TypeError",
     "evalue": "'str' object does not support item assignment",
     "output_type": "error",
     "traceback": [
      "\u001b[1;31m---------------------------------------------------------------------------\u001b[0m",
      "\u001b[1;31mTypeError\u001b[0m                                 Traceback (most recent call last)",
      "Cell \u001b[1;32mIn[13], line 3\u001b[0m\n\u001b[0;32m      1\u001b[0m \u001b[38;5;66;03m# 소문자를 대문자로 바꾸기 upper\u001b[39;00m\n\u001b[0;32m      2\u001b[0m a \u001b[38;5;241m=\u001b[39m \u001b[38;5;124m\"\u001b[39m\u001b[38;5;124mhi\u001b[39m\u001b[38;5;124m\"\u001b[39m\n\u001b[1;32m----> 3\u001b[0m \u001b[43ma\u001b[49m\u001b[43m[\u001b[49m\u001b[38;5;241;43m0\u001b[39;49m\u001b[43m]\u001b[49m \u001b[38;5;241m=\u001b[39m a[\u001b[38;5;241m0\u001b[39m]\u001b[38;5;241m.\u001b[39mupper()\n\u001b[0;32m      4\u001b[0m \u001b[38;5;28mprint\u001b[39m(a)\n\u001b[0;32m      5\u001b[0m \u001b[38;5;28mprint\u001b[39m(a\u001b[38;5;241m.\u001b[39mupper())\n",
      "\u001b[1;31mTypeError\u001b[0m: 'str' object does not support item assignment"
     ]
    }
   ],
   "source": [
    "# 소문자를 대문자로 바꾸기 upper\n",
    "a = \"hi\"\n",
    "a[0] = a[0].upper()\n",
    "print(a)\n",
    "print(a.upper())"
   ]
  },
  {
   "cell_type": "code",
   "execution_count": 125,
   "id": "c2c9d6b2-e68c-43fd-a18e-c9db2fcbcd16",
   "metadata": {},
   "outputs": [
    {
     "name": "stdout",
     "output_type": "stream",
     "text": [
      "hi\n"
     ]
    }
   ],
   "source": [
    " # 대문자를 소문자로 바꾸기 lower\n",
    "a = \"HI\"\n",
    "print(a.lower())"
   ]
  },
  {
   "cell_type": "code",
   "execution_count": 126,
   "id": "9b0a733d-88ec-4944-8496-69c565f4d69c",
   "metadata": {},
   "outputs": [
    {
     "name": "stdout",
     "output_type": "stream",
     "text": [
      "Life is Egg\n",
      "LIFE IS EGG\n",
      "life is egg\n"
     ]
    }
   ],
   "source": [
    "v = \"Life is Egg\"\n",
    "big = v.upper()\n",
    "small = v.lower()\n",
    "print(v)\n",
    "print(big)\n",
    "print(small)"
   ]
  },
  {
   "cell_type": "code",
   "execution_count": 137,
   "id": "078e87d2-fa42-4c6a-8898-1f2357f84bf9",
   "metadata": {},
   "outputs": [
    {
     "name": "stdout",
     "output_type": "stream",
     "text": [
      "     hi      \n",
      "hi      \n",
      "     hi\n",
      "hi\n"
     ]
    }
   ],
   "source": [
    "# 공백지우기\n",
    "a=\"     hi      \"\n",
    "aa = a.lstrip()\n",
    "bb = a.rstrip()\n",
    "cc = a.strip()\n",
    "print(a)\n",
    "print(aa)\n",
    "print(bb)\n",
    "print(cc)"
   ]
  },
  {
   "cell_type": "code",
   "execution_count": 1,
   "id": "1b84a91c-b1d1-4ecf-88b9-797f76a73895",
   "metadata": {
    "editable": true,
    "slideshow": {
     "slide_type": ""
    },
    "tags": []
   },
   "outputs": [
    {
     "name": "stdout",
     "output_type": "stream",
     "text": [
      "         hi         \n",
      "hi         \n",
      "         hi\n",
      "hi\n"
     ]
    }
   ],
   "source": [
    "f = f\"{'hi':^20}\"\n",
    "fl = f.lstrip()\n",
    "fr = f.rstrip()\n",
    "f3 = f.strip()\n",
    "print(f)\n",
    "print(fl)\n",
    "print(fr)\n",
    "print(f3)"
   ]
  },
  {
   "cell_type": "code",
   "execution_count": 139,
   "id": "e10aa7df-159a-4fb2-a074-6e959b3b86a9",
   "metadata": {},
   "outputs": [
    {
     "name": "stdout",
     "output_type": "stream",
     "text": [
      "Life is Egg\n",
      "Life is Beautiful\n"
     ]
    }
   ],
   "source": [
    "# 문자열 바꾸기 replace **\n",
    "a = \"Life is Egg\"\n",
    "c = a.replace(\"Egg\",\"Beautiful\")\n",
    "print(a)\n",
    "print(c)\n"
   ]
  },
  {
   "cell_type": "code",
   "execution_count": 1,
   "id": "922d38ee-f3ae-4510-aa0b-29a5851dfbc0",
   "metadata": {},
   "outputs": [
    {
     "name": "stdout",
     "output_type": "stream",
     "text": [
      "['Life', 'is', 'Egg']\n",
      "<class 'list'>\n"
     ]
    }
   ],
   "source": [
    "# 문자열 나누기 split *\n",
    "# 문자열을 배열로\n",
    "a = \"Life is Egg\"\n",
    "aa = a.split()\n",
    "print(aa)\n",
    "print(type(aa))"
   ]
  },
  {
   "cell_type": "code",
   "execution_count": 2,
   "id": "c9e1692e-ba64-49bd-bb8b-28ef2b669a03",
   "metadata": {},
   "outputs": [
    {
     "name": "stdout",
     "output_type": "stream",
     "text": [
      "a=b=c=d=e=f=g=h=i\n",
      "['a', 'b', 'c', 'd', 'e', 'f', 'g', 'h', 'i']\n",
      "abcdefghi\n"
     ]
    }
   ],
   "source": [
    "ex = \"abcdefghi\"\n",
    "ex_join = \"=\".join(ex)  #문자열 삽입\n",
    "print(ex_join)\n",
    "ex_split = ex_join.split(\"=\")  #문자열 나누기\n",
    "print(ex_split)\n",
    "ex_replace = ex_join.replace(\"=\",\"\") # 문자열 바꾸기\n",
    "print(ex_replace)"
   ]
  },
  {
   "cell_type": "code",
   "execution_count": null,
   "id": "fb079048-c737-48bd-a986-4d47559ce2ad",
   "metadata": {},
   "outputs": [],
   "source": []
  }
 ],
 "metadata": {
  "kernelspec": {
   "display_name": "Python 3 (ipykernel)",
   "language": "python",
   "name": "python3"
  },
  "language_info": {
   "codemirror_mode": {
    "name": "ipython",
    "version": 3
   },
   "file_extension": ".py",
   "mimetype": "text/x-python",
   "name": "python",
   "nbconvert_exporter": "python",
   "pygments_lexer": "ipython3",
   "version": "3.13.1"
  }
 },
 "nbformat": 4,
 "nbformat_minor": 5
}
