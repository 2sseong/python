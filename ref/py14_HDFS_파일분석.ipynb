{
 "cells": [
  {
   "cell_type": "code",
   "execution_count": 3,
   "id": "89492bb8-e4ae-48a7-b566-b34f1c2567d0",
   "metadata": {},
   "outputs": [
    {
     "name": "stderr",
     "output_type": "stream",
     "text": [
      "sethostname: 네트워크 제어판 애플릿을 사용하여 호스트 이름을 설정합니다.\n",
      "hostname -s는 지원되지 않습니다.\n"
     ]
    }
   ],
   "source": [
    "!hostname -I"
   ]
  },
  {
   "cell_type": "code",
   "execution_count": null,
   "id": "a03e4210-16f3-4ed2-8979-a125dcdc0f61",
   "metadata": {},
   "outputs": [],
   "source": []
  }
 ],
 "metadata": {
  "kernelspec": {
   "display_name": "Python 3 (ipykernel)",
   "language": "python",
   "name": "python3"
  },
  "language_info": {
   "codemirror_mode": {
    "name": "ipython",
    "version": 3
   },
   "file_extension": ".py",
   "mimetype": "text/x-python",
   "name": "python",
   "nbconvert_exporter": "python",
   "pygments_lexer": "ipython3",
   "version": "3.13.1"
  }
 },
 "nbformat": 4,
 "nbformat_minor": 5
}
