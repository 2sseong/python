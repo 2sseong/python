{
 "cells": [
  {
   "cell_type": "code",
   "execution_count": 10,
   "id": "70413ab6-742f-496e-9e72-082fe874092d",
   "metadata": {},
   "outputs": [],
   "source": [
    "#!ping MONGODB"
   ]
  },
  {
   "cell_type": "code",
   "execution_count": 6,
   "id": "daf8c625-8f00-4e29-8618-a294cee84cab",
   "metadata": {},
   "outputs": [
    {
     "name": "stdout",
     "output_type": "stream",
     "text": [
      "Defaulting to user installation because normal site-packages is not writeable\n",
      "Requirement already satisfied: mysql-connector-python in /home/pkdata/.local/lib/python3.10/site-packages (9.2.0)\n",
      "Note: you may need to restart the kernel to use updated packages.\n"
     ]
    }
   ],
   "source": [
    "# !pip install mysql-connector-python"
   ]
  },
  {
   "cell_type": "code",
   "execution_count": 2,
   "id": "10e75443-fc1d-4fae-a88f-1a48f4c2039d",
   "metadata": {},
   "outputs": [
    {
     "name": "stdout",
     "output_type": "stream",
     "text": [
      "MySQL 서버에 성공적으로 연결되었습니다.\n",
      "연결중....\n"
     ]
    }
   ],
   "source": [
    "import mysql.connector\n",
    "try:\n",
    "    conn = mysql.connector.connect(\n",
    "        host=\"mysql\", # MySQL 서버 주소\n",
    "        user=\"root\",\n",
    "        password=\"1234\"\n",
    "    )\n",
    "    if conn.is_connected():\n",
    "        print(\"MySQL 서버에 성공적으로 연결되었습니다.\")\n",
    "except:\n",
    "    print(\"MySQL 연결 실패:\",err)\n",
    "finally:\n",
    "    if conn.is_connected():\n",
    "        print(\"연결중....\")"
   ]
  },
  {
   "cell_type": "code",
   "execution_count": 3,
   "id": "6b5f60cf-ead3-415f-b093-7dc0442c90d8",
   "metadata": {},
   "outputs": [],
   "source": [
    "# 커서 생성\n",
    "cursor = conn.cursor()\n",
    "que = \"CREATE DATABASE IF NOT EXISTS judb\"\n",
    "cursor.execute(que)\n",
    "conn.close()"
   ]
  },
  {
   "cell_type": "code",
   "execution_count": 4,
   "id": "1d2e05ba-ed78-48b3-90c9-7ed50fdb153d",
   "metadata": {},
   "outputs": [
    {
     "name": "stdout",
     "output_type": "stream",
     "text": [
      "MySQL 연결성공!\n"
     ]
    }
   ],
   "source": [
    "# MySQL에 연결\n",
    "conn = mysql.connector.connect(\n",
    "        host=\"mysql\", # MySQL 서버 주소\n",
    "        user=\"root\",\n",
    "        password=\"1234\",\n",
    "        database=\"judb\" #사용할 데이터 베이스\n",
    "    )\n",
    "cursor = conn.cursor()\n",
    "print(\"MySQL 연결성공!\")"
   ]
  },
  {
   "cell_type": "code",
   "execution_count": 13,
   "id": "2abda5d2-97ec-45cc-ae5f-3804764f72f6",
   "metadata": {},
   "outputs": [
    {
     "name": "stdout",
     "output_type": "stream",
     "text": [
      "테이블 생성완료\n"
     ]
    }
   ],
   "source": [
    "# 테이블 생성\n",
    "query = \"CREATE TABLE IF NOT EXISTS users(id INT AUTO_INCREMENT PRIMARY KEY, name VARCHAR(100), age INT, city VARCHAR(50))\"\n",
    "cursor.execute(query)\n",
    "print(\"테이블 생성완료\")"
   ]
  },
  {
   "cell_type": "code",
   "execution_count": 16,
   "id": "eec5c939-b15d-4732-b3b7-c6a5ab71fdff",
   "metadata": {},
   "outputs": [
    {
     "name": "stdout",
     "output_type": "stream",
     "text": [
      "1개의 데이터 삽입 완료, ID: 1\n"
     ]
    }
   ],
   "source": [
    "# 단일 데이터 삽입\n",
    "sql = \"INSERT INTO users(name, age, city) VALUES (%s, %s, %s)\"   #({name},{age},{city})\"          \n",
    "values = (\"Alice\",25,\"Seoul\")\n",
    "cursor.execute(sql, values)\n",
    "conn.commit()\n",
    "print(\"1개의 데이터 삽입 완료, ID:\", cursor.lastrowid)"
   ]
  },
  {
   "cell_type": "code",
   "execution_count": 17,
   "id": "b5536979-200d-4478-b1fa-3731fbd53bc8",
   "metadata": {},
   "outputs": [
    {
     "name": "stdout",
     "output_type": "stream",
     "text": [
      "여러개의 데이터 삽입 완료\n"
     ]
    }
   ],
   "source": [
    "#여러개의 데이터 삽입\n",
    "m_values = [(\"superman\",33,\"Busan\"),(\"Cutegirl\",17,\"Incheon\"),(\"Coolboy\",22,\"Daegu\")]\n",
    "cursor.executemany(sql,m_values)\n",
    "conn.commit()\n",
    "print(\"여러개의 데이터 삽입 완료\")"
   ]
  },
  {
   "cell_type": "code",
   "execution_count": 36,
   "id": "f9edada0-dd8d-49d2-aa51-f4605d09cfcb",
   "metadata": {},
   "outputs": [
    {
     "name": "stdout",
     "output_type": "stream",
     "text": [
      "(1, 'Alice', 23, 'Seoul')\n",
      "(2, 'superman', 33, 'Busan')\n",
      "(3, 'Cutegirl', 17, 'Incheon')\n"
     ]
    }
   ],
   "source": [
    "# 모든 데이터 조회\n",
    "que = \"SELECT * FROM users\"\n",
    "cursor.execute(que)\n",
    "users = cursor.fetchall()\n",
    "for user in users:\n",
    "    print(user)"
   ]
  },
  {
   "cell_type": "code",
   "execution_count": 33,
   "id": "1b3fe98d-d2de-4be2-aaf2-347ffb436e39",
   "metadata": {},
   "outputs": [
    {
     "name": "stdout",
     "output_type": "stream",
     "text": [
      "(2, 'superman', 33, 'Busan')\n"
     ]
    }
   ],
   "source": [
    "# 특정 조건 데이터 조회(24살 이상 조회)\n",
    "que = \"SELECT * FROM users\"\n",
    "filters = \" WHERE age >= 24\"\n",
    "cursor.execute(que + filters)\n",
    "\n",
    "filtered = cursor.fetchall()\n",
    "for f in filtered:\n",
    "    print(f)"
   ]
  },
  {
   "cell_type": "code",
   "execution_count": 31,
   "id": "d4eb8d7b-e455-49f1-9c44-fc56fefc28da",
   "metadata": {},
   "outputs": [
    {
     "name": "stdout",
     "output_type": "stream",
     "text": [
      "수정된 행 개수: 1\n"
     ]
    }
   ],
   "source": [
    "# 특정 사용자의 나이 수정\n",
    "sql = \"UPDATE users SET age = %s WHERE name = %s\"\n",
    "values = (23, \"Alice\")\n",
    "cursor.execute(sql, values)\n",
    "conn.commit()\n",
    "print(\"수정된 행 개수:\", cursor.rowcount)"
   ]
  },
  {
   "cell_type": "code",
   "execution_count": 59,
   "id": "6358c7d9-51a5-4030-bef3-885660a01709",
   "metadata": {},
   "outputs": [
    {
     "name": "stdout",
     "output_type": "stream",
     "text": [
      "20세 이상 Daegu지역 사람 삭제되었습니다\n"
     ]
    }
   ],
   "source": [
    "# 특정 사용자 삭제\n",
    "que = \"DELETE FROM users WHERE age > %s AND city = %s\"\n",
    "filters = (20, \"Daegu\")\n",
    "cursor.execute(que, filters)\n",
    "conn.commit()\n",
    "print(f\"{filters[0]}세 이상 {filters[1]}지역 사람 삭제되었습니다\")"
   ]
  },
  {
   "cell_type": "code",
   "execution_count": null,
   "id": "184ddd58-2e51-4de5-975d-137b286a3d15",
   "metadata": {},
   "outputs": [],
   "source": []
  }
 ],
 "metadata": {
  "kernelspec": {
   "display_name": "Python 3 (ipykernel)",
   "language": "python",
   "name": "python3"
  },
  "language_info": {
   "codemirror_mode": {
    "name": "ipython",
    "version": 3
   },
   "file_extension": ".py",
   "mimetype": "text/x-python",
   "name": "python",
   "nbconvert_exporter": "python",
   "pygments_lexer": "ipython3",
   "version": "3.10.12"
  }
 },
 "nbformat": 4,
 "nbformat_minor": 5
}
