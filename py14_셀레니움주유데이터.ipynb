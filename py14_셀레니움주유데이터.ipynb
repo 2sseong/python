{
 "cells": [
  {
   "cell_type": "code",
   "execution_count": 1,
   "id": "2e127723",
   "metadata": {},
   "outputs": [
    {
     "name": "stdout",
     "output_type": "stream",
     "text": [
      "Requirement already satisfied: flask in c:\\users\\admin\\appdata\\local\\programs\\python\\python313\\lib\\site-packages (3.1.0)\n",
      "Requirement already satisfied: Werkzeug>=3.1 in c:\\users\\admin\\appdata\\local\\programs\\python\\python313\\lib\\site-packages (from flask) (3.1.3)\n",
      "Requirement already satisfied: Jinja2>=3.1.2 in c:\\users\\admin\\appdata\\local\\programs\\python\\python313\\lib\\site-packages (from flask) (3.1.5)\n",
      "Requirement already satisfied: itsdangerous>=2.2 in c:\\users\\admin\\appdata\\local\\programs\\python\\python313\\lib\\site-packages (from flask) (2.2.0)\n",
      "Requirement already satisfied: click>=8.1.3 in c:\\users\\admin\\appdata\\local\\programs\\python\\python313\\lib\\site-packages (from flask) (8.1.8)\n",
      "Requirement already satisfied: blinker>=1.9 in c:\\users\\admin\\appdata\\local\\programs\\python\\python313\\lib\\site-packages (from flask) (1.9.0)\n",
      "Requirement already satisfied: colorama in c:\\users\\admin\\appdata\\local\\programs\\python\\python313\\lib\\site-packages (from click>=8.1.3->flask) (0.4.6)\n",
      "Requirement already satisfied: MarkupSafe>=2.0 in c:\\users\\admin\\appdata\\local\\programs\\python\\python313\\lib\\site-packages (from Jinja2>=3.1.2->flask) (3.0.2)\n"
     ]
    },
    {
     "name": "stderr",
     "output_type": "stream",
     "text": [
      "\n",
      "[notice] A new release of pip is available: 25.0.1 -> 25.1.1\n",
      "[notice] To update, run: python.exe -m pip install --upgrade pip\n"
     ]
    }
   ],
   "source": [
    "!pip install flask"
   ]
  },
  {
   "cell_type": "code",
   "execution_count": 2,
   "id": "0a16636d-527f-4c54-81c3-6db7b90d06af",
   "metadata": {},
   "outputs": [],
   "source": [
    "from selenium import webdriver\n",
    "from selenium.webdriver.common.action_chains import ActionChains\n",
    "from selenium.webdriver.chrome.service import Service\n",
    "from selenium.webdriver.chrome.options import Options\n",
    "from selenium.webdriver.common.keys import Keys\n",
    "from selenium.webdriver.common.by import By\n",
    "from datetime import datetime\n",
    "from bs4 import BeautifulSoup as bs\n",
    "import pandas as pd\n",
    "import time"
   ]
  },
  {
   "cell_type": "code",
   "execution_count": 3,
   "id": "1f70d447-0264-4242-a81a-305bf4f17648",
   "metadata": {},
   "outputs": [],
   "source": [
    "# !echo 1234 | sudo -S apt update\n",
    "# !echo 1234 | sudo -S apt install wget\n",
    "# !wget https://dl.google.com/linux/direct/google-chrome.stable_current_amd64.deb\n",
    "# !echo 1234 | sudo -S dpkg -i google-chrome-stable_current_amd64.deb\n",
    "# !google-chrome"
   ]
  },
  {
   "cell_type": "code",
   "execution_count": 4,
   "id": "ac8a4f32-6285-43e5-b9d3-652ad697864a",
   "metadata": {},
   "outputs": [],
   "source": [
    "# # !echo 1234 | sudo -S wget https://chromedriver.storage.googleapis.com/97.0.4692.71/chromedriver_linux64.zip\n",
    "# !echo 1234 | sudo -S unzip chromedriver_linux64.zip\n",
    "# !echo 1234 | sudo -S mv chromedriver /usr/bin/chromedriver\n",
    "# !chromedriver –-version"
   ]
  },
  {
   "cell_type": "code",
   "execution_count": 5,
   "id": "a4eb1da7-b7fb-4e34-ab71-8495b66268d2",
   "metadata": {},
   "outputs": [
    {
     "name": "stdout",
     "output_type": "stream",
     "text": [
      "싼 주유소 찾기 오피넷\n"
     ]
    }
   ],
   "source": [
    "# Chrome 옵션 설정\n",
    "options = Options()\n",
    "options.binary_location = \"./chrome-win64/chrome.exe\"         # chrome 경로 설정\n",
    "options.add_argument(\"--no-sandbox\")             # sandbox 설정\n",
    "options.add_argument(\"--disable-dev-shm-usage\")  # 공유메모리 설정\n",
    "options.add_argument(\"--window-size=1920,1080\")  # 화면크기 설정, 반응형 웹 대비\n",
    "# options.add_argument(\"--disable-gpu\")  # GPU 비활성화\n",
    "\n",
    "# ChromeDriver 설정\n",
    "service = Service(\"chromedriver.exe\")\n",
    "driver = webdriver.Chrome(service=service, options = options)\n",
    "driver.get(\"https://www.opinet.co.kr/\")\n",
    "print(driver.title)\n",
    "\n",
    "# 요소찾기\n",
    "time.sleep(3)\n",
    "hover_element = driver.find_element(By.CSS_SELECTOR, \"#header > div > ul > li:nth-child(1) > a\")\n",
    "menu_option = driver.find_element(By.CSS_SELECTOR, \"#header > div > ul > li:nth-child(1) > ul > li:nth-child(1) > a > span\")\n",
    "\n",
    "\n",
    "# 마우스 호버 액션\n",
    "actions = ActionChains(driver)\n",
    "actions.move_to_element(hover_element).perform()\n",
    "\n",
    "# 약간의 시간을 기다린 후 클릭\n",
    "time.sleep(1)\n",
    "menu_option.click()\n",
    "time.sleep(5)\n",
    "\n",
    "# 지역구 설정()\n",
    "for i in range(2,4): # 전체 (2,17)\n",
    "    \n",
    "    region_option = driver.find_element(By.CSS_SELECTOR, \"#SIGUNGU_NM0\")\n",
    "    region_option.click()\n",
    "    time.sleep(1)\n",
    "    region = driver.find_element(By.CSS_SELECTOR,f\"#SIGUNGU_NM0 > option:nth-child({i})\")\n",
    "    region.click()\n",
    "    time.sleep(1)\n",
    "    search_btn = driver.find_element(By.CSS_SELECTOR, \"#searRgSelect > span\")\n",
    "    search_btn.click()\n",
    "    time.sleep(2)\n",
    "    download_btn = driver.find_element(By.CSS_SELECTOR,\"#templ_list0 > div:nth-child(7) > div > a > span\")\n",
    "    download_btn.click()\n",
    "    time.sleep(2)\n",
    "# html = driver.page_source\n",
    "# print(html)\n",
    "driver.quit() #브라우저 종료"
   ]
  },
  {
   "cell_type": "code",
   "execution_count": 7,
   "id": "52a181e6-fc7f-4f12-bce9-1a017d2eaf0d",
   "metadata": {},
   "outputs": [],
   "source": [
    "import matplotlib\n",
    "import matplotlib.pyplot as plt\n",
    "from matplotlib import rc\n",
    "import matplotlib.font_manager as fm\n",
    "import pandas as pd\n",
    "import geopandas as gpd"
   ]
  },
  {
   "cell_type": "code",
   "execution_count": 8,
   "id": "6ecf577d-0f76-44fb-aa06-7f990a712477",
   "metadata": {},
   "outputs": [],
   "source": [
    "# !pip instal pyhdfs"
   ]
  },
  {
   "cell_type": "code",
   "execution_count": 9,
   "id": "111422c2-27fa-4c94-9241-28b252639007",
   "metadata": {},
   "outputs": [
    {
     "name": "stderr",
     "output_type": "stream",
     "text": [
      "Failed to reach to namenode:9870 (attempt 2/2)\n",
      "Traceback (most recent call last):\n",
      "  File \"C:\\Users\\Admin\\AppData\\Local\\Programs\\Python\\Python313\\Lib\\site-packages\\urllib3\\connection.py\", line 198, in _new_conn\n",
      "    sock = connection.create_connection(\n",
      "        (self._dns_host, self.port),\n",
      "    ...<2 lines>...\n",
      "        socket_options=self.socket_options,\n",
      "    )\n",
      "  File \"C:\\Users\\Admin\\AppData\\Local\\Programs\\Python\\Python313\\Lib\\site-packages\\urllib3\\util\\connection.py\", line 85, in create_connection\n",
      "    raise err\n",
      "  File \"C:\\Users\\Admin\\AppData\\Local\\Programs\\Python\\Python313\\Lib\\site-packages\\urllib3\\util\\connection.py\", line 73, in create_connection\n",
      "    sock.connect(sa)\n",
      "    ~~~~~~~~~~~~^^^^\n",
      "ConnectionRefusedError: [WinError 10061] 대상 컴퓨터에서 연결을 거부했으므로 연결하지 못했습니다\n",
      "\n",
      "The above exception was the direct cause of the following exception:\n",
      "\n",
      "Traceback (most recent call last):\n",
      "  File \"C:\\Users\\Admin\\AppData\\Local\\Programs\\Python\\Python313\\Lib\\site-packages\\urllib3\\connectionpool.py\", line 787, in urlopen\n",
      "    response = self._make_request(\n",
      "        conn,\n",
      "    ...<10 lines>...\n",
      "        **response_kw,\n",
      "    )\n",
      "  File \"C:\\Users\\Admin\\AppData\\Local\\Programs\\Python\\Python313\\Lib\\site-packages\\urllib3\\connectionpool.py\", line 493, in _make_request\n",
      "    conn.request(\n",
      "    ~~~~~~~~~~~~^\n",
      "        method,\n",
      "        ^^^^^^^\n",
      "    ...<6 lines>...\n",
      "        enforce_content_length=enforce_content_length,\n",
      "        ^^^^^^^^^^^^^^^^^^^^^^^^^^^^^^^^^^^^^^^^^^^^^^\n",
      "    )\n",
      "    ^\n",
      "  File \"C:\\Users\\Admin\\AppData\\Local\\Programs\\Python\\Python313\\Lib\\site-packages\\urllib3\\connection.py\", line 445, in request\n",
      "    self.endheaders()\n",
      "    ~~~~~~~~~~~~~~~^^\n",
      "  File \"C:\\Users\\Admin\\AppData\\Local\\Programs\\Python\\Python313\\Lib\\http\\client.py\", line 1331, in endheaders\n",
      "    self._send_output(message_body, encode_chunked=encode_chunked)\n",
      "    ~~~~~~~~~~~~~~~~~^^^^^^^^^^^^^^^^^^^^^^^^^^^^^^^^^^^^^^^^^^^^^\n",
      "  File \"C:\\Users\\Admin\\AppData\\Local\\Programs\\Python\\Python313\\Lib\\http\\client.py\", line 1091, in _send_output\n",
      "    self.send(msg)\n",
      "    ~~~~~~~~~^^^^^\n",
      "  File \"C:\\Users\\Admin\\AppData\\Local\\Programs\\Python\\Python313\\Lib\\http\\client.py\", line 1035, in send\n",
      "    self.connect()\n",
      "    ~~~~~~~~~~~~^^\n",
      "  File \"C:\\Users\\Admin\\AppData\\Local\\Programs\\Python\\Python313\\Lib\\site-packages\\urllib3\\connection.py\", line 276, in connect\n",
      "    self.sock = self._new_conn()\n",
      "                ~~~~~~~~~~~~~~^^\n",
      "  File \"C:\\Users\\Admin\\AppData\\Local\\Programs\\Python\\Python313\\Lib\\site-packages\\urllib3\\connection.py\", line 213, in _new_conn\n",
      "    raise NewConnectionError(\n",
      "        self, f\"Failed to establish a new connection: {e}\"\n",
      "    ) from e\n",
      "urllib3.exceptions.NewConnectionError: <urllib3.connection.HTTPConnection object at 0x0000027621B84690>: Failed to establish a new connection: [WinError 10061] 대상 컴퓨터에서 연결을 거부했으므로 연결하지 못했습니다\n",
      "\n",
      "The above exception was the direct cause of the following exception:\n",
      "\n",
      "Traceback (most recent call last):\n",
      "  File \"C:\\Users\\Admin\\AppData\\Local\\Programs\\Python\\Python313\\Lib\\site-packages\\requests\\adapters.py\", line 667, in send\n",
      "    resp = conn.urlopen(\n",
      "        method=request.method,\n",
      "    ...<9 lines>...\n",
      "        chunked=chunked,\n",
      "    )\n",
      "  File \"C:\\Users\\Admin\\AppData\\Local\\Programs\\Python\\Python313\\Lib\\site-packages\\urllib3\\connectionpool.py\", line 841, in urlopen\n",
      "    retries = retries.increment(\n",
      "        method, url, error=new_e, _pool=self, _stacktrace=sys.exc_info()[2]\n",
      "    )\n",
      "  File \"C:\\Users\\Admin\\AppData\\Local\\Programs\\Python\\Python313\\Lib\\site-packages\\urllib3\\util\\retry.py\", line 519, in increment\n",
      "    raise MaxRetryError(_pool, url, reason) from reason  # type: ignore[arg-type]\n",
      "    ^^^^^^^^^^^^^^^^^^^^^^^^^^^^^^^^^^^^^^^^^^^^^^^^^^^\n",
      "urllib3.exceptions.MaxRetryError: HTTPConnectionPool(host='namenode', port=9870): Max retries exceeded with url: /webhdfs/v1/user/hadoop/LICENSE.txt?user.name=hadoop&op=OPEN (Caused by NewConnectionError('<urllib3.connection.HTTPConnection object at 0x0000027621B84690>: Failed to establish a new connection: [WinError 10061] 대상 컴퓨터에서 연결을 거부했으므로 연결하지 못했습니다'))\n",
      "\n",
      "During handling of the above exception, another exception occurred:\n",
      "\n",
      "Traceback (most recent call last):\n",
      "  File \"C:\\Users\\Admin\\AppData\\Local\\Programs\\Python\\Python313\\Lib\\site-packages\\pyhdfs\\__init__.py\", line 418, in _request\n",
      "    response = self._requests_session.request(\n",
      "        method,\n",
      "    ...<4 lines>...\n",
      "        **self._requests_kwargs\n",
      "    )\n",
      "  File \"C:\\Users\\Admin\\AppData\\Local\\Programs\\Python\\Python313\\Lib\\site-packages\\requests\\api.py\", line 59, in request\n",
      "    return session.request(method=method, url=url, **kwargs)\n",
      "           ~~~~~~~~~~~~~~~^^^^^^^^^^^^^^^^^^^^^^^^^^^^^^^^^^\n",
      "  File \"C:\\Users\\Admin\\AppData\\Local\\Programs\\Python\\Python313\\Lib\\site-packages\\requests\\sessions.py\", line 589, in request\n",
      "    resp = self.send(prep, **send_kwargs)\n",
      "  File \"C:\\Users\\Admin\\AppData\\Local\\Programs\\Python\\Python313\\Lib\\site-packages\\requests\\sessions.py\", line 703, in send\n",
      "    r = adapter.send(request, **kwargs)\n",
      "  File \"C:\\Users\\Admin\\AppData\\Local\\Programs\\Python\\Python313\\Lib\\site-packages\\requests\\adapters.py\", line 700, in send\n",
      "    raise ConnectionError(e, request=request)\n",
      "requests.exceptions.ConnectionError: HTTPConnectionPool(host='namenode', port=9870): Max retries exceeded with url: /webhdfs/v1/user/hadoop/LICENSE.txt?user.name=hadoop&op=OPEN (Caused by NewConnectionError('<urllib3.connection.HTTPConnection object at 0x0000027621B84690>: Failed to establish a new connection: [WinError 10061] 대상 컴퓨터에서 연결을 거부했으므로 연결하지 못했습니다'))\n"
     ]
    },
    {
     "ename": "HdfsNoServerException",
     "evalue": "Could not use any of the given hosts",
     "output_type": "error",
     "traceback": [
      "\u001b[1;31m---------------------------------------------------------------------------\u001b[0m",
      "\u001b[1;31mHdfsNoServerException\u001b[0m                     Traceback (most recent call last)",
      "Cell \u001b[1;32mIn[9], line 13\u001b[0m\n\u001b[0;32m     10\u001b[0m hdfs \u001b[38;5;241m=\u001b[39m pyhdfs\u001b[38;5;241m.\u001b[39mHdfsClient(hosts\u001b[38;5;241m=\u001b[39m\u001b[38;5;124mf\u001b[39m\u001b[38;5;124m\"\u001b[39m\u001b[38;5;132;01m{\u001b[39;00mhost\u001b[38;5;132;01m}\u001b[39;00m\u001b[38;5;124m:\u001b[39m\u001b[38;5;132;01m{\u001b[39;00mport\u001b[38;5;132;01m}\u001b[39;00m\u001b[38;5;124m\"\u001b[39m, user_name\u001b[38;5;241m=\u001b[39muser)\n\u001b[0;32m     12\u001b[0m \u001b[38;5;66;03m# 파일 읽기\u001b[39;00m\n\u001b[1;32m---> 13\u001b[0m \u001b[38;5;28;01mwith\u001b[39;00m \u001b[43mhdfs\u001b[49m\u001b[38;5;241;43m.\u001b[39;49m\u001b[43mopen\u001b[49m\u001b[43m(\u001b[49m\u001b[43mpath\u001b[49m\u001b[43m)\u001b[49m \u001b[38;5;28;01mas\u001b[39;00m reader:\n\u001b[0;32m     14\u001b[0m     text \u001b[38;5;241m=\u001b[39m reader\u001b[38;5;241m.\u001b[39mread()\u001b[38;5;241m.\u001b[39mdecode(\u001b[38;5;124m'\u001b[39m\u001b[38;5;124mutf-8\u001b[39m\u001b[38;5;124m'\u001b[39m)  \u001b[38;5;66;03m# 바이트 데이터를 UTF-8로 디코딩\u001b[39;00m\n\u001b[0;32m     16\u001b[0m \u001b[38;5;66;03m# 특정 범위 출력\u001b[39;00m\n",
      "File \u001b[1;32m~\\AppData\\Local\\Programs\\Python\\Python313\\Lib\\site-packages\\pyhdfs\\__init__.py:554\u001b[0m, in \u001b[0;36mHdfsClient.open\u001b[1;34m(self, path, **kwargs)\u001b[0m\n\u001b[0;32m    543\u001b[0m \u001b[38;5;28;01mdef\u001b[39;00m\u001b[38;5;250m \u001b[39m\u001b[38;5;21mopen\u001b[39m(\u001b[38;5;28mself\u001b[39m, path: \u001b[38;5;28mstr\u001b[39m, \u001b[38;5;241m*\u001b[39m\u001b[38;5;241m*\u001b[39mkwargs: _PossibleArgumentTypes) \u001b[38;5;241m-\u001b[39m\u001b[38;5;241m>\u001b[39m IO[\u001b[38;5;28mbytes\u001b[39m]:\n\u001b[0;32m    544\u001b[0m \u001b[38;5;250m    \u001b[39m\u001b[38;5;124;03m\"\"\"Return a file-like object for reading the given HDFS path.\u001b[39;00m\n\u001b[0;32m    545\u001b[0m \n\u001b[0;32m    546\u001b[0m \u001b[38;5;124;03m    :param offset: The starting byte position.\u001b[39;00m\n\u001b[1;32m   (...)\u001b[0m\n\u001b[0;32m    552\u001b[0m \u001b[38;5;124;03m    :rtype: file-like object\u001b[39;00m\n\u001b[0;32m    553\u001b[0m \u001b[38;5;124;03m    \"\"\"\u001b[39;00m\n\u001b[1;32m--> 554\u001b[0m     metadata_response \u001b[38;5;241m=\u001b[39m \u001b[38;5;28;43mself\u001b[39;49m\u001b[38;5;241;43m.\u001b[39;49m\u001b[43m_get\u001b[49m\u001b[43m(\u001b[49m\n\u001b[0;32m    555\u001b[0m \u001b[43m        \u001b[49m\u001b[43mpath\u001b[49m\u001b[43m,\u001b[49m\u001b[43m \u001b[49m\u001b[38;5;124;43m'\u001b[39;49m\u001b[38;5;124;43mOPEN\u001b[39;49m\u001b[38;5;124;43m'\u001b[39;49m\u001b[43m,\u001b[49m\u001b[43m \u001b[49m\u001b[43mexpected_status\u001b[49m\u001b[38;5;241;43m=\u001b[39;49m\u001b[43mHTTPStatus\u001b[49m\u001b[38;5;241;43m.\u001b[39;49m\u001b[43mTEMPORARY_REDIRECT\u001b[49m\u001b[43m,\u001b[49m\u001b[43m \u001b[49m\u001b[38;5;241;43m*\u001b[39;49m\u001b[38;5;241;43m*\u001b[39;49m\u001b[43mkwargs\u001b[49m\u001b[43m)\u001b[49m\n\u001b[0;32m    556\u001b[0m     data_response \u001b[38;5;241m=\u001b[39m \u001b[38;5;28mself\u001b[39m\u001b[38;5;241m.\u001b[39m_requests_session\u001b[38;5;241m.\u001b[39mget(\n\u001b[0;32m    557\u001b[0m         metadata_response\u001b[38;5;241m.\u001b[39mheaders[\u001b[38;5;124m'\u001b[39m\u001b[38;5;124mlocation\u001b[39m\u001b[38;5;124m'\u001b[39m], stream\u001b[38;5;241m=\u001b[39m\u001b[38;5;28;01mTrue\u001b[39;00m, \u001b[38;5;241m*\u001b[39m\u001b[38;5;241m*\u001b[39m\u001b[38;5;28mself\u001b[39m\u001b[38;5;241m.\u001b[39m_requests_kwargs)\n\u001b[0;32m    558\u001b[0m     _check_response(data_response)\n",
      "File \u001b[1;32m~\\AppData\\Local\\Programs\\Python\\Python313\\Lib\\site-packages\\pyhdfs\\__init__.py:450\u001b[0m, in \u001b[0;36mHdfsClient._get\u001b[1;34m(self, path, op, expected_status, **kwargs)\u001b[0m\n\u001b[0;32m    444\u001b[0m \u001b[38;5;28;01mdef\u001b[39;00m\u001b[38;5;250m \u001b[39m\u001b[38;5;21m_get\u001b[39m(\u001b[38;5;28mself\u001b[39m,\n\u001b[0;32m    445\u001b[0m          path: \u001b[38;5;28mstr\u001b[39m,\n\u001b[0;32m    446\u001b[0m          op: \u001b[38;5;28mstr\u001b[39m,\n\u001b[0;32m    447\u001b[0m          expected_status: Any \u001b[38;5;241m=\u001b[39m HTTPStatus\u001b[38;5;241m.\u001b[39mOK,\n\u001b[0;32m    448\u001b[0m          \u001b[38;5;241m*\u001b[39m\u001b[38;5;241m*\u001b[39mkwargs: _PossibleArgumentTypes,\n\u001b[0;32m    449\u001b[0m          ) \u001b[38;5;241m-\u001b[39m\u001b[38;5;241m>\u001b[39m requests\u001b[38;5;241m.\u001b[39mResponse:\n\u001b[1;32m--> 450\u001b[0m     \u001b[38;5;28;01mreturn\u001b[39;00m \u001b[38;5;28;43mself\u001b[39;49m\u001b[38;5;241;43m.\u001b[39;49m\u001b[43m_request\u001b[49m\u001b[43m(\u001b[49m\u001b[38;5;124;43m'\u001b[39;49m\u001b[38;5;124;43mget\u001b[39;49m\u001b[38;5;124;43m'\u001b[39;49m\u001b[43m,\u001b[49m\u001b[43m \u001b[49m\u001b[43mpath\u001b[49m\u001b[43m,\u001b[49m\u001b[43m \u001b[49m\u001b[43mop\u001b[49m\u001b[43m,\u001b[49m\u001b[43m \u001b[49m\u001b[43mexpected_status\u001b[49m\u001b[43m,\u001b[49m\u001b[43m \u001b[49m\u001b[38;5;241;43m*\u001b[39;49m\u001b[38;5;241;43m*\u001b[39;49m\u001b[43mkwargs\u001b[49m\u001b[43m)\u001b[49m\n",
      "File \u001b[1;32m~\\AppData\\Local\\Programs\\Python\\Python313\\Lib\\site-packages\\pyhdfs\\__init__.py:442\u001b[0m, in \u001b[0;36mHdfsClient._request\u001b[1;34m(self, method, path, op, expected_status, **kwargs)\u001b[0m\n\u001b[0;32m    440\u001b[0m     \u001b[38;5;28;01mif\u001b[39;00m i \u001b[38;5;241m!=\u001b[39m \u001b[38;5;28mself\u001b[39m\u001b[38;5;241m.\u001b[39mmax_tries \u001b[38;5;241m-\u001b[39m \u001b[38;5;241m1\u001b[39m:\n\u001b[0;32m    441\u001b[0m         time\u001b[38;5;241m.\u001b[39msleep(\u001b[38;5;28mself\u001b[39m\u001b[38;5;241m.\u001b[39mretry_delay)\n\u001b[1;32m--> 442\u001b[0m \u001b[38;5;28;01mraise\u001b[39;00m HdfsNoServerException(\u001b[38;5;124m\"\u001b[39m\u001b[38;5;124mCould not use any of the given hosts\u001b[39m\u001b[38;5;124m\"\u001b[39m)\n",
      "\u001b[1;31mHdfsNoServerException\u001b[0m: Could not use any of the given hosts"
     ]
    }
   ],
   "source": [
    "import pyhdfs\n",
    "\n",
    "# HDFS의 네임노드 주소 및 사용자 설정\n",
    "user = 'hadoop'\n",
    "host = \"namenode\"  # 도커 네트워크에서 접근 가능하도록 설정\n",
    "port = \"9870\"  # WebHDFS 기본 포트\n",
    "path = \"/user/hadoop/LICENSE.txt\"\n",
    "\n",
    "# PyHDFS 클라이언트 생성\n",
    "hdfs = pyhdfs.HdfsClient(hosts=f\"{host}:{port}\", user_name=user)\n",
    "\n",
    "# 파일 읽기\n",
    "with hdfs.open(path) as reader:\n",
    "    text = reader.read().decode('utf-8')  # 바이트 데이터를 UTF-8로 디코딩\n",
    "\n",
    "# 특정 범위 출력\n",
    "print(text[200:300])\n"
   ]
  },
  {
   "cell_type": "code",
   "execution_count": null,
   "id": "f65181a3-ecff-45ce-9823-b5b2cbab399a",
   "metadata": {},
   "outputs": [],
   "source": []
  }
 ],
 "metadata": {
  "kernelspec": {
   "display_name": "Python 3 (ipykernel)",
   "language": "python",
   "name": "python3"
  },
  "language_info": {
   "codemirror_mode": {
    "name": "ipython",
    "version": 3
   },
   "file_extension": ".py",
   "mimetype": "text/x-python",
   "name": "python",
   "nbconvert_exporter": "python",
   "pygments_lexer": "ipython3",
   "version": "3.13.1"
  }
 },
 "nbformat": 4,
 "nbformat_minor": 5
}
