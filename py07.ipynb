{
 "cells": [
  {
   "cell_type": "markdown",
   "id": "f6fd2fa4-633a-421f-a0b3-102df7310bdc",
   "metadata": {},
   "source": [
    "# 내장함수"
   ]
  },
  {
   "cell_type": "code",
   "execution_count": 3,
   "id": "7f615524-6e9e-4e30-9982-fd06e10329ae",
   "metadata": {},
   "outputs": [
    {
     "name": "stdout",
     "output_type": "stream",
     "text": [
      "3\n",
      "1.2\n"
     ]
    }
   ],
   "source": [
    "# abs *   - 절대값 리턴\n",
    "print(abs(-3))\n",
    "print(abs(1.2))"
   ]
  },
  {
   "cell_type": "code",
   "execution_count": 9,
   "id": "332f32ae-943d-49cf-8f1c-31ae7c29343b",
   "metadata": {},
   "outputs": [
    {
     "name": "stdout",
     "output_type": "stream",
     "text": [
      "True\n",
      "False\n",
      "True\n"
     ]
    }
   ],
   "source": [
    "# all *   - 하나라도 거짓일 경우 False 빈값은 True\n",
    "print(all([1,2,3]))\n",
    "print(all([11,22,0,44]))\n",
    "print(all([])) # 특이사항"
   ]
  },
  {
   "cell_type": "code",
   "execution_count": 14,
   "id": "3d087dd5-740b-44c6-b3fa-e362d85fee31",
   "metadata": {},
   "outputs": [
    {
     "name": "stdout",
     "output_type": "stream",
     "text": [
      "False\n",
      "True\n",
      "False\n"
     ]
    }
   ],
   "source": [
    "# any *   - 하나라도 참일경우True 빈값은 False\n",
    "print(any([0,'',[],False]))\n",
    "print(any([11,22,0,44]))\n",
    "print(any([])) # 특이사항"
   ]
  },
  {
   "cell_type": "code",
   "execution_count": 18,
   "id": "262cc818-9d18-4fca-954e-97a1e219a1bc",
   "metadata": {},
   "outputs": [
    {
     "name": "stdout",
     "output_type": "stream",
     "text": [
      "A\n",
      "가\n",
      "65\n",
      "44032\n"
     ]
    }
   ],
   "source": [
    "# 아스키코드\n",
    "print(chr(65))\n",
    "print(chr(44032))\n",
    "# 유니코드 - UTF -8(인코딩방식)\n",
    "print(ord('A'))\n",
    "print(ord('가'))"
   ]
  },
  {
   "cell_type": "code",
   "execution_count": 47,
   "id": "9e008abb-e2f3-4165-9636-08f240abe23f",
   "metadata": {},
   "outputs": [
    {
     "name": "stdout",
     "output_type": "stream",
     "text": [
      "A B C D E F G H I J K L M N O P Q R S T U V W X Y Z "
     ]
    }
   ],
   "source": [
    "for i in range(65, 91):\n",
    "    print(chr(i),end = ' ')"
   ]
  },
  {
   "cell_type": "code",
   "execution_count": 50,
   "id": "07e73670-0049-4ad0-8cb0-c4a5ddd7773a",
   "metadata": {},
   "outputs": [
    {
     "name": "stdout",
     "output_type": "stream",
     "text": [
      "z y x w v u t s r q p o n m l k j i h g f e d c b a "
     ]
    }
   ],
   "source": [
    "a=[]\n",
    "j=0\n",
    "for i in range (97,123):\n",
    "    j+=1\n",
    "    print(chr(123-j), end = \" \")\n",
    "    \n",
    "#     a.append(chr(i))\n",
    "# a.reverse()\n",
    "# for i in a:\n",
    "#     print(i, end =' ')"
   ]
  },
  {
   "cell_type": "code",
   "execution_count": 59,
   "id": "75e527f3-c5e9-49bb-9fbb-5ad94fdd0fcc",
   "metadata": {},
   "outputs": [
    {
     "name": "stdout",
     "output_type": "stream",
     "text": [
      "A1 A2 A3 A4 A5 A6 A7 A8 A9 A10 \n",
      "\n",
      "B1 B2 B3 B4 B5 B6 B7 B8 B9 B10 \n",
      "\n",
      "C1 C2 C3 C4 C5 C6 C7 C8 C9 C10 \n",
      "\n"
     ]
    }
   ],
   "source": [
    "for i in range(65,68):\n",
    "    for j in range(1,11):\n",
    "        print(chr(i) + f'{j}',end = \" \")\n",
    "    print('\\n')\n",
    "    "
   ]
  },
  {
   "cell_type": "code",
   "execution_count": 1,
   "id": "42deb349-cefc-4aa4-8351-a9f27321519d",
   "metadata": {},
   "outputs": [
    {
     "name": "stderr",
     "output_type": "stream",
     "text": [
      "java version \"1.8.0_441\"\n",
      "Java(TM) SE Runtime Environment (build 1.8.0_441-b07)\n",
      "Java HotSpot(TM) 64-Bit Server VM (build 25.441-b07, mixed mode)\n"
     ]
    }
   ],
   "source": [
    "!java -version"
   ]
  },
  {
   "cell_type": "code",
   "execution_count": 12,
   "id": "768f9488-dbf3-44eb-b353-bf76b531eeb5",
   "metadata": {},
   "outputs": [],
   "source": [
    "# dir 객체가 가지고 있는 함수(메서드)를 보여줌  *\n",
    "# dir({1:'a'})"
   ]
  },
  {
   "cell_type": "code",
   "execution_count": 17,
   "id": "e6542ca7-355c-45e9-a7e1-7be9a76065d6",
   "metadata": {},
   "outputs": [
    {
     "name": "stdout",
     "output_type": "stream",
     "text": [
      "(4, 1)\n",
      "4\n",
      "1\n"
     ]
    }
   ],
   "source": [
    "# divmod  몫과 나머지\n",
    "print(divmod(13,3)) \n",
    "print(13//3)\n",
    "print(13%3)"
   ]
  },
  {
   "cell_type": "code",
   "execution_count": 22,
   "id": "7325e10d-8b34-430b-95a8-06d9fa2fed80",
   "metadata": {},
   "outputs": [
    {
     "name": "stdout",
     "output_type": "stream",
     "text": [
      "1 번째 과일은 apple\n",
      "2 번째 과일은 banana\n",
      "3 번째 과일은 kiwi\n",
      "4 번째 과일은 cherry\n",
      "5 번째 과일은 mango\n"
     ]
    }
   ],
   "source": [
    "# enumerate **  열거하다\n",
    "fruit = ['apple','banana','kiwi','cherry','mango']\n",
    "for i,f in enumerate(fruit,start= 1):\n",
    "    print(i,'번째 과일은',f)"
   ]
  },
  {
   "cell_type": "code",
   "execution_count": 23,
   "id": "99170a66-d0b7-4030-afd5-b14b39c3b9dd",
   "metadata": {},
   "outputs": [
    {
     "data": {
      "text/plain": [
       "3"
      ]
     },
     "execution_count": 23,
     "metadata": {},
     "output_type": "execute_result"
    }
   ],
   "source": [
    "eval('1+2')"
   ]
  },
  {
   "cell_type": "code",
   "execution_count": 25,
   "id": "58d8ea12-b1d6-45f1-9878-9271479f7ee2",
   "metadata": {},
   "outputs": [
    {
     "data": {
      "text/plain": [
       "'A1'"
      ]
     },
     "execution_count": 25,
     "metadata": {},
     "output_type": "execute_result"
    }
   ],
   "source": [
    "eval(\"'A'+'1'\")"
   ]
  },
  {
   "cell_type": "code",
   "execution_count": 30,
   "id": "5c45b213-3f11-427a-90c9-8e958a177e9a",
   "metadata": {},
   "outputs": [
    {
     "name": "stdout",
     "output_type": "stream",
     "text": [
      "[1, 2, 6]\n",
      "[1, 2, 6]\n",
      "[1, 2, 6]\n"
     ]
    }
   ],
   "source": [
    "# filter  *\n",
    "def positive(l):\n",
    "    result =[]                    \n",
    "    for i in l:                    #양수만 걸러내서 저장할 변수\n",
    "        if i > 0:\n",
    "            result.append(i)\n",
    "    return result\n",
    "print(positive([1, -3, 2, 0, -5, 6]))\n",
    "\n",
    "def pos(l):\n",
    "    return [i for i in l if i>0]\n",
    "print(pos([1,-3,2,0,-5,6]))\n",
    "\n",
    "def positive(x):\n",
    "    return x > 0 \n",
    "print(list(filter(positive,[1,-3,2,0,-5,6])))"
   ]
  },
  {
   "cell_type": "code",
   "execution_count": 45,
   "id": "88539588-30f8-4804-8101-e5093a070cc8",
   "metadata": {},
   "outputs": [
    {
     "name": "stdout",
     "output_type": "stream",
     "text": [
      "0xea\n",
      "0o11\n",
      "0b1001\n",
      "\u001e",
      "\n"
     ]
    }
   ],
   "source": [
    "# hex, oct, bin\n",
    "print(hex(234))\n",
    "print(oct(9))\n",
    "print(bin(9))\n",
    "print(chr(int(hex(30)[2:],16)))"
   ]
  },
  {
   "cell_type": "code",
   "execution_count": 48,
   "id": "b9c98ec3-41ae-4e4b-baaa-c6579b84b7fc",
   "metadata": {},
   "outputs": [
    {
     "name": "stdout",
     "output_type": "stream",
     "text": [
      "140719701951464\n",
      "140719701951464\n",
      "140719701951464\n",
      "True\n"
     ]
    }
   ],
   "source": [
    "# id 고유 주솟값을 리턴\n",
    "a = 3\n",
    "print(id(3))\n",
    "print(id(a))\n",
    "b=a\n",
    "print(id(b))\n",
    "print(all([id(3)==id(a),id(a)==id(b),id(b)==id(3)]))"
   ]
  },
  {
   "cell_type": "code",
   "execution_count": 49,
   "id": "abac2e01-35ac-4c71-91aa-bb4841da374e",
   "metadata": {},
   "outputs": [],
   "source": [
    "# input *\n",
    "# input은 스트링으로 값을 전달받는다. 그러므로 계산시 int나 float으로 변경할 것\n"
   ]
  },
  {
   "cell_type": "code",
   "execution_count": 50,
   "id": "dd6fbd2b-c3c6-4fdc-a650-587799c9efd9",
   "metadata": {},
   "outputs": [],
   "source": [
    "# int *\n",
    "#문자를 숫자로 변환, 정수로 변환, 소수점이 사라짐."
   ]
  },
  {
   "cell_type": "code",
   "execution_count": 54,
   "id": "83368ed1-1798-4a19-aed8-e981b85271b4",
   "metadata": {},
   "outputs": [
    {
     "name": "stdout",
     "output_type": "stream",
     "text": [
      "사람입니다.\n",
      "사람입니다.\n",
      "True\n",
      "True\n",
      "False\n"
     ]
    }
   ],
   "source": [
    "# isinstance (object, class) 인스턴스 확인용\n",
    "\n",
    "class Person:\n",
    "    def p(self):\n",
    "        return('사람입니다.')\n",
    "class Animal: pass\n",
    "a = Person()\n",
    "b = Person()\n",
    "c = Animal()\n",
    "print(a.p())\n",
    "print(b.p())\n",
    "print(isinstance(a,Person))\n",
    "print(isinstance(b,Person))\n",
    "print(isinstance(c,Person))\n"
   ]
  },
  {
   "cell_type": "code",
   "execution_count": 55,
   "id": "43c07d34-4dca-4ce4-9c31-bad570677cb8",
   "metadata": {},
   "outputs": [
    {
     "name": "stdout",
     "output_type": "stream",
     "text": [
      "6\n",
      "4\n",
      "2\n"
     ]
    }
   ],
   "source": [
    "# len **\n",
    "print(len('python'))\n",
    "print(len([1,2,3,4]))\n",
    "print(len((1,'a')))"
   ]
  },
  {
   "cell_type": "code",
   "execution_count": 56,
   "id": "252f0381-b20a-44f1-9ac8-d99c55d5f311",
   "metadata": {},
   "outputs": [],
   "source": [
    "# list **"
   ]
  },
  {
   "cell_type": "code",
   "execution_count": 58,
   "id": "dbc9742b-be43-4e72-af7d-f4a42779dd69",
   "metadata": {},
   "outputs": [
    {
     "name": "stdout",
     "output_type": "stream",
     "text": [
      "[2, 4, 6, 8]\n"
     ]
    }
   ],
   "source": [
    "# map **\n",
    "def two_items(nl):\n",
    "    result = []\n",
    "    for n in nl:\n",
    "        result.append(n*2)\n",
    "    return result\n",
    "result = two_items([1,2,3,4])\n",
    "print(result)"
   ]
  },
  {
   "cell_type": "code",
   "execution_count": 63,
   "id": "b1c3a9ed-6969-4a69-962f-55efddb1a7eb",
   "metadata": {},
   "outputs": [
    {
     "data": {
      "text/plain": [
       "[2, 4, 6, 8]"
      ]
     },
     "execution_count": 63,
     "metadata": {},
     "output_type": "execute_result"
    }
   ],
   "source": [
    "def two_times(x):\n",
    "    return x*2\n",
    "\n",
    "list(map(two_times,[1,2,3,4]))"
   ]
  },
  {
   "cell_type": "code",
   "execution_count": 64,
   "id": "8aee212c-47b1-4344-8774-262cce2fd9b2",
   "metadata": {},
   "outputs": [
    {
     "data": {
      "text/plain": [
       "[2, 4, 6, 8]"
      ]
     },
     "execution_count": 64,
     "metadata": {},
     "output_type": "execute_result"
    }
   ],
   "source": [
    "list(map(lambda x: x*2 ,[1,2,3,4]))"
   ]
  },
  {
   "cell_type": "code",
   "execution_count": 67,
   "id": "371e979a-f1fe-429d-956a-b8c23b1b0b2b",
   "metadata": {},
   "outputs": [
    {
     "name": "stdout",
     "output_type": "stream",
     "text": [
      "[1, 3, 5]\n",
      "[1, 2, 3, 4, 5, 6]\n",
      "[11, 12, 13, 14, 15, 16]\n",
      "[1, 4, 9, 16, 25, 36]\n",
      "[11, 24, 39, 56, 75, 96]\n"
     ]
    }
   ],
   "source": [
    "# 테스트\n",
    "li=[1,2,3,4,5,6]\n",
    "def odd(x):\n",
    "    return x%2 != 0 \n",
    "def even(x):\n",
    "    return x%2 == 0\n",
    "def add(x):\n",
    "    return x + 10\n",
    "def mul(x):\n",
    "    return x*x\n",
    "def addmul(x):\n",
    "    return(x+10)*x\n",
    "print(list(filter(odd,li)))\n",
    "print(list(filter(add,li)))\n",
    "print(list(map(add,li)))\n",
    "print(list(map(mul,li)))\n",
    "print(list(map(addmul,li)))"
   ]
  },
  {
   "cell_type": "code",
   "execution_count": 70,
   "id": "26435909-a5ba-4731-a010-a53a0419eef4",
   "metadata": {},
   "outputs": [
    {
     "name": "stdout",
     "output_type": "stream",
     "text": [
      "7\n",
      "1\n"
     ]
    }
   ],
   "source": [
    "# max,min *\n",
    "print(max([1,2,3,4,5,6,7]))\n",
    "print(max('python'))    # 문자일 경우 유니코드 값으로 판단\n",
    "print(min([1,2,3,4,5,6,7]))"
   ]
  },
  {
   "cell_type": "code",
   "execution_count": 72,
   "id": "90261815-b475-4947-bcac-59e28efd1414",
   "metadata": {},
   "outputs": [],
   "source": [
    "# open *\n",
    "# f = open('README.md','r',encoding='utf-8')\n",
    "# f.read"
   ]
  },
  {
   "cell_type": "code",
   "execution_count": 75,
   "id": "15407677-6c92-409f-9aa0-53bea9580e33",
   "metadata": {},
   "outputs": [
    {
     "data": {
      "text/plain": [
       "25"
      ]
     },
     "execution_count": 75,
     "metadata": {},
     "output_type": "execute_result"
    }
   ],
   "source": [
    "# pow *\n",
    "pow(5,2)"
   ]
  },
  {
   "cell_type": "code",
   "execution_count": 78,
   "id": "5b328cc2-3dae-48e5-8208-1186a29d4ef3",
   "metadata": {},
   "outputs": [
    {
     "name": "stdout",
     "output_type": "stream",
     "text": [
      "[0, 1, 2, 3, 4]\n",
      "[5, 6, 7, 8, 9]\n",
      "[5, 7, 9]\n",
      "[15, 14, 13, 12, 11, 10, 9, 8, 7, 6, 5, 4, 3, 2, 1]\n"
     ]
    }
   ],
   "source": [
    "# range **\n",
    "# 인수가 하나\n",
    "print(list(range(5)))\n",
    "# 인수가 2개\n",
    "print(list(range(5,10)))\n",
    "#인수가 3개\n",
    "print(list(range(5,10,2)))\n",
    "#역순(스탬조절)\n",
    "print(list(range(15,0,-1)))"
   ]
  },
  {
   "cell_type": "code",
   "execution_count": 82,
   "id": "68ee5e4f-926f-4032-bc17-c651c74cd13f",
   "metadata": {},
   "outputs": [
    {
     "name": "stdout",
     "output_type": "stream",
     "text": [
      "3\n",
      "4\n",
      "3\n",
      "3\n",
      "3.5\n",
      "3.499\n"
     ]
    }
   ],
   "source": [
    "# round *\n",
    "print(round(3.45))\n",
    "print(round(3.5556))\n",
    "print(round(3.499))\n",
    "print(round(3.499))\n",
    "print(round(3.499,2))\n",
    "print(round(3.499,3))"
   ]
  },
  {
   "cell_type": "code",
   "execution_count": 86,
   "id": "70d59bdf-4267-4cc0-b87d-5ff7f4aed363",
   "metadata": {},
   "outputs": [
    {
     "name": "stdout",
     "output_type": "stream",
     "text": [
      "[3, 2, 1, 4, 6, 7]\n",
      "[1, 2, 3, 4, 6, 7]\n",
      "[7, 6, 4, 3, 2, 1]\n"
     ]
    }
   ],
   "source": [
    "# sorted(iterable) * 정렬된 리스트로 리턴\n",
    "s0 = [3,2,1,4,6,7]\n",
    "s1 = sorted(s0)\n",
    "s2 = sorted(s0, reverse = True)\n",
    "print(s0)\n",
    "print(s1)\n",
    "print(s2)"
   ]
  },
  {
   "cell_type": "code",
   "execution_count": 89,
   "id": "ca07d66a-0786-4a1a-b92a-889543e82496",
   "metadata": {},
   "outputs": [
    {
     "name": "stdout",
     "output_type": "stream",
     "text": [
      "23 <class 'int'>\n",
      "23 <class 'str'>\n"
     ]
    }
   ],
   "source": [
    "# str * 문자열로 변환\n",
    "num = 23\n",
    "st = str(num)\n",
    "print(num,type(num))\n",
    "print(st,type(st))"
   ]
  },
  {
   "cell_type": "code",
   "execution_count": 91,
   "id": "35312ad2-8701-48b5-9192-9ace4b767271",
   "metadata": {},
   "outputs": [
    {
     "name": "stdout",
     "output_type": "stream",
     "text": [
      "15\n"
     ]
    }
   ],
   "source": [
    "# sum * 이터러블데이터의 합을 리턴\n",
    "print(sum([1,2,3,4,5]))"
   ]
  },
  {
   "cell_type": "code",
   "execution_count": 95,
   "id": "fde85a4c-3d83-41f5-9c89-8d6e45efa423",
   "metadata": {},
   "outputs": [
    {
     "name": "stdout",
     "output_type": "stream",
     "text": [
      "('a', 'b', 'c')\n",
      "(1, 2, 3, 4, 5, 6)\n"
     ]
    }
   ],
   "source": [
    "# tuple *\n",
    "print(tuple(\"abc\"))\n",
    "print(tuple((1,2,3,4,5,6)))"
   ]
  },
  {
   "cell_type": "code",
   "execution_count": 101,
   "id": "b04f1387-1690-45da-bbbd-a149bfa0f572",
   "metadata": {},
   "outputs": [
    {
     "name": "stdout",
     "output_type": "stream",
     "text": [
      "<class 'str'>\n",
      "<class 'int'>\n",
      "<class '_io.TextIOWrapper'>\n"
     ]
    }
   ],
   "source": [
    "# type ** 자료형 확인\n",
    "print(type('abc'))\n",
    "print(type(1234))\n",
    "print(type(open(\"foo.txt\",'r'))) # 파일 자료형"
   ]
  },
  {
   "cell_type": "code",
   "execution_count": 105,
   "id": "37592d44-5ce0-42fb-a021-69a7356e8b4b",
   "metadata": {},
   "outputs": [
    {
     "name": "stdout",
     "output_type": "stream",
     "text": [
      "11 apple => dog\n",
      "22 banana => cat\n",
      "33 kiwi => elephant\n",
      "44 cherry => Lion\n",
      "55 mango => rabbit\n"
     ]
    }
   ],
   "source": [
    "# zip ** 묶어서 리턴\n",
    "fruit = ['apple','banana','kiwi','cherry','mango']\n",
    "animal = ['dog','cat','elephant','Lion','rabbit']\n",
    "num = [11,22,33,44,55]\n",
    "for f,a,num in zip(fruit, animal,num):\n",
    "    print(num,f,'=>',a)"
   ]
  },
  {
   "cell_type": "markdown",
   "id": "b89f504b-3e9f-44af-8a5f-9e69e2ed2b17",
   "metadata": {},
   "source": [
    "# 표준 라이브러리"
   ]
  },
  {
   "cell_type": "code",
   "execution_count": 118,
   "id": "6e65e472-bcba-4de7-bc42-de45dbbacac6",
   "metadata": {},
   "outputs": [
    {
     "name": "stdout",
     "output_type": "stream",
     "text": [
      "전체 수업시간: 172 일\n",
      "남은 수업시간: 157 일\n",
      "지난 수업시간: 15 일\n"
     ]
    }
   ],
   "source": [
    "import datetime\n",
    "day1 = datetime.date(2025,2,3)\n",
    "day2 = datetime.date(2025,7,25)\n",
    "diff = day2 - day1\n",
    "print(\"전체 수업시간:\", diff.days,\"일\")\n",
    "diff2 = day2 - datetime.datetime.now().date()\n",
    "print(\"남은 수업시간:\", diff2.days,\"일\")\n",
    "print(\"지난 수업시간:\", diff.days - diff2.days,\"일\")\n"
   ]
  },
  {
   "cell_type": "code",
   "execution_count": 125,
   "id": "fa18885c-b31e-4622-8551-2aa4ee2178e4",
   "metadata": {},
   "outputs": [
    {
     "data": {
      "text/plain": [
       "datetime.date(2025, 2, 18)"
      ]
     },
     "execution_count": 125,
     "metadata": {},
     "output_type": "execute_result"
    }
   ],
   "source": [
    "datetime.datetime.now().date()  #date()를 넣으면 "
   ]
  },
  {
   "cell_type": "code",
   "execution_count": 124,
   "id": "14836f61-688e-44a1-9b4c-ab4c2cdaaf65",
   "metadata": {},
   "outputs": [
    {
     "name": "stdout",
     "output_type": "stream",
     "text": [
      "그날은 월요일입니다.\n"
     ]
    }
   ],
   "source": [
    "days = ['월','화','수','목','금','토','일']\n",
    "day = datetime.date(2000,10,2)\n",
    "print(\"그날은\",days[day.weekday()] +\"요일입니다.\")"
   ]
  },
  {
   "cell_type": "code",
   "execution_count": 27,
   "id": "0d73ccbc-f15c-40b1-a02d-bc0acde6b10e",
   "metadata": {},
   "outputs": [],
   "source": [
    "def xmas():\n",
    "    import datetime\n",
    "    today = datetime.datetime.now().date()\n",
    "    xmas = datetime.date(2025,12,25)\n",
    "    dday = xmas - today\n",
    "    print(\"크리스마스까지\", f'{dday.days}' + '일 남았습니다.')\n",
    "\n",
    "    days = ['월','화','수','목','금','토','일']\n",
    "    print(\"크리스마스는\", f\"{days[xmas.weekday()]}\"+\"요일 입니다.\")"
   ]
  },
  {
   "cell_type": "code",
   "execution_count": 31,
   "id": "6a1606b4-411a-44d0-8d59-9ef97e8ceac2",
   "metadata": {},
   "outputs": [
    {
     "name": "stdout",
     "output_type": "stream",
     "text": [
      "크리스마스까지 310일 남았습니다.\n",
      "크리스마스는 목요일 입니다.\n"
     ]
    }
   ],
   "source": [
    "xmas()"
   ]
  },
  {
   "cell_type": "code",
   "execution_count": 32,
   "id": "de717197-482f-46e6-a677-03aa796c5bcc",
   "metadata": {},
   "outputs": [
    {
     "name": "stdout",
     "output_type": "stream",
     "text": [
      "크리스마스까지 310일 남았습니다.\n",
      "크리스마스는 목요일 입니다.\n"
     ]
    }
   ],
   "source": [
    "from team_5.date import 계산_4\n",
    "계산_4.xmas()"
   ]
  },
  {
   "cell_type": "code",
   "execution_count": 56,
   "id": "76b5774d-44ca-4db3-926a-7d16c097cff3",
   "metadata": {},
   "outputs": [
    {
     "name": "stdout",
     "output_type": "stream",
     "text": [
      "['2', '0', '0', '0', '1', '0', '0', '2']\n",
      "['2', '0', '0', '0', '-', '1', '0', '-', '0', '2'] <class 'list'>\n",
      "2025-02-18 <class 'datetime.date'>\n",
      "<function xmas at 0x000002A6A0A74AE0> <class 'function'>\n"
     ]
    }
   ],
   "source": [
    "# inp = input('생일을 입력하세요ex)yyyymmdd')\n",
    "inp = str(20001002)\n",
    "inp = list(inp)\n",
    "print(inp)\n",
    "inp.insert(4,'-')\n",
    "inp.insert(7,'-')\n",
    "print(inp,type(inp))\n",
    "print(today,type(today))\n",
    "print(xmas,type(xmas))"
   ]
  },
  {
   "cell_type": "code",
   "execution_count": 39,
   "id": "543aa7a1-d59c-496e-be66-b7058849cb04",
   "metadata": {},
   "outputs": [
    {
     "name": "stdin",
     "output_type": "stream",
     "text": [
      "생일 언제임 (월, 일만 입력해주고 숫자가 한자리이면 앞에 0붙여주기 안그러면 큰일남 귀찮게 해서 ㅈㅅ) 10월2일\n"
     ]
    },
    {
     "name": "stdout",
     "output_type": "stream",
     "text": [
      "큰일났음 다시 입력해주삼\n"
     ]
    },
    {
     "name": "stdin",
     "output_type": "stream",
     "text": [
      "생일 언제임 (월, 일만 입력해주고 숫자가 한자리이면 앞에 0붙여주기 안그러면 큰일남 귀찮게 해서 ㅈㅅ) 10월02일\n"
     ]
    },
    {
     "name": "stdout",
     "output_type": "stream",
     "text": [
      "어린이날은 월요일입니다. 현재 어린이날까지 76 일 남았습니다.\n",
      "어버이날까지 79일 남았습니다. 어버이날은 목요일 입니다.\n",
      "크리스마스까지 310일 남았습니다.\n",
      "크리스마스는 목요일 입니다.\n",
      "2025-07-25 수료 후 추석까지 73일 남고, 추석 당일은 월요일 입니다.\n"
     ]
    }
   ],
   "source": [
    "import sys\n",
    "\n",
    "sys.path # 현재 시스템에 import되는 경로 확인\n",
    "sys.path.append(\"d:\\\\lsh\\\\code\\\\team_5\\\\date\") # 현재 시스템에 import되는 경로 추가\n",
    "sys.path # 현재 시스템에 import되는 경로 확인\n",
    "\n",
    "import 계산_1 as a1\n",
    "import 계산_2 as a2\n",
    "import 계산_3 as a3\n",
    "import 계산_4 as a4\n",
    "import 계산_5 as a5\n",
    "\n",
    "a1.birthday()\n",
    "a2.childrens()\n",
    "a3.pday()\n",
    "a4.xmas()\n",
    "a5.chuseok()"
   ]
  },
  {
   "cell_type": "code",
   "execution_count": 46,
   "id": "322e50b5-43a6-4891-a643-0f8931edc40c",
   "metadata": {},
   "outputs": [
    {
     "name": "stdin",
     "output_type": "stream",
     "text": [
      "생일 언제임 (월, 일만 입력해주고 숫자가 한자리이면 앞에 0붙여주기 안그러면 큰일남 귀찮게 해서 ㅈㅅ) 10월 02일\n"
     ]
    },
    {
     "name": "stdout",
     "output_type": "stream",
     "text": [
      "생일 목요일이었네 47일 지났네\n"
     ]
    }
   ],
   "source": [
    "from team_5.date import 계산_1\n",
    "계산_1.birthday()"
   ]
  },
  {
   "cell_type": "code",
   "execution_count": 57,
   "id": "2c0894ff-b1f1-446b-bb41-ce47bffdc7e0",
   "metadata": {},
   "outputs": [],
   "source": [
    "import datetime\n",
    "\n",
    "def birthday():\n",
    "    \n",
    "    inp = input(\"생일 언제임 (월, 일만 입력해주고 숫자가 한자리이면 앞에 0붙여주기 안그러면 큰일남 귀찮게 해서 ㅈㅅ)\")\n",
    "    inp = inp.replace('월','').replace('일','').replace('-','').replace(' ', '')\n",
    "    \n",
    "    if len(inp) != 4:\n",
    "        print(\"큰일났음 다시 입력해주삼\")\n",
    "        inp = input(\"생일 언제임 (월, 일만 입력해주고 숫자가 한자리이면 앞에 0붙여주기 안그러면 큰일남 귀찮게 해서 ㅈㅅ)\")\n",
    "    else:\n",
    "        month = int(inp[:2].replace('0', ''))\n",
    "        print(month)\n",
    "        date = int(inp[2:].replace('0', ''))\n",
    "        print(date)\n",
    "        birthday = datetime.date(2025,month,date)\n",
    "        today = datetime.datetime.now().date()\n",
    "        \n",
    "        birthday_diff = today - birthday\n",
    "        days = ['월','화','수','목','금','토','일']\n",
    "        birthday_days = birthday.weekday()\n",
    "        \n",
    "        if birthday_diff.days < 0:\n",
    "            print(f\"생일 {days[birthday_days]}요일이네 {abs(birthday_diff.days)}일 남았다 미리 ㅊㅊㅊㅊ\")\n",
    "        elif birthday_diff.days > 0:\n",
    "            print(f\"생일 {days[birthday_days]}요일이었네 {abs(birthday_diff.days)}일 지났네\")\n",
    "        else:\n",
    "            print(\"오늘 생일임? ㅊㅊㅊㅊ\")"
   ]
  },
  {
   "cell_type": "code",
   "execution_count": 61,
   "id": "00f2abd6-e53e-4278-b182-6b01c78ec147",
   "metadata": {},
   "outputs": [
    {
     "name": "stdin",
     "output_type": "stream",
     "text": [
      "생일 언제임 (월, 일만 입력해주고 숫자가 한자리이면 앞에 0붙여주기 안그러면 큰일남 귀찮게 해서 ㅈㅅ) 10월 02일\n"
     ]
    },
    {
     "name": "stdout",
     "output_type": "stream",
     "text": [
      "1\n",
      "2\n",
      "생일 목요일이었네 47일 지났네\n"
     ]
    }
   ],
   "source": [
    "birthday()"
   ]
  },
  {
   "cell_type": "code",
   "execution_count": null,
   "id": "1a2f8a29-2226-4b47-a880-ef0e27b4a747",
   "metadata": {},
   "outputs": [],
   "source": []
  }
 ],
 "metadata": {
  "kernelspec": {
   "display_name": "Python 3 (ipykernel)",
   "language": "python",
   "name": "python3"
  },
  "language_info": {
   "codemirror_mode": {
    "name": "ipython",
    "version": 3
   },
   "file_extension": ".py",
   "mimetype": "text/x-python",
   "name": "python",
   "nbconvert_exporter": "python",
   "pygments_lexer": "ipython3",
   "version": "3.13.1"
  }
 },
 "nbformat": 4,
 "nbformat_minor": 5
}
