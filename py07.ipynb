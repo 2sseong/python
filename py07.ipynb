{
 "cells": [
  {
   "cell_type": "markdown",
   "id": "f6fd2fa4-633a-421f-a0b3-102df7310bdc",
   "metadata": {},
   "source": [
    "# 내장함수"
   ]
  },
  {
   "cell_type": "code",
   "execution_count": 3,
   "id": "7f615524-6e9e-4e30-9982-fd06e10329ae",
   "metadata": {},
   "outputs": [
    {
     "name": "stdout",
     "output_type": "stream",
     "text": [
      "3\n",
      "1.2\n"
     ]
    }
   ],
   "source": [
    "# abs *   - 절대값 리턴\n",
    "print(abs(-3))\n",
    "print(abs(1.2))"
   ]
  },
  {
   "cell_type": "code",
   "execution_count": 9,
   "id": "332f32ae-943d-49cf-8f1c-31ae7c29343b",
   "metadata": {},
   "outputs": [
    {
     "name": "stdout",
     "output_type": "stream",
     "text": [
      "True\n",
      "False\n",
      "True\n"
     ]
    }
   ],
   "source": [
    "# all *   - 하나라도 거짓일 경우 False 빈값은 True\n",
    "print(all([1,2,3]))\n",
    "print(all([11,22,0,44]))\n",
    "print(all([])) # 특이사항"
   ]
  },
  {
   "cell_type": "code",
   "execution_count": 14,
   "id": "3d087dd5-740b-44c6-b3fa-e362d85fee31",
   "metadata": {},
   "outputs": [
    {
     "name": "stdout",
     "output_type": "stream",
     "text": [
      "False\n",
      "True\n",
      "False\n"
     ]
    }
   ],
   "source": [
    "# any *   - 하나라도 참일경우True 빈값은 False\n",
    "print(any([0,'',[],False]))\n",
    "print(any([11,22,0,44]))\n",
    "print(any([])) # 특이사항"
   ]
  },
  {
   "cell_type": "code",
   "execution_count": 18,
   "id": "262cc818-9d18-4fca-954e-97a1e219a1bc",
   "metadata": {},
   "outputs": [
    {
     "name": "stdout",
     "output_type": "stream",
     "text": [
      "A\n",
      "가\n",
      "65\n",
      "44032\n"
     ]
    }
   ],
   "source": [
    "# 아스키코드\n",
    "print(chr(65))\n",
    "print(chr(44032))\n",
    "# 유니코드 - UTF -8(인코딩방식)\n",
    "print(ord('A'))\n",
    "print(ord('가'))"
   ]
  },
  {
   "cell_type": "code",
   "execution_count": 47,
   "id": "9e008abb-e2f3-4165-9636-08f240abe23f",
   "metadata": {},
   "outputs": [
    {
     "name": "stdout",
     "output_type": "stream",
     "text": [
      "A B C D E F G H I J K L M N O P Q R S T U V W X Y Z "
     ]
    }
   ],
   "source": [
    "for i in range(65, 91):\n",
    "    print(chr(i),end = ' ')"
   ]
  },
  {
   "cell_type": "code",
   "execution_count": 50,
   "id": "07e73670-0049-4ad0-8cb0-c4a5ddd7773a",
   "metadata": {},
   "outputs": [
    {
     "name": "stdout",
     "output_type": "stream",
     "text": [
      "z y x w v u t s r q p o n m l k j i h g f e d c b a "
     ]
    }
   ],
   "source": [
    "a=[]\n",
    "j=0\n",
    "for i in range (97,123):\n",
    "    j+=1\n",
    "    print(chr(123-j), end = \" \")\n",
    "    \n",
    "#     a.append(chr(i))\n",
    "# a.reverse()\n",
    "# for i in a:\n",
    "#     print(i, end =' ')"
   ]
  },
  {
   "cell_type": "code",
   "execution_count": 59,
   "id": "75e527f3-c5e9-49bb-9fbb-5ad94fdd0fcc",
   "metadata": {},
   "outputs": [
    {
     "name": "stdout",
     "output_type": "stream",
     "text": [
      "A1 A2 A3 A4 A5 A6 A7 A8 A9 A10 \n",
      "\n",
      "B1 B2 B3 B4 B5 B6 B7 B8 B9 B10 \n",
      "\n",
      "C1 C2 C3 C4 C5 C6 C7 C8 C9 C10 \n",
      "\n"
     ]
    }
   ],
   "source": [
    "for i in range(65,68):\n",
    "    for j in range(1,11):\n",
    "        print(chr(i) + f'{j}',end = \" \")\n",
    "    print('\\n')\n",
    "    "
   ]
  },
  {
   "cell_type": "code",
   "execution_count": null,
   "id": "42deb349-cefc-4aa4-8351-a9f27321519d",
   "metadata": {},
   "outputs": [],
   "source": []
  }
 ],
 "metadata": {
  "kernelspec": {
   "display_name": "Python 3 (ipykernel)",
   "language": "python",
   "name": "python3"
  },
  "language_info": {
   "codemirror_mode": {
    "name": "ipython",
    "version": 3
   },
   "file_extension": ".py",
   "mimetype": "text/x-python",
   "name": "python",
   "nbconvert_exporter": "python",
   "pygments_lexer": "ipython3",
   "version": "3.13.1"
  }
 },
 "nbformat": 4,
 "nbformat_minor": 5
}
