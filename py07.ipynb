{
 "cells": [
  {
   "cell_type": "markdown",
   "id": "f6fd2fa4-633a-421f-a0b3-102df7310bdc",
   "metadata": {},
   "source": [
    "# 내장함수"
   ]
  },
  {
   "cell_type": "code",
   "execution_count": 3,
   "id": "7f615524-6e9e-4e30-9982-fd06e10329ae",
   "metadata": {},
   "outputs": [
    {
     "name": "stdout",
     "output_type": "stream",
     "text": [
      "3\n",
      "1.2\n"
     ]
    }
   ],
   "source": [
    "# abs *   - 절대값 리턴\n",
    "print(abs(-3))\n",
    "print(abs(1.2))"
   ]
  },
  {
   "cell_type": "code",
   "execution_count": 9,
   "id": "332f32ae-943d-49cf-8f1c-31ae7c29343b",
   "metadata": {},
   "outputs": [
    {
     "name": "stdout",
     "output_type": "stream",
     "text": [
      "True\n",
      "False\n",
      "True\n"
     ]
    }
   ],
   "source": [
    "# all *   - 하나라도 거짓일 경우 False 빈값은 True\n",
    "print(all([1,2,3]))\n",
    "print(all([11,22,0,44]))\n",
    "print(all([])) # 특이사항"
   ]
  },
  {
   "cell_type": "code",
   "execution_count": 14,
   "id": "3d087dd5-740b-44c6-b3fa-e362d85fee31",
   "metadata": {},
   "outputs": [
    {
     "name": "stdout",
     "output_type": "stream",
     "text": [
      "False\n",
      "True\n",
      "False\n"
     ]
    }
   ],
   "source": [
    "# any *   - 하나라도 참일경우True 빈값은 False\n",
    "print(any([0,'',[],False]))\n",
    "print(any([11,22,0,44]))\n",
    "print(any([])) # 특이사항"
   ]
  },
  {
   "cell_type": "code",
   "execution_count": 18,
   "id": "262cc818-9d18-4fca-954e-97a1e219a1bc",
   "metadata": {},
   "outputs": [
    {
     "name": "stdout",
     "output_type": "stream",
     "text": [
      "A\n",
      "가\n",
      "65\n",
      "44032\n"
     ]
    }
   ],
   "source": [
    "# 아스키코드\n",
    "print(chr(65))\n",
    "print(chr(44032))\n",
    "# 유니코드 - UTF -8(인코딩방식)\n",
    "print(ord('A'))\n",
    "print(ord('가'))"
   ]
  },
  {
   "cell_type": "code",
   "execution_count": 47,
   "id": "9e008abb-e2f3-4165-9636-08f240abe23f",
   "metadata": {},
   "outputs": [
    {
     "name": "stdout",
     "output_type": "stream",
     "text": [
      "A B C D E F G H I J K L M N O P Q R S T U V W X Y Z "
     ]
    }
   ],
   "source": [
    "for i in range(65, 91):\n",
    "    print(chr(i),end = ' ')"
   ]
  },
  {
   "cell_type": "code",
   "execution_count": 50,
   "id": "07e73670-0049-4ad0-8cb0-c4a5ddd7773a",
   "metadata": {},
   "outputs": [
    {
     "name": "stdout",
     "output_type": "stream",
     "text": [
      "z y x w v u t s r q p o n m l k j i h g f e d c b a "
     ]
    }
   ],
   "source": [
    "a=[]\n",
    "j=0\n",
    "for i in range (97,123):\n",
    "    j+=1\n",
    "    print(chr(123-j), end = \" \")\n",
    "    \n",
    "#     a.append(chr(i))\n",
    "# a.reverse()\n",
    "# for i in a:\n",
    "#     print(i, end =' ')"
   ]
  },
  {
   "cell_type": "code",
   "execution_count": 59,
   "id": "75e527f3-c5e9-49bb-9fbb-5ad94fdd0fcc",
   "metadata": {},
   "outputs": [
    {
     "name": "stdout",
     "output_type": "stream",
     "text": [
      "A1 A2 A3 A4 A5 A6 A7 A8 A9 A10 \n",
      "\n",
      "B1 B2 B3 B4 B5 B6 B7 B8 B9 B10 \n",
      "\n",
      "C1 C2 C3 C4 C5 C6 C7 C8 C9 C10 \n",
      "\n"
     ]
    }
   ],
   "source": [
    "for i in range(65,68):\n",
    "    for j in range(1,11):\n",
    "        print(chr(i) + f'{j}',end = \" \")\n",
    "    print('\\n')\n",
    "    "
   ]
  },
  {
   "cell_type": "code",
   "execution_count": 1,
   "id": "42deb349-cefc-4aa4-8351-a9f27321519d",
   "metadata": {},
   "outputs": [
    {
     "name": "stderr",
     "output_type": "stream",
     "text": [
      "java version \"1.8.0_441\"\n",
      "Java(TM) SE Runtime Environment (build 1.8.0_441-b07)\n",
      "Java HotSpot(TM) 64-Bit Server VM (build 25.441-b07, mixed mode)\n"
     ]
    }
   ],
   "source": [
    "!java -version"
   ]
  },
  {
   "cell_type": "code",
   "execution_count": 12,
   "id": "768f9488-dbf3-44eb-b353-bf76b531eeb5",
   "metadata": {},
   "outputs": [],
   "source": [
    "# dir 객체가 가지고 있는 함수(메서드)를 보여줌  *\n",
    "# dir({1:'a'})"
   ]
  },
  {
   "cell_type": "code",
   "execution_count": 17,
   "id": "e6542ca7-355c-45e9-a7e1-7be9a76065d6",
   "metadata": {},
   "outputs": [
    {
     "name": "stdout",
     "output_type": "stream",
     "text": [
      "(4, 1)\n",
      "4\n",
      "1\n"
     ]
    }
   ],
   "source": [
    "# divmod  몫과 나머지\n",
    "print(divmod(13,3)) \n",
    "print(13//3)\n",
    "print(13%3)"
   ]
  },
  {
   "cell_type": "code",
   "execution_count": 22,
   "id": "7325e10d-8b34-430b-95a8-06d9fa2fed80",
   "metadata": {},
   "outputs": [
    {
     "name": "stdout",
     "output_type": "stream",
     "text": [
      "1 번째 과일은 apple\n",
      "2 번째 과일은 banana\n",
      "3 번째 과일은 kiwi\n",
      "4 번째 과일은 cherry\n",
      "5 번째 과일은 mango\n"
     ]
    }
   ],
   "source": [
    "# enumerate **  열거하다\n",
    "fruit = ['apple','banana','kiwi','cherry','mango']\n",
    "for i,f in enumerate(fruit,start= 1):\n",
    "    print(i,'번째 과일은',f)"
   ]
  },
  {
   "cell_type": "code",
   "execution_count": 23,
   "id": "99170a66-d0b7-4030-afd5-b14b39c3b9dd",
   "metadata": {},
   "outputs": [
    {
     "data": {
      "text/plain": [
       "3"
      ]
     },
     "execution_count": 23,
     "metadata": {},
     "output_type": "execute_result"
    }
   ],
   "source": [
    "eval('1+2')"
   ]
  },
  {
   "cell_type": "code",
   "execution_count": 25,
   "id": "58d8ea12-b1d6-45f1-9878-9271479f7ee2",
   "metadata": {},
   "outputs": [
    {
     "data": {
      "text/plain": [
       "'A1'"
      ]
     },
     "execution_count": 25,
     "metadata": {},
     "output_type": "execute_result"
    }
   ],
   "source": [
    "eval(\"'A'+'1'\")"
   ]
  },
  {
   "cell_type": "code",
   "execution_count": 30,
   "id": "5c45b213-3f11-427a-90c9-8e958a177e9a",
   "metadata": {},
   "outputs": [
    {
     "name": "stdout",
     "output_type": "stream",
     "text": [
      "[1, 2, 6]\n",
      "[1, 2, 6]\n",
      "[1, 2, 6]\n"
     ]
    }
   ],
   "source": [
    "# filter  *\n",
    "def positive(l):\n",
    "    result =[]                    \n",
    "    for i in l:                    #양수만 걸러내서 저장할 변수\n",
    "        if i > 0:\n",
    "            result.append(i)\n",
    "    return result\n",
    "print(positive([1, -3, 2, 0, -5, 6]))\n",
    "\n",
    "def pos(l):\n",
    "    return [i for i in l if i>0]\n",
    "print(pos([1,-3,2,0,-5,6]))\n",
    "\n",
    "def positive(x):\n",
    "    return x > 0 \n",
    "print(list(filter(positive,[1,-3,2,0,-5,6])))"
   ]
  },
  {
   "cell_type": "code",
   "execution_count": 45,
   "id": "88539588-30f8-4804-8101-e5093a070cc8",
   "metadata": {},
   "outputs": [
    {
     "name": "stdout",
     "output_type": "stream",
     "text": [
      "0xea\n",
      "0o11\n",
      "0b1001\n",
      "\u001e",
      "\n"
     ]
    }
   ],
   "source": [
    "# hex, oct, bin\n",
    "print(hex(234))\n",
    "print(oct(9))\n",
    "print(bin(9))\n",
    "print(chr(int(hex(30)[2:],16)))"
   ]
  },
  {
   "cell_type": "code",
   "execution_count": 48,
   "id": "b9c98ec3-41ae-4e4b-baaa-c6579b84b7fc",
   "metadata": {},
   "outputs": [
    {
     "name": "stdout",
     "output_type": "stream",
     "text": [
      "140719701951464\n",
      "140719701951464\n",
      "140719701951464\n",
      "True\n"
     ]
    }
   ],
   "source": [
    "# id 고유 주솟값을 리턴\n",
    "a = 3\n",
    "print(id(3))\n",
    "print(id(a))\n",
    "b=a\n",
    "print(id(b))\n",
    "print(all([id(3)==id(a),id(a)==id(b),id(b)==id(3)]))"
   ]
  },
  {
   "cell_type": "code",
   "execution_count": 49,
   "id": "abac2e01-35ac-4c71-91aa-bb4841da374e",
   "metadata": {},
   "outputs": [],
   "source": [
    "# input *\n",
    "# input은 스트링으로 값을 전달받는다. 그러므로 계산시 int나 float으로 변경할 것\n"
   ]
  },
  {
   "cell_type": "code",
   "execution_count": 50,
   "id": "dd6fbd2b-c3c6-4fdc-a650-587799c9efd9",
   "metadata": {},
   "outputs": [],
   "source": [
    "# int *\n",
    "#문자를 숫자로 변환, 정수로 변환, 소수점이 사라짐."
   ]
  },
  {
   "cell_type": "code",
   "execution_count": 54,
   "id": "83368ed1-1798-4a19-aed8-e981b85271b4",
   "metadata": {},
   "outputs": [
    {
     "name": "stdout",
     "output_type": "stream",
     "text": [
      "사람입니다.\n",
      "사람입니다.\n",
      "True\n",
      "True\n",
      "False\n"
     ]
    }
   ],
   "source": [
    "# isinstance (object, class) 인스턴스 확인용\n",
    "\n",
    "class Person:\n",
    "    def p(self):\n",
    "        return('사람입니다.')\n",
    "class Animal: pass\n",
    "a = Person()\n",
    "b = Person()\n",
    "c = Animal()\n",
    "print(a.p())\n",
    "print(b.p())\n",
    "print(isinstance(a,Person))\n",
    "print(isinstance(b,Person))\n",
    "print(isinstance(c,Person))\n"
   ]
  },
  {
   "cell_type": "code",
   "execution_count": 55,
   "id": "43c07d34-4dca-4ce4-9c31-bad570677cb8",
   "metadata": {},
   "outputs": [
    {
     "name": "stdout",
     "output_type": "stream",
     "text": [
      "6\n",
      "4\n",
      "2\n"
     ]
    }
   ],
   "source": [
    "# len **\n",
    "print(len('python'))\n",
    "print(len([1,2,3,4]))\n",
    "print(len((1,'a')))"
   ]
  },
  {
   "cell_type": "code",
   "execution_count": 56,
   "id": "252f0381-b20a-44f1-9ac8-d99c55d5f311",
   "metadata": {},
   "outputs": [],
   "source": [
    "# list **"
   ]
  },
  {
   "cell_type": "code",
   "execution_count": 58,
   "id": "dbc9742b-be43-4e72-af7d-f4a42779dd69",
   "metadata": {},
   "outputs": [
    {
     "name": "stdout",
     "output_type": "stream",
     "text": [
      "[2, 4, 6, 8]\n"
     ]
    }
   ],
   "source": [
    "# map **\n",
    "def two_items(nl):\n",
    "    result = []\n",
    "    for n in nl:\n",
    "        result.append(n*2)\n",
    "    return result\n",
    "result = two_items([1,2,3,4])\n",
    "print(result)"
   ]
  },
  {
   "cell_type": "code",
   "execution_count": 63,
   "id": "b1c3a9ed-6969-4a69-962f-55efddb1a7eb",
   "metadata": {},
   "outputs": [
    {
     "data": {
      "text/plain": [
       "[2, 4, 6, 8]"
      ]
     },
     "execution_count": 63,
     "metadata": {},
     "output_type": "execute_result"
    }
   ],
   "source": [
    "def two_times(x):\n",
    "    return x*2\n",
    "\n",
    "list(map(two_times,[1,2,3,4]))"
   ]
  },
  {
   "cell_type": "code",
   "execution_count": 64,
   "id": "8aee212c-47b1-4344-8774-262cce2fd9b2",
   "metadata": {},
   "outputs": [
    {
     "data": {
      "text/plain": [
       "[2, 4, 6, 8]"
      ]
     },
     "execution_count": 64,
     "metadata": {},
     "output_type": "execute_result"
    }
   ],
   "source": [
    "list(map(lambda x: x*2 ,[1,2,3,4]))"
   ]
  },
  {
   "cell_type": "code",
   "execution_count": 67,
   "id": "371e979a-f1fe-429d-956a-b8c23b1b0b2b",
   "metadata": {},
   "outputs": [
    {
     "name": "stdout",
     "output_type": "stream",
     "text": [
      "[1, 3, 5]\n",
      "[1, 2, 3, 4, 5, 6]\n",
      "[11, 12, 13, 14, 15, 16]\n",
      "[1, 4, 9, 16, 25, 36]\n",
      "[11, 24, 39, 56, 75, 96]\n"
     ]
    }
   ],
   "source": [
    "# 테스트\n",
    "li=[1,2,3,4,5,6]\n",
    "def odd(x):\n",
    "    return x%2 != 0 \n",
    "def even(x):\n",
    "    return x%2 == 0\n",
    "def add(x):\n",
    "    return x + 10\n",
    "def mul(x):\n",
    "    return x*x\n",
    "def addmul(x):\n",
    "    return(x+10)*x\n",
    "print(list(filter(odd,li)))\n",
    "print(list(filter(add,li)))\n",
    "print(list(map(add,li)))\n",
    "print(list(map(mul,li)))\n",
    "print(list(map(addmul,li)))"
   ]
  },
  {
   "cell_type": "code",
   "execution_count": 70,
   "id": "26435909-a5ba-4731-a010-a53a0419eef4",
   "metadata": {},
   "outputs": [
    {
     "name": "stdout",
     "output_type": "stream",
     "text": [
      "7\n",
      "1\n"
     ]
    }
   ],
   "source": [
    "# max,min *\n",
    "print(max([1,2,3,4,5,6,7]))\n",
    "print(max('python'))    # 문자일 경우 유니코드 값으로 판단\n",
    "print(min([1,2,3,4,5,6,7]))"
   ]
  },
  {
   "cell_type": "code",
   "execution_count": 72,
   "id": "90261815-b475-4947-bcac-59e28efd1414",
   "metadata": {},
   "outputs": [],
   "source": [
    "# open *\n",
    "# f = open('README.md','r',encoding='utf-8')\n",
    "# f.read"
   ]
  },
  {
   "cell_type": "code",
   "execution_count": 75,
   "id": "15407677-6c92-409f-9aa0-53bea9580e33",
   "metadata": {},
   "outputs": [
    {
     "data": {
      "text/plain": [
       "25"
      ]
     },
     "execution_count": 75,
     "metadata": {},
     "output_type": "execute_result"
    }
   ],
   "source": [
    "# pow *\n",
    "pow(5,2)"
   ]
  },
  {
   "cell_type": "code",
   "execution_count": 78,
   "id": "5b328cc2-3dae-48e5-8208-1186a29d4ef3",
   "metadata": {},
   "outputs": [
    {
     "name": "stdout",
     "output_type": "stream",
     "text": [
      "[0, 1, 2, 3, 4]\n",
      "[5, 6, 7, 8, 9]\n",
      "[5, 7, 9]\n",
      "[15, 14, 13, 12, 11, 10, 9, 8, 7, 6, 5, 4, 3, 2, 1]\n"
     ]
    }
   ],
   "source": [
    "# range **\n",
    "# 인수가 하나\n",
    "print(list(range(5)))\n",
    "# 인수가 2개\n",
    "print(list(range(5,10)))\n",
    "#인수가 3개\n",
    "print(list(range(5,10,2)))\n",
    "#역순(스탬조절)\n",
    "print(list(range(15,0,-1)))"
   ]
  },
  {
   "cell_type": "code",
   "execution_count": 82,
   "id": "68ee5e4f-926f-4032-bc17-c651c74cd13f",
   "metadata": {},
   "outputs": [
    {
     "name": "stdout",
     "output_type": "stream",
     "text": [
      "3\n",
      "4\n",
      "3\n",
      "3\n",
      "3.5\n",
      "3.499\n"
     ]
    }
   ],
   "source": [
    "# round *\n",
    "print(round(3.45))\n",
    "print(round(3.5556))\n",
    "print(round(3.499))\n",
    "print(round(3.499))\n",
    "print(round(3.499,2))\n",
    "print(round(3.499,3))"
   ]
  },
  {
   "cell_type": "code",
   "execution_count": 86,
   "id": "70d59bdf-4267-4cc0-b87d-5ff7f4aed363",
   "metadata": {},
   "outputs": [
    {
     "name": "stdout",
     "output_type": "stream",
     "text": [
      "[3, 2, 1, 4, 6, 7]\n",
      "[1, 2, 3, 4, 6, 7]\n",
      "[7, 6, 4, 3, 2, 1]\n"
     ]
    }
   ],
   "source": [
    "# sorted(iterable) * 정렬된 리스트로 리턴\n",
    "s0 = [3,2,1,4,6,7]\n",
    "s1 = sorted(s0)\n",
    "s2 = sorted(s0, reverse = True)\n",
    "print(s0)\n",
    "print(s1)\n",
    "print(s2)"
   ]
  },
  {
   "cell_type": "code",
   "execution_count": 89,
   "id": "ca07d66a-0786-4a1a-b92a-889543e82496",
   "metadata": {},
   "outputs": [
    {
     "name": "stdout",
     "output_type": "stream",
     "text": [
      "23 <class 'int'>\n",
      "23 <class 'str'>\n"
     ]
    }
   ],
   "source": [
    "# str * 문자열로 변환\n",
    "num = 23\n",
    "st = str(num)\n",
    "print(num,type(num))\n",
    "print(st,type(st))"
   ]
  },
  {
   "cell_type": "code",
   "execution_count": 91,
   "id": "35312ad2-8701-48b5-9192-9ace4b767271",
   "metadata": {},
   "outputs": [
    {
     "name": "stdout",
     "output_type": "stream",
     "text": [
      "15\n"
     ]
    }
   ],
   "source": [
    "# sum * 이터러블데이터의 합을 리턴\n",
    "print(sum([1,2,3,4,5]))"
   ]
  },
  {
   "cell_type": "code",
   "execution_count": 95,
   "id": "fde85a4c-3d83-41f5-9c89-8d6e45efa423",
   "metadata": {},
   "outputs": [
    {
     "name": "stdout",
     "output_type": "stream",
     "text": [
      "('a', 'b', 'c')\n",
      "(1, 2, 3, 4, 5, 6)\n"
     ]
    }
   ],
   "source": [
    "# tuple *\n",
    "print(tuple(\"abc\"))\n",
    "print(tuple((1,2,3,4,5,6)))"
   ]
  },
  {
   "cell_type": "code",
   "execution_count": 101,
   "id": "b04f1387-1690-45da-bbbd-a149bfa0f572",
   "metadata": {},
   "outputs": [
    {
     "name": "stdout",
     "output_type": "stream",
     "text": [
      "<class 'str'>\n",
      "<class 'int'>\n",
      "<class '_io.TextIOWrapper'>\n"
     ]
    }
   ],
   "source": [
    "# type ** 자료형 확인\n",
    "print(type('abc'))\n",
    "print(type(1234))\n",
    "print(type(open(\"foo.txt\",'r'))) # 파일 자료형"
   ]
  },
  {
   "cell_type": "code",
   "execution_count": 105,
   "id": "37592d44-5ce0-42fb-a021-69a7356e8b4b",
   "metadata": {},
   "outputs": [
    {
     "name": "stdout",
     "output_type": "stream",
     "text": [
      "11 apple => dog\n",
      "22 banana => cat\n",
      "33 kiwi => elephant\n",
      "44 cherry => Lion\n",
      "55 mango => rabbit\n"
     ]
    }
   ],
   "source": [
    "# zip ** 묶어서 리턴\n",
    "fruit = ['apple','banana','kiwi','cherry','mango']\n",
    "animal = ['dog','cat','elephant','Lion','rabbit']\n",
    "num = [11,22,33,44,55]\n",
    "for f,a,num in zip(fruit, animal,num):\n",
    "    print(num,f,'=>',a)"
   ]
  },
  {
   "cell_type": "markdown",
   "id": "b89f504b-3e9f-44af-8a5f-9e69e2ed2b17",
   "metadata": {},
   "source": [
    "# 표준 라이브러리"
   ]
  },
  {
   "cell_type": "markdown",
   "id": "fa290a60-6a83-4403-9ee5-52cdbe060e91",
   "metadata": {},
   "source": [
    "## datetime.date"
   ]
  },
  {
   "cell_type": "code",
   "execution_count": 118,
   "id": "6e65e472-bcba-4de7-bc42-de45dbbacac6",
   "metadata": {},
   "outputs": [
    {
     "name": "stdout",
     "output_type": "stream",
     "text": [
      "전체 수업시간: 172 일\n",
      "남은 수업시간: 157 일\n",
      "지난 수업시간: 15 일\n"
     ]
    }
   ],
   "source": [
    "import datetime\n",
    "day1 = datetime.date(2025,2,3)\n",
    "day2 = datetime.date(2025,7,25)\n",
    "diff = day2 - day1\n",
    "print(\"전체 수업시간:\", diff.days,\"일\")\n",
    "diff2 = day2 - datetime.datetime.now().date()\n",
    "print(\"남은 수업시간:\", diff2.days,\"일\")\n",
    "print(\"지난 수업시간:\", diff.days - diff2.days,\"일\")\n"
   ]
  },
  {
   "cell_type": "code",
   "execution_count": 125,
   "id": "fa18885c-b31e-4622-8551-2aa4ee2178e4",
   "metadata": {},
   "outputs": [
    {
     "data": {
      "text/plain": [
       "datetime.date(2025, 2, 18)"
      ]
     },
     "execution_count": 125,
     "metadata": {},
     "output_type": "execute_result"
    }
   ],
   "source": [
    "datetime.datetime.now().date()  #date()를 넣으면 "
   ]
  },
  {
   "cell_type": "code",
   "execution_count": 124,
   "id": "14836f61-688e-44a1-9b4c-ab4c2cdaaf65",
   "metadata": {},
   "outputs": [
    {
     "name": "stdout",
     "output_type": "stream",
     "text": [
      "그날은 월요일입니다.\n"
     ]
    }
   ],
   "source": [
    "days = ['월','화','수','목','금','토','일']\n",
    "day = datetime.date(2000,10,2)\n",
    "print(\"그날은\",days[day.weekday()] +\"요일입니다.\")"
   ]
  },
  {
   "cell_type": "code",
   "execution_count": 27,
   "id": "0d73ccbc-f15c-40b1-a02d-bc0acde6b10e",
   "metadata": {},
   "outputs": [],
   "source": [
    "def xmas():\n",
    "    import datetime\n",
    "    today = datetime.datetime.now().date()\n",
    "    xmas = datetime.date(2025,12,25)\n",
    "    dday = xmas - today\n",
    "    print(\"크리스마스까지\", f'{dday.days}' + '일 남았습니다.')\n",
    "\n",
    "    days = ['월','화','수','목','금','토','일']\n",
    "    print(\"크리스마스는\", f\"{days[xmas.weekday()]}\"+\"요일 입니다.\")"
   ]
  },
  {
   "cell_type": "code",
   "execution_count": 31,
   "id": "6a1606b4-411a-44d0-8d59-9ef97e8ceac2",
   "metadata": {},
   "outputs": [
    {
     "name": "stdout",
     "output_type": "stream",
     "text": [
      "크리스마스까지 310일 남았습니다.\n",
      "크리스마스는 목요일 입니다.\n"
     ]
    }
   ],
   "source": [
    "xmas()"
   ]
  },
  {
   "cell_type": "code",
   "execution_count": 32,
   "id": "de717197-482f-46e6-a677-03aa796c5bcc",
   "metadata": {},
   "outputs": [
    {
     "name": "stdout",
     "output_type": "stream",
     "text": [
      "크리스마스까지 310일 남았습니다.\n",
      "크리스마스는 목요일 입니다.\n"
     ]
    }
   ],
   "source": [
    "from team_5.date import 계산_4\n",
    "계산_4.xmas()"
   ]
  },
  {
   "cell_type": "code",
   "execution_count": 56,
   "id": "76b5774d-44ca-4db3-926a-7d16c097cff3",
   "metadata": {},
   "outputs": [
    {
     "name": "stdout",
     "output_type": "stream",
     "text": [
      "['2', '0', '0', '0', '1', '0', '0', '2']\n",
      "['2', '0', '0', '0', '-', '1', '0', '-', '0', '2'] <class 'list'>\n",
      "2025-02-18 <class 'datetime.date'>\n",
      "<function xmas at 0x000002A6A0A74AE0> <class 'function'>\n"
     ]
    }
   ],
   "source": [
    "# inp = input('생일을 입력하세요ex)yyyymmdd')\n",
    "inp = str(20001002)\n",
    "inp = list(inp)\n",
    "print(inp)\n",
    "inp.insert(4,'-')\n",
    "inp.insert(7,'-')\n",
    "print(inp,type(inp))\n",
    "print(today,type(today))\n",
    "print(xmas,type(xmas))"
   ]
  },
  {
   "cell_type": "code",
   "execution_count": 39,
   "id": "543aa7a1-d59c-496e-be66-b7058849cb04",
   "metadata": {},
   "outputs": [
    {
     "name": "stdin",
     "output_type": "stream",
     "text": [
      "생일 언제임 (월, 일만 입력해주고 숫자가 한자리이면 앞에 0붙여주기 안그러면 큰일남 귀찮게 해서 ㅈㅅ) 10월2일\n"
     ]
    },
    {
     "name": "stdout",
     "output_type": "stream",
     "text": [
      "큰일났음 다시 입력해주삼\n"
     ]
    },
    {
     "name": "stdin",
     "output_type": "stream",
     "text": [
      "생일 언제임 (월, 일만 입력해주고 숫자가 한자리이면 앞에 0붙여주기 안그러면 큰일남 귀찮게 해서 ㅈㅅ) 10월02일\n"
     ]
    },
    {
     "name": "stdout",
     "output_type": "stream",
     "text": [
      "어린이날은 월요일입니다. 현재 어린이날까지 76 일 남았습니다.\n",
      "어버이날까지 79일 남았습니다. 어버이날은 목요일 입니다.\n",
      "크리스마스까지 310일 남았습니다.\n",
      "크리스마스는 목요일 입니다.\n",
      "2025-07-25 수료 후 추석까지 73일 남고, 추석 당일은 월요일 입니다.\n"
     ]
    }
   ],
   "source": [
    "import sys\n",
    "\n",
    "sys.path # 현재 시스템에 import되는 경로 확인\n",
    "sys.path.append(\"d:\\\\lsh\\\\code\\\\team_5\\\\date\") # 현재 시스템에 import되는 경로 추가\n",
    "sys.path # 현재 시스템에 import되는 경로 확인\n",
    "\n",
    "import 계산_1 as a1\n",
    "import 계산_2 as a2\n",
    "import 계산_3 as a3\n",
    "import 계산_4 as a4\n",
    "import 계산_5 as a5\n",
    "\n",
    "a1.birthday()\n",
    "a2.childrens()\n",
    "a3.pday()\n",
    "a4.xmas()\n",
    "a5.chuseok()"
   ]
  },
  {
   "cell_type": "code",
   "execution_count": 3,
   "id": "322e50b5-43a6-4891-a643-0f8931edc40c",
   "metadata": {},
   "outputs": [
    {
     "name": "stdin",
     "output_type": "stream",
     "text": [
      "주민번호 앞자리 입력 ㄱㄱ 000101\n"
     ]
    },
    {
     "name": "stdout",
     "output_type": "stream",
     "text": [
      "생일 수요일이었네 48일 지났네\n"
     ]
    }
   ],
   "source": [
    "from team_5.date import 계산_1\n",
    "계산_1.birthday()"
   ]
  },
  {
   "cell_type": "markdown",
   "id": "0011e2e5-a775-40cb-ae3f-e832b9cb1f61",
   "metadata": {},
   "source": [
    "## time"
   ]
  },
  {
   "cell_type": "code",
   "execution_count": 55,
   "id": "6a6e3a45-5cdd-4272-be26-b00117f0acbd",
   "metadata": {},
   "outputs": [
    {
     "data": {
      "text/plain": [
       "1739855570.6802049"
      ]
     },
     "execution_count": 55,
     "metadata": {},
     "output_type": "execute_result"
    }
   ],
   "source": [
    "import time\n",
    "time.time()"
   ]
  },
  {
   "cell_type": "code",
   "execution_count": 64,
   "id": "737cee35-2993-4cc4-9d15-11550e5e0788",
   "metadata": {},
   "outputs": [
    {
     "name": "stdout",
     "output_type": "stream",
     "text": [
      "time.struct_time(tm_year=2025, tm_mon=2, tm_mday=18, tm_hour=14, tm_min=17, tm_sec=9, tm_wday=1, tm_yday=49, tm_isdst=0)\n"
     ]
    }
   ],
   "source": [
    "# time.localtime\n",
    "tt = time.localtime(time.time())\n",
    "print(tt)"
   ]
  },
  {
   "cell_type": "code",
   "execution_count": 65,
   "id": "078ac678-1f9e-4ec6-8fca-297dbbf0f116",
   "metadata": {},
   "outputs": [
    {
     "data": {
      "text/plain": [
       "'Tue Feb 18 14:17:10 2025'"
      ]
     },
     "execution_count": 65,
     "metadata": {},
     "output_type": "execute_result"
    }
   ],
   "source": [
    "# time.asctime\n",
    "time.asctime(time.localtime(time.time()))"
   ]
  },
  {
   "cell_type": "code",
   "execution_count": 66,
   "id": "392db0f9-1d2a-4e3d-9508-027f3633deb9",
   "metadata": {},
   "outputs": [
    {
     "data": {
      "text/plain": [
       "'Tue Feb 18 14:17:10 2025'"
      ]
     },
     "execution_count": 66,
     "metadata": {},
     "output_type": "execute_result"
    }
   ],
   "source": [
    "# time.ctime()\n",
    "time.ctime()"
   ]
  },
  {
   "cell_type": "code",
   "execution_count": 71,
   "id": "44300091-5b4e-4cc3-8ff1-86f1564c9455",
   "metadata": {},
   "outputs": [
    {
     "name": "stdout",
     "output_type": "stream",
     "text": [
      "02/18/25\n",
      "Tue Feb 18 14:18:47 2025\n"
     ]
    }
   ],
   "source": [
    "# time.strftime\n",
    "print(time.strftime('%x',time.localtime(time.time())))\n",
    "print(time.strftime('%c',time.localtime(time.time())))"
   ]
  },
  {
   "cell_type": "code",
   "execution_count": 75,
   "id": "9201359b-c331-489e-adb6-464f57c34908",
   "metadata": {},
   "outputs": [
    {
     "name": "stdout",
     "output_type": "stream",
     "text": [
      "10"
     ]
    }
   ],
   "source": [
    "# time.sleep\n",
    "import time as t\n",
    "for i in range(1,11):\n",
    "    print(i,end='\\r')\n",
    "    t.sleep(0.5)"
   ]
  },
  {
   "cell_type": "markdown",
   "id": "b8b2dee6-b0af-40a1-9364-4c26f0bab946",
   "metadata": {},
   "source": [
    "## math.gcd, matg.lcm"
   ]
  },
  {
   "cell_type": "code",
   "execution_count": 79,
   "id": "7a3cf260-8e4d-414d-a9bf-65d0f6c5b6c0",
   "metadata": {},
   "outputs": [
    {
     "name": "stdout",
     "output_type": "stream",
     "text": [
      "3.141592653589793\n",
      "10\n",
      "75\n"
     ]
    }
   ],
   "source": [
    "import math\n",
    "print(math.pi)  # pi 값\n",
    "print(math.gcd(10,100,80))   # 최대 공약수 값\n",
    "print(math.lcm(15,25))       # 최소 공배수 값"
   ]
  },
  {
   "cell_type": "markdown",
   "id": "ae2e6e21-eff6-475b-99fa-097315c81f83",
   "metadata": {},
   "source": [
    "## random"
   ]
  },
  {
   "cell_type": "code",
   "execution_count": 106,
   "id": "4f9c681f-dde1-42ae-88f7-b18d56b3ffcf",
   "metadata": {},
   "outputs": [
    {
     "name": "stdout",
     "output_type": "stream",
     "text": [
      "0.6355197428182454\n",
      "1\n",
      "66 22 22 22 11 22 "
     ]
    }
   ],
   "source": [
    "import random as r\n",
    "print(r.random())         # 0.0에서 1.0사이의 난수 리턴\n",
    "print(r.randint(1,10))     # 1에서 10사이의 난수 리턴\n",
    "data= [11,22,33,44,55,66]\n",
    "for n in range(6):\n",
    "    print(r.choice(data),end=' ')     # 1에서 10사이의 난수 리턴"
   ]
  },
  {
   "cell_type": "code",
   "execution_count": 110,
   "id": "98141593-1c0e-4971-bcf1-563d2e436925",
   "metadata": {},
   "outputs": [
    {
     "name": "stdout",
     "output_type": "stream",
     "text": [
      "{1, 2, 3, 4, 5, 6, 7, 8, 9, 10, 11, 12, 13, 14, 15, 16, 17, 18, 19, 20}\n"
     ]
    }
   ],
   "source": [
    "li = list(range(1,21))\n",
    "arr = []\n",
    "for n in r.sample(li,len(li)):\n",
    "    arr.append(n)\n",
    "sarr = set(arr)\n",
    "print(sarr)"
   ]
  },
  {
   "cell_type": "markdown",
   "id": "bb9a5deb-6f38-4057-b2f3-ce0bfb60da0d",
   "metadata": {},
   "source": [
    "## tools"
   ]
  },
  {
   "cell_type": "code",
   "execution_count": 17,
   "id": "b60acf04-c59a-4666-8f7a-be767947396a",
   "metadata": {},
   "outputs": [
    {
     "name": "stdout",
     "output_type": "stream",
     "text": [
      "[('한민서', '사탕'), ('황지민', '초콜릿'), ('이영철', '젤리'), ('이광수', '새우깡'), ('김승민', '새우깡')]\n"
     ]
    }
   ],
   "source": [
    "# itertools.zip_longest\n",
    "import itertools\n",
    "students = ['한민서', '황지민', '이영철', '이광수', '김승민']\n",
    "snacks = ['사탕', '초콜릿', '젤리']\n",
    "\n",
    "#result = zip(students, snacks) #zip은 작은 배열에 길이를 맞춤\n",
    "result = itertools.zip_longest(students,snacks,fillvalue=\"새우깡\")\n",
    "print(list(result))"
   ]
  },
  {
   "cell_type": "code",
   "execution_count": 19,
   "id": "a497b425-6438-4a6b-870b-76287df094c7",
   "metadata": {},
   "outputs": [
    {
     "data": {
      "text/plain": [
       "[('1', '2'), ('1', '3'), ('2', '1'), ('2', '3'), ('3', '1'), ('3', '2')]"
      ]
     },
     "execution_count": 19,
     "metadata": {},
     "output_type": "execute_result"
    }
   ],
   "source": [
    "import itertools\n",
    "print(list(itertools.permutations(['1','2','3'],2)))"
   ]
  },
  {
   "cell_type": "code",
   "execution_count": 20,
   "id": "613db5a3-de48-43e9-8d6e-9b87124cbecf",
   "metadata": {},
   "outputs": [
    {
     "data": {
      "text/plain": [
       "[('1', '2'), ('1', '3'), ('2', '3')]"
      ]
     },
     "execution_count": 20,
     "metadata": {},
     "output_type": "execute_result"
    }
   ],
   "source": [
    "import itertools\n",
    "list(list(itertools.combinations(['1','2','3'],2)))"
   ]
  },
  {
   "cell_type": "code",
   "execution_count": 25,
   "id": "fd79b776-16bd-429a-b74c-d9b01988a07d",
   "metadata": {},
   "outputs": [
    {
     "name": "stdout",
     "output_type": "stream",
     "text": [
      "8145060\n"
     ]
    }
   ],
   "source": [
    "# itertools.combinations 응용\n",
    "import itertools\n",
    "lotto = list(itertools.combinations(range(1,46),6))\n",
    "# for num in lotto[:20]:\n",
    "#     print(num)\n",
    "print(len(lotto))"
   ]
  },
  {
   "cell_type": "code",
   "execution_count": 30,
   "id": "db8b06c9-3090-4dde-ba14-9091bd3fc6f8",
   "metadata": {},
   "outputs": [
    {
     "name": "stdout",
     "output_type": "stream",
     "text": [
      "15\n"
     ]
    }
   ],
   "source": [
    "#functools.reduce\n",
    "import functools\n",
    "\n",
    "data= [1,2,3,4,5]\n",
    "result= functools.reduce(lambda x,y: x+y,data)\n",
    "print(result)"
   ]
  },
  {
   "cell_type": "code",
   "execution_count": 31,
   "id": "79724dad-e5cf-4e62-8b35-171b53d41bef",
   "metadata": {},
   "outputs": [
    {
     "name": "stdout",
     "output_type": "stream",
     "text": [
      "8\n"
     ]
    }
   ],
   "source": [
    "import functools\n",
    "num_list =[3,2,8,1,6,7]\n",
    "max_num = functools.reduce(lambda x,y: x if x>y else y,num_list)\n",
    "print(max_num)"
   ]
  },
  {
   "cell_type": "code",
   "execution_count": 3,
   "id": "01f1c2ad-5b7a-4fd3-ab4f-9ecbae442e0b",
   "metadata": {},
   "outputs": [
    {
     "name": "stdout",
     "output_type": "stream",
     "text": [
      "[('sally', 17, 'B'), ('jane', 22, 'A'), ('dave', 32, 'B')]\n"
     ]
    }
   ],
   "source": [
    "# operator.itemgetter *\n",
    "from operator import itemgetter\n",
    "name = ['jane','dave','sally']\n",
    "age = [22,32,17]\n",
    "grade = ['A','B','B']\n",
    "students = list(zip(name,age,grade))\n",
    "\n",
    "# students = [('jane',22,'A'),('dave',32,'B'),('sally',17,'B')]\n",
    "result = sorted(students, key=itemgetter(1))\n",
    "print(result)S"
   ]
  },
  {
   "cell_type": "code",
   "execution_count": 6,
   "id": "1fa090cd-74e0-41ce-ab1b-cb1fb3587fb3",
   "metadata": {},
   "outputs": [
    {
     "name": "stdout",
     "output_type": "stream",
     "text": [
      "[{'name': 'sally', 'age': 17, 'grade': 'B'}, {'name': 'jane', 'age': 22, 'grade': 'A'}, {'name': 'dave', 'age': 32, 'grade': 'B'}]\n"
     ]
    }
   ],
   "source": [
    "from operator import itemgetter\n",
    "name=['jane','dave','sally']\n",
    "age=[22,32,17]\n",
    "grade = ['A','B','B']\n",
    "\n",
    "students = [{'name':n,'age':a,'grade':g} for n,a,g in zip(name,age,grade)]\n",
    "\n",
    "# students =[]\n",
    "# for n,a,g in zip (name,age,grade):\n",
    "#     students.append({'name':n,'age':a,'grade':g})\n",
    "# print(students)\n",
    "\n",
    "# students = [\n",
    "#     {'name':'jane', 'age':22, 'grade':'A'},\n",
    "#     {'name':'dave','age':32,'grade':'B'},\n",
    "#     {'name':'sally','age':17,'grade':'B'}\n",
    "# ]\n",
    "\n",
    "result = sorted(students, key=itemgetter('age'))\n",
    "print(result)"
   ]
  },
  {
   "cell_type": "code",
   "execution_count": 13,
   "id": "455b3fd6-4f26-44c4-924a-5b5e79f76f0d",
   "metadata": {},
   "outputs": [
    {
     "ename": "TypeError",
     "evalue": "Student.Pr() missing 1 required positional argument: 'self'",
     "output_type": "error",
     "traceback": [
      "\u001b[1;31m---------------------------------------------------------------------------\u001b[0m",
      "\u001b[1;31mTypeError\u001b[0m                                 Traceback (most recent call last)",
      "Cell \u001b[1;32mIn[13], line 18\u001b[0m\n\u001b[0;32m     16\u001b[0m result \u001b[38;5;241m=\u001b[39m \u001b[38;5;28msorted\u001b[39m(students, key\u001b[38;5;241m=\u001b[39mattrgetter(\u001b[38;5;124m'\u001b[39m\u001b[38;5;124mage\u001b[39m\u001b[38;5;124m'\u001b[39m))\n\u001b[0;32m     17\u001b[0m \u001b[38;5;28;01mfor\u001b[39;00m r \u001b[38;5;129;01min\u001b[39;00m result:\n\u001b[1;32m---> 18\u001b[0m     \u001b[38;5;28mprint\u001b[39m(\u001b[43mStudent\u001b[49m\u001b[38;5;241;43m.\u001b[39;49m\u001b[43mPr\u001b[49m\u001b[43m(\u001b[49m\u001b[43m)\u001b[49m)\n",
      "\u001b[1;31mTypeError\u001b[0m: Student.Pr() missing 1 required positional argument: 'self'"
     ]
    }
   ],
   "source": [
    "# operator.attrgetter\n",
    "from operator import attrgetter\n",
    "\n",
    "class Student:\n",
    "    def __init__(self,name,age,grade):\n",
    "        self.name = name\n",
    "        self.age = age\n",
    "        self.grade = grade\n",
    "    def Pr(self):\n",
    "        return self.name, self.age, self.grade\n",
    "students = [\n",
    "    Student('jane',22,'A'),\n",
    "    Student('dave',32,'B'),\n",
    "    Student('sally',17,'B')\n",
    "]\n",
    "\n",
    "result = sorted(students, key=attrgetter('age'))\n",
    "for r in result:\n",
    "    print(Student.Pr())"
   ]
  },
  {
   "cell_type": "code",
   "execution_count": 1,
   "id": "04dc3493-06f4-4d89-837b-ca7f778bb17c",
   "metadata": {},
   "outputs": [
    {
     "name": "stdout",
     "output_type": "stream",
     "text": [
      "29358\n",
      "29363\n",
      "29368\n",
      "29373\n",
      "29378\n"
     ]
    }
   ],
   "source": [
    "# shutil\n",
    "import shutil, time as t\n",
    "\n",
    "for n in range(5):\n",
    "    tstamp = str(round(t.time()))[-5:]\n",
    "    print(tstamp)\n",
    "    shutil.copy('README.md',f'./backup/README_{tstamp}.md.bak')\n",
    "    t.sleep(5)"
   ]
  },
  {
   "cell_type": "code",
   "execution_count": 12,
   "id": "36cbf149-96cc-4762-8996-42d0d68b7f6d",
   "metadata": {},
   "outputs": [
    {
     "name": "stdout",
     "output_type": "stream",
     "text": [
      "./backup\\README_29345.md.bak\n",
      "./backup\\README_29350.md.bak\n",
      "./backup\\README_29358.md.bak\n",
      "./backup\\README_29363.md.bak\n",
      "./backup\\README_29368.md.bak\n",
      "./backup\\README_29373.md.bak\n",
      "./backup\\README_29378.md.bak\n"
     ]
    }
   ],
   "source": [
    "#glob\n",
    "import glob\n",
    "for file in glob.glob(\"./backup/*.bak\"):\n",
    "    print(file)"
   ]
  },
  {
   "cell_type": "code",
   "execution_count": 14,
   "id": "402fcbbe-e424-4b4d-8aca-9c595d3ced78",
   "metadata": {},
   "outputs": [
    {
     "name": "stdout",
     "output_type": "stream",
     "text": [
      "{1: 'python', 2: 'you need'}\n"
     ]
    }
   ],
   "source": [
    "import pickle\n",
    "f= open('test.txt','wb')\n",
    "data = {1:'python', 2:'you need'}\n",
    "pickle.dump(data,f)\n",
    "f.close\n",
    "print(data)"
   ]
  },
  {
   "cell_type": "code",
   "execution_count": 15,
   "id": "393dfb07-8215-4233-b33c-61bb22b53978",
   "metadata": {},
   "outputs": [
    {
     "name": "stdout",
     "output_type": "stream",
     "text": [
      "{1: 'python', 2: 'you need'}\n"
     ]
    }
   ],
   "source": [
    "import pickle\n",
    "f = open('test.txt','rb')\n",
    "data = pickle.load(f)\n",
    "print(data)"
   ]
  },
  {
   "cell_type": "markdown",
   "id": "472c3eed-08e0-4c9b-9875-a710cf126edb",
   "metadata": {},
   "source": [
    "## os"
   ]
  },
  {
   "cell_type": "code",
   "execution_count": 17,
   "id": "85ac4a40-c018-430d-a24a-f1597c6bc444",
   "metadata": {},
   "outputs": [
    {
     "data": {
      "text/plain": [
       "'C:\\\\WINDOWS'"
      ]
     },
     "execution_count": 17,
     "metadata": {},
     "output_type": "execute_result"
    }
   ],
   "source": [
    "import os\n",
    "# 환경변수 중 PATH\n",
    "os.environ['PATH']\n",
    "#디렉토리 변경\n",
    "os.chdir('C:\\\\WINDOWS')\n",
    "#디렉토리 위치 받기\n",
    "os.getcwd()"
   ]
  },
  {
   "cell_type": "code",
   "execution_count": 36,
   "id": "e8b50ebd-debd-42d2-b2dc-73b92f428b8a",
   "metadata": {},
   "outputs": [],
   "source": [
    "# 시스템 명령어 호출\n",
    "def what(what):\n",
    "    if  not os.system(what):  #에러시 1을 반환\n",
    "        f=os.popen(f'{what} -V')\n",
    "        print(f.read())\n",
    "    else:\n",
    "        print('없는 명령어 입니다.')"
   ]
  },
  {
   "cell_type": "code",
   "execution_count": 37,
   "id": "afbbecb7-f948-4f6e-ae0b-56ccb665956a",
   "metadata": {},
   "outputs": [
    {
     "name": "stdout",
     "output_type": "stream",
     "text": [
      "Python 3.13.1\n",
      "\n"
     ]
    }
   ],
   "source": [
    "what('python')"
   ]
  },
  {
   "cell_type": "code",
   "execution_count": 44,
   "id": "7aecef94-121c-4ee0-a329-35b28b7055bb",
   "metadata": {},
   "outputs": [
    {
     "ename": "PermissionError",
     "evalue": "[Errno 13] Permission denied: 'mytext.zip'",
     "output_type": "error",
     "traceback": [
      "\u001b[1;31m---------------------------------------------------------------------------\u001b[0m",
      "\u001b[1;31mPermissionError\u001b[0m                           Traceback (most recent call last)",
      "Cell \u001b[1;32mIn[44], line 5\u001b[0m\n\u001b[0;32m      2\u001b[0m \u001b[38;5;28;01mimport\u001b[39;00m\u001b[38;5;250m \u001b[39m\u001b[38;5;21;01mzipfile\u001b[39;00m\n\u001b[0;32m      4\u001b[0m \u001b[38;5;66;03m#파일 합치기\u001b[39;00m\n\u001b[1;32m----> 5\u001b[0m \u001b[38;5;28;01mwith\u001b[39;00m \u001b[43mzipfile\u001b[49m\u001b[38;5;241;43m.\u001b[39;49m\u001b[43mZipFile\u001b[49m\u001b[43m(\u001b[49m\u001b[38;5;124;43m'\u001b[39;49m\u001b[38;5;124;43mmytext.zip\u001b[39;49m\u001b[38;5;124;43m'\u001b[39;49m\u001b[43m,\u001b[49m\u001b[38;5;124;43m'\u001b[39;49m\u001b[38;5;124;43mw\u001b[39;49m\u001b[38;5;124;43m'\u001b[39;49m\u001b[43m)\u001b[49m \u001b[38;5;28;01mas\u001b[39;00m myzip:\n\u001b[0;32m      6\u001b[0m     myzip\u001b[38;5;241m.\u001b[39mwrite(\u001b[38;5;124m'\u001b[39m\u001b[38;5;124ma.txt\u001b[39m\u001b[38;5;124m'\u001b[39m)\n\u001b[0;32m      7\u001b[0m     myzip\u001b[38;5;241m.\u001b[39mwrite(\u001b[38;5;124m'\u001b[39m\u001b[38;5;124mb.txt\u001b[39m\u001b[38;5;124m'\u001b[39m)\n",
      "File \u001b[1;32m~\\AppData\\Local\\Programs\\Python\\Python313\\Lib\\zipfile\\__init__.py:1362\u001b[0m, in \u001b[0;36mZipFile.__init__\u001b[1;34m(self, file, mode, compression, allowZip64, compresslevel, strict_timestamps, metadata_encoding)\u001b[0m\n\u001b[0;32m   1360\u001b[0m \u001b[38;5;28;01mwhile\u001b[39;00m \u001b[38;5;28;01mTrue\u001b[39;00m:\n\u001b[0;32m   1361\u001b[0m     \u001b[38;5;28;01mtry\u001b[39;00m:\n\u001b[1;32m-> 1362\u001b[0m         \u001b[38;5;28mself\u001b[39m\u001b[38;5;241m.\u001b[39mfp \u001b[38;5;241m=\u001b[39m \u001b[43mio\u001b[49m\u001b[38;5;241;43m.\u001b[39;49m\u001b[43mopen\u001b[49m\u001b[43m(\u001b[49m\u001b[43mfile\u001b[49m\u001b[43m,\u001b[49m\u001b[43m \u001b[49m\u001b[43mfilemode\u001b[49m\u001b[43m)\u001b[49m\n\u001b[0;32m   1363\u001b[0m     \u001b[38;5;28;01mexcept\u001b[39;00m \u001b[38;5;167;01mOSError\u001b[39;00m:\n\u001b[0;32m   1364\u001b[0m         \u001b[38;5;28;01mif\u001b[39;00m filemode \u001b[38;5;129;01min\u001b[39;00m modeDict:\n",
      "\u001b[1;31mPermissionError\u001b[0m: [Errno 13] Permission denied: 'mytext.zip'"
     ]
    }
   ],
   "source": [
    "#zipfile\n",
    "import zipfile\n",
    "\n",
    "#파일 합치기\n",
    "with zipfile.ZipFile('mytext.zip','w') as myzip:\n",
    "    myzip.write('a.txt')\n",
    "    myzip.write('b.txt')\n",
    "    myzip.write('c.txt')\n",
    "# 해제하기\n",
    "with zipfile.ZipFile('mytext.zip') as myzip:\n",
    "    myzip.extracall()"
   ]
  },
  {
   "cell_type": "code",
   "execution_count": 41,
   "id": "ae38bea0-7cc9-4bd1-b3e9-0c4162bb05d4",
   "metadata": {},
   "outputs": [
    {
     "ename": "AttributeError",
     "evalue": "module 'zipfile' has no attribute 'Zipfile'",
     "output_type": "error",
     "traceback": [
      "\u001b[1;31m---------------------------------------------------------------------------\u001b[0m",
      "\u001b[1;31mAttributeError\u001b[0m                            Traceback (most recent call last)",
      "Cell \u001b[1;32mIn[41], line 2\u001b[0m\n\u001b[0;32m      1\u001b[0m \u001b[38;5;66;03m#특정 파일만 해제하기\u001b[39;00m\n\u001b[1;32m----> 2\u001b[0m \u001b[38;5;28;01mwith\u001b[39;00m \u001b[43mzipfile\u001b[49m\u001b[38;5;241;43m.\u001b[39;49m\u001b[43mZipfile\u001b[49m(\u001b[38;5;124m'\u001b[39m\u001b[38;5;124mmytext.zip\u001b[39m\u001b[38;5;124m'\u001b[39m) \u001b[38;5;28;01mas\u001b[39;00m myzip:\n\u001b[0;32m      3\u001b[0m     myzip\u001b[38;5;241m.\u001b[39mextract(\u001b[38;5;124m'\u001b[39m\u001b[38;5;124ma.txt\u001b[39m\u001b[38;5;124m'\u001b[39m)\n",
      "\u001b[1;31mAttributeError\u001b[0m: module 'zipfile' has no attribute 'Zipfile'"
     ]
    }
   ],
   "source": [
    "#특정 파일만 해제하기\n",
    "with zipfile.Zipfile('mytext.zip') as myzip:\n",
    "    myzip.extract('a.txt')"
   ]
  },
  {
   "cell_type": "markdown",
   "id": "1189f026-b5c2-42a8-a096-7c7375560ae8",
   "metadata": {},
   "source": [
    "## Threading"
   ]
  },
  {
   "cell_type": "code",
   "execution_count": 47,
   "id": "4efb370e-b9a6-4a99-9f66-ae8aee8c8760",
   "metadata": {},
   "outputs": [
    {
     "name": "stdout",
     "output_type": "stream",
     "text": [
      "일하는중....0\n",
      "일하는중....1\n",
      "일하는중....2\n",
      "일하는중....3\n",
      "일하는중....4\n"
     ]
    }
   ],
   "source": [
    "import time\n",
    "\n",
    "def long_tesk():\n",
    "    for i in range(5):\n",
    "        time.sleep(1)\n",
    "        print(f'일하는중....{i}')\n",
    "long_tesk()"
   ]
  },
  {
   "cell_type": "code",
   "execution_count": 49,
   "id": "79987afd-fde3-4d39-ab89-308fb54f3abd",
   "metadata": {},
   "outputs": [
    {
     "name": "stdout",
     "output_type": "stream",
     "text": [
      "=====Start=====\n",
      "일하는중....0\n",
      "일하는중....1\n",
      "일하는중....2\n",
      "일하는중....3\n",
      "일하는중....4\n",
      "일하는중....0\n",
      "일하는중....1\n",
      "일하는중....2\n",
      "일하는중....3\n",
      "일하는중....4\n",
      "일하는중....0\n",
      "일하는중....1\n",
      "일하는중....2\n",
      "일하는중....3\n",
      "일하는중....4\n",
      "일하는중....0\n",
      "일하는중....1\n",
      "일하는중....2\n",
      "일하는중....3\n",
      "일하는중....4\n",
      "일하는중....0\n",
      "일하는중....1\n",
      "일하는중....2\n",
      "일하는중....3\n",
      "일하는중....4\n",
      "======End======\n",
      "25.03805112838745\n"
     ]
    }
   ],
   "source": [
    "#기본작업 5초 x 5회 = 25초\n",
    "start= time.time()\n",
    "print('=====Start=====')\n",
    "for i in range(5):\n",
    "    long_tesk()\n",
    "print('======End======')\n",
    "print(time.time() - start)"
   ]
  },
  {
   "cell_type": "code",
   "execution_count": 53,
   "id": "c6d08781-4972-4377-8595-c289f5a48b67",
   "metadata": {},
   "outputs": [
    {
     "name": "stdout",
     "output_type": "stream",
     "text": [
      "=====Start=====\n",
      "일하는중....0\n",
      "일하는중....0\n",
      "일하는중....0\n",
      "일하는중....0\n",
      "일하는중....0\n",
      "일하는중....1일하는중....1\n",
      "일하는중....1\n",
      "일하는중....1\n",
      "\n",
      "일하는중....1\n",
      "일하는중....2일하는중....2\n",
      "일하는중....2\n",
      "일하는중....2\n",
      "\n",
      "일하는중....2\n",
      "일하는중....3일하는중....3\n",
      "일하는중....3\n",
      "일하는중....3\n",
      "\n",
      "일하는중....3\n",
      "일하는중....4일하는중....4\n",
      "일하는중....4\n",
      "일하는중....4\n",
      "일하는중....4\n",
      "\n",
      "======End======\n",
      "5.011932849884033\n"
     ]
    }
   ],
   "source": [
    "# Thread를 사용\n",
    "import threading\n",
    "start= time.time()\n",
    "print('=====Start=====')\n",
    "\n",
    "threads = []\n",
    "for n in range(5):\n",
    "     t = threading.Thread(target=long_tesk)\n",
    "     threads.append(t)\n",
    "for t in threads:\n",
    "    t.start()\n",
    "for t in threads:\n",
    "    t.join()\n",
    "print('======End======')\n",
    "print(time.time() - start)"
   ]
  },
  {
   "cell_type": "markdown",
   "id": "d2537a87-b75b-4d91-966f-fe2d8c4b85af",
   "metadata": {},
   "source": [
    "## etc"
   ]
  },
  {
   "cell_type": "code",
   "execution_count": 59,
   "id": "9d57a6d7-f870-4e01-91af-a590ce005c3d",
   "metadata": {},
   "outputs": [],
   "source": [
    "# tempfile\n",
    "import tempfile\n",
    "filename = tempfile.mkstemp()\n",
    "filename\n",
    "f.close()"
   ]
  },
  {
   "cell_type": "code",
   "execution_count": 61,
   "id": "00c0ebc2-df4d-44ec-9221-3b9411d901d8",
   "metadata": {},
   "outputs": [
    {
     "name": "stdout",
     "output_type": "stream",
     "text": [
      "오류가 발생했습니다.\n",
      "Traceback (most recent call last):\n",
      "  File \"C:\\Users\\Admin\\AppData\\Local\\Temp\\ipykernel_1768\\61812628.py\", line 9, in main\n",
      "    b()\n",
      "    ~^^\n",
      "  File \"C:\\Users\\Admin\\AppData\\Local\\Temp\\ipykernel_1768\\61812628.py\", line 6, in b\n",
      "    a()\n",
      "    ~^^\n",
      "  File \"C:\\Users\\Admin\\AppData\\Local\\Temp\\ipykernel_1768\\61812628.py\", line 4, in a\n",
      "    return 1/0\n",
      "           ~^~\n",
      "ZeroDivisionError: division by zero\n",
      "\n"
     ]
    }
   ],
   "source": [
    "# traceback\n",
    "import traceback\n",
    "def a():\n",
    "    return 1/0\n",
    "def b():\n",
    "    a()\n",
    "def main():\n",
    "    try:\n",
    "        b()\n",
    "    except:\n",
    "        print('오류가 발생했습니다.')\n",
    "        print(traceback.format_exc())\n",
    "main()"
   ]
  },
  {
   "cell_type": "markdown",
   "id": "f3549641-39b0-42b7-bc0d-fa8395fde235",
   "metadata": {},
   "source": [
    "## JSON"
   ]
  },
  {
   "cell_type": "code",
   "execution_count": 68,
   "id": "b35cfd82-86a0-491f-b8d1-5cffaf8e8dee",
   "metadata": {},
   "outputs": [
    {
     "data": {
      "text/plain": [
       "{'name': '홍길동', 'birth': '0525', 'age': 30}"
      ]
     },
     "execution_count": 68,
     "metadata": {},
     "output_type": "execute_result"
    }
   ],
   "source": [
    "{\n",
    "    'name':'홍길동',\n",
    "    'birth':'0525',\n",
    "    'age':30\n",
    "}"
   ]
  },
  {
   "cell_type": "code",
   "execution_count": 9,
   "id": "e1ec3867-4811-4c51-a39e-720711b2c84c",
   "metadata": {},
   "outputs": [
    {
     "name": "stdout",
     "output_type": "stream",
     "text": [
      "{\"userId\": 1, \"id\": 1, \"title\": \"delectus aut autem\", \"completed\": false, \"test\": \"\\ud55c\\uae00\\ub3c4 \\ub418\\ub098\\ubcf4\\uc790\"}\n",
      "{\"userId\": 1, \"id\": 1, \"title\": \"delectus aut autem\", \"completed\": false, \"test\": \"한글도 되나보자\"}\n"
     ]
    }
   ],
   "source": [
    "import requests\n",
    "import json\n",
    "url = 'https://jsonplaceholder.typicode.com/todos' #JSON 파일을 읽어오기\n",
    "data = requests.get(url).json()[0]  #JSON -> DICT\n",
    "data['test'] = '한글도 되나보자'\n",
    "with open('todo.json','w') as f:\n",
    "    json.dump(data,f)  # DICT ->  JSON\n",
    "data_s =json.dumps(data)  # 한글 깨짐 \n",
    "print(json.dumps(data))\n",
    "print(json.dumps(data,ensure_ascii=False))"
   ]
  },
  {
   "cell_type": "code",
   "execution_count": 8,
   "id": "9c67cf2b-149d-4d01-a2cf-e2c4781b4440",
   "metadata": {},
   "outputs": [
    {
     "name": "stdout",
     "output_type": "stream",
     "text": [
      "{'userId': 1, 'id': 1, 'title': 'delectus aut autem', 'completed': False, 'test': '한글도 되나보자'}\n",
      "{'userId': 1, 'id': 1, 'title': 'delectus aut autem', 'completed': False, 'test': '한글도 되나보자'}\n"
     ]
    }
   ],
   "source": [
    "with open('todo.json') as f:\n",
    "    data = json.load(f)   #  JSON -> DICT\n",
    "print(json.loads(data_s))\n",
    "print(data)"
   ]
  },
  {
   "cell_type": "code",
   "execution_count": 24,
   "id": "9a3bed02-6f00-4cc3-a8f0-84f606ead405",
   "metadata": {},
   "outputs": [],
   "source": [
    "import urllib.request\n",
    "import time as t\n",
    "def get_posts(page):\n",
    "    resource = f'https://jsonplaceholder.typicode.com/posts/{page}'\n",
    "    with urllib.request.urlopen(resource) as s:\n",
    "        with open(f'./data/posts_{page}.html','wb') as f:\n",
    "            f.write(s.read())\n",
    "\n",
    "for n in range(1,11):\n",
    "    get_posts(n)\n",
    "    t.sleep(0.3)"
   ]
  },
  {
   "cell_type": "code",
   "execution_count": 20,
   "id": "33aedbaa-975d-47a1-8bfe-fcb4484694f4",
   "metadata": {},
   "outputs": [
    {
     "data": {
      "text/plain": [
       "True"
      ]
     },
     "execution_count": 20,
     "metadata": {},
     "output_type": "execute_result"
    }
   ],
   "source": [
    "#webbrowser\n",
    "import webbrowser\n",
    "webbrowser.open_new('wikidocds_3.html')"
   ]
  },
  {
   "cell_type": "code",
   "execution_count": null,
   "id": "58036528-4861-42f8-a172-984e854617a5",
   "metadata": {},
   "outputs": [],
   "source": []
  },
  {
   "cell_type": "code",
   "execution_count": null,
   "id": "6cadc545-936c-498a-8ded-b5f39f101e41",
   "metadata": {},
   "outputs": [],
   "source": []
  },
  {
   "cell_type": "code",
   "execution_count": null,
   "id": "1004a94e-4a95-4dc5-8446-cf2731b9436f",
   "metadata": {},
   "outputs": [],
   "source": []
  },
  {
   "cell_type": "code",
   "execution_count": null,
   "id": "034fce16-ed96-4d6b-8179-eb26cb4bb25b",
   "metadata": {},
   "outputs": [],
   "source": []
  },
  {
   "cell_type": "code",
   "execution_count": 17,
   "id": "68fa41e7-843d-41e4-9761-d3d99336ebf9",
   "metadata": {},
   "outputs": [
    {
     "name": "stdout",
     "output_type": "stream",
     "text": [
      "-f\n",
      "C:\\Users\\Admin\\AppData\\Roaming\\jupyter\\runtime\\kernel-1a481dc1-a268-4206-b568-5061b8971c97.json\n"
     ]
    }
   ],
   "source": [
    "# 6-4 메모장만들기 책 예시\n",
    "import sys as s\n",
    "option = s.argv[1]\n",
    "memo = s.argv[2]\n",
    "print(option)\n",
    "print(memo)\n",
    "\n",
    "if option == '-a':\n",
    "    f = open('memo.txt','a')\n",
    "    f.write(memo)\n",
    "    f.write('\\n')\n",
    "    f.close()\n",
    "elif option == '-v':\n",
    "    f = open('memo.txt')\n",
    "    memo=f.read()\n",
    "    f.close()\n",
    "    print(memo)"
   ]
  },
  {
   "cell_type": "code",
   "execution_count": 63,
   "id": "336df328-84d2-4f46-9a50-17b315120e51",
   "metadata": {},
   "outputs": [
    {
     "ename": "SyntaxError",
     "evalue": "invalid syntax (143219546.py, line 1)",
     "output_type": "error",
     "traceback": [
      "\u001b[1;36m  Cell \u001b[1;32mIn[63], line 1\u001b[1;36m\u001b[0m\n\u001b[1;33m    memo.py -a hello\u001b[0m\n\u001b[1;37m               ^\u001b[0m\n\u001b[1;31mSyntaxError\u001b[0m\u001b[1;31m:\u001b[0m invalid syntax\n"
     ]
    }
   ],
   "source": [
    "memo.py -a hello"
   ]
  },
  {
   "cell_type": "code",
   "execution_count": null,
   "id": "b0e14503-28b1-40f9-b4e3-6c9f42088132",
   "metadata": {},
   "outputs": [],
   "source": [
    "f = open(\"새파일생성.txt\",'w')\n",
    "f.close()"
   ]
  },
  {
   "cell_type": "code",
   "execution_count": 6,
   "id": "39c5ab2e-772c-43c5-b6d1-0861dd196ddf",
   "metadata": {},
   "outputs": [],
   "source": [
    "def diary(name):\n",
    "    path = './testfile/'\n",
    "    f = open(path + name +\".txt\",\"a\",encoding = \"utf-8\") #a는 삭제 시키지 않고 계속 누적\n",
    "    while 1:\n",
    "        inp = input(\"작성하고 싶은 내용\")\n",
    "        if inp == '그만':break\n",
    "        f.write(inp + '\\n')\n",
    "    f.close"
   ]
  },
  {
   "cell_type": "code",
   "execution_count": null,
   "id": "ca38dd66-3139-40b4-887d-eb8fa07e0504",
   "metadata": {},
   "outputs": [],
   "source": [
    "# readline + while\n",
    "f = open(path + \"새파일생성4.txt\",\"r\",encoding = \"utf-8\")\n",
    "while 1:\n",
    "    line = f.readline()\n",
    "    if not line: break\n",
    "    print(line)\n",
    "f.close()"
   ]
  },
  {
   "cell_type": "code",
   "execution_count": 12,
   "id": "99bf833a-a839-482e-8d48-e8a81dd285ec",
   "metadata": {},
   "outputs": [],
   "source": [
    "def write():\n",
    "    f = open(\"memo.txt\",'a',encoding = \"utf-8\")\n",
    "    while 1:\n",
    "        inp = input(\"메모를 작성하시오(멈추기:stop):\")\n",
    "        if inp == 'stop':\n",
    "            break\n",
    "        f.write(inp+'\\n')\n",
    "    f.close\n",
    "\n",
    "def read():\n",
    "    f = open(\"memo.txt\",'r',encoding = 'utf-8')\n",
    "    while 1:\n",
    "        line = f.readline()\n",
    "        if not line: \n",
    "            break\n",
    "        print(line)\n",
    "    f.close"
   ]
  },
  {
   "cell_type": "code",
   "execution_count": 14,
   "id": "179fc293-400a-4c08-bdff-2dcbd0609669",
   "metadata": {},
   "outputs": [
    {
     "name": "stdin",
     "output_type": "stream",
     "text": [
      "메모를 작성하시오(멈추기:stop): stop\n"
     ]
    }
   ],
   "source": [
    "write()"
   ]
  },
  {
   "cell_type": "code",
   "execution_count": 11,
   "id": "657a45bb-3a09-4f6f-ac3c-c009f91671cb",
   "metadata": {},
   "outputs": [
    {
     "name": "stdout",
     "output_type": "stream",
     "text": [
      "hi\n",
      "\n"
     ]
    }
   ],
   "source": [
    "read('memo')"
   ]
  },
  {
   "cell_type": "code",
   "execution_count": null,
   "id": "5a1ddcdc-6679-4616-a68b-9dcf4d8befcf",
   "metadata": {},
   "outputs": [],
   "source": []
  }
 ],
 "metadata": {
  "kernelspec": {
   "display_name": "Python 3 (ipykernel)",
   "language": "python",
   "name": "python3"
  },
  "language_info": {
   "codemirror_mode": {
    "name": "ipython",
    "version": 3
   },
   "file_extension": ".py",
   "mimetype": "text/x-python",
   "name": "python",
   "nbconvert_exporter": "python",
   "pygments_lexer": "ipython3",
   "version": "3.13.1"
  }
 },
 "nbformat": 4,
 "nbformat_minor": 5
}
