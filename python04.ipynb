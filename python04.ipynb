{
 "cells": [
  {
   "cell_type": "markdown",
   "id": "b90f87b0-2c13-4f51-b74a-9851b8babe91",
   "metadata": {},
   "source": [
    "# 함수"
   ]
  },
  {
   "cell_type": "code",
   "execution_count": 1,
   "id": "d3e786a9-d560-4f44-8fa2-9607a08d2450",
   "metadata": {},
   "outputs": [],
   "source": [
    "def 덧셈(a,b):\n",
    "    return a + b"
   ]
  },
  {
   "cell_type": "code",
   "execution_count": 4,
   "id": "76a8b3e4-b10c-457e-b948-0e63a4afc48d",
   "metadata": {},
   "outputs": [
    {
     "name": "stdout",
     "output_type": "stream",
     "text": [
      "11\n"
     ]
    }
   ],
   "source": [
    "print(덧셈(5,6))"
   ]
  },
  {
   "cell_type": "code",
   "execution_count": 34,
   "id": "94568ed0-4140-4a6d-a1b7-1284cb283d35",
   "metadata": {},
   "outputs": [
    {
     "name": "stdout",
     "output_type": "stream",
     "text": [
      "====2단====\n"
     ]
    },
    {
     "data": {
      "text/plain": [
       "'2 x 1 = 22 x 2 = 42 x 3 = 62 x 4 = 82 x 5 = 102 x 6 = 122 x 7 = 142 x 8 = 162 x 9 = 18'"
      ]
     },
     "execution_count": 34,
     "metadata": {},
     "output_type": "execute_result"
    }
   ],
   "source": [
    "def gugu(end = 9):\n",
    "    data=''\n",
    "    for j in range(2,end+1):\n",
    "        print(f\"{str(j)+'단':=^10}\")\n",
    "        for i in range(1,10):\n",
    "            data += (f'{j} x {i} = {j*i}') \n",
    "    return data\n",
    "\n",
    "gugu(2)"
   ]
  },
  {
   "cell_type": "markdown",
   "id": "862879c5-f917-466d-b819-a22320a51936",
   "metadata": {},
   "source": [
    "## 입력값과 리턴값에 따른 함수의 형태"
   ]
  },
  {
   "cell_type": "markdown",
   "id": "76c28793-2485-4f49-9736-265e92cf676f",
   "metadata": {},
   "source": [
    "### 일반적인 함수"
   ]
  },
  {
   "cell_type": "code",
   "execution_count": 129,
   "id": "8bc2e0aa-677f-4765-a94d-b2bfd45c5d89",
   "metadata": {},
   "outputs": [],
   "source": [
    "def add(a,b):\n",
    "    result = a + b\n",
    "    return result"
   ]
  },
  {
   "cell_type": "code",
   "execution_count": 27,
   "id": "c5fe1e05-3f01-4df1-a230-9ce4c7611841",
   "metadata": {},
   "outputs": [
    {
     "name": "stdout",
     "output_type": "stream",
     "text": [
      "87\n"
     ]
    }
   ],
   "source": [
    "a = add(77,10)\n",
    "print(a)"
   ]
  },
  {
   "cell_type": "code",
   "execution_count": 35,
   "id": "17b864fb-a0b4-411b-bc1a-24515ab48e10",
   "metadata": {},
   "outputs": [],
   "source": [
    "# 입력값이 없는 함수\n",
    "def say():\n",
    "    return'안녕'"
   ]
  },
  {
   "cell_type": "code",
   "execution_count": 36,
   "id": "ad2f6f10-ab12-4df6-8a14-47bb5729a932",
   "metadata": {},
   "outputs": [
    {
     "name": "stdout",
     "output_type": "stream",
     "text": [
      "안녕\n"
     ]
    }
   ],
   "source": [
    "a = say()\n",
    "print(a)"
   ]
  },
  {
   "cell_type": "code",
   "execution_count": 37,
   "id": "240c7592-df9a-4fd7-b405-546ee2996f43",
   "metadata": {},
   "outputs": [],
   "source": [
    "# 리턴값이 없는 함수\n",
    "def add(a,b):\n",
    "    print(\"%d,%d의 합은 %d입니다.\"%(a,b,a+b))"
   ]
  },
  {
   "cell_type": "code",
   "execution_count": 39,
   "id": "d714c34a-defd-4b85-8753-f8159d27fe1e",
   "metadata": {},
   "outputs": [
    {
     "name": "stdout",
     "output_type": "stream",
     "text": [
      "11,33의 합은 44입니다.\n"
     ]
    }
   ],
   "source": [
    "add(11,33)"
   ]
  },
  {
   "cell_type": "code",
   "execution_count": 40,
   "id": "96b681f9-f98a-4ca1-83e2-3969185603f6",
   "metadata": {},
   "outputs": [],
   "source": [
    "# 입력값과 리턴값이 없는 함수\n",
    "def say():\n",
    "    print(\"안녕!\")\n",
    "    print(\"전 입력값과 리턴값이 없어요\")\n",
    "    print(\"빠이~\")\n",
    "    "
   ]
  },
  {
   "cell_type": "code",
   "execution_count": 41,
   "id": "6b2db977-c159-4b53-9508-49981435a8fa",
   "metadata": {},
   "outputs": [
    {
     "name": "stdout",
     "output_type": "stream",
     "text": [
      "안녕!\n",
      "전 입력값과 리턴값이 없어요\n",
      "빠이~\n"
     ]
    }
   ],
   "source": [
    "say()"
   ]
  },
  {
   "cell_type": "code",
   "execution_count": 42,
   "id": "fe4de72a-5be6-44b7-adda-fe1f6f6aa307",
   "metadata": {},
   "outputs": [],
   "source": [
    "#테스트\n",
    "import time as t\n",
    "def disp():\n",
    "    print('안녕\\r')\n",
    "    t.sleep(2)\n",
    "    print(\"전 입력값과 리턴값이 없어요.\\r\")\n",
    "    t.sleep(2)\n",
    "    print(\"빠이~           \",end=\"\")"
   ]
  },
  {
   "cell_type": "code",
   "execution_count": 43,
   "id": "96952854-cbfd-419b-8980-cec78461e16d",
   "metadata": {},
   "outputs": [
    {
     "name": "stdout",
     "output_type": "stream",
     "text": [
      "44\n"
     ]
    }
   ],
   "source": [
    "# max() //\n",
    "def bs(li=[33,11,22,44]):\n",
    "    sw = 0\n",
    "    for x in range(len(li)):\n",
    "        if sw < li[x]:\n",
    "            sw = li[x]\n",
    "    return sw\n",
    "print(bs())"
   ]
  },
  {
   "cell_type": "code",
   "execution_count": 54,
   "id": "1a280127-8a41-421f-a52c-0da050e9e96a",
   "metadata": {},
   "outputs": [
    {
     "name": "stdout",
     "output_type": "stream",
     "text": [
      "756\n"
     ]
    }
   ],
   "source": [
    "print(bs([1,2,3,4,5,6,7,8,89,4,2,32,54,8,5,3,4,4,756,8,8,89,47,54,321,1,67,98,87]))"
   ]
  },
  {
   "cell_type": "code",
   "execution_count": 55,
   "id": "a4ed4b68-600d-4ab1-8764-de796456ff3f",
   "metadata": {},
   "outputs": [],
   "source": [
    "# 매개변수를 지정하여 호출하기\n",
    "def sub(a,b):\n",
    "    return a-b"
   ]
  },
  {
   "cell_type": "code",
   "execution_count": 57,
   "id": "abc6fb43-1304-4d8c-bd46-0c87d554ef83",
   "metadata": {},
   "outputs": [
    {
     "name": "stdout",
     "output_type": "stream",
     "text": [
      "4\n"
     ]
    }
   ],
   "source": [
    "# result = sub(a=7, b=3)\n",
    "result = sub(b=3,a=7)\n",
    "print(result)\n"
   ]
  },
  {
   "cell_type": "code",
   "execution_count": 86,
   "id": "2d74d506-7a24-4866-afc7-f3981fe453cf",
   "metadata": {
    "scrolled": true
   },
   "outputs": [],
   "source": [
    "# !pip install matplotlib"
   ]
  },
  {
   "cell_type": "code",
   "execution_count": 121,
   "id": "a3266008-4002-4285-aec6-f9d8bd57ba70",
   "metadata": {},
   "outputs": [],
   "source": [
    "# 테스트: 함수 random 주사위 \n",
    "import random as r\n",
    "import matplotlib.pyplot as plt\n",
    "\n",
    "def dice(target = 250000):\n",
    "    box = []\n",
    "    n = 0\n",
    "    results = {}\n",
    "    while n < target:\n",
    "        n += 1\n",
    "        ran = r.randint(1,6)\n",
    "        box.append(ran)\n",
    "    if target == len(box):\n",
    "        print(f\"{target}회 정상 진행되었습니다.\")\n",
    "    else:\n",
    "        print(f'검증결과 횟수 이상 있습니다.')\n",
    "        \n",
    "    t = []\n",
    "    for num in range(1,7):\n",
    "        print(f'{num}번이 {box.count(num)}번 {(box.count(num)/len(box)*100):.4f}%등장하였습니다.')  \n",
    "        results[num] = box.count(num)\n",
    "        t.append(box.count(num))\n",
    "    where = t.index(max(t)) + 1\n",
    "    print(f'{where}번이 {max(t)}회로 가장 많이 나왔습니다.')\n",
    "    color = [\"orange\",\"skyblue\",\"orange\",\"skyblue\",\"orange\",\"skyblue\"]\n",
    "    # color[t.index(max(t))] = [\"gold\"]\n",
    "    plt.bar(results.keys(),results.values(),color=color) #bar(x축,y축)\n",
    "    plt.show()"
   ]
  },
  {
   "cell_type": "code",
   "execution_count": 122,
   "id": "e9cdb95f-fdee-48c3-8bdc-6f347d721975",
   "metadata": {},
   "outputs": [
    {
     "name": "stdout",
     "output_type": "stream",
     "text": [
      "250000회 정상 진행되었습니다.\n",
      "1번이 41605번 16.6420%등장하였습니다.\n",
      "2번이 41796번 16.7184%등장하였습니다.\n",
      "3번이 41292번 16.5168%등장하였습니다.\n",
      "4번이 41675번 16.6700%등장하였습니다.\n",
      "5번이 42067번 16.8268%등장하였습니다.\n",
      "6번이 41565번 16.6260%등장하였습니다.\n",
      "5번이 42067회로 가장 많이 나왔습니다.\n"
     ]
    },
    {
     "data": {
      "image/png": "[encoded data removed]",
      "text/plain": [
       "<Figure size 640x480 with 1 Axes>"
      ]
     },
     "metadata": {},
     "output_type": "display_data"
    }
   ],
   "source": [
    "dice()"
   ]
  },
  {
   "cell_type": "code",
   "execution_count": 241,
   "id": "9ef92ce2-56aa-4f6c-be3e-bb0330a08e87",
   "metadata": {},
   "outputs": [],
   "source": [
    "# 여러개의 입력값을 받는 함수 만들기 p.160\n",
    "def add_many(*args):\n",
    "    result = 0\n",
    "    for i in args:\n",
    "        result = result + i\n",
    "    return result"
   ]
  },
  {
   "cell_type": "code",
   "execution_count": 243,
   "id": "460c8b3d-a6fa-4eef-9bab-4cbb6330dd88",
   "metadata": {},
   "outputs": [
    {
     "name": "stdout",
     "output_type": "stream",
     "text": [
      "16\n"
     ]
    }
   ],
   "source": [
    "res = add_many(1,4,5,2,4)\n",
    "# res = add_many((1,4,5,2,4))별 안달고 튜플 처리 가능\n",
    "print(res)"
   ]
  },
  {
   "cell_type": "code",
   "execution_count": 232,
   "id": "3277b118-697b-403d-abf1-5fbd37feec04",
   "metadata": {},
   "outputs": [],
   "source": [
    "def add_mul(choice,*args):\n",
    "    if choice == 'add':\n",
    "        result = 0\n",
    "        for i in args:\n",
    "            result = result + i\n",
    "    elif choice == \"mul\":\n",
    "        result = 1\n",
    "        for i in args:\n",
    "            result = result*i\n",
    "    elif choice == \"sub\":\n",
    "        result =0\n",
    "        for i in args:\n",
    "            result = result - i\n",
    "    elif choice == \"div\":\n",
    "        result = 1\n",
    "        for i in args:\n",
    "            result = result/i\n",
    "    else:\n",
    "        result=''\n",
    "        print(\"정확하게 입력하세요\")\n",
    "    return result"
   ]
  },
  {
   "cell_type": "code",
   "execution_count": 233,
   "id": "4e5460f9-6db0-4f1e-b4ca-448aba4f4655",
   "metadata": {},
   "outputs": [
    {
     "name": "stdout",
     "output_type": "stream",
     "text": [
      "15\n"
     ]
    }
   ],
   "source": [
    "result = add_mul('add',1,2,3,4,5)\n",
    "print(result)"
   ]
  },
  {
   "cell_type": "code",
   "execution_count": 234,
   "id": "ec9c987e-cc21-40dc-883e-1bfdc63d7ed8",
   "metadata": {},
   "outputs": [
    {
     "name": "stdout",
     "output_type": "stream",
     "text": [
      "120\n"
     ]
    }
   ],
   "source": [
    "result = add_mul('mul',1,2,3,4,5)\n",
    "print(result)"
   ]
  },
  {
   "cell_type": "code",
   "execution_count": 235,
   "id": "c64c3c2e-73a9-480e-8b2c-f320f71f2bfc",
   "metadata": {},
   "outputs": [
    {
     "name": "stdout",
     "output_type": "stream",
     "text": [
      "-13\n"
     ]
    }
   ],
   "source": [
    "result = add_mul('sub',7,4,1,1)\n",
    "print(result)"
   ]
  },
  {
   "cell_type": "code",
   "execution_count": 238,
   "id": "f42acd0e-6ac4-4360-8ce7-9acc28a6e4bf",
   "metadata": {},
   "outputs": [
    {
     "name": "stdout",
     "output_type": "stream",
     "text": [
      "0.00011111111111111112\n"
     ]
    }
   ],
   "source": [
    "result = add_mul('div',300,3,10)\n",
    "print(result)"
   ]
  },
  {
   "cell_type": "code",
   "execution_count": 239,
   "id": "148536f0-3db4-4b92-9a7f-41dbd6deed06",
   "metadata": {},
   "outputs": [],
   "source": [
    "# 키워드 매개변수 kwargs\n",
    "def print_kwargs(**kwargs):\n",
    "    print(kwargs)"
   ]
  },
  {
   "cell_type": "code",
   "execution_count": 240,
   "id": "204e78ec-2910-4def-80d9-556fc3fed6d0",
   "metadata": {},
   "outputs": [
    {
     "name": "stdout",
     "output_type": "stream",
     "text": [
      "{'name': '홍길동', 'age': 21, 'address': '대한민국'}\n"
     ]
    }
   ],
   "source": [
    "print_kwargs(name ='홍길동',age=21, address = '대한민국')\n",
    "# print_kwargs({name ='홍길동',age=21, address = '대한민국'}) 별 안달고 딕셔너리 처리 가능\n"
   ]
  },
  {
   "cell_type": "code",
   "execution_count": 248,
   "id": "ecce2df7-bcfc-432c-a224-669e1f5feffe",
   "metadata": {},
   "outputs": [
    {
     "name": "stdout",
     "output_type": "stream",
     "text": [
      "저야 영광이죠~!!\n"
     ]
    }
   ],
   "source": [
    "# p.163 test\n",
    "def test():\n",
    "    print('저야 영광이죠~!!')\n",
    "    if 13 > 4:\n",
    "        return\n",
    "    print('집에가고싶어!~!')\n",
    "    return\n",
    "test()"
   ]
  },
  {
   "cell_type": "code",
   "execution_count": 30,
   "id": "12780626-949d-4f76-9964-08c1537fc875",
   "metadata": {},
   "outputs": [
    {
     "name": "stdout",
     "output_type": "stream",
     "text": [
      "35 286\n"
     ]
    }
   ],
   "source": [
    "# test2\n",
    "def test2(a,b):\n",
    "    return (a+b,a*b)\n",
    "add_result, mul_result = test2(13,22)\n",
    "print(add_result, mul_result)"
   ]
  },
  {
   "cell_type": "code",
   "execution_count": 31,
   "id": "e17100f4-b439-4f9e-94d6-84c2bb2ecab8",
   "metadata": {},
   "outputs": [],
   "source": [
    "def say_nick(nick):\n",
    "    if nick ==\"바보\":\n",
    "        return\n",
    "    print(\"나의 별명은 %s입니다.\"%nick)"
   ]
  },
  {
   "cell_type": "code",
   "execution_count": 32,
   "id": "0dc5cd1f-4819-4bae-bb30-a4855f920ac1",
   "metadata": {},
   "outputs": [],
   "source": [
    "say_nick(\"바보\")"
   ]
  },
  {
   "cell_type": "markdown",
   "id": "a35eab17-bc64-4eb8-a6a2-7089be379c7f",
   "metadata": {},
   "source": [
    "## 함수 안에서 선언한 변수의 효력 범위"
   ]
  },
  {
   "cell_type": "code",
   "execution_count": 37,
   "id": "82fc2035-d63b-40b8-88d7-bd8b47ec868e",
   "metadata": {},
   "outputs": [
    {
     "name": "stdout",
     "output_type": "stream",
     "text": [
      "1\n"
     ]
    }
   ],
   "source": [
    "# 테스트 1\n",
    "a = 1\n",
    "def test1(a):\n",
    "    a = a + 1 #a가 def 내에서만 존재함\n",
    "test1(a)\n",
    "print(a)"
   ]
  },
  {
   "cell_type": "code",
   "execution_count": 39,
   "id": "df51c28e-5456-4037-8308-f9797cd3c49c",
   "metadata": {},
   "outputs": [
    {
     "name": "stdout",
     "output_type": "stream",
     "text": [
      "1\n"
     ]
    }
   ],
   "source": [
    "# 테스트 2\n",
    "def test2(b):\n",
    "    b = b + 1\n",
    "test2(3)\n",
    "# print(b) 에러발생"
   ]
  },
  {
   "cell_type": "code",
   "execution_count": 40,
   "id": "875357ac-4f89-441e-a647-dba4b4953693",
   "metadata": {},
   "outputs": [
    {
     "name": "stdout",
     "output_type": "stream",
     "text": [
      "2\n"
     ]
    }
   ],
   "source": [
    "# 테스트 3\n",
    "c = 1\n",
    "def test3(c):\n",
    "    c = c + 1\n",
    "    return c\n",
    "c =  test3(c)\n",
    "print(c)"
   ]
  },
  {
   "cell_type": "code",
   "execution_count": 44,
   "id": "12b713b2-cf01-425d-b7e0-ceebb7d1739d",
   "metadata": {},
   "outputs": [
    {
     "name": "stdout",
     "output_type": "stream",
     "text": [
      "2\n"
     ]
    }
   ],
   "source": [
    "# 테스트 4\n",
    "d = 1\n",
    "def test4():\n",
    "    global d\n",
    "    d = d + 1\n",
    "test4()\n",
    "print(d)"
   ]
  },
  {
   "cell_type": "markdown",
   "id": "2c73fd00-e44c-48ba-a0c8-6b620d56eeb8",
   "metadata": {},
   "source": [
    "## lambda 예약어 ( 익명함수 )"
   ]
  },
  {
   "cell_type": "code",
   "execution_count": 46,
   "id": "db6642af-2490-4568-9f16-53484813d53f",
   "metadata": {},
   "outputs": [
    {
     "name": "stdout",
     "output_type": "stream",
     "text": [
      "7\n",
      "7\n"
     ]
    }
   ],
   "source": [
    "def test(a,b):\n",
    "    return a+b\n",
    "add = lambda a,b: a+b\n",
    "print(test(3,4))\n",
    "print(add(3,4))"
   ]
  },
  {
   "cell_type": "code",
   "execution_count": 47,
   "id": "d80795a6-627f-4eea-b7b1-48933cd42587",
   "metadata": {},
   "outputs": [
    {
     "name": "stdout",
     "output_type": "stream",
     "text": [
      "[0, 1, 2, 3, 4, 5, 6, 7, 8, 9]\n"
     ]
    }
   ],
   "source": [
    "a1 = [x for x in range(10)]\n",
    "print(a1)"
   ]
  },
  {
   "cell_type": "code",
   "execution_count": 62,
   "id": "5c3e980b-798c-4e3d-9557-87f1624205ec",
   "metadata": {},
   "outputs": [
    {
     "name": "stdout",
     "output_type": "stream",
     "text": [
      "[0, 2, 4, 6, 8, 10, 12, 14, 16, 18]\n"
     ]
    }
   ],
   "source": [
    "a2 = [(lambda x:x*2)(x) for x in range(10)]\n",
    "print(a2)"
   ]
  },
  {
   "cell_type": "code",
   "execution_count": 63,
   "id": "5736cb05-7fb0-430c-a121-d5e716f8a118",
   "metadata": {},
   "outputs": [
    {
     "name": "stdout",
     "output_type": "stream",
     "text": [
      "[0, 1, 4, 9, 16, 25, 36, 49, 64, 81]\n"
     ]
    }
   ],
   "source": [
    "# 응용예제\n",
    "a3 = [0,1,2,3,4,5,6,7,8,9]\n",
    "p = list(map(lambda x: x**2, a3))\n",
    "print(p)"
   ]
  },
  {
   "cell_type": "markdown",
   "id": "5259ed23-7dcf-4532-ae13-4f8e04c1b979",
   "metadata": {},
   "source": [
    "# 파일 읽고 쓰기"
   ]
  },
  {
   "cell_type": "markdown",
   "id": "3b017f72-84fd-45c4-9212-c62dfe134567",
   "metadata": {},
   "source": [
    "## 파일 생성하기"
   ]
  },
  {
   "cell_type": "code",
   "execution_count": 66,
   "id": "844dda91-dd94-4bdd-9a88-93561b190020",
   "metadata": {},
   "outputs": [],
   "source": [
    "# 파일생성하기1\n",
    "f = open(\"새파일생성.txt\",\"w\")\n",
    "f.close()"
   ]
  },
  {
   "cell_type": "markdown",
   "id": "e4f6e902-5a8c-4d01-aae4-bc21035c63c6",
   "metadata": {},
   "source": [
    "\n",
    "<div style =\"float: left;\">\n",
    "    <table> \n",
    "        <thead>\n",
    "        <tr>\n",
    "        <th>파일열기모드</th>\n",
    "        <th>설명</th>\n",
    "        </tr>\n",
    "        </thead>\n",
    "        <tbody>\n",
    "        <tr>\n",
    "        <td>r</td>\n",
    "        <td>읽기 모드: 파일을 읽기만 할 때 사용한다.</td>\n",
    "        </tr>\n",
    "        <tr>\n",
    "        <td>w</td>\n",
    "        <td>쓰기 모드: 파일에 내용을 쓸 때 사용한다.</td>\n",
    "        </tr>\n",
    "        <tr>\n",
    "        <td>a</td>\n",
    "        <td>추가 모드: 파일의 마지막에 새로운 내용을 추가할 때 사용한다.</td>\n",
    "        </tr>\n",
    "        </tbody>\n",
    "    </table>\n",
    "</div>\n",
    "\n"
   ]
  },
  {
   "cell_type": "code",
   "execution_count": 74,
   "id": "86e88661-9429-49bb-8502-75e34b18c993",
   "metadata": {},
   "outputs": [],
   "source": [
    "# 파일생성하기2 + 경로\n",
    "path = \"./testfile/\"\n",
    "f = open(path + \"새파일생성2.txt\",\"w\")\n",
    "f.write(\"test ok\")\n",
    "f.close()"
   ]
  },
  {
   "cell_type": "code",
   "execution_count": 78,
   "id": "62b6082a-312a-41b2-bf97-dec1bcd146da",
   "metadata": {},
   "outputs": [],
   "source": [
    "# 파일을 쓰기 몯드로 열어 내용 쓰기\n",
    "path = \"./testfile/\"\n",
    "f = open(path + \"새파일생성3.txt\",\"w\",encoding =\"utf-8\")\n",
    "for n in range(10):\n",
    "    f.write(f\"{n+1}번째 한글도 잘돼요!!\\n\")\n",
    "f.close()"
   ]
  },
  {
   "cell_type": "code",
   "execution_count": 196,
   "id": "bbcfced1-4b5e-406c-8401-3b049ccb4900",
   "metadata": {},
   "outputs": [],
   "source": [
    "import random\n",
    "path = \"./testfile/\"\n",
    "f = open(path + \"lotto.txt\",\"w\",encoding =\"utf-8\")\n",
    "\n",
    "box =[]\n",
    "for l in range(1000):\n",
    "    while len(box) < 6:\n",
    "        ran = random.randint(1,45)\n",
    "        if ran not in box:\n",
    "            box.append(ran)\n",
    "    box.sort()\n",
    "    count = box\n",
    "    box =[]\n",
    "    f.write(f'{count}\\n')\n",
    "\n",
    "\n",
    "\n",
    "f.close()"
   ]
  },
  {
   "cell_type": "code",
   "execution_count": 178,
   "id": "3b7aebc7-25da-443f-abb7-70d82b21fedb",
   "metadata": {},
   "outputs": [
    {
     "name": "stdout",
     "output_type": "stream",
     "text": [
      "[13, 25, 28, 32, 39, 40]\n",
      "[11, 21, 22, 27, 39, 40]\n",
      "[8, 18, 20, 25, 26, 36]\n",
      "[2, 7, 9, 26, 29, 36]\n",
      "[7, 9, 13, 26, 36, 41]\n",
      "[3, 4, 9, 10, 32, 42]\n",
      "[8, 11, 13, 18, 27, 33]\n",
      "[6, 12, 14, 16, 28, 40]\n",
      "[4, 8, 15, 23, 34, 45]\n",
      "[2, 8, 11, 14, 32, 43]\n"
     ]
    }
   ],
   "source": [
    "box =[]\n",
    "for l in range(10):\n",
    "    while len(box) < 6:\n",
    "        ran = random.randint(1,45)\n",
    "        if ran not in box:\n",
    "            box.append(ran)\n",
    "    box.sort()\n",
    "    print(box)\n",
    "    box =[]\n"
   ]
  },
  {
   "cell_type": "code",
   "execution_count": 212,
   "id": "e72432b1-d4c1-46d9-bc5a-0e8c9a528cf4",
   "metadata": {},
   "outputs": [],
   "source": [
    "import random\n",
    "path = \"./testfile/\"\n",
    "f = open(path + \"lotto.txt\",\"w\",encoding =\"utf-8\")\n",
    "\n",
    "def lotto(a):\n",
    "    box =[]\n",
    "    for l in range(a):\n",
    "        while len(box) < 6:\n",
    "            ran = random.randint(1,45)\n",
    "            if ran not in box:\n",
    "                box.append(ran)\n",
    "        box.sort()\n",
    "        print(box)\n",
    "        box =[]\n",
    "    return \n",
    "    f.write(f'{lotto(10)}')\n",
    "\n",
    "    \n",
    "f.close()\n"
   ]
  },
  {
   "cell_type": "code",
   "execution_count": 215,
   "id": "0cdc6fb4-5cd3-4e07-8b5d-56e1017be2a4",
   "metadata": {},
   "outputs": [
    {
     "name": "stdout",
     "output_type": "stream",
     "text": [
      "[2, 6, 7, 14, 27, 44]\n",
      "[3, 4, 22, 24, 33, 34]\n",
      "[15, 18, 19, 20, 34, 40]\n",
      "[4, 23, 29, 36, 37, 40]\n",
      "[3, 14, 17, 24, 33, 34]\n",
      "[4, 20, 21, 22, 37, 45]\n",
      "[12, 13, 15, 17, 23, 37]\n",
      "[9, 10, 11, 37, 39, 41]\n",
      "[3, 4, 6, 8, 20, 42]\n",
      "[1, 3, 12, 17, 30, 42]\n"
     ]
    }
   ],
   "source": [
    "def lotto(a):\n",
    "    box =[]\n",
    "    for l in range(a):\n",
    "        while len(box) < 6:\n",
    "            ran = random.randint(1,45)\n",
    "            if ran not in box:\n",
    "                box.append(ran)\n",
    "        box.sort()\n",
    "        print(box)\n",
    "        box =[]\n",
    "    return\n",
    "lotto(10)"
   ]
  },
  {
   "cell_type": "code",
   "execution_count": 5,
   "id": "b41aa4f1-637e-4a6f-9188-fac8c1b50449",
   "metadata": {},
   "outputs": [],
   "source": [
    "def diary(name):\n",
    "    path = './testfile/'\n",
    "    f = open(path + name +\".txt\",\"a\",encoding = \"utf-8\") #a는 삭제 시키지 않고 계속 누적\n",
    "    while 1:\n",
    "        inp = input(\"작성하고 싶은 내용\")\n",
    "        if inp == '그만':break\n",
    "        f.write(inp + '\\n')\n",
    "    f.close"
   ]
  },
  {
   "cell_type": "code",
   "execution_count": 7,
   "id": "0125599b-a9fd-4095-845e-e917c1525d15",
   "metadata": {},
   "outputs": [
    {
     "name": "stdin",
     "output_type": "stream",
     "text": [
      "작성하고 싶은 내용 가나\n",
      "작성하고 싶은 내용 가나다\n",
      "작성하고 싶은 내용 ㄱㅏ나다라마바사\n",
      "작성하고 싶은 내용 그만\n"
     ]
    }
   ],
   "source": [
    "diary('20250201일기')"
   ]
  },
  {
   "cell_type": "markdown",
   "id": "8c7db228-3a04-4537-9fad-a7ace1dfe235",
   "metadata": {},
   "source": [
    "## 파일을 읽는 방법"
   ]
  },
  {
   "cell_type": "code",
   "execution_count": 49,
   "id": "06a92b66-256a-4ef1-b9df-4a75fe971a95",
   "metadata": {},
   "outputs": [],
   "source": [
    "path = './testfile/'\n",
    "f = open(path + \"새파일생성3.txt\",\"w\",encoding = \"utf-8\")\n",
    "for n in range(10):\n",
    "    f.write(f\"{n+1}번째 한글도 잘돼요!!!!\\n\")\n",
    "f.close()"
   ]
  },
  {
   "cell_type": "code",
   "execution_count": 48,
   "id": "4eb0ec8d-0533-4475-a9bb-a21f991b933a",
   "metadata": {},
   "outputs": [
    {
     "name": "stdout",
     "output_type": "stream",
     "text": [
      "1번째 한글도 잘돼요!!!!\n",
      "\n",
      "2번째 한글도 잘돼요!!!!\n",
      "\n",
      "3번째 한글도 잘돼요!!!!\n",
      "\n",
      "4번째 한글도 잘돼요!!!!\n",
      "\n",
      "5번째 한글도 잘돼요!!!!\n",
      "\n",
      "6번째 한글도 잘돼요!!!!\n",
      "\n",
      "7번째 한글도 잘돼요!!!!\n",
      "\n",
      "8번째 한글도 잘돼요!!!!\n",
      "\n",
      "9번째 한글도 잘돼요!!!!\n",
      "\n",
      "10번째 한글도 잘돼요!!!!\n",
      "\n"
     ]
    }
   ],
   "source": [
    "# readline + while\n",
    "f = open(path + \"새파일생성4.txt\",\"r\",encoding = \"utf-8\")\n",
    "while 1:\n",
    "    line = f.readline()\n",
    "    if not line: break\n",
    "    print(line)\n",
    "f.close()"
   ]
  },
  {
   "cell_type": "code",
   "execution_count": 16,
   "id": "f03dba4d-03d4-4735-b791-eea7034d9542",
   "metadata": {},
   "outputs": [
    {
     "name": "stdout",
     "output_type": "stream",
     "text": [
      "['1번째 한글도 잘돼요!!!!\\n', '2번째 한글도 잘돼요!!!!\\n', '3번째 한글도 잘돼요!!!!\\n', '4번째 한글도 잘돼요!!!!\\n', '5번째 한글도 잘돼요!!!!\\n', '6번째 한글도 잘돼요!!!!\\n', '7번째 한글도 잘돼요!!!!\\n', '8번째 한글도 잘돼요!!!!\\n', '9번째 한글도 잘돼요!!!!\\n', '10번째 한글도 잘돼요!!!!\\n'] <class 'list'>\n",
      "1번째 한글도 잘돼요!!!!\n",
      "2번째 한글도 잘돼요!!!!\n",
      "3번째 한글도 잘돼요!!!!\n",
      "4번째 한글도 잘돼요!!!!\n",
      "5번째 한글도 잘돼요!!!!\n",
      "6번째 한글도 잘돼요!!!!\n",
      "7번째 한글도 잘돼요!!!!\n",
      "8번째 한글도 잘돼요!!!!\n",
      "9번째 한글도 잘돼요!!!!\n",
      "10번째 한글도 잘돼요!!!!\n"
     ]
    }
   ],
   "source": [
    "# for readlines\n",
    "path = \"./testfile/\"\n",
    "f = open(path + \"새파일5.txt\",\"r\",encoding = \"utf-8\")\n",
    "lines = f.readlines()\n",
    "print(lines,type(lines))\n",
    "for n in lines:\n",
    "    print(n,end='')\n",
    "\n",
    "f.close()"
   ]
  },
  {
   "cell_type": "code",
   "execution_count": 50,
   "id": "bc962d92-6b44-4be7-94df-956a72120be6",
   "metadata": {},
   "outputs": [
    {
     "name": "stdout",
     "output_type": "stream",
     "text": [
      "['1번째 한글도 잘돼요!!!!\\n', '2번째 한글도 잘돼요!!!!\\n', '3번째 한글도 잘돼요!!!!\\n', '4번째 한글도 잘돼요!!!!\\n', '5번째 한글도 잘돼요!!!!\\n', '6번째 한글도 잘돼요!!!!\\n', '7번째 한글도 잘돼요!!!!\\n', '8번째 한글도 잘돼요!!!!\\n', '9번째 한글도 잘돼요!!!!\\n', '10번째 한글도 잘돼요!!!!\\n'] <class 'list'>\n",
      "['1', '번', '째', ' ', '한', '글', '도', ' ', '잘', '돼', '요', '!', '!', '!', '!', '\\n']\n",
      "['1', '번', '째', ' ', '한', '글', '도', ' ', '잘', '돼', '요', '!', '!', '!', '!']\n",
      "['2', '번', '째', ' ', '한', '글', '도', ' ', '잘', '돼', '요', '!', '!', '!', '!', '\\n']\n",
      "['2', '번', '째', ' ', '한', '글', '도', ' ', '잘', '돼', '요', '!', '!', '!', '!']\n",
      "['3', '번', '째', ' ', '한', '글', '도', ' ', '잘', '돼', '요', '!', '!', '!', '!', '\\n']\n",
      "['3', '번', '째', ' ', '한', '글', '도', ' ', '잘', '돼', '요', '!', '!', '!', '!']\n",
      "['4', '번', '째', ' ', '한', '글', '도', ' ', '잘', '돼', '요', '!', '!', '!', '!', '\\n']\n",
      "['4', '번', '째', ' ', '한', '글', '도', ' ', '잘', '돼', '요', '!', '!', '!', '!']\n",
      "['5', '번', '째', ' ', '한', '글', '도', ' ', '잘', '돼', '요', '!', '!', '!', '!', '\\n']\n",
      "['5', '번', '째', ' ', '한', '글', '도', ' ', '잘', '돼', '요', '!', '!', '!', '!']\n",
      "['6', '번', '째', ' ', '한', '글', '도', ' ', '잘', '돼', '요', '!', '!', '!', '!', '\\n']\n",
      "['6', '번', '째', ' ', '한', '글', '도', ' ', '잘', '돼', '요', '!', '!', '!', '!']\n",
      "['7', '번', '째', ' ', '한', '글', '도', ' ', '잘', '돼', '요', '!', '!', '!', '!', '\\n']\n",
      "['7', '번', '째', ' ', '한', '글', '도', ' ', '잘', '돼', '요', '!', '!', '!', '!']\n",
      "['8', '번', '째', ' ', '한', '글', '도', ' ', '잘', '돼', '요', '!', '!', '!', '!', '\\n']\n",
      "['8', '번', '째', ' ', '한', '글', '도', ' ', '잘', '돼', '요', '!', '!', '!', '!']\n",
      "['9', '번', '째', ' ', '한', '글', '도', ' ', '잘', '돼', '요', '!', '!', '!', '!', '\\n']\n",
      "['9', '번', '째', ' ', '한', '글', '도', ' ', '잘', '돼', '요', '!', '!', '!', '!']\n",
      "['1', '0', '번', '째', ' ', '한', '글', '도', ' ', '잘', '돼', '요', '!', '!', '!', '!', '\\n']\n",
      "['1', '0', '번', '째', ' ', '한', '글', '도', ' ', '잘', '돼', '요', '!', '!', '!', '!']\n"
     ]
    }
   ],
   "source": [
    "# readlines + strip() ->list타입\n",
    "path = \"./testfile/\"\n",
    "f = open(path + \"새파일5.txt\",\"r\",encoding = \"utf-8\")\n",
    "lines = f.readlines()\n",
    "print(lines,type(lines))\n",
    "for n in lines:\n",
    "    print(list(n))\n",
    "    n = n.strip()  # \"\"\\n 을 지운다.\n",
    "    print(list(n))\n",
    "\n",
    "f.close()"
   ]
  },
  {
   "cell_type": "code",
   "execution_count": 46,
   "id": "95fc2083-53a2-47dd-8970-6e11cddb438f",
   "metadata": {},
   "outputs": [],
   "source": [
    "# 테스트\n",
    "f = open(\"파일이름.txt\",\"w\")\n",
    "f.write('내용작성 zzzzzz 11211')\n",
    "f.close()"
   ]
  },
  {
   "cell_type": "code",
   "execution_count": 45,
   "id": "4d5b4745-5142-40c8-aa40-1e598ce979ce",
   "metadata": {},
   "outputs": [
    {
     "name": "stdout",
     "output_type": "stream",
     "text": [
      "1번째 한글도 잘돼요!!!!\n",
      "2번째 한글도 잘돼요!!!!\n",
      "3번째 한글도 잘돼요!!!!\n",
      "4번째 한글도 잘돼요!!!!\n",
      "5번째 한글도 잘돼요!!!!\n",
      "6번째 한글도 잘돼요!!!!\n",
      "7번째 한글도 잘돼요!!!!\n",
      "8번째 한글도 잘돼요!!!!\n",
      "9번째 한글도 잘돼요!!!!\n",
      "10번째 한글도 잘돼요!!!!\n",
      " <class 'str'>\n"
     ]
    }
   ],
   "source": [
    "# read함수 사용하기\n",
    "path = \"./testfile/\"\n",
    "f = open(path + \"새파일5.txt\",\"r\",encoding = \"utf-8\")\n",
    "data = f.read()\n",
    "print(data,type(data))\n",
    "f.close()"
   ]
  },
  {
   "cell_type": "code",
   "execution_count": 51,
   "id": "f278ee94-1e16-44d5-96ec-09d43a324de5",
   "metadata": {},
   "outputs": [
    {
     "name": "stdout",
     "output_type": "stream",
     "text": [
      "1번째 한글도 잘돼요!!!!\n",
      "\n",
      "2번째 한글도 잘돼요!!!!\n",
      "\n",
      "3번째 한글도 잘돼요!!!!\n",
      "\n",
      "4번째 한글도 잘돼요!!!!\n",
      "\n",
      "5번째 한글도 잘돼요!!!!\n",
      "\n",
      "6번째 한글도 잘돼요!!!!\n",
      "\n",
      "7번째 한글도 잘돼요!!!!\n",
      "\n",
      "8번째 한글도 잘돼요!!!!\n",
      "\n",
      "9번째 한글도 잘돼요!!!!\n",
      "\n",
      "10번째 한글도 잘돼요!!!!\n",
      "\n"
     ]
    }
   ],
   "source": [
    "# read함수 사용하기 -> str 타입\n",
    "path = \"./testfile/\"\n",
    "f = open(path + \"새파일5.txt\",\"r\",encoding = \"utf-8\")\n",
    "for line in f:\n",
    "    print(line)\n",
    "\n",
    "f.close()"
   ]
  },
  {
   "cell_type": "code",
   "execution_count": 72,
   "id": "1c0724d7-0c7b-4e2c-a3c5-a21cda7ab473",
   "metadata": {},
   "outputs": [
    {
     "name": "stdout",
     "output_type": "stream",
     "text": [
      "1번째 한글도 잘돼요!!!!\n",
      "\n",
      "2번째 한글도 잘돼요!!!!\n",
      "\n",
      "3번째 한글도 잘돼요!!!!\n",
      "\n",
      "4번째 한글도 잘돼요!!!!\n",
      "\n",
      "5번째 한글도 잘돼요!!!!\n",
      "\n",
      "6번째 한글도 잘돼요!!!!\n",
      "\n",
      "7번째 한글도 잘돼요!!!!\n",
      "\n",
      "8번째 한글도 잘돼요!!!!\n",
      "\n",
      "9번째 한글도 잘돼요!!!!\n",
      "\n",
      "10번째 한글도 잘돼요!!!!\n",
      "\n"
     ]
    }
   ],
   "source": [
    "# with 문과 함께 사용하기, 자동 열고, 닫기\n",
    "path = \"./testfile/\"\n",
    "with open(path + \"새파일5.txt\",\"r\",encoding = \"utf-8\") as f:\n",
    "    for line in f:\n",
    "        print(line)    "
   ]
  },
  {
   "cell_type": "code",
   "execution_count": 71,
   "id": "e4010d00-9301-494e-8429-9459fae0f5be",
   "metadata": {},
   "outputs": [],
   "source": [
    "# p182\n",
    "# \"foo + bar\"\n",
    "with open(\"./testfile/\"+\"foo.txt\",\"w\") as f:\n",
    "    f.write(\"Life is too short, you need python\")"
   ]
  },
  {
   "cell_type": "markdown",
   "id": "08f080de-dd1f-482c-9066-c11830aa5cc2",
   "metadata": {},
   "source": [
    "## 프로그램의 입출력"
   ]
  },
  {
   "cell_type": "code",
   "execution_count": 73,
   "id": "5dd4cb1b-c2ee-4990-a295-974c28d69cc3",
   "metadata": {},
   "outputs": [
    {
     "name": "stdout",
     "output_type": "stream",
     "text": [
      "C:\\Users\\Admin\\AppData\\Local\\Programs\\Python\\Python313\\Lib\\site-packages\\ipykernel_launcher.py\n",
      "-f\n",
      "C:\\Users\\Admin\\AppData\\Roaming\\jupyter\\runtime\\kernel-0042ffdd-e486-4f29-9c2b-7d93373a036c.json\n"
     ]
    }
   ],
   "source": [
    "import sys\n",
    "args = sys.argv[:] #0번 인덱스 빼고 다\n",
    "for i in args:\n",
    "    print(i)"
   ]
  },
  {
   "cell_type": "code",
   "execution_count": 142,
   "id": "0031390b-dd21-40f2-b882-5d0743645d25",
   "metadata": {},
   "outputs": [
    {
     "name": "stdout",
     "output_type": "stream",
     "text": [
      "35349\n",
      "삼성전자:55,700원\n",
      "기아:93,800원\n"
     ]
    },
    {
     "name": "stdin",
     "output_type": "stream",
     "text": [
      "궁금한 종목을 작성해주세요 LG전자\n"
     ]
    },
    {
     "name": "stdout",
     "output_type": "stream",
     "text": [
      "LG전자:79,700원\n"
     ]
    }
   ],
   "source": [
    "import requests as req\n",
    "url = \"https://finance.naver.com/sise/sise_market_sum.naver\"\n",
    "web = req.get(url)\n",
    "html = web.text\n",
    "f1 = html.find('삼성전자')\n",
    "f2 = html.find('기아')\n",
    "print(f1)\n",
    "print('삼성전자:'+html[f1:f1+100][19:50].replace('<td class=\"number\">',\"\").replace('</td>',\"\").replace('\\n',\"\")+\"원\")\n",
    "print('기아:'+html[f2:f2+100][17:50].replace('<td class=\"number\">',\"\").replace('</td>',\"\").replace('\\n',\"\").replace('\\t',\"\")+\"원\")\n",
    "\n",
    "\n",
    "\n",
    "\n",
    "\n",
    "\n",
    "inp = input('궁금한 종목을 작성해주세요')\n",
    "what = html.find(inp)\n",
    "print(inp+':'+html[what:what+100][19:50].replace('<td class=\"number\">',\"\").replace('</td>',\"\").replace('\\n',\"\")+\"원\")"
   ]
  },
  {
   "cell_type": "code",
   "execution_count": null,
   "id": "ca0a3641-9b5d-47a4-90f2-966554407ec3",
   "metadata": {},
   "outputs": [],
   "source": []
  },
  {
   "cell_type": "code",
   "execution_count": null,
   "id": "f8261540-4f3b-4c60-af0e-35bd01ce4bc2",
   "metadata": {},
   "outputs": [],
   "source": []
  }
 ],
 "metadata": {
  "kernelspec": {
   "display_name": "Python 3 (ipykernel)",
   "language": "python",
   "name": "python3"
  },
  "language_info": {
   "codemirror_mode": {
    "name": "ipython",
    "version": 3
   },
   "file_extension": ".py",
   "mimetype": "text/x-python",
   "name": "python",
   "nbconvert_exporter": "python",
   "pygments_lexer": "ipython3",
   "version": "3.13.1"
  }
 },
 "nbformat": 4,
 "nbformat_minor": 5
}
