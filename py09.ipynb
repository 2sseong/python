{
 "cells": [
  {
   "cell_type": "code",
   "execution_count": 16,
   "id": "63cda850-9ee5-4c0f-86ad-29c9710591f1",
   "metadata": {},
   "outputs": [],
   "source": [
    "# !pip install -q -U google-genai"
   ]
  },
  {
   "cell_type": "code",
   "execution_count": 1,
   "id": "a46cf5dc-422f-4325-93bb-f7cef9990173",
   "metadata": {},
   "outputs": [
    {
     "name": "stdout",
     "output_type": "stream",
     "text": [
      "GPT는 'Generative Pre-trained Transformer'의 약자로, OpenAI에서 개발한 거대 언어 모델입니다. \n",
      "\n",
      "쉽게 말해, 엄청난 양의 텍스트 데이터를 학습하여 인간처럼 글을 쓰고, 번역하고, 질문에 답하는 등 다양한 작업을 수행할 수 있는 똑똑한 인공지능이죠. \n",
      "\n",
      "GPT는 문맥을 이해하고 창의적인 텍스트를 생성하는 능력이 뛰어나, 작문, 요약, 코딩, 심지어는 사용자와의 대화까지 가능합니다. \n",
      "\n",
      "하지만 학습 데이터에 의존하기 때문에 때로는 잘못된 정보를 제공하거나 편향된 답변을 할 수도 있다는 점을 기억해야 합니다.\n",
      "\n"
     ]
    },
    {
     "data": {
      "text/plain": [
       "\"GPT는 'Generative Pre-trained Transformer'의 약자로, OpenAI에서 개발한 거대 언어 모델입니다. \\n\\n쉽게 말해, 엄청난 양의 텍스트 데이터를 학습하여 인간처럼 글을 쓰고, 번역하고, 질문에 답하는 등 다양한 작업을 수행할 수 있는 똑똑한 인공지능이죠. \\n\\nGPT는 문맥을 이해하고 창의적인 텍스트를 생성하는 능력이 뛰어나, 작문, 요약, 코딩, 심지어는 사용자와의 대화까지 가능합니다. \\n\\n하지만 학습 데이터에 의존하기 때문에 때로는 잘못된 정보를 제공하거나 편향된 답변을 할 수도 있다는 점을 기억해야 합니다.\\n\""
      ]
     },
     "execution_count": 1,
     "metadata": {},
     "output_type": "execute_result"
    }
   ],
   "source": [
    "# 구글 제미나이\n",
    "from google import genai\n",
    "import os\n",
    "from dotenv import load_dotenv\n",
    "load_dotenv()  # 환경 변수 로드\n",
    "GOOGLE=os.getenv('GOOGLE')\n",
    "\n",
    "def aiai(text):\n",
    "    client = genai.Client(api_key= GOOGLE)\n",
    "    response = client.models.generate_content(model=\"gemini-2.0-flash\",contents= text + '단, 300자 이내로 친절하게 요약해줘')\n",
    "    answer = response.text\n",
    "    print(answer)\n",
    "    return answer\n",
    "aiai('gpt에 대해 설명해')\n",
    "\n"
   ]
  },
  {
   "cell_type": "code",
   "execution_count": 28,
   "id": "67aaa52a-6282-46d1-a505-b2f66712e177",
   "metadata": {},
   "outputs": [],
   "source": [
    "import os\n",
    "from dotenv import load_dotenv\n",
    "load_dotenv()  # 환경 변수 로드\n",
    "token=os.getenv('TELEGRAMTOKEN')\n"
   ]
  },
  {
   "cell_type": "code",
   "execution_count": null,
   "id": "31111d70-f293-4947-9690-17a3180d3690",
   "metadata": {},
   "outputs": [],
   "source": []
  }
 ],
 "metadata": {
  "kernelspec": {
   "display_name": "Python 3 (ipykernel)",
   "language": "python",
   "name": "python3"
  },
  "language_info": {
   "codemirror_mode": {
    "name": "ipython",
    "version": 3
   },
   "file_extension": ".py",
   "mimetype": "text/x-python",
   "name": "python",
   "nbconvert_exporter": "python",
   "pygments_lexer": "ipython3",
   "version": "3.13.1"
  }
 },
 "nbformat": 4,
 "nbformat_minor": 5
}
