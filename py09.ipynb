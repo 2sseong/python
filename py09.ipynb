{
 "cells": [
  {
   "cell_type": "code",
   "execution_count": 16,
   "id": "63cda850-9ee5-4c0f-86ad-29c9710591f1",
   "metadata": {},
   "outputs": [],
   "source": [
    "# !pip install -q -U google-genai"
   ]
  },
  {
   "cell_type": "code",
   "execution_count": 11,
   "id": "a46cf5dc-422f-4325-93bb-f7cef9990173",
   "metadata": {},
   "outputs": [
    {
     "name": "stderr",
     "output_type": "stream",
     "text": [
      "Python-dotenv could not parse statement starting at line 5\n"
     ]
    },
    {
     "name": "stdout",
     "output_type": "stream",
     "text": [
      "GPT는 \"Generative Pre-trained Transformer\"의 약자로, **사람처럼 글을 쓰고 이해하는 인공지능 모델**입니다. \n",
      "\n",
      "쉽게 말해, 인터넷에 있는 엄청난 양의 텍스트 데이터를 학습하여 **질문에 답변하거나, 글을 요약하고, 번역하고, 심지어 창작적인 글까지 쓸 수 있습니다.** 마치 똑똑한 친구가 옆에서 도와주는 것처럼 다양한 방식으로 활용될 수 있죠. \n",
      "\n",
      "GPT는 계속 발전하고 있으며, 앞으로 우리 삶에 더 많은 편리함과 즐거움을 가져다줄 것으로 기대됩니다.\n",
      "\n"
     ]
    },
    {
     "data": {
      "text/plain": [
       "'GPT는 \"Generative Pre-trained Transformer\"의 약자로, **사람처럼 글을 쓰고 이해하는 인공지능 모델**입니다. \\n\\n쉽게 말해, 인터넷에 있는 엄청난 양의 텍스트 데이터를 학습하여 **질문에 답변하거나, 글을 요약하고, 번역하고, 심지어 창작적인 글까지 쓸 수 있습니다.** 마치 똑똑한 친구가 옆에서 도와주는 것처럼 다양한 방식으로 활용될 수 있죠. \\n\\nGPT는 계속 발전하고 있으며, 앞으로 우리 삶에 더 많은 편리함과 즐거움을 가져다줄 것으로 기대됩니다.\\n'"
      ]
     },
     "execution_count": 11,
     "metadata": {},
     "output_type": "execute_result"
    }
   ],
   "source": [
    "# 구글 제미나이\n",
    "from google import genai\n",
    "import os\n",
    "from dotenv import load_dotenv\n",
    "load_dotenv()  # 환경 변수 로드\n",
    "GOOGLE=os.getenv('GOOGLE')\n",
    "\n",
    "def aiai(text):\n",
    "    client = genai.Client(api_key= GOOGLE)\n",
    "    response = client.models.generate_content(model=\"gemini-2.0-flash\",contents= text + '단, 300자 이내로 친절하게 요약해줘')\n",
    "    answer = response.text\n",
    "    print(answer)\n",
    "    return answer\n",
    "aiai('gpt에 대해 설명해')\n",
    "\n"
   ]
  },
  {
   "cell_type": "code",
   "execution_count": 28,
   "id": "67aaa52a-6282-46d1-a505-b2f66712e177",
   "metadata": {},
   "outputs": [],
   "source": [
    "import os\n",
    "from dotenv import load_dotenv\n",
    "load_dotenv()  # 환경 변수 로드\n",
    "token=os.getenv('TELEGRAMTOKEN')\n"
   ]
  },
  {
   "cell_type": "code",
   "execution_count": null,
   "id": "31111d70-f293-4947-9690-17a3180d3690",
   "metadata": {},
   "outputs": [],
   "source": []
  }
 ],
 "metadata": {
  "kernelspec": {
   "display_name": "Python 3 (ipykernel)",
   "language": "python",
   "name": "python3"
  },
  "language_info": {
   "codemirror_mode": {
    "name": "ipython",
    "version": 3
   },
   "file_extension": ".py",
   "mimetype": "text/x-python",
   "name": "python",
   "nbconvert_exporter": "python",
   "pygments_lexer": "ipython3",
   "version": "3.13.1"
  }
 },
 "nbformat": 4,
 "nbformat_minor": 5
}
